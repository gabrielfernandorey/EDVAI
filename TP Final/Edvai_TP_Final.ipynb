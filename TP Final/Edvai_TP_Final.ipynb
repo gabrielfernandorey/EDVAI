{
  "nbformat": 4,
  "nbformat_minor": 0,
  "metadata": {
    "colab": {
      "provenance": [],
      "history_visible": true,
      "authorship_tag": "ABX9TyNO2gkG4OgwsiNPdf8luDp9",
      "include_colab_link": true
    },
    "kernelspec": {
      "name": "python3",
      "display_name": "Python 3"
    },
    "language_info": {
      "name": "python"
    }
  },
  "cells": [
    {
      "cell_type": "markdown",
      "metadata": {
        "id": "view-in-github",
        "colab_type": "text"
      },
      "source": [
        "<a href=\"https://colab.research.google.com/github/gabrielfernandorey/EDVAI/blob/main/TP%20Final/Edvai_TP_Final.ipynb\" target=\"_parent\"><img src=\"https://colab.research.google.com/assets/colab-badge.svg\" alt=\"Open In Colab\"/></a>"
      ]
    },
    {
      "cell_type": "markdown",
      "source": [
        "# TRABAJO PRACTICO FINAL \n",
        "##### EDVAI\n",
        "\n",
        "## Gabriel Rey \n",
        "##### Mayo 2023\n"
      ],
      "metadata": {
        "id": "E4MwsZgZ_MBV"
      }
    },
    {
      "cell_type": "code",
      "execution_count": 1,
      "metadata": {
        "colab": {
          "base_uri": "https://localhost:8080/"
        },
        "id": "9KBN0Sww_Hhg",
        "outputId": "cb95cc05-6272-4830-a6ca-0c4ef5a356e2"
      },
      "outputs": [
        {
          "output_type": "stream",
          "name": "stdout",
          "text": [
            "Looking in indexes: https://pypi.org/simple, https://us-python.pkg.dev/colab-wheels/public/simple/\n",
            "Requirement already satisfied: pyspark in /usr/local/lib/python3.10/dist-packages (3.4.0)\n",
            "Requirement already satisfied: py4j==0.10.9.7 in /usr/local/lib/python3.10/dist-packages (from pyspark) (0.10.9.7)\n"
          ]
        }
      ],
      "source": [
        "!pip install pyspark"
      ]
    },
    {
      "cell_type": "code",
      "source": [
        "from pyspark.sql import SparkSession"
      ],
      "metadata": {
        "id": "x_z6Qbm-_sx2"
      },
      "execution_count": 2,
      "outputs": []
    },
    {
      "cell_type": "code",
      "source": [
        "spark = SparkSession.builder.appName('test_pyspark').getOrCreate()"
      ],
      "metadata": {
        "id": "qAi0HAZU_vWw"
      },
      "execution_count": 3,
      "outputs": []
    },
    {
      "cell_type": "code",
      "source": [
        "from pyspark.sql.types import StructType, StructField, StringType, TimestampType, BooleanType, FloatType, IntegerType, DoubleType, DateType\n",
        "import pyspark.sql.functions as F\n",
        "from pyspark.sql.functions import sum, col, desc, asc, count, countDistinct, round, max, min, avg\n",
        "from pyspark.sql.functions import to_timestamp, date_format, to_date\n",
        "from pyspark.sql.window import Window\n",
        "\n",
        "from pyspark.ml import Transformer\n",
        "from pyspark.ml.param.shared import HasInputCol, HasOutputCol, HasInputCols, HasOutputCols, Param, Params, TypeConverters\n",
        "from pyspark import keyword_only\n",
        "from pyspark.ml import Pipeline, PipelineModel\n",
        "from pyspark.ml import Model\n",
        "from pyspark.ml import Estimator\n",
        "\n",
        "from datetime import datetime\n",
        "import numpy as np\n",
        "import pandas as pd"
      ],
      "metadata": {
        "id": "vea6pl-j_yos"
      },
      "execution_count": 4,
      "outputs": []
    },
    {
      "cell_type": "markdown",
      "source": [
        "### Importamos datos"
      ],
      "metadata": {
        "id": "7GBoFirEASUa"
      }
    },
    {
      "cell_type": "code",
      "source": [
        "!wget https://data-engineer-edvai.s3.amazonaws.com/2021-informe-ministerio.csv\n",
        "!wget https://data-engineer-edvai.s3.amazonaws.com/202206-informe-ministerio.csv\n",
        "!wget https://data-engineer-edvai.s3.amazonaws.com/aeropuertos_detalle.csv"
      ],
      "metadata": {
        "colab": {
          "base_uri": "https://localhost:8080/"
        },
        "id": "cROwephx_9c4",
        "outputId": "4bfef343-68e0-445b-acba-6eab1bd855f1"
      },
      "execution_count": 5,
      "outputs": [
        {
          "output_type": "stream",
          "name": "stdout",
          "text": [
            "--2023-05-17 17:11:07--  https://data-engineer-edvai.s3.amazonaws.com/2021-informe-ministerio.csv\n",
            "Resolving data-engineer-edvai.s3.amazonaws.com (data-engineer-edvai.s3.amazonaws.com)... 54.231.170.145, 3.5.3.152, 54.231.225.153, ...\n",
            "Connecting to data-engineer-edvai.s3.amazonaws.com (data-engineer-edvai.s3.amazonaws.com)|54.231.170.145|:443... connected.\n",
            "HTTP request sent, awaiting response... 200 OK\n",
            "Length: 32322556 (31M) [text/csv]\n",
            "Saving to: ‘2021-informe-ministerio.csv.2’\n",
            "\n",
            "2021-informe-minist 100%[===================>]  30.82M  89.0MB/s    in 0.3s    \n",
            "\n",
            "2023-05-17 17:11:08 (89.0 MB/s) - ‘2021-informe-ministerio.csv.2’ saved [32322556/32322556]\n",
            "\n",
            "--2023-05-17 17:11:08--  https://data-engineer-edvai.s3.amazonaws.com/202206-informe-ministerio.csv\n",
            "Resolving data-engineer-edvai.s3.amazonaws.com (data-engineer-edvai.s3.amazonaws.com)... 54.231.170.145, 3.5.3.152, 54.231.225.153, ...\n",
            "Connecting to data-engineer-edvai.s3.amazonaws.com (data-engineer-edvai.s3.amazonaws.com)|54.231.170.145|:443... connected.\n",
            "HTTP request sent, awaiting response... 200 OK\n",
            "Length: 22833520 (22M) [text/csv]\n",
            "Saving to: ‘202206-informe-ministerio.csv.2’\n",
            "\n",
            "202206-informe-mini 100%[===================>]  21.78M  57.7MB/s    in 0.4s    \n",
            "\n",
            "2023-05-17 17:11:09 (57.7 MB/s) - ‘202206-informe-ministerio.csv.2’ saved [22833520/22833520]\n",
            "\n",
            "--2023-05-17 17:11:09--  https://data-engineer-edvai.s3.amazonaws.com/aeropuertos_detalle.csv\n",
            "Resolving data-engineer-edvai.s3.amazonaws.com (data-engineer-edvai.s3.amazonaws.com)... 52.216.216.25, 52.217.91.28, 54.231.196.113, ...\n",
            "Connecting to data-engineer-edvai.s3.amazonaws.com (data-engineer-edvai.s3.amazonaws.com)|52.216.216.25|:443... connected.\n",
            "HTTP request sent, awaiting response... 200 OK\n",
            "Length: 136007 (133K) [text/csv]\n",
            "Saving to: ‘aeropuertos_detalle.csv.2’\n",
            "\n",
            "aeropuertos_detalle 100%[===================>] 132.82K  --.-KB/s    in 0.06s   \n",
            "\n",
            "2023-05-17 17:11:09 (2.26 MB/s) - ‘aeropuertos_detalle.csv.2’ saved [136007/136007]\n",
            "\n"
          ]
        }
      ]
    },
    {
      "cell_type": "code",
      "source": [
        "df_2021 = pd.read_csv(\"/content/2021-informe-ministerio.csv\", sep=';')"
      ],
      "metadata": {
        "id": "p89yFMjwAlfJ"
      },
      "execution_count": 6,
      "outputs": []
    },
    {
      "cell_type": "code",
      "source": [
        "df_2022 = pd.read_csv(\"/content/202206-informe-ministerio.csv\", sep=';')"
      ],
      "metadata": {
        "colab": {
          "base_uri": "https://localhost:8080/"
        },
        "id": "mwAeVbWXA_-v",
        "outputId": "3d3b3bf8-2b2e-42f3-a1ad-e7c33eaba7ca"
      },
      "execution_count": 98,
      "outputs": [
        {
          "output_type": "stream",
          "name": "stderr",
          "text": [
            "<ipython-input-98-bcad1b5984a1>:1: DtypeWarning: Columns (9) have mixed types. Specify dtype option on import or set low_memory=False.\n",
            "  df_2022 = pd.read_csv(\"/content/202206-informe-ministerio.csv\", sep=';')\n"
          ]
        }
      ]
    },
    {
      "cell_type": "code",
      "source": [
        "df_aeropuertos = pd.read_csv(\"/content/aeropuertos_detalle.csv\", sep=';')"
      ],
      "metadata": {
        "id": "Y3UX0l2tBLrE"
      },
      "execution_count": 99,
      "outputs": []
    },
    {
      "cell_type": "markdown",
      "source": [
        "### EDA"
      ],
      "metadata": {
        "id": "HV0hQ0HlD1dH"
      }
    },
    {
      "cell_type": "code",
      "source": [
        "df_2021"
      ],
      "metadata": {
        "colab": {
          "base_uri": "https://localhost:8080/",
          "height": 467
        },
        "id": "xoRoH71fBV-6",
        "outputId": "740e608a-a2e2-4ecc-eae7-5b3b29be5bbf"
      },
      "execution_count": 100,
      "outputs": [
        {
          "output_type": "execute_result",
          "data": {
            "text/plain": [
              "             Fecha Hora UTC     Clase de Vuelo (todos los vuelos)  \\\n",
              "0       01/01/2021    00:02  Vuelo Privado con Matrícula Nacional   \n",
              "1       01/01/2021    00:24                               Regular   \n",
              "2       01/01/2021    00:26                               Regular   \n",
              "3       01/01/2021    00:29                               Regular   \n",
              "4       01/01/2021    00:37                               Regular   \n",
              "...            ...      ...                                   ...   \n",
              "328131  31/12/2021    23:44                               Regular   \n",
              "328132  31/12/2021    23:45                               Regular   \n",
              "328133  31/12/2021    23:48                               Regular   \n",
              "328134  31/12/2021    23:55                               Regular   \n",
              "328135  31/12/2021    23:58                               Regular   \n",
              "\n",
              "       Clasificación Vuelo Tipo de Movimiento Aeropuerto Origen / Destino  \\\n",
              "0                Domestico           Despegue        PAR              ROS   \n",
              "1                Domestico         Aterrizaje        EZE              GRA   \n",
              "2                Domestico         Aterrizaje        EZE              ECA   \n",
              "3                Domestico         Aterrizaje        EZE              SAL   \n",
              "4                Domestico         Aterrizaje        EZE              TUC   \n",
              "...                    ...                ...        ...              ...   \n",
              "328131           Domestico         Aterrizaje        JUJ              AER   \n",
              "328132           Domestico           Despegue        AER              CBA   \n",
              "328133           Domestico           Despegue        ROS              AER   \n",
              "328134       Internacional         Aterrizaje        EZE             SCEL   \n",
              "328135           Domestico           Despegue        BAR              AER   \n",
              "\n",
              "                   Aerolinea Nombre          Aeronave  Pasajeros Calidad dato  \n",
              "0                                 0      PA-PA-28-181          0   DEFINITIVO  \n",
              "1          AEROLINEAS ARGENTINAS SA       BO-B737-8MB         70   DEFINITIVO  \n",
              "2          AEROLINEAS ARGENTINAS SA        BO-737-800         70   DEFINITIVO  \n",
              "3          AEROLINEAS ARGENTINAS SA      BO-B-737-76N         12   DEFINITIVO  \n",
              "4          AEROLINEAS ARGENTINAS SA  EMB-ERJ190100IGW         26   DEFINITIVO  \n",
              "...                             ...               ...        ...          ...  \n",
              "328131  FB LÍNEAS AÉREAS - FLYBONDI        BO-737-8Q8         96   DEFINITIVO  \n",
              "328132  FB LÍNEAS AÉREAS - FLYBONDI        BO-737-8Q8         88   DEFINITIVO  \n",
              "328133     AEROLINEAS ARGENTINAS SA        BO-737-800         10   DEFINITIVO  \n",
              "328134             SKY AIRLINE S.A.                 0        137   DEFINITIVO  \n",
              "328135     AEROLINEAS ARGENTINAS SA        BO-737-800         11   DEFINITIVO  \n",
              "\n",
              "[328136 rows x 11 columns]"
            ],
            "text/html": [
              "\n",
              "  <div id=\"df-359c28ed-d506-4777-af88-dc2f50903695\">\n",
              "    <div class=\"colab-df-container\">\n",
              "      <div>\n",
              "<style scoped>\n",
              "    .dataframe tbody tr th:only-of-type {\n",
              "        vertical-align: middle;\n",
              "    }\n",
              "\n",
              "    .dataframe tbody tr th {\n",
              "        vertical-align: top;\n",
              "    }\n",
              "\n",
              "    .dataframe thead th {\n",
              "        text-align: right;\n",
              "    }\n",
              "</style>\n",
              "<table border=\"1\" class=\"dataframe\">\n",
              "  <thead>\n",
              "    <tr style=\"text-align: right;\">\n",
              "      <th></th>\n",
              "      <th>Fecha</th>\n",
              "      <th>Hora UTC</th>\n",
              "      <th>Clase de Vuelo (todos los vuelos)</th>\n",
              "      <th>Clasificación Vuelo</th>\n",
              "      <th>Tipo de Movimiento</th>\n",
              "      <th>Aeropuerto</th>\n",
              "      <th>Origen / Destino</th>\n",
              "      <th>Aerolinea Nombre</th>\n",
              "      <th>Aeronave</th>\n",
              "      <th>Pasajeros</th>\n",
              "      <th>Calidad dato</th>\n",
              "    </tr>\n",
              "  </thead>\n",
              "  <tbody>\n",
              "    <tr>\n",
              "      <th>0</th>\n",
              "      <td>01/01/2021</td>\n",
              "      <td>00:02</td>\n",
              "      <td>Vuelo Privado con Matrícula Nacional</td>\n",
              "      <td>Domestico</td>\n",
              "      <td>Despegue</td>\n",
              "      <td>PAR</td>\n",
              "      <td>ROS</td>\n",
              "      <td>0</td>\n",
              "      <td>PA-PA-28-181</td>\n",
              "      <td>0</td>\n",
              "      <td>DEFINITIVO</td>\n",
              "    </tr>\n",
              "    <tr>\n",
              "      <th>1</th>\n",
              "      <td>01/01/2021</td>\n",
              "      <td>00:24</td>\n",
              "      <td>Regular</td>\n",
              "      <td>Domestico</td>\n",
              "      <td>Aterrizaje</td>\n",
              "      <td>EZE</td>\n",
              "      <td>GRA</td>\n",
              "      <td>AEROLINEAS ARGENTINAS SA</td>\n",
              "      <td>BO-B737-8MB</td>\n",
              "      <td>70</td>\n",
              "      <td>DEFINITIVO</td>\n",
              "    </tr>\n",
              "    <tr>\n",
              "      <th>2</th>\n",
              "      <td>01/01/2021</td>\n",
              "      <td>00:26</td>\n",
              "      <td>Regular</td>\n",
              "      <td>Domestico</td>\n",
              "      <td>Aterrizaje</td>\n",
              "      <td>EZE</td>\n",
              "      <td>ECA</td>\n",
              "      <td>AEROLINEAS ARGENTINAS SA</td>\n",
              "      <td>BO-737-800</td>\n",
              "      <td>70</td>\n",
              "      <td>DEFINITIVO</td>\n",
              "    </tr>\n",
              "    <tr>\n",
              "      <th>3</th>\n",
              "      <td>01/01/2021</td>\n",
              "      <td>00:29</td>\n",
              "      <td>Regular</td>\n",
              "      <td>Domestico</td>\n",
              "      <td>Aterrizaje</td>\n",
              "      <td>EZE</td>\n",
              "      <td>SAL</td>\n",
              "      <td>AEROLINEAS ARGENTINAS SA</td>\n",
              "      <td>BO-B-737-76N</td>\n",
              "      <td>12</td>\n",
              "      <td>DEFINITIVO</td>\n",
              "    </tr>\n",
              "    <tr>\n",
              "      <th>4</th>\n",
              "      <td>01/01/2021</td>\n",
              "      <td>00:37</td>\n",
              "      <td>Regular</td>\n",
              "      <td>Domestico</td>\n",
              "      <td>Aterrizaje</td>\n",
              "      <td>EZE</td>\n",
              "      <td>TUC</td>\n",
              "      <td>AEROLINEAS ARGENTINAS SA</td>\n",
              "      <td>EMB-ERJ190100IGW</td>\n",
              "      <td>26</td>\n",
              "      <td>DEFINITIVO</td>\n",
              "    </tr>\n",
              "    <tr>\n",
              "      <th>...</th>\n",
              "      <td>...</td>\n",
              "      <td>...</td>\n",
              "      <td>...</td>\n",
              "      <td>...</td>\n",
              "      <td>...</td>\n",
              "      <td>...</td>\n",
              "      <td>...</td>\n",
              "      <td>...</td>\n",
              "      <td>...</td>\n",
              "      <td>...</td>\n",
              "      <td>...</td>\n",
              "    </tr>\n",
              "    <tr>\n",
              "      <th>328131</th>\n",
              "      <td>31/12/2021</td>\n",
              "      <td>23:44</td>\n",
              "      <td>Regular</td>\n",
              "      <td>Domestico</td>\n",
              "      <td>Aterrizaje</td>\n",
              "      <td>JUJ</td>\n",
              "      <td>AER</td>\n",
              "      <td>FB LÍNEAS AÉREAS - FLYBONDI</td>\n",
              "      <td>BO-737-8Q8</td>\n",
              "      <td>96</td>\n",
              "      <td>DEFINITIVO</td>\n",
              "    </tr>\n",
              "    <tr>\n",
              "      <th>328132</th>\n",
              "      <td>31/12/2021</td>\n",
              "      <td>23:45</td>\n",
              "      <td>Regular</td>\n",
              "      <td>Domestico</td>\n",
              "      <td>Despegue</td>\n",
              "      <td>AER</td>\n",
              "      <td>CBA</td>\n",
              "      <td>FB LÍNEAS AÉREAS - FLYBONDI</td>\n",
              "      <td>BO-737-8Q8</td>\n",
              "      <td>88</td>\n",
              "      <td>DEFINITIVO</td>\n",
              "    </tr>\n",
              "    <tr>\n",
              "      <th>328133</th>\n",
              "      <td>31/12/2021</td>\n",
              "      <td>23:48</td>\n",
              "      <td>Regular</td>\n",
              "      <td>Domestico</td>\n",
              "      <td>Despegue</td>\n",
              "      <td>ROS</td>\n",
              "      <td>AER</td>\n",
              "      <td>AEROLINEAS ARGENTINAS SA</td>\n",
              "      <td>BO-737-800</td>\n",
              "      <td>10</td>\n",
              "      <td>DEFINITIVO</td>\n",
              "    </tr>\n",
              "    <tr>\n",
              "      <th>328134</th>\n",
              "      <td>31/12/2021</td>\n",
              "      <td>23:55</td>\n",
              "      <td>Regular</td>\n",
              "      <td>Internacional</td>\n",
              "      <td>Aterrizaje</td>\n",
              "      <td>EZE</td>\n",
              "      <td>SCEL</td>\n",
              "      <td>SKY AIRLINE S.A.</td>\n",
              "      <td>0</td>\n",
              "      <td>137</td>\n",
              "      <td>DEFINITIVO</td>\n",
              "    </tr>\n",
              "    <tr>\n",
              "      <th>328135</th>\n",
              "      <td>31/12/2021</td>\n",
              "      <td>23:58</td>\n",
              "      <td>Regular</td>\n",
              "      <td>Domestico</td>\n",
              "      <td>Despegue</td>\n",
              "      <td>BAR</td>\n",
              "      <td>AER</td>\n",
              "      <td>AEROLINEAS ARGENTINAS SA</td>\n",
              "      <td>BO-737-800</td>\n",
              "      <td>11</td>\n",
              "      <td>DEFINITIVO</td>\n",
              "    </tr>\n",
              "  </tbody>\n",
              "</table>\n",
              "<p>328136 rows × 11 columns</p>\n",
              "</div>\n",
              "      <button class=\"colab-df-convert\" onclick=\"convertToInteractive('df-359c28ed-d506-4777-af88-dc2f50903695')\"\n",
              "              title=\"Convert this dataframe to an interactive table.\"\n",
              "              style=\"display:none;\">\n",
              "        \n",
              "  <svg xmlns=\"http://www.w3.org/2000/svg\" height=\"24px\"viewBox=\"0 0 24 24\"\n",
              "       width=\"24px\">\n",
              "    <path d=\"M0 0h24v24H0V0z\" fill=\"none\"/>\n",
              "    <path d=\"M18.56 5.44l.94 2.06.94-2.06 2.06-.94-2.06-.94-.94-2.06-.94 2.06-2.06.94zm-11 1L8.5 8.5l.94-2.06 2.06-.94-2.06-.94L8.5 2.5l-.94 2.06-2.06.94zm10 10l.94 2.06.94-2.06 2.06-.94-2.06-.94-.94-2.06-.94 2.06-2.06.94z\"/><path d=\"M17.41 7.96l-1.37-1.37c-.4-.4-.92-.59-1.43-.59-.52 0-1.04.2-1.43.59L10.3 9.45l-7.72 7.72c-.78.78-.78 2.05 0 2.83L4 21.41c.39.39.9.59 1.41.59.51 0 1.02-.2 1.41-.59l7.78-7.78 2.81-2.81c.8-.78.8-2.07 0-2.86zM5.41 20L4 18.59l7.72-7.72 1.47 1.35L5.41 20z\"/>\n",
              "  </svg>\n",
              "      </button>\n",
              "      \n",
              "  <style>\n",
              "    .colab-df-container {\n",
              "      display:flex;\n",
              "      flex-wrap:wrap;\n",
              "      gap: 12px;\n",
              "    }\n",
              "\n",
              "    .colab-df-convert {\n",
              "      background-color: #E8F0FE;\n",
              "      border: none;\n",
              "      border-radius: 50%;\n",
              "      cursor: pointer;\n",
              "      display: none;\n",
              "      fill: #1967D2;\n",
              "      height: 32px;\n",
              "      padding: 0 0 0 0;\n",
              "      width: 32px;\n",
              "    }\n",
              "\n",
              "    .colab-df-convert:hover {\n",
              "      background-color: #E2EBFA;\n",
              "      box-shadow: 0px 1px 2px rgba(60, 64, 67, 0.3), 0px 1px 3px 1px rgba(60, 64, 67, 0.15);\n",
              "      fill: #174EA6;\n",
              "    }\n",
              "\n",
              "    [theme=dark] .colab-df-convert {\n",
              "      background-color: #3B4455;\n",
              "      fill: #D2E3FC;\n",
              "    }\n",
              "\n",
              "    [theme=dark] .colab-df-convert:hover {\n",
              "      background-color: #434B5C;\n",
              "      box-shadow: 0px 1px 3px 1px rgba(0, 0, 0, 0.15);\n",
              "      filter: drop-shadow(0px 1px 2px rgba(0, 0, 0, 0.3));\n",
              "      fill: #FFFFFF;\n",
              "    }\n",
              "  </style>\n",
              "\n",
              "      <script>\n",
              "        const buttonEl =\n",
              "          document.querySelector('#df-359c28ed-d506-4777-af88-dc2f50903695 button.colab-df-convert');\n",
              "        buttonEl.style.display =\n",
              "          google.colab.kernel.accessAllowed ? 'block' : 'none';\n",
              "\n",
              "        async function convertToInteractive(key) {\n",
              "          const element = document.querySelector('#df-359c28ed-d506-4777-af88-dc2f50903695');\n",
              "          const dataTable =\n",
              "            await google.colab.kernel.invokeFunction('convertToInteractive',\n",
              "                                                     [key], {});\n",
              "          if (!dataTable) return;\n",
              "\n",
              "          const docLinkHtml = 'Like what you see? Visit the ' +\n",
              "            '<a target=\"_blank\" href=https://colab.research.google.com/notebooks/data_table.ipynb>data table notebook</a>'\n",
              "            + ' to learn more about interactive tables.';\n",
              "          element.innerHTML = '';\n",
              "          dataTable['output_type'] = 'display_data';\n",
              "          await google.colab.output.renderOutput(dataTable, element);\n",
              "          const docLink = document.createElement('div');\n",
              "          docLink.innerHTML = docLinkHtml;\n",
              "          element.appendChild(docLink);\n",
              "        }\n",
              "      </script>\n",
              "    </div>\n",
              "  </div>\n",
              "  "
            ]
          },
          "metadata": {},
          "execution_count": 100
        }
      ]
    },
    {
      "cell_type": "code",
      "source": [
        "df_2021.info()"
      ],
      "metadata": {
        "id": "AkS3J3W1lmRy",
        "outputId": "d3704143-e111-4040-923b-fa585f4dae1b",
        "colab": {
          "base_uri": "https://localhost:8080/"
        }
      },
      "execution_count": 101,
      "outputs": [
        {
          "output_type": "stream",
          "name": "stdout",
          "text": [
            "<class 'pandas.core.frame.DataFrame'>\n",
            "RangeIndex: 328136 entries, 0 to 328135\n",
            "Data columns (total 11 columns):\n",
            " #   Column                             Non-Null Count   Dtype \n",
            "---  ------                             --------------   ----- \n",
            " 0   Fecha                              328136 non-null  object\n",
            " 1   Hora UTC                           328136 non-null  object\n",
            " 2   Clase de Vuelo (todos los vuelos)  328136 non-null  object\n",
            " 3   Clasificación Vuelo                328136 non-null  object\n",
            " 4   Tipo de Movimiento                 328136 non-null  object\n",
            " 5   Aeropuerto                         328136 non-null  object\n",
            " 6   Origen / Destino                   328136 non-null  object\n",
            " 7   Aerolinea Nombre                   328136 non-null  object\n",
            " 8   Aeronave                           328136 non-null  object\n",
            " 9   Pasajeros                          328136 non-null  int64 \n",
            " 10  Calidad dato                       328136 non-null  object\n",
            "dtypes: int64(1), object(10)\n",
            "memory usage: 27.5+ MB\n"
          ]
        }
      ]
    },
    {
      "cell_type": "code",
      "source": [
        "# Validamos si hay valores nulos en pasajeros\n",
        "df_2021[df_2021['Pasajeros'].isna()] \n"
      ],
      "metadata": {
        "id": "DutEu1K6ECO1",
        "outputId": "cd0323cb-caac-44d3-d71d-20abcfe00627",
        "colab": {
          "base_uri": "https://localhost:8080/",
          "height": 49
        }
      },
      "execution_count": 102,
      "outputs": [
        {
          "output_type": "execute_result",
          "data": {
            "text/plain": [
              "Empty DataFrame\n",
              "Columns: [Fecha, Hora UTC, Clase de Vuelo (todos los vuelos), Clasificación Vuelo, Tipo de Movimiento, Aeropuerto, Origen / Destino, Aerolinea Nombre, Aeronave, Pasajeros, Calidad dato]\n",
              "Index: []"
            ],
            "text/html": [
              "\n",
              "  <div id=\"df-aa492fd8-63ea-4f8f-b077-fa87034b3a9c\">\n",
              "    <div class=\"colab-df-container\">\n",
              "      <div>\n",
              "<style scoped>\n",
              "    .dataframe tbody tr th:only-of-type {\n",
              "        vertical-align: middle;\n",
              "    }\n",
              "\n",
              "    .dataframe tbody tr th {\n",
              "        vertical-align: top;\n",
              "    }\n",
              "\n",
              "    .dataframe thead th {\n",
              "        text-align: right;\n",
              "    }\n",
              "</style>\n",
              "<table border=\"1\" class=\"dataframe\">\n",
              "  <thead>\n",
              "    <tr style=\"text-align: right;\">\n",
              "      <th></th>\n",
              "      <th>Fecha</th>\n",
              "      <th>Hora UTC</th>\n",
              "      <th>Clase de Vuelo (todos los vuelos)</th>\n",
              "      <th>Clasificación Vuelo</th>\n",
              "      <th>Tipo de Movimiento</th>\n",
              "      <th>Aeropuerto</th>\n",
              "      <th>Origen / Destino</th>\n",
              "      <th>Aerolinea Nombre</th>\n",
              "      <th>Aeronave</th>\n",
              "      <th>Pasajeros</th>\n",
              "      <th>Calidad dato</th>\n",
              "    </tr>\n",
              "  </thead>\n",
              "  <tbody>\n",
              "  </tbody>\n",
              "</table>\n",
              "</div>\n",
              "      <button class=\"colab-df-convert\" onclick=\"convertToInteractive('df-aa492fd8-63ea-4f8f-b077-fa87034b3a9c')\"\n",
              "              title=\"Convert this dataframe to an interactive table.\"\n",
              "              style=\"display:none;\">\n",
              "        \n",
              "  <svg xmlns=\"http://www.w3.org/2000/svg\" height=\"24px\"viewBox=\"0 0 24 24\"\n",
              "       width=\"24px\">\n",
              "    <path d=\"M0 0h24v24H0V0z\" fill=\"none\"/>\n",
              "    <path d=\"M18.56 5.44l.94 2.06.94-2.06 2.06-.94-2.06-.94-.94-2.06-.94 2.06-2.06.94zm-11 1L8.5 8.5l.94-2.06 2.06-.94-2.06-.94L8.5 2.5l-.94 2.06-2.06.94zm10 10l.94 2.06.94-2.06 2.06-.94-2.06-.94-.94-2.06-.94 2.06-2.06.94z\"/><path d=\"M17.41 7.96l-1.37-1.37c-.4-.4-.92-.59-1.43-.59-.52 0-1.04.2-1.43.59L10.3 9.45l-7.72 7.72c-.78.78-.78 2.05 0 2.83L4 21.41c.39.39.9.59 1.41.59.51 0 1.02-.2 1.41-.59l7.78-7.78 2.81-2.81c.8-.78.8-2.07 0-2.86zM5.41 20L4 18.59l7.72-7.72 1.47 1.35L5.41 20z\"/>\n",
              "  </svg>\n",
              "      </button>\n",
              "      \n",
              "  <style>\n",
              "    .colab-df-container {\n",
              "      display:flex;\n",
              "      flex-wrap:wrap;\n",
              "      gap: 12px;\n",
              "    }\n",
              "\n",
              "    .colab-df-convert {\n",
              "      background-color: #E8F0FE;\n",
              "      border: none;\n",
              "      border-radius: 50%;\n",
              "      cursor: pointer;\n",
              "      display: none;\n",
              "      fill: #1967D2;\n",
              "      height: 32px;\n",
              "      padding: 0 0 0 0;\n",
              "      width: 32px;\n",
              "    }\n",
              "\n",
              "    .colab-df-convert:hover {\n",
              "      background-color: #E2EBFA;\n",
              "      box-shadow: 0px 1px 2px rgba(60, 64, 67, 0.3), 0px 1px 3px 1px rgba(60, 64, 67, 0.15);\n",
              "      fill: #174EA6;\n",
              "    }\n",
              "\n",
              "    [theme=dark] .colab-df-convert {\n",
              "      background-color: #3B4455;\n",
              "      fill: #D2E3FC;\n",
              "    }\n",
              "\n",
              "    [theme=dark] .colab-df-convert:hover {\n",
              "      background-color: #434B5C;\n",
              "      box-shadow: 0px 1px 3px 1px rgba(0, 0, 0, 0.15);\n",
              "      filter: drop-shadow(0px 1px 2px rgba(0, 0, 0, 0.3));\n",
              "      fill: #FFFFFF;\n",
              "    }\n",
              "  </style>\n",
              "\n",
              "      <script>\n",
              "        const buttonEl =\n",
              "          document.querySelector('#df-aa492fd8-63ea-4f8f-b077-fa87034b3a9c button.colab-df-convert');\n",
              "        buttonEl.style.display =\n",
              "          google.colab.kernel.accessAllowed ? 'block' : 'none';\n",
              "\n",
              "        async function convertToInteractive(key) {\n",
              "          const element = document.querySelector('#df-aa492fd8-63ea-4f8f-b077-fa87034b3a9c');\n",
              "          const dataTable =\n",
              "            await google.colab.kernel.invokeFunction('convertToInteractive',\n",
              "                                                     [key], {});\n",
              "          if (!dataTable) return;\n",
              "\n",
              "          const docLinkHtml = 'Like what you see? Visit the ' +\n",
              "            '<a target=\"_blank\" href=https://colab.research.google.com/notebooks/data_table.ipynb>data table notebook</a>'\n",
              "            + ' to learn more about interactive tables.';\n",
              "          element.innerHTML = '';\n",
              "          dataTable['output_type'] = 'display_data';\n",
              "          await google.colab.output.renderOutput(dataTable, element);\n",
              "          const docLink = document.createElement('div');\n",
              "          docLink.innerHTML = docLinkHtml;\n",
              "          element.appendChild(docLink);\n",
              "        }\n",
              "      </script>\n",
              "    </div>\n",
              "  </div>\n",
              "  "
            ]
          },
          "metadata": {},
          "execution_count": 102
        }
      ]
    },
    {
      "cell_type": "code",
      "source": [
        "df_2022"
      ],
      "metadata": {
        "colab": {
          "base_uri": "https://localhost:8080/",
          "height": 467
        },
        "id": "mAB_4P8rGvMG",
        "outputId": "c25a5e05-6481-45b3-f0df-7059fd4aab4a"
      },
      "execution_count": 103,
      "outputs": [
        {
          "output_type": "execute_result",
          "data": {
            "text/plain": [
              "             Fecha Hora UTC Clase de Vuelo (todos los vuelos)  \\\n",
              "0       01/01/2022    00:01                           Regular   \n",
              "1       01/01/2022    00:05                           Regular   \n",
              "2       01/01/2022    00:05                           Regular   \n",
              "3       01/01/2022    00:09                           Regular   \n",
              "4       01/01/2022    00:09                           Regular   \n",
              "...            ...      ...                               ...   \n",
              "222922  30/06/2022    23:59                           Regular   \n",
              "222923  30/06/2022    16:26                           Regular   \n",
              "222924  30/06/2022    13:08                           Regular   \n",
              "222925  30/06/2022    01:33                           Regular   \n",
              "222926  30/06/2022    21:26                           Regular   \n",
              "\n",
              "       Clasificación Vuelo Tipo de Movimiento Aeropuerto Origen / Destino  \\\n",
              "0                Doméstico         Aterrizaje        AER              ECA   \n",
              "1                Doméstico         Aterrizaje        AER              SAL   \n",
              "2                Doméstico           Despegue        IGU              AER   \n",
              "3                Doméstico         Aterrizaje        AER              GAL   \n",
              "4            Internacional           Despegue        EZE             KDFW   \n",
              "...                    ...                ...        ...              ...   \n",
              "222922           Doméstico           Despegue        DOZ              AER   \n",
              "222923           Doméstico           Despegue        VIE              BAR   \n",
              "222924           Doméstico         Aterrizaje        VIE              AER   \n",
              "222925           Doméstico           Despegue        LAR              AER   \n",
              "222926           Doméstico         Aterrizaje        LAR              AER   \n",
              "\n",
              "                Aerolinea Nombre          Aeronave Pasajeros Calidad dato  \n",
              "0       AEROLINEAS ARGENTINAS SA        BO-737-8SH        69   DEFINITIVO  \n",
              "1       AEROLINEAS ARGENTINAS SA         BO-B737-8        65   DEFINITIVO  \n",
              "2         JETSMART AIRLINES S.A.      AIB-A320-232        41   DEFINITIVO  \n",
              "3       AEROLINEAS ARGENTINAS SA       BO-B737-81D        73   DEFINITIVO  \n",
              "4         AMERICAN AIRLINES INC.                 0       261   DEFINITIVO  \n",
              "...                          ...               ...       ...          ...  \n",
              "222922  AEROLINEAS ARGENTINAS SA       BO-B737-8SH      83,5   PROVISORIO  \n",
              "222923  AEROLINEAS ARGENTINAS SA  EMB-ERJ190100IGW      33,5   PROVISORIO  \n",
              "222924  AEROLINEAS ARGENTINAS SA  EMB-ERJ190100IGW      45,5   PROVISORIO  \n",
              "222925  AEROLINEAS ARGENTINAS SA  EMB-ERJ190100IGW      47,5   PROVISORIO  \n",
              "222926  AEROLINEAS ARGENTINAS SA  EMB-ERJ190100IGW      48,5   PROVISORIO  \n",
              "\n",
              "[222927 rows x 11 columns]"
            ],
            "text/html": [
              "\n",
              "  <div id=\"df-b718d2c5-9ede-4556-884b-28c71a9a2272\">\n",
              "    <div class=\"colab-df-container\">\n",
              "      <div>\n",
              "<style scoped>\n",
              "    .dataframe tbody tr th:only-of-type {\n",
              "        vertical-align: middle;\n",
              "    }\n",
              "\n",
              "    .dataframe tbody tr th {\n",
              "        vertical-align: top;\n",
              "    }\n",
              "\n",
              "    .dataframe thead th {\n",
              "        text-align: right;\n",
              "    }\n",
              "</style>\n",
              "<table border=\"1\" class=\"dataframe\">\n",
              "  <thead>\n",
              "    <tr style=\"text-align: right;\">\n",
              "      <th></th>\n",
              "      <th>Fecha</th>\n",
              "      <th>Hora UTC</th>\n",
              "      <th>Clase de Vuelo (todos los vuelos)</th>\n",
              "      <th>Clasificación Vuelo</th>\n",
              "      <th>Tipo de Movimiento</th>\n",
              "      <th>Aeropuerto</th>\n",
              "      <th>Origen / Destino</th>\n",
              "      <th>Aerolinea Nombre</th>\n",
              "      <th>Aeronave</th>\n",
              "      <th>Pasajeros</th>\n",
              "      <th>Calidad dato</th>\n",
              "    </tr>\n",
              "  </thead>\n",
              "  <tbody>\n",
              "    <tr>\n",
              "      <th>0</th>\n",
              "      <td>01/01/2022</td>\n",
              "      <td>00:01</td>\n",
              "      <td>Regular</td>\n",
              "      <td>Doméstico</td>\n",
              "      <td>Aterrizaje</td>\n",
              "      <td>AER</td>\n",
              "      <td>ECA</td>\n",
              "      <td>AEROLINEAS ARGENTINAS SA</td>\n",
              "      <td>BO-737-8SH</td>\n",
              "      <td>69</td>\n",
              "      <td>DEFINITIVO</td>\n",
              "    </tr>\n",
              "    <tr>\n",
              "      <th>1</th>\n",
              "      <td>01/01/2022</td>\n",
              "      <td>00:05</td>\n",
              "      <td>Regular</td>\n",
              "      <td>Doméstico</td>\n",
              "      <td>Aterrizaje</td>\n",
              "      <td>AER</td>\n",
              "      <td>SAL</td>\n",
              "      <td>AEROLINEAS ARGENTINAS SA</td>\n",
              "      <td>BO-B737-8</td>\n",
              "      <td>65</td>\n",
              "      <td>DEFINITIVO</td>\n",
              "    </tr>\n",
              "    <tr>\n",
              "      <th>2</th>\n",
              "      <td>01/01/2022</td>\n",
              "      <td>00:05</td>\n",
              "      <td>Regular</td>\n",
              "      <td>Doméstico</td>\n",
              "      <td>Despegue</td>\n",
              "      <td>IGU</td>\n",
              "      <td>AER</td>\n",
              "      <td>JETSMART AIRLINES S.A.</td>\n",
              "      <td>AIB-A320-232</td>\n",
              "      <td>41</td>\n",
              "      <td>DEFINITIVO</td>\n",
              "    </tr>\n",
              "    <tr>\n",
              "      <th>3</th>\n",
              "      <td>01/01/2022</td>\n",
              "      <td>00:09</td>\n",
              "      <td>Regular</td>\n",
              "      <td>Doméstico</td>\n",
              "      <td>Aterrizaje</td>\n",
              "      <td>AER</td>\n",
              "      <td>GAL</td>\n",
              "      <td>AEROLINEAS ARGENTINAS SA</td>\n",
              "      <td>BO-B737-81D</td>\n",
              "      <td>73</td>\n",
              "      <td>DEFINITIVO</td>\n",
              "    </tr>\n",
              "    <tr>\n",
              "      <th>4</th>\n",
              "      <td>01/01/2022</td>\n",
              "      <td>00:09</td>\n",
              "      <td>Regular</td>\n",
              "      <td>Internacional</td>\n",
              "      <td>Despegue</td>\n",
              "      <td>EZE</td>\n",
              "      <td>KDFW</td>\n",
              "      <td>AMERICAN AIRLINES INC.</td>\n",
              "      <td>0</td>\n",
              "      <td>261</td>\n",
              "      <td>DEFINITIVO</td>\n",
              "    </tr>\n",
              "    <tr>\n",
              "      <th>...</th>\n",
              "      <td>...</td>\n",
              "      <td>...</td>\n",
              "      <td>...</td>\n",
              "      <td>...</td>\n",
              "      <td>...</td>\n",
              "      <td>...</td>\n",
              "      <td>...</td>\n",
              "      <td>...</td>\n",
              "      <td>...</td>\n",
              "      <td>...</td>\n",
              "      <td>...</td>\n",
              "    </tr>\n",
              "    <tr>\n",
              "      <th>222922</th>\n",
              "      <td>30/06/2022</td>\n",
              "      <td>23:59</td>\n",
              "      <td>Regular</td>\n",
              "      <td>Doméstico</td>\n",
              "      <td>Despegue</td>\n",
              "      <td>DOZ</td>\n",
              "      <td>AER</td>\n",
              "      <td>AEROLINEAS ARGENTINAS SA</td>\n",
              "      <td>BO-B737-8SH</td>\n",
              "      <td>83,5</td>\n",
              "      <td>PROVISORIO</td>\n",
              "    </tr>\n",
              "    <tr>\n",
              "      <th>222923</th>\n",
              "      <td>30/06/2022</td>\n",
              "      <td>16:26</td>\n",
              "      <td>Regular</td>\n",
              "      <td>Doméstico</td>\n",
              "      <td>Despegue</td>\n",
              "      <td>VIE</td>\n",
              "      <td>BAR</td>\n",
              "      <td>AEROLINEAS ARGENTINAS SA</td>\n",
              "      <td>EMB-ERJ190100IGW</td>\n",
              "      <td>33,5</td>\n",
              "      <td>PROVISORIO</td>\n",
              "    </tr>\n",
              "    <tr>\n",
              "      <th>222924</th>\n",
              "      <td>30/06/2022</td>\n",
              "      <td>13:08</td>\n",
              "      <td>Regular</td>\n",
              "      <td>Doméstico</td>\n",
              "      <td>Aterrizaje</td>\n",
              "      <td>VIE</td>\n",
              "      <td>AER</td>\n",
              "      <td>AEROLINEAS ARGENTINAS SA</td>\n",
              "      <td>EMB-ERJ190100IGW</td>\n",
              "      <td>45,5</td>\n",
              "      <td>PROVISORIO</td>\n",
              "    </tr>\n",
              "    <tr>\n",
              "      <th>222925</th>\n",
              "      <td>30/06/2022</td>\n",
              "      <td>01:33</td>\n",
              "      <td>Regular</td>\n",
              "      <td>Doméstico</td>\n",
              "      <td>Despegue</td>\n",
              "      <td>LAR</td>\n",
              "      <td>AER</td>\n",
              "      <td>AEROLINEAS ARGENTINAS SA</td>\n",
              "      <td>EMB-ERJ190100IGW</td>\n",
              "      <td>47,5</td>\n",
              "      <td>PROVISORIO</td>\n",
              "    </tr>\n",
              "    <tr>\n",
              "      <th>222926</th>\n",
              "      <td>30/06/2022</td>\n",
              "      <td>21:26</td>\n",
              "      <td>Regular</td>\n",
              "      <td>Doméstico</td>\n",
              "      <td>Aterrizaje</td>\n",
              "      <td>LAR</td>\n",
              "      <td>AER</td>\n",
              "      <td>AEROLINEAS ARGENTINAS SA</td>\n",
              "      <td>EMB-ERJ190100IGW</td>\n",
              "      <td>48,5</td>\n",
              "      <td>PROVISORIO</td>\n",
              "    </tr>\n",
              "  </tbody>\n",
              "</table>\n",
              "<p>222927 rows × 11 columns</p>\n",
              "</div>\n",
              "      <button class=\"colab-df-convert\" onclick=\"convertToInteractive('df-b718d2c5-9ede-4556-884b-28c71a9a2272')\"\n",
              "              title=\"Convert this dataframe to an interactive table.\"\n",
              "              style=\"display:none;\">\n",
              "        \n",
              "  <svg xmlns=\"http://www.w3.org/2000/svg\" height=\"24px\"viewBox=\"0 0 24 24\"\n",
              "       width=\"24px\">\n",
              "    <path d=\"M0 0h24v24H0V0z\" fill=\"none\"/>\n",
              "    <path d=\"M18.56 5.44l.94 2.06.94-2.06 2.06-.94-2.06-.94-.94-2.06-.94 2.06-2.06.94zm-11 1L8.5 8.5l.94-2.06 2.06-.94-2.06-.94L8.5 2.5l-.94 2.06-2.06.94zm10 10l.94 2.06.94-2.06 2.06-.94-2.06-.94-.94-2.06-.94 2.06-2.06.94z\"/><path d=\"M17.41 7.96l-1.37-1.37c-.4-.4-.92-.59-1.43-.59-.52 0-1.04.2-1.43.59L10.3 9.45l-7.72 7.72c-.78.78-.78 2.05 0 2.83L4 21.41c.39.39.9.59 1.41.59.51 0 1.02-.2 1.41-.59l7.78-7.78 2.81-2.81c.8-.78.8-2.07 0-2.86zM5.41 20L4 18.59l7.72-7.72 1.47 1.35L5.41 20z\"/>\n",
              "  </svg>\n",
              "      </button>\n",
              "      \n",
              "  <style>\n",
              "    .colab-df-container {\n",
              "      display:flex;\n",
              "      flex-wrap:wrap;\n",
              "      gap: 12px;\n",
              "    }\n",
              "\n",
              "    .colab-df-convert {\n",
              "      background-color: #E8F0FE;\n",
              "      border: none;\n",
              "      border-radius: 50%;\n",
              "      cursor: pointer;\n",
              "      display: none;\n",
              "      fill: #1967D2;\n",
              "      height: 32px;\n",
              "      padding: 0 0 0 0;\n",
              "      width: 32px;\n",
              "    }\n",
              "\n",
              "    .colab-df-convert:hover {\n",
              "      background-color: #E2EBFA;\n",
              "      box-shadow: 0px 1px 2px rgba(60, 64, 67, 0.3), 0px 1px 3px 1px rgba(60, 64, 67, 0.15);\n",
              "      fill: #174EA6;\n",
              "    }\n",
              "\n",
              "    [theme=dark] .colab-df-convert {\n",
              "      background-color: #3B4455;\n",
              "      fill: #D2E3FC;\n",
              "    }\n",
              "\n",
              "    [theme=dark] .colab-df-convert:hover {\n",
              "      background-color: #434B5C;\n",
              "      box-shadow: 0px 1px 3px 1px rgba(0, 0, 0, 0.15);\n",
              "      filter: drop-shadow(0px 1px 2px rgba(0, 0, 0, 0.3));\n",
              "      fill: #FFFFFF;\n",
              "    }\n",
              "  </style>\n",
              "\n",
              "      <script>\n",
              "        const buttonEl =\n",
              "          document.querySelector('#df-b718d2c5-9ede-4556-884b-28c71a9a2272 button.colab-df-convert');\n",
              "        buttonEl.style.display =\n",
              "          google.colab.kernel.accessAllowed ? 'block' : 'none';\n",
              "\n",
              "        async function convertToInteractive(key) {\n",
              "          const element = document.querySelector('#df-b718d2c5-9ede-4556-884b-28c71a9a2272');\n",
              "          const dataTable =\n",
              "            await google.colab.kernel.invokeFunction('convertToInteractive',\n",
              "                                                     [key], {});\n",
              "          if (!dataTable) return;\n",
              "\n",
              "          const docLinkHtml = 'Like what you see? Visit the ' +\n",
              "            '<a target=\"_blank\" href=https://colab.research.google.com/notebooks/data_table.ipynb>data table notebook</a>'\n",
              "            + ' to learn more about interactive tables.';\n",
              "          element.innerHTML = '';\n",
              "          dataTable['output_type'] = 'display_data';\n",
              "          await google.colab.output.renderOutput(dataTable, element);\n",
              "          const docLink = document.createElement('div');\n",
              "          docLink.innerHTML = docLinkHtml;\n",
              "          element.appendChild(docLink);\n",
              "        }\n",
              "      </script>\n",
              "    </div>\n",
              "  </div>\n",
              "  "
            ]
          },
          "metadata": {},
          "execution_count": 103
        }
      ]
    },
    {
      "cell_type": "code",
      "source": [
        "# Validamos si hay valores nulos en pasajeros\n",
        "df_2022[df_2022['Pasajeros'].isna()] \n"
      ],
      "metadata": {
        "colab": {
          "base_uri": "https://localhost:8080/",
          "height": 49
        },
        "id": "JGrDaHIKHmXZ",
        "outputId": "eb0d892b-299d-4aa0-ff28-f93e513576b1"
      },
      "execution_count": 104,
      "outputs": [
        {
          "output_type": "execute_result",
          "data": {
            "text/plain": [
              "Empty DataFrame\n",
              "Columns: [Fecha, Hora UTC, Clase de Vuelo (todos los vuelos), Clasificación Vuelo, Tipo de Movimiento, Aeropuerto, Origen / Destino, Aerolinea Nombre, Aeronave, Pasajeros, Calidad dato]\n",
              "Index: []"
            ],
            "text/html": [
              "\n",
              "  <div id=\"df-9c37716e-fff4-4402-b295-6ce9a7e31083\">\n",
              "    <div class=\"colab-df-container\">\n",
              "      <div>\n",
              "<style scoped>\n",
              "    .dataframe tbody tr th:only-of-type {\n",
              "        vertical-align: middle;\n",
              "    }\n",
              "\n",
              "    .dataframe tbody tr th {\n",
              "        vertical-align: top;\n",
              "    }\n",
              "\n",
              "    .dataframe thead th {\n",
              "        text-align: right;\n",
              "    }\n",
              "</style>\n",
              "<table border=\"1\" class=\"dataframe\">\n",
              "  <thead>\n",
              "    <tr style=\"text-align: right;\">\n",
              "      <th></th>\n",
              "      <th>Fecha</th>\n",
              "      <th>Hora UTC</th>\n",
              "      <th>Clase de Vuelo (todos los vuelos)</th>\n",
              "      <th>Clasificación Vuelo</th>\n",
              "      <th>Tipo de Movimiento</th>\n",
              "      <th>Aeropuerto</th>\n",
              "      <th>Origen / Destino</th>\n",
              "      <th>Aerolinea Nombre</th>\n",
              "      <th>Aeronave</th>\n",
              "      <th>Pasajeros</th>\n",
              "      <th>Calidad dato</th>\n",
              "    </tr>\n",
              "  </thead>\n",
              "  <tbody>\n",
              "  </tbody>\n",
              "</table>\n",
              "</div>\n",
              "      <button class=\"colab-df-convert\" onclick=\"convertToInteractive('df-9c37716e-fff4-4402-b295-6ce9a7e31083')\"\n",
              "              title=\"Convert this dataframe to an interactive table.\"\n",
              "              style=\"display:none;\">\n",
              "        \n",
              "  <svg xmlns=\"http://www.w3.org/2000/svg\" height=\"24px\"viewBox=\"0 0 24 24\"\n",
              "       width=\"24px\">\n",
              "    <path d=\"M0 0h24v24H0V0z\" fill=\"none\"/>\n",
              "    <path d=\"M18.56 5.44l.94 2.06.94-2.06 2.06-.94-2.06-.94-.94-2.06-.94 2.06-2.06.94zm-11 1L8.5 8.5l.94-2.06 2.06-.94-2.06-.94L8.5 2.5l-.94 2.06-2.06.94zm10 10l.94 2.06.94-2.06 2.06-.94-2.06-.94-.94-2.06-.94 2.06-2.06.94z\"/><path d=\"M17.41 7.96l-1.37-1.37c-.4-.4-.92-.59-1.43-.59-.52 0-1.04.2-1.43.59L10.3 9.45l-7.72 7.72c-.78.78-.78 2.05 0 2.83L4 21.41c.39.39.9.59 1.41.59.51 0 1.02-.2 1.41-.59l7.78-7.78 2.81-2.81c.8-.78.8-2.07 0-2.86zM5.41 20L4 18.59l7.72-7.72 1.47 1.35L5.41 20z\"/>\n",
              "  </svg>\n",
              "      </button>\n",
              "      \n",
              "  <style>\n",
              "    .colab-df-container {\n",
              "      display:flex;\n",
              "      flex-wrap:wrap;\n",
              "      gap: 12px;\n",
              "    }\n",
              "\n",
              "    .colab-df-convert {\n",
              "      background-color: #E8F0FE;\n",
              "      border: none;\n",
              "      border-radius: 50%;\n",
              "      cursor: pointer;\n",
              "      display: none;\n",
              "      fill: #1967D2;\n",
              "      height: 32px;\n",
              "      padding: 0 0 0 0;\n",
              "      width: 32px;\n",
              "    }\n",
              "\n",
              "    .colab-df-convert:hover {\n",
              "      background-color: #E2EBFA;\n",
              "      box-shadow: 0px 1px 2px rgba(60, 64, 67, 0.3), 0px 1px 3px 1px rgba(60, 64, 67, 0.15);\n",
              "      fill: #174EA6;\n",
              "    }\n",
              "\n",
              "    [theme=dark] .colab-df-convert {\n",
              "      background-color: #3B4455;\n",
              "      fill: #D2E3FC;\n",
              "    }\n",
              "\n",
              "    [theme=dark] .colab-df-convert:hover {\n",
              "      background-color: #434B5C;\n",
              "      box-shadow: 0px 1px 3px 1px rgba(0, 0, 0, 0.15);\n",
              "      filter: drop-shadow(0px 1px 2px rgba(0, 0, 0, 0.3));\n",
              "      fill: #FFFFFF;\n",
              "    }\n",
              "  </style>\n",
              "\n",
              "      <script>\n",
              "        const buttonEl =\n",
              "          document.querySelector('#df-9c37716e-fff4-4402-b295-6ce9a7e31083 button.colab-df-convert');\n",
              "        buttonEl.style.display =\n",
              "          google.colab.kernel.accessAllowed ? 'block' : 'none';\n",
              "\n",
              "        async function convertToInteractive(key) {\n",
              "          const element = document.querySelector('#df-9c37716e-fff4-4402-b295-6ce9a7e31083');\n",
              "          const dataTable =\n",
              "            await google.colab.kernel.invokeFunction('convertToInteractive',\n",
              "                                                     [key], {});\n",
              "          if (!dataTable) return;\n",
              "\n",
              "          const docLinkHtml = 'Like what you see? Visit the ' +\n",
              "            '<a target=\"_blank\" href=https://colab.research.google.com/notebooks/data_table.ipynb>data table notebook</a>'\n",
              "            + ' to learn more about interactive tables.';\n",
              "          element.innerHTML = '';\n",
              "          dataTable['output_type'] = 'display_data';\n",
              "          await google.colab.output.renderOutput(dataTable, element);\n",
              "          const docLink = document.createElement('div');\n",
              "          docLink.innerHTML = docLinkHtml;\n",
              "          element.appendChild(docLink);\n",
              "        }\n",
              "      </script>\n",
              "    </div>\n",
              "  </div>\n",
              "  "
            ]
          },
          "metadata": {},
          "execution_count": 104
        }
      ]
    },
    {
      "cell_type": "code",
      "source": [
        "df_aeropuertos"
      ],
      "metadata": {
        "id": "t3i-peJ9H1Pe",
        "outputId": "8225e161-91bc-4aed-cec6-bbc11d49c187",
        "colab": {
          "base_uri": "https://localhost:8080/",
          "height": 661
        }
      },
      "execution_count": 105,
      "outputs": [
        {
          "output_type": "execute_result",
          "data": {
            "text/plain": [
              "    local  oaci iata       tipo                       denominacion  \\\n",
              "0     ACB   NaN  NaN  Aeródromo       CORONEL BOGADO/AGROSERVICIOS   \n",
              "1     ACH   NaN  NaN  Aeródromo                       GENERAL ACHA   \n",
              "2     ACM   NaN  NaN  Aeródromo            ARRECIFES/LA CURA MALAL   \n",
              "3     ADO  SAWD  PUD  Aeródromo                     PUERTO DESEADO   \n",
              "4     ADT   NaN  NaN  Aeródromo  BANDERA/AGROSERVICIOS DOÑA TERESA   \n",
              "..    ...   ...  ...        ...                                ...   \n",
              "688   YOS  SAZH  OYO  Aeródromo                       TRES ARROYOS   \n",
              "689   YPY   NaN  NaN  Aeródromo                             YAPEYÚ   \n",
              "690   ZAP  SAHZ  APZ  Aeródromo                             ZAPALA   \n",
              "691   ZLM   NaN  NaN  Aeródromo               BELL VILLE/LA ZULEMA   \n",
              "692   ZUL  SAZA  NaN  Aeródromo                               AZUL   \n",
              "\n",
              "                coordenadas    latitud   longitud    elev uom_elev  ...  \\\n",
              "0    33°16'20\"S  60°34'14\"W -60.570660 -33.272260    44.0   Metros  ...   \n",
              "1    37°24' 6\"S  64°36'49\"W -64.613510 -37.401640   277.0   Metros  ...   \n",
              "2    34° 4'33\"S  60° 8'30\"W -60.141700 -34.075740    37.0   Metros  ...   \n",
              "3    47°44' 6\"S  65°54'15\"W -65.904100 -47.735110    82.0   Metros  ...   \n",
              "4    28°51'19\"S  62°15'53\"W -62.264620 -28.855410    75.0   Metros  ...   \n",
              "..                      ...        ...        ...     ...      ...  ...   \n",
              "688  38°23' 8\"S  60°19'39\"W -60.327500 -38.385556   122.0   Metros  ...   \n",
              "689  29°21'32\"S  56°47'45\"W -56.795730 -29.358770    53.0   Metros  ...   \n",
              "690  38°58'33\"S  70° 6'48\"W -70.113464 -38.975886  1048.0   Metros  ...   \n",
              "691  32°29'23\"S  62°40'17\"W -62.671389 -32.489722   129.0   Metros  ...   \n",
              "692  36°50'12\"S  59°52'51\"W -59.880800 -36.836750   146.0   Metros  ...   \n",
              "\n",
              "    condicion    control region   fir      uso   trafico sna concesionado  \\\n",
              "0     PRIVADO  NOCONTROL   RACE  SAEF  AEROAPP  Nacional  NO           NO   \n",
              "1     PUBLICO  NOCONTROL   RACE  SAEF    CIVIL  Nacional  NO           NO   \n",
              "2     PRIVADO  NOCONTROL   RACE  SAEF    CIVIL  Nacional  NO           NO   \n",
              "3     PUBLICO    AERADIO   RASU  SAVF    CIVIL  Nacional  NO           NO   \n",
              "4     PRIVADO  NOCONTROL   RANO  SACF  AEROAPP  Nacional  NO           NO   \n",
              "..        ...        ...    ...   ...      ...       ...  ..          ...   \n",
              "688   PUBLICO  NOCONTROL   RACE  SAEF      NaN  Nacional  NO           NO   \n",
              "689   PRIVADO  NOCONTROL   RANE  SARR      NaN  Nacional  NO           NO   \n",
              "690   PUBLICO  NOCONTROL   RACE  SAEF      NaN  Nacional  NO           NO   \n",
              "691   PRIVADO  NOCONTROL   RANO  SACF  AEROAPP  Nacional  NO           NO   \n",
              "692   PUBLICO  NOCONTROL   RACE  SAEF    CIVIL  Nacional  NO           NO   \n",
              "\n",
              "               provincia inhab  \n",
              "0               SANTA FÉ    NO  \n",
              "1               LA PAMPA    NO  \n",
              "2           BUENOS AIRES    NO  \n",
              "3             SANTA CRUZ    NO  \n",
              "4    SANTIAGO DEL ESTERO    NO  \n",
              "..                   ...   ...  \n",
              "688         BUENOS AIRES    NO  \n",
              "689           CORRIENTES    NO  \n",
              "690              NEUQUÉN    NO  \n",
              "691              CÓRDOBA    NO  \n",
              "692         BUENOS AIRES    NO  \n",
              "\n",
              "[693 rows x 23 columns]"
            ],
            "text/html": [
              "\n",
              "  <div id=\"df-b343fe5c-171d-4caf-b7cc-4d0d6f0c39d1\">\n",
              "    <div class=\"colab-df-container\">\n",
              "      <div>\n",
              "<style scoped>\n",
              "    .dataframe tbody tr th:only-of-type {\n",
              "        vertical-align: middle;\n",
              "    }\n",
              "\n",
              "    .dataframe tbody tr th {\n",
              "        vertical-align: top;\n",
              "    }\n",
              "\n",
              "    .dataframe thead th {\n",
              "        text-align: right;\n",
              "    }\n",
              "</style>\n",
              "<table border=\"1\" class=\"dataframe\">\n",
              "  <thead>\n",
              "    <tr style=\"text-align: right;\">\n",
              "      <th></th>\n",
              "      <th>local</th>\n",
              "      <th>oaci</th>\n",
              "      <th>iata</th>\n",
              "      <th>tipo</th>\n",
              "      <th>denominacion</th>\n",
              "      <th>coordenadas</th>\n",
              "      <th>latitud</th>\n",
              "      <th>longitud</th>\n",
              "      <th>elev</th>\n",
              "      <th>uom_elev</th>\n",
              "      <th>...</th>\n",
              "      <th>condicion</th>\n",
              "      <th>control</th>\n",
              "      <th>region</th>\n",
              "      <th>fir</th>\n",
              "      <th>uso</th>\n",
              "      <th>trafico</th>\n",
              "      <th>sna</th>\n",
              "      <th>concesionado</th>\n",
              "      <th>provincia</th>\n",
              "      <th>inhab</th>\n",
              "    </tr>\n",
              "  </thead>\n",
              "  <tbody>\n",
              "    <tr>\n",
              "      <th>0</th>\n",
              "      <td>ACB</td>\n",
              "      <td>NaN</td>\n",
              "      <td>NaN</td>\n",
              "      <td>Aeródromo</td>\n",
              "      <td>CORONEL BOGADO/AGROSERVICIOS</td>\n",
              "      <td>33°16'20\"S  60°34'14\"W</td>\n",
              "      <td>-60.570660</td>\n",
              "      <td>-33.272260</td>\n",
              "      <td>44.0</td>\n",
              "      <td>Metros</td>\n",
              "      <td>...</td>\n",
              "      <td>PRIVADO</td>\n",
              "      <td>NOCONTROL</td>\n",
              "      <td>RACE</td>\n",
              "      <td>SAEF</td>\n",
              "      <td>AEROAPP</td>\n",
              "      <td>Nacional</td>\n",
              "      <td>NO</td>\n",
              "      <td>NO</td>\n",
              "      <td>SANTA FÉ</td>\n",
              "      <td>NO</td>\n",
              "    </tr>\n",
              "    <tr>\n",
              "      <th>1</th>\n",
              "      <td>ACH</td>\n",
              "      <td>NaN</td>\n",
              "      <td>NaN</td>\n",
              "      <td>Aeródromo</td>\n",
              "      <td>GENERAL ACHA</td>\n",
              "      <td>37°24' 6\"S  64°36'49\"W</td>\n",
              "      <td>-64.613510</td>\n",
              "      <td>-37.401640</td>\n",
              "      <td>277.0</td>\n",
              "      <td>Metros</td>\n",
              "      <td>...</td>\n",
              "      <td>PUBLICO</td>\n",
              "      <td>NOCONTROL</td>\n",
              "      <td>RACE</td>\n",
              "      <td>SAEF</td>\n",
              "      <td>CIVIL</td>\n",
              "      <td>Nacional</td>\n",
              "      <td>NO</td>\n",
              "      <td>NO</td>\n",
              "      <td>LA PAMPA</td>\n",
              "      <td>NO</td>\n",
              "    </tr>\n",
              "    <tr>\n",
              "      <th>2</th>\n",
              "      <td>ACM</td>\n",
              "      <td>NaN</td>\n",
              "      <td>NaN</td>\n",
              "      <td>Aeródromo</td>\n",
              "      <td>ARRECIFES/LA CURA MALAL</td>\n",
              "      <td>34° 4'33\"S  60° 8'30\"W</td>\n",
              "      <td>-60.141700</td>\n",
              "      <td>-34.075740</td>\n",
              "      <td>37.0</td>\n",
              "      <td>Metros</td>\n",
              "      <td>...</td>\n",
              "      <td>PRIVADO</td>\n",
              "      <td>NOCONTROL</td>\n",
              "      <td>RACE</td>\n",
              "      <td>SAEF</td>\n",
              "      <td>CIVIL</td>\n",
              "      <td>Nacional</td>\n",
              "      <td>NO</td>\n",
              "      <td>NO</td>\n",
              "      <td>BUENOS AIRES</td>\n",
              "      <td>NO</td>\n",
              "    </tr>\n",
              "    <tr>\n",
              "      <th>3</th>\n",
              "      <td>ADO</td>\n",
              "      <td>SAWD</td>\n",
              "      <td>PUD</td>\n",
              "      <td>Aeródromo</td>\n",
              "      <td>PUERTO DESEADO</td>\n",
              "      <td>47°44' 6\"S  65°54'15\"W</td>\n",
              "      <td>-65.904100</td>\n",
              "      <td>-47.735110</td>\n",
              "      <td>82.0</td>\n",
              "      <td>Metros</td>\n",
              "      <td>...</td>\n",
              "      <td>PUBLICO</td>\n",
              "      <td>AERADIO</td>\n",
              "      <td>RASU</td>\n",
              "      <td>SAVF</td>\n",
              "      <td>CIVIL</td>\n",
              "      <td>Nacional</td>\n",
              "      <td>NO</td>\n",
              "      <td>NO</td>\n",
              "      <td>SANTA CRUZ</td>\n",
              "      <td>NO</td>\n",
              "    </tr>\n",
              "    <tr>\n",
              "      <th>4</th>\n",
              "      <td>ADT</td>\n",
              "      <td>NaN</td>\n",
              "      <td>NaN</td>\n",
              "      <td>Aeródromo</td>\n",
              "      <td>BANDERA/AGROSERVICIOS DOÑA TERESA</td>\n",
              "      <td>28°51'19\"S  62°15'53\"W</td>\n",
              "      <td>-62.264620</td>\n",
              "      <td>-28.855410</td>\n",
              "      <td>75.0</td>\n",
              "      <td>Metros</td>\n",
              "      <td>...</td>\n",
              "      <td>PRIVADO</td>\n",
              "      <td>NOCONTROL</td>\n",
              "      <td>RANO</td>\n",
              "      <td>SACF</td>\n",
              "      <td>AEROAPP</td>\n",
              "      <td>Nacional</td>\n",
              "      <td>NO</td>\n",
              "      <td>NO</td>\n",
              "      <td>SANTIAGO DEL ESTERO</td>\n",
              "      <td>NO</td>\n",
              "    </tr>\n",
              "    <tr>\n",
              "      <th>...</th>\n",
              "      <td>...</td>\n",
              "      <td>...</td>\n",
              "      <td>...</td>\n",
              "      <td>...</td>\n",
              "      <td>...</td>\n",
              "      <td>...</td>\n",
              "      <td>...</td>\n",
              "      <td>...</td>\n",
              "      <td>...</td>\n",
              "      <td>...</td>\n",
              "      <td>...</td>\n",
              "      <td>...</td>\n",
              "      <td>...</td>\n",
              "      <td>...</td>\n",
              "      <td>...</td>\n",
              "      <td>...</td>\n",
              "      <td>...</td>\n",
              "      <td>...</td>\n",
              "      <td>...</td>\n",
              "      <td>...</td>\n",
              "      <td>...</td>\n",
              "    </tr>\n",
              "    <tr>\n",
              "      <th>688</th>\n",
              "      <td>YOS</td>\n",
              "      <td>SAZH</td>\n",
              "      <td>OYO</td>\n",
              "      <td>Aeródromo</td>\n",
              "      <td>TRES ARROYOS</td>\n",
              "      <td>38°23' 8\"S  60°19'39\"W</td>\n",
              "      <td>-60.327500</td>\n",
              "      <td>-38.385556</td>\n",
              "      <td>122.0</td>\n",
              "      <td>Metros</td>\n",
              "      <td>...</td>\n",
              "      <td>PUBLICO</td>\n",
              "      <td>NOCONTROL</td>\n",
              "      <td>RACE</td>\n",
              "      <td>SAEF</td>\n",
              "      <td>NaN</td>\n",
              "      <td>Nacional</td>\n",
              "      <td>NO</td>\n",
              "      <td>NO</td>\n",
              "      <td>BUENOS AIRES</td>\n",
              "      <td>NO</td>\n",
              "    </tr>\n",
              "    <tr>\n",
              "      <th>689</th>\n",
              "      <td>YPY</td>\n",
              "      <td>NaN</td>\n",
              "      <td>NaN</td>\n",
              "      <td>Aeródromo</td>\n",
              "      <td>YAPEYÚ</td>\n",
              "      <td>29°21'32\"S  56°47'45\"W</td>\n",
              "      <td>-56.795730</td>\n",
              "      <td>-29.358770</td>\n",
              "      <td>53.0</td>\n",
              "      <td>Metros</td>\n",
              "      <td>...</td>\n",
              "      <td>PRIVADO</td>\n",
              "      <td>NOCONTROL</td>\n",
              "      <td>RANE</td>\n",
              "      <td>SARR</td>\n",
              "      <td>NaN</td>\n",
              "      <td>Nacional</td>\n",
              "      <td>NO</td>\n",
              "      <td>NO</td>\n",
              "      <td>CORRIENTES</td>\n",
              "      <td>NO</td>\n",
              "    </tr>\n",
              "    <tr>\n",
              "      <th>690</th>\n",
              "      <td>ZAP</td>\n",
              "      <td>SAHZ</td>\n",
              "      <td>APZ</td>\n",
              "      <td>Aeródromo</td>\n",
              "      <td>ZAPALA</td>\n",
              "      <td>38°58'33\"S  70° 6'48\"W</td>\n",
              "      <td>-70.113464</td>\n",
              "      <td>-38.975886</td>\n",
              "      <td>1048.0</td>\n",
              "      <td>Metros</td>\n",
              "      <td>...</td>\n",
              "      <td>PUBLICO</td>\n",
              "      <td>NOCONTROL</td>\n",
              "      <td>RACE</td>\n",
              "      <td>SAEF</td>\n",
              "      <td>NaN</td>\n",
              "      <td>Nacional</td>\n",
              "      <td>NO</td>\n",
              "      <td>NO</td>\n",
              "      <td>NEUQUÉN</td>\n",
              "      <td>NO</td>\n",
              "    </tr>\n",
              "    <tr>\n",
              "      <th>691</th>\n",
              "      <td>ZLM</td>\n",
              "      <td>NaN</td>\n",
              "      <td>NaN</td>\n",
              "      <td>Aeródromo</td>\n",
              "      <td>BELL VILLE/LA ZULEMA</td>\n",
              "      <td>32°29'23\"S  62°40'17\"W</td>\n",
              "      <td>-62.671389</td>\n",
              "      <td>-32.489722</td>\n",
              "      <td>129.0</td>\n",
              "      <td>Metros</td>\n",
              "      <td>...</td>\n",
              "      <td>PRIVADO</td>\n",
              "      <td>NOCONTROL</td>\n",
              "      <td>RANO</td>\n",
              "      <td>SACF</td>\n",
              "      <td>AEROAPP</td>\n",
              "      <td>Nacional</td>\n",
              "      <td>NO</td>\n",
              "      <td>NO</td>\n",
              "      <td>CÓRDOBA</td>\n",
              "      <td>NO</td>\n",
              "    </tr>\n",
              "    <tr>\n",
              "      <th>692</th>\n",
              "      <td>ZUL</td>\n",
              "      <td>SAZA</td>\n",
              "      <td>NaN</td>\n",
              "      <td>Aeródromo</td>\n",
              "      <td>AZUL</td>\n",
              "      <td>36°50'12\"S  59°52'51\"W</td>\n",
              "      <td>-59.880800</td>\n",
              "      <td>-36.836750</td>\n",
              "      <td>146.0</td>\n",
              "      <td>Metros</td>\n",
              "      <td>...</td>\n",
              "      <td>PUBLICO</td>\n",
              "      <td>NOCONTROL</td>\n",
              "      <td>RACE</td>\n",
              "      <td>SAEF</td>\n",
              "      <td>CIVIL</td>\n",
              "      <td>Nacional</td>\n",
              "      <td>NO</td>\n",
              "      <td>NO</td>\n",
              "      <td>BUENOS AIRES</td>\n",
              "      <td>NO</td>\n",
              "    </tr>\n",
              "  </tbody>\n",
              "</table>\n",
              "<p>693 rows × 23 columns</p>\n",
              "</div>\n",
              "      <button class=\"colab-df-convert\" onclick=\"convertToInteractive('df-b343fe5c-171d-4caf-b7cc-4d0d6f0c39d1')\"\n",
              "              title=\"Convert this dataframe to an interactive table.\"\n",
              "              style=\"display:none;\">\n",
              "        \n",
              "  <svg xmlns=\"http://www.w3.org/2000/svg\" height=\"24px\"viewBox=\"0 0 24 24\"\n",
              "       width=\"24px\">\n",
              "    <path d=\"M0 0h24v24H0V0z\" fill=\"none\"/>\n",
              "    <path d=\"M18.56 5.44l.94 2.06.94-2.06 2.06-.94-2.06-.94-.94-2.06-.94 2.06-2.06.94zm-11 1L8.5 8.5l.94-2.06 2.06-.94-2.06-.94L8.5 2.5l-.94 2.06-2.06.94zm10 10l.94 2.06.94-2.06 2.06-.94-2.06-.94-.94-2.06-.94 2.06-2.06.94z\"/><path d=\"M17.41 7.96l-1.37-1.37c-.4-.4-.92-.59-1.43-.59-.52 0-1.04.2-1.43.59L10.3 9.45l-7.72 7.72c-.78.78-.78 2.05 0 2.83L4 21.41c.39.39.9.59 1.41.59.51 0 1.02-.2 1.41-.59l7.78-7.78 2.81-2.81c.8-.78.8-2.07 0-2.86zM5.41 20L4 18.59l7.72-7.72 1.47 1.35L5.41 20z\"/>\n",
              "  </svg>\n",
              "      </button>\n",
              "      \n",
              "  <style>\n",
              "    .colab-df-container {\n",
              "      display:flex;\n",
              "      flex-wrap:wrap;\n",
              "      gap: 12px;\n",
              "    }\n",
              "\n",
              "    .colab-df-convert {\n",
              "      background-color: #E8F0FE;\n",
              "      border: none;\n",
              "      border-radius: 50%;\n",
              "      cursor: pointer;\n",
              "      display: none;\n",
              "      fill: #1967D2;\n",
              "      height: 32px;\n",
              "      padding: 0 0 0 0;\n",
              "      width: 32px;\n",
              "    }\n",
              "\n",
              "    .colab-df-convert:hover {\n",
              "      background-color: #E2EBFA;\n",
              "      box-shadow: 0px 1px 2px rgba(60, 64, 67, 0.3), 0px 1px 3px 1px rgba(60, 64, 67, 0.15);\n",
              "      fill: #174EA6;\n",
              "    }\n",
              "\n",
              "    [theme=dark] .colab-df-convert {\n",
              "      background-color: #3B4455;\n",
              "      fill: #D2E3FC;\n",
              "    }\n",
              "\n",
              "    [theme=dark] .colab-df-convert:hover {\n",
              "      background-color: #434B5C;\n",
              "      box-shadow: 0px 1px 3px 1px rgba(0, 0, 0, 0.15);\n",
              "      filter: drop-shadow(0px 1px 2px rgba(0, 0, 0, 0.3));\n",
              "      fill: #FFFFFF;\n",
              "    }\n",
              "  </style>\n",
              "\n",
              "      <script>\n",
              "        const buttonEl =\n",
              "          document.querySelector('#df-b343fe5c-171d-4caf-b7cc-4d0d6f0c39d1 button.colab-df-convert');\n",
              "        buttonEl.style.display =\n",
              "          google.colab.kernel.accessAllowed ? 'block' : 'none';\n",
              "\n",
              "        async function convertToInteractive(key) {\n",
              "          const element = document.querySelector('#df-b343fe5c-171d-4caf-b7cc-4d0d6f0c39d1');\n",
              "          const dataTable =\n",
              "            await google.colab.kernel.invokeFunction('convertToInteractive',\n",
              "                                                     [key], {});\n",
              "          if (!dataTable) return;\n",
              "\n",
              "          const docLinkHtml = 'Like what you see? Visit the ' +\n",
              "            '<a target=\"_blank\" href=https://colab.research.google.com/notebooks/data_table.ipynb>data table notebook</a>'\n",
              "            + ' to learn more about interactive tables.';\n",
              "          element.innerHTML = '';\n",
              "          dataTable['output_type'] = 'display_data';\n",
              "          await google.colab.output.renderOutput(dataTable, element);\n",
              "          const docLink = document.createElement('div');\n",
              "          docLink.innerHTML = docLinkHtml;\n",
              "          element.appendChild(docLink);\n",
              "        }\n",
              "      </script>\n",
              "    </div>\n",
              "  </div>\n",
              "  "
            ]
          },
          "metadata": {},
          "execution_count": 105
        }
      ]
    },
    {
      "cell_type": "code",
      "source": [
        "df_aeropuertos.info()"
      ],
      "metadata": {
        "id": "zNdvzs0mm2bU",
        "outputId": "344047f3-f3f3-43b0-c317-3b393f750bdc",
        "colab": {
          "base_uri": "https://localhost:8080/"
        }
      },
      "execution_count": 106,
      "outputs": [
        {
          "output_type": "stream",
          "name": "stdout",
          "text": [
            "<class 'pandas.core.frame.DataFrame'>\n",
            "RangeIndex: 693 entries, 0 to 692\n",
            "Data columns (total 23 columns):\n",
            " #   Column         Non-Null Count  Dtype  \n",
            "---  ------         --------------  -----  \n",
            " 0   local          693 non-null    object \n",
            " 1   oaci           124 non-null    object \n",
            " 2   iata           90 non-null     object \n",
            " 3   tipo           693 non-null    object \n",
            " 4   denominacion   693 non-null    object \n",
            " 5   coordenadas    693 non-null    object \n",
            " 6   latitud        693 non-null    float64\n",
            " 7   longitud       693 non-null    float64\n",
            " 8   elev           693 non-null    float64\n",
            " 9   uom_elev       693 non-null    object \n",
            " 10  ref            683 non-null    object \n",
            " 11  distancia_ref  688 non-null    float64\n",
            " 12  direccion_ref  679 non-null    object \n",
            " 13  condicion      693 non-null    object \n",
            " 14  control        693 non-null    object \n",
            " 15  region         693 non-null    object \n",
            " 16  fir            693 non-null    object \n",
            " 17  uso            470 non-null    object \n",
            " 18  trafico        693 non-null    object \n",
            " 19  sna            693 non-null    object \n",
            " 20  concesionado   693 non-null    object \n",
            " 21  provincia      693 non-null    object \n",
            " 22  inhab          693 non-null    object \n",
            "dtypes: float64(4), object(19)\n",
            "memory usage: 124.6+ KB\n"
          ]
        }
      ]
    },
    {
      "cell_type": "code",
      "source": [
        "# Validamos si hay valores nulos en distancia_ref\n",
        "df_aeropuertos[df_aeropuertos['distancia_ref'].isna()] "
      ],
      "metadata": {
        "id": "82ep3tUjkg0D",
        "outputId": "79992f66-f369-4646-b561-0c0a4b8b2546",
        "colab": {
          "base_uri": "https://localhost:8080/",
          "height": 557
        }
      },
      "execution_count": 107,
      "outputs": [
        {
          "output_type": "execute_result",
          "data": {
            "text/plain": [
              "    local  oaci iata        tipo  \\\n",
              "266   HET   NaN  NaN  Helipuerto   \n",
              "299   HMG   NaN  NaN  Helipuerto   \n",
              "307   HNH   NaN  NaN  Helipuerto   \n",
              "341   HSW   NaN  NaN  Helipuerto   \n",
              "439   MBI  SAWB  NaN   Aeródromo   \n",
              "\n",
              "                                          denominacion  \\\n",
              "266  SANTIAGO DEL ESTERO/HELIPUERTO EDIFICIO TRIBUN...   \n",
              "299                      BUENOS AIRES / MADERO HARBOUR   \n",
              "307               HELIPLATAFORMA NOBLE HOUSTON COLBERT   \n",
              "341                      HELIPLATAFORMA SWIBER PJW3000   \n",
              "439                              VICECOMODORO MARAMBIO   \n",
              "\n",
              "                coordenadas    latitud   longitud   elev uom_elev  ...  \\\n",
              "266  27°46'53\"S  64°15'54\"W -64.265127 -27.781396  195.0   Metros  ...   \n",
              "299  34°37'16\"S  58°21'39\"W -58.360928 -34.620978   78.8   Metros  ...   \n",
              "307  53° 5'54\"S  67°13'13\"W -67.220278 -53.098333   63.5   Metros  ...   \n",
              "341  53° 4'35\"S  67°57'50\"W -67.964004 -53.076495   36.0   Metros  ...   \n",
              "439  64°14'21\"S  56°37'51\"W -56.630850 -64.239130  209.5   Metros  ...   \n",
              "\n",
              "    condicion    control region   fir    uso   trafico sna concesionado  \\\n",
              "266   PRIVADO  NOCONTROL   RANO  SACF    NaN  Nacional  NO           NO   \n",
              "299   PRIVADO  NOCONTROL   RACE  SAEF  CIVIL  Nacional  NO           NO   \n",
              "307   PRIVADO  NOCONTROL   RASU  SAVF    NaN  Nacional  NO           NO   \n",
              "341   PRIVADO  NOCONTROL   RASU  SAVF    NaN  Nacional  NO           NO   \n",
              "439   PUBLICO    CONTROL   RASU  SAVF    MIL  Nacional  NO           NO   \n",
              "\n",
              "                                             provincia inhab  \n",
              "266                                SANTIAGO DEL ESTERO    NO  \n",
              "299                    CIUDAD AUTÓNOMA DE BUENOS AIRES    NO  \n",
              "307  TIERRA DEL FUEGO ANTÁRTIDA E ISLAS DEL ATLÁNTI...    NO  \n",
              "341  TIERRA DEL FUEGO ANTÁRTIDA E ISLAS DEL ATLÁNTI...    NO  \n",
              "439  TIERRA DEL FUEGO ANTÁRTIDA E ISLAS DEL ATLÁNTI...    NO  \n",
              "\n",
              "[5 rows x 23 columns]"
            ],
            "text/html": [
              "\n",
              "  <div id=\"df-31e3867e-bb6b-47d2-8ded-de695b81f708\">\n",
              "    <div class=\"colab-df-container\">\n",
              "      <div>\n",
              "<style scoped>\n",
              "    .dataframe tbody tr th:only-of-type {\n",
              "        vertical-align: middle;\n",
              "    }\n",
              "\n",
              "    .dataframe tbody tr th {\n",
              "        vertical-align: top;\n",
              "    }\n",
              "\n",
              "    .dataframe thead th {\n",
              "        text-align: right;\n",
              "    }\n",
              "</style>\n",
              "<table border=\"1\" class=\"dataframe\">\n",
              "  <thead>\n",
              "    <tr style=\"text-align: right;\">\n",
              "      <th></th>\n",
              "      <th>local</th>\n",
              "      <th>oaci</th>\n",
              "      <th>iata</th>\n",
              "      <th>tipo</th>\n",
              "      <th>denominacion</th>\n",
              "      <th>coordenadas</th>\n",
              "      <th>latitud</th>\n",
              "      <th>longitud</th>\n",
              "      <th>elev</th>\n",
              "      <th>uom_elev</th>\n",
              "      <th>...</th>\n",
              "      <th>condicion</th>\n",
              "      <th>control</th>\n",
              "      <th>region</th>\n",
              "      <th>fir</th>\n",
              "      <th>uso</th>\n",
              "      <th>trafico</th>\n",
              "      <th>sna</th>\n",
              "      <th>concesionado</th>\n",
              "      <th>provincia</th>\n",
              "      <th>inhab</th>\n",
              "    </tr>\n",
              "  </thead>\n",
              "  <tbody>\n",
              "    <tr>\n",
              "      <th>266</th>\n",
              "      <td>HET</td>\n",
              "      <td>NaN</td>\n",
              "      <td>NaN</td>\n",
              "      <td>Helipuerto</td>\n",
              "      <td>SANTIAGO DEL ESTERO/HELIPUERTO EDIFICIO TRIBUN...</td>\n",
              "      <td>27°46'53\"S  64°15'54\"W</td>\n",
              "      <td>-64.265127</td>\n",
              "      <td>-27.781396</td>\n",
              "      <td>195.0</td>\n",
              "      <td>Metros</td>\n",
              "      <td>...</td>\n",
              "      <td>PRIVADO</td>\n",
              "      <td>NOCONTROL</td>\n",
              "      <td>RANO</td>\n",
              "      <td>SACF</td>\n",
              "      <td>NaN</td>\n",
              "      <td>Nacional</td>\n",
              "      <td>NO</td>\n",
              "      <td>NO</td>\n",
              "      <td>SANTIAGO DEL ESTERO</td>\n",
              "      <td>NO</td>\n",
              "    </tr>\n",
              "    <tr>\n",
              "      <th>299</th>\n",
              "      <td>HMG</td>\n",
              "      <td>NaN</td>\n",
              "      <td>NaN</td>\n",
              "      <td>Helipuerto</td>\n",
              "      <td>BUENOS AIRES / MADERO HARBOUR</td>\n",
              "      <td>34°37'16\"S  58°21'39\"W</td>\n",
              "      <td>-58.360928</td>\n",
              "      <td>-34.620978</td>\n",
              "      <td>78.8</td>\n",
              "      <td>Metros</td>\n",
              "      <td>...</td>\n",
              "      <td>PRIVADO</td>\n",
              "      <td>NOCONTROL</td>\n",
              "      <td>RACE</td>\n",
              "      <td>SAEF</td>\n",
              "      <td>CIVIL</td>\n",
              "      <td>Nacional</td>\n",
              "      <td>NO</td>\n",
              "      <td>NO</td>\n",
              "      <td>CIUDAD AUTÓNOMA DE BUENOS AIRES</td>\n",
              "      <td>NO</td>\n",
              "    </tr>\n",
              "    <tr>\n",
              "      <th>307</th>\n",
              "      <td>HNH</td>\n",
              "      <td>NaN</td>\n",
              "      <td>NaN</td>\n",
              "      <td>Helipuerto</td>\n",
              "      <td>HELIPLATAFORMA NOBLE HOUSTON COLBERT</td>\n",
              "      <td>53° 5'54\"S  67°13'13\"W</td>\n",
              "      <td>-67.220278</td>\n",
              "      <td>-53.098333</td>\n",
              "      <td>63.5</td>\n",
              "      <td>Metros</td>\n",
              "      <td>...</td>\n",
              "      <td>PRIVADO</td>\n",
              "      <td>NOCONTROL</td>\n",
              "      <td>RASU</td>\n",
              "      <td>SAVF</td>\n",
              "      <td>NaN</td>\n",
              "      <td>Nacional</td>\n",
              "      <td>NO</td>\n",
              "      <td>NO</td>\n",
              "      <td>TIERRA DEL FUEGO ANTÁRTIDA E ISLAS DEL ATLÁNTI...</td>\n",
              "      <td>NO</td>\n",
              "    </tr>\n",
              "    <tr>\n",
              "      <th>341</th>\n",
              "      <td>HSW</td>\n",
              "      <td>NaN</td>\n",
              "      <td>NaN</td>\n",
              "      <td>Helipuerto</td>\n",
              "      <td>HELIPLATAFORMA SWIBER PJW3000</td>\n",
              "      <td>53° 4'35\"S  67°57'50\"W</td>\n",
              "      <td>-67.964004</td>\n",
              "      <td>-53.076495</td>\n",
              "      <td>36.0</td>\n",
              "      <td>Metros</td>\n",
              "      <td>...</td>\n",
              "      <td>PRIVADO</td>\n",
              "      <td>NOCONTROL</td>\n",
              "      <td>RASU</td>\n",
              "      <td>SAVF</td>\n",
              "      <td>NaN</td>\n",
              "      <td>Nacional</td>\n",
              "      <td>NO</td>\n",
              "      <td>NO</td>\n",
              "      <td>TIERRA DEL FUEGO ANTÁRTIDA E ISLAS DEL ATLÁNTI...</td>\n",
              "      <td>NO</td>\n",
              "    </tr>\n",
              "    <tr>\n",
              "      <th>439</th>\n",
              "      <td>MBI</td>\n",
              "      <td>SAWB</td>\n",
              "      <td>NaN</td>\n",
              "      <td>Aeródromo</td>\n",
              "      <td>VICECOMODORO MARAMBIO</td>\n",
              "      <td>64°14'21\"S  56°37'51\"W</td>\n",
              "      <td>-56.630850</td>\n",
              "      <td>-64.239130</td>\n",
              "      <td>209.5</td>\n",
              "      <td>Metros</td>\n",
              "      <td>...</td>\n",
              "      <td>PUBLICO</td>\n",
              "      <td>CONTROL</td>\n",
              "      <td>RASU</td>\n",
              "      <td>SAVF</td>\n",
              "      <td>MIL</td>\n",
              "      <td>Nacional</td>\n",
              "      <td>NO</td>\n",
              "      <td>NO</td>\n",
              "      <td>TIERRA DEL FUEGO ANTÁRTIDA E ISLAS DEL ATLÁNTI...</td>\n",
              "      <td>NO</td>\n",
              "    </tr>\n",
              "  </tbody>\n",
              "</table>\n",
              "<p>5 rows × 23 columns</p>\n",
              "</div>\n",
              "      <button class=\"colab-df-convert\" onclick=\"convertToInteractive('df-31e3867e-bb6b-47d2-8ded-de695b81f708')\"\n",
              "              title=\"Convert this dataframe to an interactive table.\"\n",
              "              style=\"display:none;\">\n",
              "        \n",
              "  <svg xmlns=\"http://www.w3.org/2000/svg\" height=\"24px\"viewBox=\"0 0 24 24\"\n",
              "       width=\"24px\">\n",
              "    <path d=\"M0 0h24v24H0V0z\" fill=\"none\"/>\n",
              "    <path d=\"M18.56 5.44l.94 2.06.94-2.06 2.06-.94-2.06-.94-.94-2.06-.94 2.06-2.06.94zm-11 1L8.5 8.5l.94-2.06 2.06-.94-2.06-.94L8.5 2.5l-.94 2.06-2.06.94zm10 10l.94 2.06.94-2.06 2.06-.94-2.06-.94-.94-2.06-.94 2.06-2.06.94z\"/><path d=\"M17.41 7.96l-1.37-1.37c-.4-.4-.92-.59-1.43-.59-.52 0-1.04.2-1.43.59L10.3 9.45l-7.72 7.72c-.78.78-.78 2.05 0 2.83L4 21.41c.39.39.9.59 1.41.59.51 0 1.02-.2 1.41-.59l7.78-7.78 2.81-2.81c.8-.78.8-2.07 0-2.86zM5.41 20L4 18.59l7.72-7.72 1.47 1.35L5.41 20z\"/>\n",
              "  </svg>\n",
              "      </button>\n",
              "      \n",
              "  <style>\n",
              "    .colab-df-container {\n",
              "      display:flex;\n",
              "      flex-wrap:wrap;\n",
              "      gap: 12px;\n",
              "    }\n",
              "\n",
              "    .colab-df-convert {\n",
              "      background-color: #E8F0FE;\n",
              "      border: none;\n",
              "      border-radius: 50%;\n",
              "      cursor: pointer;\n",
              "      display: none;\n",
              "      fill: #1967D2;\n",
              "      height: 32px;\n",
              "      padding: 0 0 0 0;\n",
              "      width: 32px;\n",
              "    }\n",
              "\n",
              "    .colab-df-convert:hover {\n",
              "      background-color: #E2EBFA;\n",
              "      box-shadow: 0px 1px 2px rgba(60, 64, 67, 0.3), 0px 1px 3px 1px rgba(60, 64, 67, 0.15);\n",
              "      fill: #174EA6;\n",
              "    }\n",
              "\n",
              "    [theme=dark] .colab-df-convert {\n",
              "      background-color: #3B4455;\n",
              "      fill: #D2E3FC;\n",
              "    }\n",
              "\n",
              "    [theme=dark] .colab-df-convert:hover {\n",
              "      background-color: #434B5C;\n",
              "      box-shadow: 0px 1px 3px 1px rgba(0, 0, 0, 0.15);\n",
              "      filter: drop-shadow(0px 1px 2px rgba(0, 0, 0, 0.3));\n",
              "      fill: #FFFFFF;\n",
              "    }\n",
              "  </style>\n",
              "\n",
              "      <script>\n",
              "        const buttonEl =\n",
              "          document.querySelector('#df-31e3867e-bb6b-47d2-8ded-de695b81f708 button.colab-df-convert');\n",
              "        buttonEl.style.display =\n",
              "          google.colab.kernel.accessAllowed ? 'block' : 'none';\n",
              "\n",
              "        async function convertToInteractive(key) {\n",
              "          const element = document.querySelector('#df-31e3867e-bb6b-47d2-8ded-de695b81f708');\n",
              "          const dataTable =\n",
              "            await google.colab.kernel.invokeFunction('convertToInteractive',\n",
              "                                                     [key], {});\n",
              "          if (!dataTable) return;\n",
              "\n",
              "          const docLinkHtml = 'Like what you see? Visit the ' +\n",
              "            '<a target=\"_blank\" href=https://colab.research.google.com/notebooks/data_table.ipynb>data table notebook</a>'\n",
              "            + ' to learn more about interactive tables.';\n",
              "          element.innerHTML = '';\n",
              "          dataTable['output_type'] = 'display_data';\n",
              "          await google.colab.output.renderOutput(dataTable, element);\n",
              "          const docLink = document.createElement('div');\n",
              "          docLink.innerHTML = docLinkHtml;\n",
              "          element.appendChild(docLink);\n",
              "        }\n",
              "      </script>\n",
              "    </div>\n",
              "  </div>\n",
              "  "
            ]
          },
          "metadata": {},
          "execution_count": 107
        }
      ]
    },
    {
      "cell_type": "markdown",
      "source": [
        "### SPARK\n",
        "\n"
      ],
      "metadata": {
        "id": "gmthkqjM60fQ"
      }
    },
    {
      "cell_type": "markdown",
      "source": [
        "#### Transformaciones dataframes vuelos"
      ],
      "metadata": {
        "id": "6kX9hX3J_v38"
      }
    },
    {
      "cell_type": "code",
      "source": [
        "schema = StructType([\n",
        "            StructField(\"Fecha\", StringType(), True),\n",
        "            StructField(\"horaUTC\", StringType(), True),\n",
        "            StructField(\"clase_de_vuelo\", StringType(), True),\n",
        "            StructField(\"clasificacion_de_vuelo\", StringType(), True),\n",
        "            StructField(\"tipo_de_movimiento\", StringType(), True),\n",
        "            StructField(\"aeropuerto\", StringType(), True),\n",
        "            StructField(\"origen_destino\", StringType(), True),\n",
        "            StructField(\"aerolinea_nombre\", StringType(), True),\n",
        "            StructField(\"aeronave\", StringType(), True),\n",
        "            StructField(\"pasajeros\", IntegerType(), True)\n",
        "])"
      ],
      "metadata": {
        "id": "VmSkkwXVOLkR"
      },
      "execution_count": 113,
      "outputs": []
    },
    {
      "cell_type": "code",
      "source": [
        "# Con esta alternativa los tipos de datos se importan de forma adecuada (siempre verificar!)\n",
        "spk_2021 = spark.read.csv(\"/content/2021-informe-ministerio.csv\", sep=';', schema=schema, header=True).withColumn(\"fecha\", to_date(\"Fecha\",\"dd/MM/yyyy\"))"
      ],
      "metadata": {
        "id": "fzQ2y9OE7TpC"
      },
      "execution_count": 114,
      "outputs": []
    },
    {
      "cell_type": "code",
      "source": [
        "spk_2021"
      ],
      "metadata": {
        "colab": {
          "base_uri": "https://localhost:8080/"
        },
        "id": "PrwI4dFKWKSb",
        "outputId": "6b179cec-b10f-4843-b9fd-f98eb3e800e8"
      },
      "execution_count": 115,
      "outputs": [
        {
          "output_type": "execute_result",
          "data": {
            "text/plain": [
              "DataFrame[fecha: date, horaUTC: string, clase_de_vuelo: string, clasificacion_de_vuelo: string, tipo_de_movimiento: string, aeropuerto: string, origen_destino: string, aerolinea_nombre: string, aeronave: string, pasajeros: int]"
            ]
          },
          "metadata": {},
          "execution_count": 115
        }
      ]
    },
    {
      "cell_type": "code",
      "source": [
        "spk_2021.show(10)"
      ],
      "metadata": {
        "id": "FGgscMVq_tMm",
        "outputId": "8fd42f69-5252-40a2-b551-a938a53cd747",
        "colab": {
          "base_uri": "https://localhost:8080/"
        }
      },
      "execution_count": 116,
      "outputs": [
        {
          "output_type": "stream",
          "name": "stdout",
          "text": [
            "+----------+-------+--------------------+----------------------+------------------+----------+--------------+--------------------+----------------+---------+\n",
            "|     fecha|horaUTC|      clase_de_vuelo|clasificacion_de_vuelo|tipo_de_movimiento|aeropuerto|origen_destino|    aerolinea_nombre|        aeronave|pasajeros|\n",
            "+----------+-------+--------------------+----------------------+------------------+----------+--------------+--------------------+----------------+---------+\n",
            "|2021-01-01|  00:02|Vuelo Privado con...|             Domestico|          Despegue|       PAR|           ROS|                   0|    PA-PA-28-181|        0|\n",
            "|2021-01-01|  00:24|             Regular|             Domestico|        Aterrizaje|       EZE|           GRA|AEROLINEAS ARGENT...|     BO-B737-8MB|       70|\n",
            "|2021-01-01|  00:26|             Regular|             Domestico|        Aterrizaje|       EZE|           ECA|AEROLINEAS ARGENT...|      BO-737-800|       70|\n",
            "|2021-01-01|  00:29|             Regular|             Domestico|        Aterrizaje|       EZE|           SAL|AEROLINEAS ARGENT...|    BO-B-737-76N|       12|\n",
            "|2021-01-01|  00:37|             Regular|             Domestico|        Aterrizaje|       EZE|           TUC|AEROLINEAS ARGENT...|EMB-ERJ190100IGW|       26|\n",
            "|2021-01-01|  00:59|             Regular|         Internacional|        Aterrizaje|       EZE|          SBGR|TURK HAVA YOLLARI...|               0|       62|\n",
            "|2021-01-01|  01:00|Vuelo Privado con...|             Domestico|        Aterrizaje|       ROS|           PAR|                   0|    PA-PA-28-181|        0|\n",
            "|2021-01-01|  01:12|             Regular|         Internacional|          Despegue|       EZE|          MMMX|AEROVIAS DE MEXIC...|               0|      198|\n",
            "|2021-01-01|  01:52|             Regular|         Internacional|          Despegue|       EZE|          KDFW|AMERICAN AIRLINES...|               0|      193|\n",
            "|2021-01-01|  02:08|             Regular|         Internacional|          Despegue|       EZE|          KMIA|AMERICAN AIRLINES...|               0|      255|\n",
            "+----------+-------+--------------------+----------------------+------------------+----------+--------------+--------------------+----------------+---------+\n",
            "only showing top 10 rows\n",
            "\n"
          ]
        }
      ]
    },
    {
      "cell_type": "code",
      "source": [
        "spk_2021"
      ],
      "metadata": {
        "id": "5dPQvRU6_kYw",
        "outputId": "37998ca2-590e-4006-9716-e11171630cea",
        "colab": {
          "base_uri": "https://localhost:8080/"
        }
      },
      "execution_count": 112,
      "outputs": [
        {
          "output_type": "execute_result",
          "data": {
            "text/plain": [
              "DataFrame[fecha: string, horaUTC: string, clase_de_vuelo: string, clasificacion_de_vuelo: string, tipo_de_movimiento: string, aeropuerto: string, origen_destino: string, aerolinea_nombre: string, aeronave: string, pasajeros: int, nueva: date]"
            ]
          },
          "metadata": {},
          "execution_count": 112
        }
      ]
    },
    {
      "cell_type": "code",
      "source": [
        "spk_2022 = spark.read.csv(\"/content/202206-informe-ministerio.csv\", sep=';', schema=schema, header=True).withColumn(\"fecha\", to_date(\"Fecha\",\"dd/MM/yyyy\"))"
      ],
      "metadata": {
        "id": "Yr2kOEmO8Iri"
      },
      "execution_count": 117,
      "outputs": []
    },
    {
      "cell_type": "code",
      "source": [
        "spk_2022.show(5)"
      ],
      "metadata": {
        "id": "vBT9fn4J9eih",
        "outputId": "92db4da5-ea75-4ae9-a94b-01305dca898f",
        "colab": {
          "base_uri": "https://localhost:8080/"
        }
      },
      "execution_count": 118,
      "outputs": [
        {
          "output_type": "stream",
          "name": "stdout",
          "text": [
            "+----------+-------+--------------+----------------------+------------------+----------+--------------+--------------------+------------+---------+\n",
            "|     fecha|horaUTC|clase_de_vuelo|clasificacion_de_vuelo|tipo_de_movimiento|aeropuerto|origen_destino|    aerolinea_nombre|    aeronave|pasajeros|\n",
            "+----------+-------+--------------+----------------------+------------------+----------+--------------+--------------------+------------+---------+\n",
            "|2022-01-01|  00:01|       Regular|             Doméstico|        Aterrizaje|       AER|           ECA|AEROLINEAS ARGENT...|  BO-737-8SH|       69|\n",
            "|2022-01-01|  00:05|       Regular|             Doméstico|        Aterrizaje|       AER|           SAL|AEROLINEAS ARGENT...|   BO-B737-8|       65|\n",
            "|2022-01-01|  00:05|       Regular|             Doméstico|          Despegue|       IGU|           AER|JETSMART AIRLINES...|AIB-A320-232|       41|\n",
            "|2022-01-01|  00:09|       Regular|             Doméstico|        Aterrizaje|       AER|           GAL|AEROLINEAS ARGENT...| BO-B737-81D|       73|\n",
            "|2022-01-01|  00:09|       Regular|         Internacional|          Despegue|       EZE|          KDFW|AMERICAN AIRLINES...|           0|      261|\n",
            "+----------+-------+--------------+----------------------+------------------+----------+--------------+--------------------+------------+---------+\n",
            "only showing top 5 rows\n",
            "\n"
          ]
        }
      ]
    },
    {
      "cell_type": "markdown",
      "source": [
        "#### Transformaciones dataframe aeropuerto"
      ],
      "metadata": {
        "id": "7v_kY2wzyyWJ"
      }
    },
    {
      "cell_type": "code",
      "source": [
        "schema2 = StructType([\n",
        "            StructField(\"aeropuerto\", StringType(), True),\n",
        "            StructField(\"oac\", StringType(), True),\n",
        "            StructField(\"iata\", StringType(), True),\n",
        "            StructField(\"tipo\", StringType(), True),\n",
        "            StructField(\"denominacion\", StringType(), True),\n",
        "            StructField(\"coordenadas\", StringType(), True),\n",
        "            StructField(\"latitud\", StringType(), True),\n",
        "            StructField(\"longitud\", StringType(), True),\n",
        "            StructField(\"elev\", FloatType(), True),\n",
        "            StructField(\"uom_elev\", StringType(), True),\n",
        "            StructField(\"ref\", StringType(), True),\n",
        "            StructField(\"distancia_ref\", FloatType(), True),\n",
        "            StructField(\"condicion\", StringType(), True),\n",
        "            StructField(\"control\", StringType(), True),\n",
        "            StructField(\"region\", StringType(), True),\n",
        "            StructField(\"uso\", StringType(), True),\n",
        "            StructField(\"trafico\", StringType(), True),\n",
        "            StructField(\"sna\", StringType(), True),\n",
        "            StructField(\"concesionado\", StringType(), True),\n",
        "            StructField(\"provincia\", StringType(), True)\n",
        "])"
      ],
      "metadata": {
        "id": "6iamLEL2yyWP"
      },
      "execution_count": null,
      "outputs": []
    },
    {
      "cell_type": "code",
      "source": [
        "spk_aeropuertos = spark.read.csv(\"/content/aeropuertos_detalle.csv\", sep=';', schema=schema2, header=True)"
      ],
      "metadata": {
        "id": "CEc10INryyWP"
      },
      "execution_count": null,
      "outputs": []
    },
    {
      "cell_type": "code",
      "source": [
        "spk_aeropuertos.show(5)"
      ],
      "metadata": {
        "outputId": "2c08c5d0-6e68-4142-c771-4ad8a535c81c",
        "colab": {
          "base_uri": "https://localhost:8080/"
        },
        "id": "pvlJpj7fyyWP"
      },
      "execution_count": null,
      "outputs": [
        {
          "output_type": "stream",
          "name": "stdout",
          "text": [
            "+----------+----+----+---------+--------------------+--------------------+------------+------------+-----+--------+--------------+-------------+---------+-------+---------+----+-------+-------+------------+---------+\n",
            "|aeropuerto| oac|iata|     tipo|        denominacion|         coordenadas|     latitud|    longitud| elev|uom_elev|           ref|distancia_ref|condicion|control|   region| uso|trafico|    sna|concesionado|provincia|\n",
            "+----------+----+----+---------+--------------------+--------------------+------------+------------+-----+--------+--------------+-------------+---------+-------+---------+----+-------+-------+------------+---------+\n",
            "|       ACB|null|null|Aeródromo|CORONEL BOGADO/AG...|\"33°16'20\"\"S  60°...|-60.57066000|-33.27226000| 44.0|  Metros|Coronel Bogado|          6.0|       NE|PRIVADO|NOCONTROL|RACE|   SAEF|AEROAPP|    Nacional|       NO|\n",
            "|       ACH|null|null|Aeródromo|        GENERAL ACHA|\"37°24' 6\"\"S  64°...|-64.61351000|-37.40164000|277.0|  Metros|  General Acha|          3.0|       SO|PUBLICO|NOCONTROL|RACE|   SAEF|  CIVIL|    Nacional|       NO|\n",
            "|       ACM|null|null|Aeródromo|ARRECIFES/LA CURA...|\"34° 4'33\"\"S  60°...|-60.14170000|-34.07574000| 37.0|  Metros|     Arrecifes|          4.0|      OSO|PRIVADO|NOCONTROL|RACE|   SAEF|  CIVIL|    Nacional|       NO|\n",
            "|       ADO|SAWD| PUD|Aeródromo|      PUERTO DESEADO|\"47°44' 6\"\"S  65°...|-65.90410000|-47.73511000| 82.0|  Metros|Puerto Deseado|          2.0|        N|PUBLICO|  AERADIO|RASU|   SAVF|  CIVIL|    Nacional|       NO|\n",
            "|       ADT|null|null|Aeródromo|BANDERA/AGROSERVI...|\"28°51'19\"\"S  62°...|-62.26462000|-28.85541000| 75.0|  Metros|       Bandera|          4.0|        N|PRIVADO|NOCONTROL|RANO|   SACF|AEROAPP|    Nacional|       NO|\n",
            "+----------+----+----+---------+--------------------+--------------------+------------+------------+-----+--------+--------------+-------------+---------+-------+---------+----+-------+-------+------------+---------+\n",
            "only showing top 5 rows\n",
            "\n"
          ]
        }
      ]
    },
    {
      "cell_type": "markdown",
      "source": [
        "### Union vuelos 2021-2022"
      ],
      "metadata": {
        "id": "4QfsqPfry21B"
      }
    },
    {
      "cell_type": "code",
      "source": [
        "spk_vuelos = spk_2021.union(spk_2022)"
      ],
      "metadata": {
        "id": "NrPlv0QP9hXN"
      },
      "execution_count": 48,
      "outputs": []
    },
    {
      "cell_type": "code",
      "source": [
        "spk_vuelos.show(5)"
      ],
      "metadata": {
        "id": "BD3Og9ts_bdJ",
        "outputId": "7cd1083c-b7cf-4448-c26f-ff1954a457c5",
        "colab": {
          "base_uri": "https://localhost:8080/"
        }
      },
      "execution_count": 49,
      "outputs": [
        {
          "output_type": "stream",
          "name": "stdout",
          "text": [
            "+----------+-------+--------------------+----------------------+------------------+----------+--------------+--------------------+----------------+---------+\n",
            "|     fecha|horaUTC|      clase_de_vuelo|clasificacion_de_vuelo|tipo_de_movimiento|aeropuerto|origen_destino|    aerolinea_nombre|        aeronave|pasajeros|\n",
            "+----------+-------+--------------------+----------------------+------------------+----------+--------------+--------------------+----------------+---------+\n",
            "|01/01/2021|  00:02|Vuelo Privado con...|             Domestico|          Despegue|       PAR|           ROS|                   0|    PA-PA-28-181|        0|\n",
            "|01/01/2021|  00:24|             Regular|             Domestico|        Aterrizaje|       EZE|           GRA|AEROLINEAS ARGENT...|     BO-B737-8MB|       70|\n",
            "|01/01/2021|  00:26|             Regular|             Domestico|        Aterrizaje|       EZE|           ECA|AEROLINEAS ARGENT...|      BO-737-800|       70|\n",
            "|01/01/2021|  00:29|             Regular|             Domestico|        Aterrizaje|       EZE|           SAL|AEROLINEAS ARGENT...|    BO-B-737-76N|       12|\n",
            "|01/01/2021|  00:37|             Regular|             Domestico|        Aterrizaje|       EZE|           TUC|AEROLINEAS ARGENT...|EMB-ERJ190100IGW|       26|\n",
            "+----------+-------+--------------------+----------------------+------------------+----------+--------------+--------------------+----------------+---------+\n",
            "only showing top 5 rows\n",
            "\n"
          ]
        }
      ]
    },
    {
      "cell_type": "code",
      "source": [
        "spk_vuelos.count()"
      ],
      "metadata": {
        "id": "XrtS1deNCCtL",
        "outputId": "e9860416-b5de-4c7c-c743-7ab365fd8f91",
        "colab": {
          "base_uri": "https://localhost:8080/"
        }
      },
      "execution_count": 50,
      "outputs": [
        {
          "output_type": "execute_result",
          "data": {
            "text/plain": [
              "551063"
            ]
          },
          "metadata": {},
          "execution_count": 50
        }
      ]
    },
    {
      "cell_type": "code",
      "source": [
        "spk_vuelos_nacionales = spk_vuelos.filter(spk_vuelos['clasificacion_de_vuelo'] == 'Domestico')"
      ],
      "metadata": {
        "id": "Ndig-QGVAzqC"
      },
      "execution_count": 18,
      "outputs": []
    },
    {
      "cell_type": "code",
      "source": [
        "spk_vuelos_nacionales.count()"
      ],
      "metadata": {
        "id": "WybRauFmBk1N",
        "outputId": "d46e187c-06c1-49fc-ee07-83894b58828f",
        "colab": {
          "base_uri": "https://localhost:8080/"
        }
      },
      "execution_count": 19,
      "outputs": [
        {
          "output_type": "execute_result",
          "data": {
            "text/plain": [
              "293069"
            ]
          },
          "metadata": {},
          "execution_count": 19
        }
      ]
    },
    {
      "cell_type": "markdown",
      "source": [],
      "metadata": {
        "id": "85aIdmEBzwYM"
      }
    },
    {
      "cell_type": "markdown",
      "source": [
        "Determinar la cantidad de vuelos entre las fechas 01/12/2021 y 31/01/2022"
      ],
      "metadata": {
        "id": "0Vj0Kgh8CeI_"
      }
    },
    {
      "cell_type": "code",
      "source": [
        "vuelos_nacionales_2021 = spk_vuelos_nacionales.filter(spk_vuelos_nacionales[\"fecha\"] <= '31/01/2021').count()"
      ],
      "metadata": {
        "id": "9GiLPeWNCaAG"
      },
      "execution_count": 20,
      "outputs": []
    },
    {
      "cell_type": "code",
      "source": [
        "vuelos_nacionales_2021"
      ],
      "metadata": {
        "id": "K0B3C2azDwfv",
        "outputId": "1f437e31-2aec-4724-eb0a-8ea6216b25ca",
        "colab": {
          "base_uri": "https://localhost:8080/"
        }
      },
      "execution_count": 21,
      "outputs": [
        {
          "output_type": "execute_result",
          "data": {
            "text/plain": [
              "288085"
            ]
          },
          "metadata": {},
          "execution_count": 21
        }
      ]
    },
    {
      "cell_type": "code",
      "source": [
        "spk_vuelos_nacionales.show(30)"
      ],
      "metadata": {
        "id": "kFytfIHpLq2P",
        "outputId": "2fcf188a-9e7a-42e8-eb05-d9c91c7e46a5",
        "colab": {
          "base_uri": "https://localhost:8080/"
        }
      },
      "execution_count": 51,
      "outputs": [
        {
          "output_type": "stream",
          "name": "stdout",
          "text": [
            "+----------+-------+--------------------+----------------------+------------------+----------+--------------+--------------------+----------------+---------+\n",
            "|     fecha|horaUTC|      clase_de_vuelo|clasificacion_de_vuelo|tipo_de_movimiento|aeropuerto|origen_destino|    aerolinea_nombre|        aeronave|pasajeros|\n",
            "+----------+-------+--------------------+----------------------+------------------+----------+--------------+--------------------+----------------+---------+\n",
            "|01/01/2021|  00:02|Vuelo Privado con...|             Domestico|          Despegue|       PAR|           ROS|                   0|    PA-PA-28-181|        0|\n",
            "|01/01/2021|  00:24|             Regular|             Domestico|        Aterrizaje|       EZE|           GRA|AEROLINEAS ARGENT...|     BO-B737-8MB|       70|\n",
            "|01/01/2021|  00:26|             Regular|             Domestico|        Aterrizaje|       EZE|           ECA|AEROLINEAS ARGENT...|      BO-737-800|       70|\n",
            "|01/01/2021|  00:29|             Regular|             Domestico|        Aterrizaje|       EZE|           SAL|AEROLINEAS ARGENT...|    BO-B-737-76N|       12|\n",
            "|01/01/2021|  00:37|             Regular|             Domestico|        Aterrizaje|       EZE|           TUC|AEROLINEAS ARGENT...|EMB-ERJ190100IGW|       26|\n",
            "|01/01/2021|  01:00|Vuelo Privado con...|             Domestico|        Aterrizaje|       ROS|           PAR|                   0|    PA-PA-28-181|        0|\n",
            "|01/01/2021|  07:09|             Regular|             Domestico|          Despegue|       EZE|           ECA|AEROLINEAS ARGENT...|     BO-B737-800|       35|\n",
            "|01/01/2021|  08:10|             Regular|             Domestico|          Despegue|       EZE|           JUJ|AEROLINEAS ARGENT...|EMB-ERJ190100IGW|       46|\n",
            "|01/01/2021|  08:14|             Regular|             Domestico|          Despegue|       EZE|           BAR|AEROLINEAS ARGENT...|      BO-737-800|       81|\n",
            "|01/01/2021|  08:35|             Regular|             Domestico|          Despegue|       EZE|           USU|AEROLINEAS ARGENT...|     BO-B737-8MB|       74|\n",
            "|01/01/2021|  09:04|             Regular|             Domestico|          Despegue|       EZE|           NEU|AEROLINEAS ARGENT...|     BO-B737-800|       67|\n",
            "|01/01/2021|  09:10|Vuelo Oficial Nac...|             Domestico|          Despegue|       CBA|           VRU|                   0|   EUR-AS-350-B3|        0|\n",
            "|01/01/2021|  09:11|             Regular|             Domestico|          Despegue|       EZE|           USU|AEROLINEAS ARGENT...|      BO-737-8SH|       71|\n",
            "|01/01/2021|  09:50|             Regular|             Domestico|          Despegue|       EZE|           BAR|FB LÍNEAS AÉREAS ...|      BO-737-86J|       89|\n",
            "|01/01/2021|  10:00|             Regular|             Domestico|        Aterrizaje|       JUJ|           EZE|AEROLINEAS ARGENT...|EMB-ERJ190100IGW|       46|\n",
            "|01/01/2021|  10:11|             Regular|             Domestico|        Aterrizaje|       ECA|           EZE|AEROLINEAS ARGENT...|     BO-B737-800|       35|\n",
            "|01/01/2021|  10:14|             Regular|             Domestico|        Aterrizaje|       BAR|           EZE|AEROLINEAS ARGENT...|      BO-737-800|       80|\n",
            "|01/01/2021|  10:16|             Regular|             Domestico|          Despegue|       EZE|           BAR|AEROLINEAS ARGENT...|     BO-B737-81D|       80|\n",
            "|01/01/2021|  10:21|             Regular|             Domestico|          Despegue|       EZE|           CRV|AEROLINEAS ARGENT...|      BO-737-8BK|       28|\n",
            "|01/01/2021|  10:34|             Regular|             Domestico|          Despegue|       EZE|           TUC|AEROLINEAS ARGENT...|EMB-ERJ190100IGW|       43|\n",
            "|01/01/2021|  10:37|             Regular|             Domestico|        Aterrizaje|       NEU|           EZE|AEROLINEAS ARGENT...|     BO-B737-800|       66|\n",
            "|01/01/2021|  10:39|             Regular|             Domestico|          Despegue|       EZE|           DOZ|AEROLINEAS ARGENT...|      BO-737-800|       67|\n",
            "|01/01/2021|  10:44|             Regular|             Domestico|          Despegue|       EZE|           SAL|AEROLINEAS ARGENT...|    BO-B-737-76N|       59|\n",
            "|01/01/2021|  10:58|Vuelo Oficial Nac...|             Domestico|        Aterrizaje|       CBA|           VRU|DIRECCION GENERAL...|   EUR-AS-350-B3|        0|\n",
            "|01/01/2021|  11:02|             Regular|             Domestico|          Despegue|       ECA|           EZE|AEROLINEAS ARGENT...|     BO-B737-800|        3|\n",
            "|01/01/2021|  11:06|             Regular|             Domestico|        Aterrizaje|       SAL|           EZE|AEROLINEAS ARGENT...|    BO-B-737-76N|       59|\n",
            "|01/01/2021|  11:25|             Regular|             Domestico|          Despegue|       JUJ|           EZE|AEROLINEAS ARGENT...|EMB-ERJ190100IGW|       32|\n",
            "|01/01/2021|  11:29|             Regular|             Domestico|          Despegue|       EZE|           CBA|AEROLINEAS ARGENT...|     BO-B737-8LP|       66|\n",
            "|01/01/2021|  11:30|             Regular|             Domestico|          Despegue|       BAR|           EZE|AEROLINEAS ARGENT...|      BO-737-800|        1|\n",
            "|01/01/2021|  11:43|             Regular|             Domestico|          Despegue|       NEU|           EZE|AEROLINEAS ARGENT...|     BO-B737-800|       46|\n",
            "+----------+-------+--------------------+----------------------+------------------+----------+--------------+--------------------+----------------+---------+\n",
            "only showing top 30 rows\n",
            "\n"
          ]
        }
      ]
    },
    {
      "cell_type": "markdown",
      "source": [
        "Cantidad de pasajeros que viajaron en Aerolíneas Argentinas entre el 01/01/2021 y 30/06/2022"
      ],
      "metadata": {
        "id": "OsjvGbNYEAUU"
      }
    },
    {
      "cell_type": "code",
      "source": [
        "pasajeros_aerolineasargentinas = spk_vuelos_nacionales.filter(spk_vuelos_nacionales[\"aerolinea_nombre\"] == \"AEROLINEAS ARGENTINAS SA\")"
      ],
      "metadata": {
        "id": "TXYTMAb4ED_V"
      },
      "execution_count": 30,
      "outputs": []
    },
    {
      "cell_type": "code",
      "source": [
        "pasajeros_aerolineasargentinas.show(5)"
      ],
      "metadata": {
        "id": "ZHmm4p12Esgt",
        "outputId": "bd85c390-51e5-4af6-d90f-af41116983b9",
        "colab": {
          "base_uri": "https://localhost:8080/"
        }
      },
      "execution_count": 31,
      "outputs": [
        {
          "output_type": "stream",
          "name": "stdout",
          "text": [
            "+----------+-------+--------------+----------------------+------------------+----------+--------------+--------------------+----------------+---------+\n",
            "|     fecha|horaUTC|clase_de_vuelo|clasificacion_de_vuelo|tipo_de_movimiento|aeropuerto|origen_destino|    aerolinea_nombre|        aeronave|pasajeros|\n",
            "+----------+-------+--------------+----------------------+------------------+----------+--------------+--------------------+----------------+---------+\n",
            "|01/01/2021|  00:24|       Regular|             Domestico|        Aterrizaje|       EZE|           GRA|AEROLINEAS ARGENT...|     BO-B737-8MB|       70|\n",
            "|01/01/2021|  00:26|       Regular|             Domestico|        Aterrizaje|       EZE|           ECA|AEROLINEAS ARGENT...|      BO-737-800|       70|\n",
            "|01/01/2021|  00:29|       Regular|             Domestico|        Aterrizaje|       EZE|           SAL|AEROLINEAS ARGENT...|    BO-B-737-76N|       12|\n",
            "|01/01/2021|  00:37|       Regular|             Domestico|        Aterrizaje|       EZE|           TUC|AEROLINEAS ARGENT...|EMB-ERJ190100IGW|       26|\n",
            "|01/01/2021|  07:09|       Regular|             Domestico|          Despegue|       EZE|           ECA|AEROLINEAS ARGENT...|     BO-B737-800|       35|\n",
            "+----------+-------+--------------+----------------------+------------------+----------+--------------+--------------------+----------------+---------+\n",
            "only showing top 5 rows\n",
            "\n"
          ]
        }
      ]
    },
    {
      "cell_type": "code",
      "source": [
        "total_pasajeros = pasajeros_aerolineasargentinas.agg(sum(\"pasajeros\")).collect()[0][0]"
      ],
      "metadata": {
        "id": "Hz4-dkLTFYwM"
      },
      "execution_count": 32,
      "outputs": []
    },
    {
      "cell_type": "code",
      "source": [
        "total_pasajeros"
      ],
      "metadata": {
        "id": "84kKNDGcF6jq",
        "outputId": "1be6295b-0d6d-4260-cbd7-38f4ca7f4f13",
        "colab": {
          "base_uri": "https://localhost:8080/"
        }
      },
      "execution_count": 33,
      "outputs": [
        {
          "output_type": "execute_result",
          "data": {
            "text/plain": [
              "4321079"
            ]
          },
          "metadata": {},
          "execution_count": 33
        }
      ]
    },
    {
      "cell_type": "markdown",
      "source": [
        "Mostrar fecha, hora, código aeropuerto salida, ciudad de salida, código de aeropuerto de arribo, ciudad de arribo, y cantidad de pasajeros de cada vuelo, entre el 01/01/2022 y el 30/06/2022 ordenados por fecha de manera descendiente. \n"
      ],
      "metadata": {
        "id": "0OqyFNr0GEuA"
      }
    },
    {
      "cell_type": "code",
      "source": [
        "spk_vuelos_nacionales.createOrReplaceTempView(\"vuelos_horarios\")"
      ],
      "metadata": {
        "id": "g77KKVsIGLeA"
      },
      "execution_count": 57,
      "outputs": []
    },
    {
      "cell_type": "code",
      "source": [
        "spk_vuelos_nacionales"
      ],
      "metadata": {
        "id": "bdz_MEiyJN0t",
        "outputId": "f98b390e-cb5a-4155-915a-87e76c74cac2",
        "colab": {
          "base_uri": "https://localhost:8080/"
        }
      },
      "execution_count": 35,
      "outputs": [
        {
          "output_type": "execute_result",
          "data": {
            "text/plain": [
              "DataFrame[fecha: string, horaUTC: string, clase_de_vuelo: string, clasificacion_de_vuelo: string, tipo_de_movimiento: string, aeropuerto: string, origen_destino: string, aerolinea_nombre: string, aeronave: string, pasajeros: int]"
            ]
          },
          "metadata": {},
          "execution_count": 35
        }
      ]
    },
    {
      "cell_type": "code",
      "source": [
        "spk_aeropuertos.createOrReplaceTempView(\"aeropuertos\")"
      ],
      "metadata": {
        "id": "DD_sh8gq09qU"
      },
      "execution_count": 55,
      "outputs": []
    },
    {
      "cell_type": "code",
      "source": [
        "spk_aeropuertos"
      ],
      "metadata": {
        "id": "Vj004M_m09SL",
        "outputId": "c184e4a8-ee74-46dd-9d13-d372c4b82295",
        "colab": {
          "base_uri": "https://localhost:8080/"
        }
      },
      "execution_count": 52,
      "outputs": [
        {
          "output_type": "execute_result",
          "data": {
            "text/plain": [
              "DataFrame[aeropuerto: string, oac: string, iata: string, tipo: string, denominacion: string, coordenadas: string, latitud: string, longitud: string, elev: float, uom_elev: string, ref: string, distancia_ref: float, condicion: string, control: string, region: string, uso: string, trafico: string, sna: string, concesionado: string, provincia: string]"
            ]
          },
          "metadata": {},
          "execution_count": 52
        }
      ]
    },
    {
      "cell_type": "code",
      "source": [
        "consulta_sql = \"\"\"\n",
        "SELECT cast(to_date(vh.fecha, 'MM-dd-yyyy') AS date) as fecha, vh.horaUTC, vh.aeropuerto AS codigo_salida, a1.denominacion AS ciudad_salida, vh.origen_destino AS codigo_arribo, a2.denominacion AS ciudad_arribo, vh.pasajeros\n",
        "FROM vuelos_horarios vh\n",
        "JOIN aeropuertos a1 ON vh.aeropuerto = a1.aeropuerto\n",
        "JOIN aeropuertos a2 ON vh.origen_destino = a2.aeropuerto\n",
        "WHERE vh.fecha >= '2022/01/01'\n",
        "ORDER BY vh.fecha DESC\n",
        "\"\"\""
      ],
      "metadata": {
        "id": "IFKpo1280YlF"
      },
      "execution_count": 96,
      "outputs": []
    },
    {
      "cell_type": "code",
      "source": [
        "vuelos_ordenados = spark.sql(consulta_sql)"
      ],
      "metadata": {
        "id": "b3IKXbMeILTs"
      },
      "execution_count": 97,
      "outputs": []
    },
    {
      "cell_type": "code",
      "source": [
        "vuelos_ordenados.show(5)"
      ],
      "metadata": {
        "id": "BG8Aooy3IK0W",
        "outputId": "f6a06967-7e59-44a1-e543-57696e3871c1",
        "colab": {
          "base_uri": "https://localhost:8080/"
        }
      },
      "execution_count": 98,
      "outputs": [
        {
          "output_type": "stream",
          "name": "stdout",
          "text": [
            "+-----+-------+-------------+--------------------+-------------+--------------------+---------+\n",
            "|fecha|horaUTC|codigo_salida|       ciudad_salida|codigo_arribo|       ciudad_arribo|pasajeros|\n",
            "+-----+-------+-------------+--------------------+-------------+--------------------+---------+\n",
            "| null|  00:04|          CBA|CÓRDOBA/ING. AER....|          BAR|SAN CARLOS DE BAR...|       71|\n",
            "| null|  00:13|          AER|BUENOS AIRES/AERO...|          GRA|          RÍO GRANDE|       82|\n",
            "| null|  00:07|          IGU|CATARATAS DEL  IG...|          AER|BUENOS AIRES/AERO...|       72|\n",
            "| null|  00:09|          FDO|        SAN FERNANDO|          FDO|        SAN FERNANDO|        0|\n",
            "| null|  00:10|          AER|BUENOS AIRES/AERO...|          POS|POSADAS/LIBERTADO...|       50|\n",
            "+-----+-------+-------------+--------------------+-------------+--------------------+---------+\n",
            "only showing top 5 rows\n",
            "\n"
          ]
        }
      ]
    },
    {
      "cell_type": "code",
      "source": [],
      "metadata": {
        "id": "HiiSgGErAgcO"
      },
      "execution_count": null,
      "outputs": []
    }
  ]
}