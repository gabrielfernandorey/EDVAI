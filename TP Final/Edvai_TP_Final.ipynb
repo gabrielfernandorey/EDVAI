{
  "nbformat": 4,
  "nbformat_minor": 0,
  "metadata": {
    "colab": {
      "provenance": [],
      "authorship_tag": "ABX9TyP0a/009bFSud490aU/7Vvp",
      "include_colab_link": true
    },
    "kernelspec": {
      "name": "python3",
      "display_name": "Python 3"
    },
    "language_info": {
      "name": "python"
    }
  },
  "cells": [
    {
      "cell_type": "markdown",
      "metadata": {
        "id": "view-in-github",
        "colab_type": "text"
      },
      "source": [
        "<a href=\"https://colab.research.google.com/github/gabrielfernandorey/EDVAI/blob/main/TP%20Final/Edvai_TP_Final.ipynb\" target=\"_parent\"><img src=\"https://colab.research.google.com/assets/colab-badge.svg\" alt=\"Open In Colab\"/></a>"
      ]
    },
    {
      "cell_type": "markdown",
      "source": [
        "# TRABAJO PRACTICO FINAL \n",
        "##### EDVAI\n",
        "\n",
        "## Gabriel Rey \n",
        "##### Mayo 2023\n"
      ],
      "metadata": {
        "id": "E4MwsZgZ_MBV"
      }
    },
    {
      "cell_type": "code",
      "execution_count": 1,
      "metadata": {
        "colab": {
          "base_uri": "https://localhost:8080/"
        },
        "id": "9KBN0Sww_Hhg",
        "outputId": "f8d5aec3-3b2e-4e71-e70a-c147e61df8f8"
      },
      "outputs": [
        {
          "output_type": "stream",
          "name": "stdout",
          "text": [
            "Looking in indexes: https://pypi.org/simple, https://us-python.pkg.dev/colab-wheels/public/simple/\n",
            "Collecting pyspark\n",
            "  Downloading pyspark-3.4.0.tar.gz (310.8 MB)\n",
            "\u001b[2K     \u001b[90m━━━━━━━━━━━━━━━━━━━━━━━━━━━━━━━━━━━━━━━\u001b[0m \u001b[32m310.8/310.8 MB\u001b[0m \u001b[31m2.2 MB/s\u001b[0m eta \u001b[36m0:00:00\u001b[0m\n",
            "\u001b[?25h  Preparing metadata (setup.py) ... \u001b[?25l\u001b[?25hdone\n",
            "Requirement already satisfied: py4j==0.10.9.7 in /usr/local/lib/python3.10/dist-packages (from pyspark) (0.10.9.7)\n",
            "Building wheels for collected packages: pyspark\n",
            "  Building wheel for pyspark (setup.py) ... \u001b[?25l\u001b[?25hdone\n",
            "  Created wheel for pyspark: filename=pyspark-3.4.0-py2.py3-none-any.whl size=311317130 sha256=d90b87b8df3e191a21da37214bce95b32efe279d1e43d56b6d43a637cc03c4e3\n",
            "  Stored in directory: /root/.cache/pip/wheels/7b/1b/4b/3363a1d04368e7ff0d408e57ff57966fcdf00583774e761327\n",
            "Successfully built pyspark\n",
            "Installing collected packages: pyspark\n",
            "Successfully installed pyspark-3.4.0\n"
          ]
        }
      ],
      "source": [
        "!pip install pyspark"
      ]
    },
    {
      "cell_type": "code",
      "source": [
        "from pyspark.sql import SparkSession"
      ],
      "metadata": {
        "id": "x_z6Qbm-_sx2"
      },
      "execution_count": 2,
      "outputs": []
    },
    {
      "cell_type": "code",
      "source": [
        "spark = SparkSession.builder.appName('test_pyspark').getOrCreate()"
      ],
      "metadata": {
        "id": "qAi0HAZU_vWw"
      },
      "execution_count": 5,
      "outputs": []
    },
    {
      "cell_type": "code",
      "source": [
        "from pyspark.sql.types import StringType, BooleanType, FloatType, IntegerType, DoubleType, DateType\n",
        "import pyspark.sql.functions as F\n",
        "from pyspark.sql.functions import sum, col, desc, asc, count, countDistinct, round, max, min, avg\n",
        "from pyspark.sql.functions import to_timestamp,date_format\n",
        "from pyspark.sql.window import Window\n",
        "\n",
        "from pyspark.ml import Transformer\n",
        "from pyspark.ml.param.shared import HasInputCol, HasOutputCol, HasInputCols, HasOutputCols, Param, Params, TypeConverters\n",
        "from pyspark import keyword_only\n",
        "from pyspark.ml import Pipeline, PipelineModel\n",
        "from pyspark.ml import Model\n",
        "from pyspark.ml import Estimator\n",
        "\n",
        "from datetime import datetime\n",
        "import numpy as np\n",
        "import pandas as pd"
      ],
      "metadata": {
        "id": "vea6pl-j_yos"
      },
      "execution_count": 7,
      "outputs": []
    },
    {
      "cell_type": "markdown",
      "source": [
        "### Importamos datos"
      ],
      "metadata": {
        "id": "7GBoFirEASUa"
      }
    },
    {
      "cell_type": "code",
      "source": [
        "!wget https://data-engineer-edvai.s3.amazonaws.com/2021-informe-ministerio.csv\n",
        "!wget https://data-engineer-edvai.s3.amazonaws.com/202206-informe-ministerio.csv\n",
        "!wget https://data-engineer-edvai.s3.amazonaws.com/aeropuertos_detalle.csv"
      ],
      "metadata": {
        "colab": {
          "base_uri": "https://localhost:8080/"
        },
        "id": "cROwephx_9c4",
        "outputId": "622e8a8f-8b5a-4ba2-d819-07b6a1c687d0"
      },
      "execution_count": 6,
      "outputs": [
        {
          "output_type": "stream",
          "name": "stdout",
          "text": [
            "--2023-05-17 00:00:45--  https://data-engineer-edvai.s3.amazonaws.com/2021-informe-ministerio.csv\n",
            "Resolving data-engineer-edvai.s3.amazonaws.com (data-engineer-edvai.s3.amazonaws.com)... 3.5.1.213, 54.231.160.121, 54.231.161.225, ...\n",
            "Connecting to data-engineer-edvai.s3.amazonaws.com (data-engineer-edvai.s3.amazonaws.com)|3.5.1.213|:443... connected.\n",
            "HTTP request sent, awaiting response... 200 OK\n",
            "Length: 32322556 (31M) [text/csv]\n",
            "Saving to: ‘2021-informe-ministerio.csv’\n",
            "\n",
            "2021-informe-minist 100%[===================>]  30.82M  9.29MB/s    in 3.3s    \n",
            "\n",
            "2023-05-17 00:00:49 (9.29 MB/s) - ‘2021-informe-ministerio.csv’ saved [32322556/32322556]\n",
            "\n",
            "--2023-05-17 00:00:49--  https://data-engineer-edvai.s3.amazonaws.com/202206-informe-ministerio.csv\n",
            "Resolving data-engineer-edvai.s3.amazonaws.com (data-engineer-edvai.s3.amazonaws.com)... 3.5.1.213, 54.231.160.121, 54.231.161.225, ...\n",
            "Connecting to data-engineer-edvai.s3.amazonaws.com (data-engineer-edvai.s3.amazonaws.com)|3.5.1.213|:443... connected.\n",
            "HTTP request sent, awaiting response... 200 OK\n",
            "Length: 22833520 (22M) [text/csv]\n",
            "Saving to: ‘202206-informe-ministerio.csv’\n",
            "\n",
            "202206-informe-mini 100%[===================>]  21.78M  4.19MB/s    in 13s     \n",
            "\n",
            "2023-05-17 00:01:03 (1.72 MB/s) - ‘202206-informe-ministerio.csv’ saved [22833520/22833520]\n",
            "\n",
            "--2023-05-17 00:01:03--  https://data-engineer-edvai.s3.amazonaws.com/aeropuertos_detalle.csv\n",
            "Resolving data-engineer-edvai.s3.amazonaws.com (data-engineer-edvai.s3.amazonaws.com)... 52.217.137.81, 3.5.27.215, 3.5.28.149, ...\n",
            "Connecting to data-engineer-edvai.s3.amazonaws.com (data-engineer-edvai.s3.amazonaws.com)|52.217.137.81|:443... connected.\n",
            "HTTP request sent, awaiting response... 200 OK\n",
            "Length: 136007 (133K) [text/csv]\n",
            "Saving to: ‘aeropuertos_detalle.csv’\n",
            "\n",
            "aeropuertos_detalle 100%[===================>] 132.82K   250KB/s    in 0.5s    \n",
            "\n",
            "2023-05-17 00:01:05 (250 KB/s) - ‘aeropuertos_detalle.csv’ saved [136007/136007]\n",
            "\n"
          ]
        }
      ]
    },
    {
      "cell_type": "code",
      "source": [
        "df_2021 = pd.read_csv(\"/content/2021-informe-ministerio.csv\", sep=';')"
      ],
      "metadata": {
        "id": "p89yFMjwAlfJ"
      },
      "execution_count": 13,
      "outputs": []
    },
    {
      "cell_type": "code",
      "source": [
        "df_2022 = pd.read_csv(\"/content/202206-informe-ministerio.csv\", sep=';')"
      ],
      "metadata": {
        "colab": {
          "base_uri": "https://localhost:8080/"
        },
        "id": "mwAeVbWXA_-v",
        "outputId": "23c94626-8145-4388-ae32-407c03c6344e"
      },
      "execution_count": 14,
      "outputs": [
        {
          "output_type": "stream",
          "name": "stderr",
          "text": [
            "<ipython-input-14-bcad1b5984a1>:1: DtypeWarning: Columns (9) have mixed types. Specify dtype option on import or set low_memory=False.\n",
            "  df_2022 = pd.read_csv(\"/content/202206-informe-ministerio.csv\", sep=';')\n"
          ]
        }
      ]
    },
    {
      "cell_type": "code",
      "source": [
        "df_aeropuertos = pd.read_csv(\"/content/202206-informe-ministerio.csv\", sep=';')"
      ],
      "metadata": {
        "colab": {
          "base_uri": "https://localhost:8080/"
        },
        "id": "Y3UX0l2tBLrE",
        "outputId": "cdcdd7fa-4d53-4633-c5a1-9dced9a4750a"
      },
      "execution_count": 15,
      "outputs": [
        {
          "output_type": "stream",
          "name": "stderr",
          "text": [
            "<ipython-input-15-bc30c10f0059>:1: DtypeWarning: Columns (9) have mixed types. Specify dtype option on import or set low_memory=False.\n",
            "  df_aeropuertos = pd.read_csv(\"/content/202206-informe-ministerio.csv\", sep=';')\n"
          ]
        }
      ]
    },
    {
      "cell_type": "markdown",
      "source": [
        "### EDA"
      ],
      "metadata": {
        "id": "HV0hQ0HlD1dH"
      }
    },
    {
      "cell_type": "code",
      "source": [
        "df_2021"
      ],
      "metadata": {
        "colab": {
          "base_uri": "https://localhost:8080/",
          "height": 467
        },
        "id": "xoRoH71fBV-6",
        "outputId": "814dff56-abb4-4617-d596-f8d11f39a48a"
      },
      "execution_count": 16,
      "outputs": [
        {
          "output_type": "execute_result",
          "data": {
            "text/plain": [
              "             Fecha Hora UTC     Clase de Vuelo (todos los vuelos)  \\\n",
              "0       01/01/2021    00:02  Vuelo Privado con Matrícula Nacional   \n",
              "1       01/01/2021    00:24                               Regular   \n",
              "2       01/01/2021    00:26                               Regular   \n",
              "3       01/01/2021    00:29                               Regular   \n",
              "4       01/01/2021    00:37                               Regular   \n",
              "...            ...      ...                                   ...   \n",
              "328131  31/12/2021    23:44                               Regular   \n",
              "328132  31/12/2021    23:45                               Regular   \n",
              "328133  31/12/2021    23:48                               Regular   \n",
              "328134  31/12/2021    23:55                               Regular   \n",
              "328135  31/12/2021    23:58                               Regular   \n",
              "\n",
              "       Clasificación Vuelo Tipo de Movimiento Aeropuerto Origen / Destino  \\\n",
              "0                Domestico           Despegue        PAR              ROS   \n",
              "1                Domestico         Aterrizaje        EZE              GRA   \n",
              "2                Domestico         Aterrizaje        EZE              ECA   \n",
              "3                Domestico         Aterrizaje        EZE              SAL   \n",
              "4                Domestico         Aterrizaje        EZE              TUC   \n",
              "...                    ...                ...        ...              ...   \n",
              "328131           Domestico         Aterrizaje        JUJ              AER   \n",
              "328132           Domestico           Despegue        AER              CBA   \n",
              "328133           Domestico           Despegue        ROS              AER   \n",
              "328134       Internacional         Aterrizaje        EZE             SCEL   \n",
              "328135           Domestico           Despegue        BAR              AER   \n",
              "\n",
              "                   Aerolinea Nombre          Aeronave  Pasajeros Calidad dato  \n",
              "0                                 0      PA-PA-28-181          0   DEFINITIVO  \n",
              "1          AEROLINEAS ARGENTINAS SA       BO-B737-8MB         70   DEFINITIVO  \n",
              "2          AEROLINEAS ARGENTINAS SA        BO-737-800         70   DEFINITIVO  \n",
              "3          AEROLINEAS ARGENTINAS SA      BO-B-737-76N         12   DEFINITIVO  \n",
              "4          AEROLINEAS ARGENTINAS SA  EMB-ERJ190100IGW         26   DEFINITIVO  \n",
              "...                             ...               ...        ...          ...  \n",
              "328131  FB LÍNEAS AÉREAS - FLYBONDI        BO-737-8Q8         96   DEFINITIVO  \n",
              "328132  FB LÍNEAS AÉREAS - FLYBONDI        BO-737-8Q8         88   DEFINITIVO  \n",
              "328133     AEROLINEAS ARGENTINAS SA        BO-737-800         10   DEFINITIVO  \n",
              "328134             SKY AIRLINE S.A.                 0        137   DEFINITIVO  \n",
              "328135     AEROLINEAS ARGENTINAS SA        BO-737-800         11   DEFINITIVO  \n",
              "\n",
              "[328136 rows x 11 columns]"
            ],
            "text/html": [
              "\n",
              "  <div id=\"df-044b7435-b4e1-4dbc-82e1-7e3a42cb2cd6\">\n",
              "    <div class=\"colab-df-container\">\n",
              "      <div>\n",
              "<style scoped>\n",
              "    .dataframe tbody tr th:only-of-type {\n",
              "        vertical-align: middle;\n",
              "    }\n",
              "\n",
              "    .dataframe tbody tr th {\n",
              "        vertical-align: top;\n",
              "    }\n",
              "\n",
              "    .dataframe thead th {\n",
              "        text-align: right;\n",
              "    }\n",
              "</style>\n",
              "<table border=\"1\" class=\"dataframe\">\n",
              "  <thead>\n",
              "    <tr style=\"text-align: right;\">\n",
              "      <th></th>\n",
              "      <th>Fecha</th>\n",
              "      <th>Hora UTC</th>\n",
              "      <th>Clase de Vuelo (todos los vuelos)</th>\n",
              "      <th>Clasificación Vuelo</th>\n",
              "      <th>Tipo de Movimiento</th>\n",
              "      <th>Aeropuerto</th>\n",
              "      <th>Origen / Destino</th>\n",
              "      <th>Aerolinea Nombre</th>\n",
              "      <th>Aeronave</th>\n",
              "      <th>Pasajeros</th>\n",
              "      <th>Calidad dato</th>\n",
              "    </tr>\n",
              "  </thead>\n",
              "  <tbody>\n",
              "    <tr>\n",
              "      <th>0</th>\n",
              "      <td>01/01/2021</td>\n",
              "      <td>00:02</td>\n",
              "      <td>Vuelo Privado con Matrícula Nacional</td>\n",
              "      <td>Domestico</td>\n",
              "      <td>Despegue</td>\n",
              "      <td>PAR</td>\n",
              "      <td>ROS</td>\n",
              "      <td>0</td>\n",
              "      <td>PA-PA-28-181</td>\n",
              "      <td>0</td>\n",
              "      <td>DEFINITIVO</td>\n",
              "    </tr>\n",
              "    <tr>\n",
              "      <th>1</th>\n",
              "      <td>01/01/2021</td>\n",
              "      <td>00:24</td>\n",
              "      <td>Regular</td>\n",
              "      <td>Domestico</td>\n",
              "      <td>Aterrizaje</td>\n",
              "      <td>EZE</td>\n",
              "      <td>GRA</td>\n",
              "      <td>AEROLINEAS ARGENTINAS SA</td>\n",
              "      <td>BO-B737-8MB</td>\n",
              "      <td>70</td>\n",
              "      <td>DEFINITIVO</td>\n",
              "    </tr>\n",
              "    <tr>\n",
              "      <th>2</th>\n",
              "      <td>01/01/2021</td>\n",
              "      <td>00:26</td>\n",
              "      <td>Regular</td>\n",
              "      <td>Domestico</td>\n",
              "      <td>Aterrizaje</td>\n",
              "      <td>EZE</td>\n",
              "      <td>ECA</td>\n",
              "      <td>AEROLINEAS ARGENTINAS SA</td>\n",
              "      <td>BO-737-800</td>\n",
              "      <td>70</td>\n",
              "      <td>DEFINITIVO</td>\n",
              "    </tr>\n",
              "    <tr>\n",
              "      <th>3</th>\n",
              "      <td>01/01/2021</td>\n",
              "      <td>00:29</td>\n",
              "      <td>Regular</td>\n",
              "      <td>Domestico</td>\n",
              "      <td>Aterrizaje</td>\n",
              "      <td>EZE</td>\n",
              "      <td>SAL</td>\n",
              "      <td>AEROLINEAS ARGENTINAS SA</td>\n",
              "      <td>BO-B-737-76N</td>\n",
              "      <td>12</td>\n",
              "      <td>DEFINITIVO</td>\n",
              "    </tr>\n",
              "    <tr>\n",
              "      <th>4</th>\n",
              "      <td>01/01/2021</td>\n",
              "      <td>00:37</td>\n",
              "      <td>Regular</td>\n",
              "      <td>Domestico</td>\n",
              "      <td>Aterrizaje</td>\n",
              "      <td>EZE</td>\n",
              "      <td>TUC</td>\n",
              "      <td>AEROLINEAS ARGENTINAS SA</td>\n",
              "      <td>EMB-ERJ190100IGW</td>\n",
              "      <td>26</td>\n",
              "      <td>DEFINITIVO</td>\n",
              "    </tr>\n",
              "    <tr>\n",
              "      <th>...</th>\n",
              "      <td>...</td>\n",
              "      <td>...</td>\n",
              "      <td>...</td>\n",
              "      <td>...</td>\n",
              "      <td>...</td>\n",
              "      <td>...</td>\n",
              "      <td>...</td>\n",
              "      <td>...</td>\n",
              "      <td>...</td>\n",
              "      <td>...</td>\n",
              "      <td>...</td>\n",
              "    </tr>\n",
              "    <tr>\n",
              "      <th>328131</th>\n",
              "      <td>31/12/2021</td>\n",
              "      <td>23:44</td>\n",
              "      <td>Regular</td>\n",
              "      <td>Domestico</td>\n",
              "      <td>Aterrizaje</td>\n",
              "      <td>JUJ</td>\n",
              "      <td>AER</td>\n",
              "      <td>FB LÍNEAS AÉREAS - FLYBONDI</td>\n",
              "      <td>BO-737-8Q8</td>\n",
              "      <td>96</td>\n",
              "      <td>DEFINITIVO</td>\n",
              "    </tr>\n",
              "    <tr>\n",
              "      <th>328132</th>\n",
              "      <td>31/12/2021</td>\n",
              "      <td>23:45</td>\n",
              "      <td>Regular</td>\n",
              "      <td>Domestico</td>\n",
              "      <td>Despegue</td>\n",
              "      <td>AER</td>\n",
              "      <td>CBA</td>\n",
              "      <td>FB LÍNEAS AÉREAS - FLYBONDI</td>\n",
              "      <td>BO-737-8Q8</td>\n",
              "      <td>88</td>\n",
              "      <td>DEFINITIVO</td>\n",
              "    </tr>\n",
              "    <tr>\n",
              "      <th>328133</th>\n",
              "      <td>31/12/2021</td>\n",
              "      <td>23:48</td>\n",
              "      <td>Regular</td>\n",
              "      <td>Domestico</td>\n",
              "      <td>Despegue</td>\n",
              "      <td>ROS</td>\n",
              "      <td>AER</td>\n",
              "      <td>AEROLINEAS ARGENTINAS SA</td>\n",
              "      <td>BO-737-800</td>\n",
              "      <td>10</td>\n",
              "      <td>DEFINITIVO</td>\n",
              "    </tr>\n",
              "    <tr>\n",
              "      <th>328134</th>\n",
              "      <td>31/12/2021</td>\n",
              "      <td>23:55</td>\n",
              "      <td>Regular</td>\n",
              "      <td>Internacional</td>\n",
              "      <td>Aterrizaje</td>\n",
              "      <td>EZE</td>\n",
              "      <td>SCEL</td>\n",
              "      <td>SKY AIRLINE S.A.</td>\n",
              "      <td>0</td>\n",
              "      <td>137</td>\n",
              "      <td>DEFINITIVO</td>\n",
              "    </tr>\n",
              "    <tr>\n",
              "      <th>328135</th>\n",
              "      <td>31/12/2021</td>\n",
              "      <td>23:58</td>\n",
              "      <td>Regular</td>\n",
              "      <td>Domestico</td>\n",
              "      <td>Despegue</td>\n",
              "      <td>BAR</td>\n",
              "      <td>AER</td>\n",
              "      <td>AEROLINEAS ARGENTINAS SA</td>\n",
              "      <td>BO-737-800</td>\n",
              "      <td>11</td>\n",
              "      <td>DEFINITIVO</td>\n",
              "    </tr>\n",
              "  </tbody>\n",
              "</table>\n",
              "<p>328136 rows × 11 columns</p>\n",
              "</div>\n",
              "      <button class=\"colab-df-convert\" onclick=\"convertToInteractive('df-044b7435-b4e1-4dbc-82e1-7e3a42cb2cd6')\"\n",
              "              title=\"Convert this dataframe to an interactive table.\"\n",
              "              style=\"display:none;\">\n",
              "        \n",
              "  <svg xmlns=\"http://www.w3.org/2000/svg\" height=\"24px\"viewBox=\"0 0 24 24\"\n",
              "       width=\"24px\">\n",
              "    <path d=\"M0 0h24v24H0V0z\" fill=\"none\"/>\n",
              "    <path d=\"M18.56 5.44l.94 2.06.94-2.06 2.06-.94-2.06-.94-.94-2.06-.94 2.06-2.06.94zm-11 1L8.5 8.5l.94-2.06 2.06-.94-2.06-.94L8.5 2.5l-.94 2.06-2.06.94zm10 10l.94 2.06.94-2.06 2.06-.94-2.06-.94-.94-2.06-.94 2.06-2.06.94z\"/><path d=\"M17.41 7.96l-1.37-1.37c-.4-.4-.92-.59-1.43-.59-.52 0-1.04.2-1.43.59L10.3 9.45l-7.72 7.72c-.78.78-.78 2.05 0 2.83L4 21.41c.39.39.9.59 1.41.59.51 0 1.02-.2 1.41-.59l7.78-7.78 2.81-2.81c.8-.78.8-2.07 0-2.86zM5.41 20L4 18.59l7.72-7.72 1.47 1.35L5.41 20z\"/>\n",
              "  </svg>\n",
              "      </button>\n",
              "      \n",
              "  <style>\n",
              "    .colab-df-container {\n",
              "      display:flex;\n",
              "      flex-wrap:wrap;\n",
              "      gap: 12px;\n",
              "    }\n",
              "\n",
              "    .colab-df-convert {\n",
              "      background-color: #E8F0FE;\n",
              "      border: none;\n",
              "      border-radius: 50%;\n",
              "      cursor: pointer;\n",
              "      display: none;\n",
              "      fill: #1967D2;\n",
              "      height: 32px;\n",
              "      padding: 0 0 0 0;\n",
              "      width: 32px;\n",
              "    }\n",
              "\n",
              "    .colab-df-convert:hover {\n",
              "      background-color: #E2EBFA;\n",
              "      box-shadow: 0px 1px 2px rgba(60, 64, 67, 0.3), 0px 1px 3px 1px rgba(60, 64, 67, 0.15);\n",
              "      fill: #174EA6;\n",
              "    }\n",
              "\n",
              "    [theme=dark] .colab-df-convert {\n",
              "      background-color: #3B4455;\n",
              "      fill: #D2E3FC;\n",
              "    }\n",
              "\n",
              "    [theme=dark] .colab-df-convert:hover {\n",
              "      background-color: #434B5C;\n",
              "      box-shadow: 0px 1px 3px 1px rgba(0, 0, 0, 0.15);\n",
              "      filter: drop-shadow(0px 1px 2px rgba(0, 0, 0, 0.3));\n",
              "      fill: #FFFFFF;\n",
              "    }\n",
              "  </style>\n",
              "\n",
              "      <script>\n",
              "        const buttonEl =\n",
              "          document.querySelector('#df-044b7435-b4e1-4dbc-82e1-7e3a42cb2cd6 button.colab-df-convert');\n",
              "        buttonEl.style.display =\n",
              "          google.colab.kernel.accessAllowed ? 'block' : 'none';\n",
              "\n",
              "        async function convertToInteractive(key) {\n",
              "          const element = document.querySelector('#df-044b7435-b4e1-4dbc-82e1-7e3a42cb2cd6');\n",
              "          const dataTable =\n",
              "            await google.colab.kernel.invokeFunction('convertToInteractive',\n",
              "                                                     [key], {});\n",
              "          if (!dataTable) return;\n",
              "\n",
              "          const docLinkHtml = 'Like what you see? Visit the ' +\n",
              "            '<a target=\"_blank\" href=https://colab.research.google.com/notebooks/data_table.ipynb>data table notebook</a>'\n",
              "            + ' to learn more about interactive tables.';\n",
              "          element.innerHTML = '';\n",
              "          dataTable['output_type'] = 'display_data';\n",
              "          await google.colab.output.renderOutput(dataTable, element);\n",
              "          const docLink = document.createElement('div');\n",
              "          docLink.innerHTML = docLinkHtml;\n",
              "          element.appendChild(docLink);\n",
              "        }\n",
              "      </script>\n",
              "    </div>\n",
              "  </div>\n",
              "  "
            ]
          },
          "metadata": {},
          "execution_count": 16
        }
      ]
    },
    {
      "cell_type": "code",
      "source": [
        "cols = df_2021.columns\n",
        "cols"
      ],
      "metadata": {
        "colab": {
          "base_uri": "https://localhost:8080/"
        },
        "id": "N9aIYsi0Ef7K",
        "outputId": "2071b49d-6c01-4706-a9b4-1b2fe7aa59ad"
      },
      "execution_count": 19,
      "outputs": [
        {
          "output_type": "execute_result",
          "data": {
            "text/plain": [
              "Index(['Fecha', 'Hora UTC', 'Clase de Vuelo (todos los vuelos)',\n",
              "       'Clasificación Vuelo', 'Tipo de Movimiento', 'Aeropuerto',\n",
              "       'Origen / Destino', 'Aerolinea Nombre', 'Aeronave', 'Pasajeros',\n",
              "       'Calidad dato'],\n",
              "      dtype='object')"
            ]
          },
          "metadata": {},
          "execution_count": 19
        }
      ]
    },
    {
      "cell_type": "code",
      "source": [
        "# Validamos si hay valores faltantes\n",
        "isna = []\n",
        "for x in cols:\n",
        "  isna.append( df_2021[df_2021[x].isna()] )\n"
      ],
      "metadata": {
        "id": "DutEu1K6ECO1"
      },
      "execution_count": 33,
      "outputs": []
    },
    {
      "cell_type": "code",
      "source": [
        "isna"
      ],
      "metadata": {
        "colab": {
          "base_uri": "https://localhost:8080/"
        },
        "id": "3DuxXVupDvZ6",
        "outputId": "affee11c-5806-4b77-c5ed-0acb2c76dc50"
      },
      "execution_count": 34,
      "outputs": [
        {
          "output_type": "execute_result",
          "data": {
            "text/plain": [
              "[Empty DataFrame\n",
              " Columns: [Fecha, Hora UTC, Clase de Vuelo (todos los vuelos), Clasificación Vuelo, Tipo de Movimiento, Aeropuerto, Origen / Destino, Aerolinea Nombre, Aeronave, Pasajeros, Calidad dato]\n",
              " Index: [],\n",
              " Empty DataFrame\n",
              " Columns: [Fecha, Hora UTC, Clase de Vuelo (todos los vuelos), Clasificación Vuelo, Tipo de Movimiento, Aeropuerto, Origen / Destino, Aerolinea Nombre, Aeronave, Pasajeros, Calidad dato]\n",
              " Index: [],\n",
              " Empty DataFrame\n",
              " Columns: [Fecha, Hora UTC, Clase de Vuelo (todos los vuelos), Clasificación Vuelo, Tipo de Movimiento, Aeropuerto, Origen / Destino, Aerolinea Nombre, Aeronave, Pasajeros, Calidad dato]\n",
              " Index: [],\n",
              " Empty DataFrame\n",
              " Columns: [Fecha, Hora UTC, Clase de Vuelo (todos los vuelos), Clasificación Vuelo, Tipo de Movimiento, Aeropuerto, Origen / Destino, Aerolinea Nombre, Aeronave, Pasajeros, Calidad dato]\n",
              " Index: [],\n",
              " Empty DataFrame\n",
              " Columns: [Fecha, Hora UTC, Clase de Vuelo (todos los vuelos), Clasificación Vuelo, Tipo de Movimiento, Aeropuerto, Origen / Destino, Aerolinea Nombre, Aeronave, Pasajeros, Calidad dato]\n",
              " Index: [],\n",
              " Empty DataFrame\n",
              " Columns: [Fecha, Hora UTC, Clase de Vuelo (todos los vuelos), Clasificación Vuelo, Tipo de Movimiento, Aeropuerto, Origen / Destino, Aerolinea Nombre, Aeronave, Pasajeros, Calidad dato]\n",
              " Index: [],\n",
              " Empty DataFrame\n",
              " Columns: [Fecha, Hora UTC, Clase de Vuelo (todos los vuelos), Clasificación Vuelo, Tipo de Movimiento, Aeropuerto, Origen / Destino, Aerolinea Nombre, Aeronave, Pasajeros, Calidad dato]\n",
              " Index: [],\n",
              " Empty DataFrame\n",
              " Columns: [Fecha, Hora UTC, Clase de Vuelo (todos los vuelos), Clasificación Vuelo, Tipo de Movimiento, Aeropuerto, Origen / Destino, Aerolinea Nombre, Aeronave, Pasajeros, Calidad dato]\n",
              " Index: [],\n",
              " Empty DataFrame\n",
              " Columns: [Fecha, Hora UTC, Clase de Vuelo (todos los vuelos), Clasificación Vuelo, Tipo de Movimiento, Aeropuerto, Origen / Destino, Aerolinea Nombre, Aeronave, Pasajeros, Calidad dato]\n",
              " Index: [],\n",
              " Empty DataFrame\n",
              " Columns: [Fecha, Hora UTC, Clase de Vuelo (todos los vuelos), Clasificación Vuelo, Tipo de Movimiento, Aeropuerto, Origen / Destino, Aerolinea Nombre, Aeronave, Pasajeros, Calidad dato]\n",
              " Index: [],\n",
              " Empty DataFrame\n",
              " Columns: [Fecha, Hora UTC, Clase de Vuelo (todos los vuelos), Clasificación Vuelo, Tipo de Movimiento, Aeropuerto, Origen / Destino, Aerolinea Nombre, Aeronave, Pasajeros, Calidad dato]\n",
              " Index: []]"
            ]
          },
          "metadata": {},
          "execution_count": 34
        }
      ]
    },
    {
      "cell_type": "code",
      "source": [
        "# Validamos si hay valores nulos\n",
        "nulos = []\n",
        "for x in cols:\n",
        "  nulos.append( df_2021[df_2021[x].isnull()] )"
      ],
      "metadata": {
        "id": "pNbrd2uWFzlH"
      },
      "execution_count": 37,
      "outputs": []
    },
    {
      "cell_type": "code",
      "source": [
        "nulos"
      ],
      "metadata": {
        "colab": {
          "base_uri": "https://localhost:8080/"
        },
        "id": "f0bGLwqmGiWn",
        "outputId": "66a45256-cf4d-426a-ab83-8b338247605b"
      },
      "execution_count": 38,
      "outputs": [
        {
          "output_type": "execute_result",
          "data": {
            "text/plain": [
              "[Empty DataFrame\n",
              " Columns: [Fecha, Hora UTC, Clase de Vuelo (todos los vuelos), Clasificación Vuelo, Tipo de Movimiento, Aeropuerto, Origen / Destino, Aerolinea Nombre, Aeronave, Pasajeros, Calidad dato]\n",
              " Index: [],\n",
              " Empty DataFrame\n",
              " Columns: [Fecha, Hora UTC, Clase de Vuelo (todos los vuelos), Clasificación Vuelo, Tipo de Movimiento, Aeropuerto, Origen / Destino, Aerolinea Nombre, Aeronave, Pasajeros, Calidad dato]\n",
              " Index: [],\n",
              " Empty DataFrame\n",
              " Columns: [Fecha, Hora UTC, Clase de Vuelo (todos los vuelos), Clasificación Vuelo, Tipo de Movimiento, Aeropuerto, Origen / Destino, Aerolinea Nombre, Aeronave, Pasajeros, Calidad dato]\n",
              " Index: [],\n",
              " Empty DataFrame\n",
              " Columns: [Fecha, Hora UTC, Clase de Vuelo (todos los vuelos), Clasificación Vuelo, Tipo de Movimiento, Aeropuerto, Origen / Destino, Aerolinea Nombre, Aeronave, Pasajeros, Calidad dato]\n",
              " Index: [],\n",
              " Empty DataFrame\n",
              " Columns: [Fecha, Hora UTC, Clase de Vuelo (todos los vuelos), Clasificación Vuelo, Tipo de Movimiento, Aeropuerto, Origen / Destino, Aerolinea Nombre, Aeronave, Pasajeros, Calidad dato]\n",
              " Index: [],\n",
              " Empty DataFrame\n",
              " Columns: [Fecha, Hora UTC, Clase de Vuelo (todos los vuelos), Clasificación Vuelo, Tipo de Movimiento, Aeropuerto, Origen / Destino, Aerolinea Nombre, Aeronave, Pasajeros, Calidad dato]\n",
              " Index: [],\n",
              " Empty DataFrame\n",
              " Columns: [Fecha, Hora UTC, Clase de Vuelo (todos los vuelos), Clasificación Vuelo, Tipo de Movimiento, Aeropuerto, Origen / Destino, Aerolinea Nombre, Aeronave, Pasajeros, Calidad dato]\n",
              " Index: [],\n",
              " Empty DataFrame\n",
              " Columns: [Fecha, Hora UTC, Clase de Vuelo (todos los vuelos), Clasificación Vuelo, Tipo de Movimiento, Aeropuerto, Origen / Destino, Aerolinea Nombre, Aeronave, Pasajeros, Calidad dato]\n",
              " Index: [],\n",
              " Empty DataFrame\n",
              " Columns: [Fecha, Hora UTC, Clase de Vuelo (todos los vuelos), Clasificación Vuelo, Tipo de Movimiento, Aeropuerto, Origen / Destino, Aerolinea Nombre, Aeronave, Pasajeros, Calidad dato]\n",
              " Index: [],\n",
              " Empty DataFrame\n",
              " Columns: [Fecha, Hora UTC, Clase de Vuelo (todos los vuelos), Clasificación Vuelo, Tipo de Movimiento, Aeropuerto, Origen / Destino, Aerolinea Nombre, Aeronave, Pasajeros, Calidad dato]\n",
              " Index: [],\n",
              " Empty DataFrame\n",
              " Columns: [Fecha, Hora UTC, Clase de Vuelo (todos los vuelos), Clasificación Vuelo, Tipo de Movimiento, Aeropuerto, Origen / Destino, Aerolinea Nombre, Aeronave, Pasajeros, Calidad dato]\n",
              " Index: []]"
            ]
          },
          "metadata": {},
          "execution_count": 38
        }
      ]
    },
    {
      "cell_type": "code",
      "source": [
        "df_2022"
      ],
      "metadata": {
        "colab": {
          "base_uri": "https://localhost:8080/",
          "height": 467
        },
        "id": "mAB_4P8rGvMG",
        "outputId": "58ca9ce4-aff5-4124-974a-06d1905702f8"
      },
      "execution_count": 39,
      "outputs": [
        {
          "output_type": "execute_result",
          "data": {
            "text/plain": [
              "             Fecha Hora UTC Clase de Vuelo (todos los vuelos)  \\\n",
              "0       01/01/2022    00:01                           Regular   \n",
              "1       01/01/2022    00:05                           Regular   \n",
              "2       01/01/2022    00:05                           Regular   \n",
              "3       01/01/2022    00:09                           Regular   \n",
              "4       01/01/2022    00:09                           Regular   \n",
              "...            ...      ...                               ...   \n",
              "222922  30/06/2022    23:59                           Regular   \n",
              "222923  30/06/2022    16:26                           Regular   \n",
              "222924  30/06/2022    13:08                           Regular   \n",
              "222925  30/06/2022    01:33                           Regular   \n",
              "222926  30/06/2022    21:26                           Regular   \n",
              "\n",
              "       Clasificación Vuelo Tipo de Movimiento Aeropuerto Origen / Destino  \\\n",
              "0                Doméstico         Aterrizaje        AER              ECA   \n",
              "1                Doméstico         Aterrizaje        AER              SAL   \n",
              "2                Doméstico           Despegue        IGU              AER   \n",
              "3                Doméstico         Aterrizaje        AER              GAL   \n",
              "4            Internacional           Despegue        EZE             KDFW   \n",
              "...                    ...                ...        ...              ...   \n",
              "222922           Doméstico           Despegue        DOZ              AER   \n",
              "222923           Doméstico           Despegue        VIE              BAR   \n",
              "222924           Doméstico         Aterrizaje        VIE              AER   \n",
              "222925           Doméstico           Despegue        LAR              AER   \n",
              "222926           Doméstico         Aterrizaje        LAR              AER   \n",
              "\n",
              "                Aerolinea Nombre          Aeronave Pasajeros Calidad dato  \n",
              "0       AEROLINEAS ARGENTINAS SA        BO-737-8SH        69   DEFINITIVO  \n",
              "1       AEROLINEAS ARGENTINAS SA         BO-B737-8        65   DEFINITIVO  \n",
              "2         JETSMART AIRLINES S.A.      AIB-A320-232        41   DEFINITIVO  \n",
              "3       AEROLINEAS ARGENTINAS SA       BO-B737-81D        73   DEFINITIVO  \n",
              "4         AMERICAN AIRLINES INC.                 0       261   DEFINITIVO  \n",
              "...                          ...               ...       ...          ...  \n",
              "222922  AEROLINEAS ARGENTINAS SA       BO-B737-8SH      83,5   PROVISORIO  \n",
              "222923  AEROLINEAS ARGENTINAS SA  EMB-ERJ190100IGW      33,5   PROVISORIO  \n",
              "222924  AEROLINEAS ARGENTINAS SA  EMB-ERJ190100IGW      45,5   PROVISORIO  \n",
              "222925  AEROLINEAS ARGENTINAS SA  EMB-ERJ190100IGW      47,5   PROVISORIO  \n",
              "222926  AEROLINEAS ARGENTINAS SA  EMB-ERJ190100IGW      48,5   PROVISORIO  \n",
              "\n",
              "[222927 rows x 11 columns]"
            ],
            "text/html": [
              "\n",
              "  <div id=\"df-95ad641f-fb72-44a5-8a59-7c9b40d1f353\">\n",
              "    <div class=\"colab-df-container\">\n",
              "      <div>\n",
              "<style scoped>\n",
              "    .dataframe tbody tr th:only-of-type {\n",
              "        vertical-align: middle;\n",
              "    }\n",
              "\n",
              "    .dataframe tbody tr th {\n",
              "        vertical-align: top;\n",
              "    }\n",
              "\n",
              "    .dataframe thead th {\n",
              "        text-align: right;\n",
              "    }\n",
              "</style>\n",
              "<table border=\"1\" class=\"dataframe\">\n",
              "  <thead>\n",
              "    <tr style=\"text-align: right;\">\n",
              "      <th></th>\n",
              "      <th>Fecha</th>\n",
              "      <th>Hora UTC</th>\n",
              "      <th>Clase de Vuelo (todos los vuelos)</th>\n",
              "      <th>Clasificación Vuelo</th>\n",
              "      <th>Tipo de Movimiento</th>\n",
              "      <th>Aeropuerto</th>\n",
              "      <th>Origen / Destino</th>\n",
              "      <th>Aerolinea Nombre</th>\n",
              "      <th>Aeronave</th>\n",
              "      <th>Pasajeros</th>\n",
              "      <th>Calidad dato</th>\n",
              "    </tr>\n",
              "  </thead>\n",
              "  <tbody>\n",
              "    <tr>\n",
              "      <th>0</th>\n",
              "      <td>01/01/2022</td>\n",
              "      <td>00:01</td>\n",
              "      <td>Regular</td>\n",
              "      <td>Doméstico</td>\n",
              "      <td>Aterrizaje</td>\n",
              "      <td>AER</td>\n",
              "      <td>ECA</td>\n",
              "      <td>AEROLINEAS ARGENTINAS SA</td>\n",
              "      <td>BO-737-8SH</td>\n",
              "      <td>69</td>\n",
              "      <td>DEFINITIVO</td>\n",
              "    </tr>\n",
              "    <tr>\n",
              "      <th>1</th>\n",
              "      <td>01/01/2022</td>\n",
              "      <td>00:05</td>\n",
              "      <td>Regular</td>\n",
              "      <td>Doméstico</td>\n",
              "      <td>Aterrizaje</td>\n",
              "      <td>AER</td>\n",
              "      <td>SAL</td>\n",
              "      <td>AEROLINEAS ARGENTINAS SA</td>\n",
              "      <td>BO-B737-8</td>\n",
              "      <td>65</td>\n",
              "      <td>DEFINITIVO</td>\n",
              "    </tr>\n",
              "    <tr>\n",
              "      <th>2</th>\n",
              "      <td>01/01/2022</td>\n",
              "      <td>00:05</td>\n",
              "      <td>Regular</td>\n",
              "      <td>Doméstico</td>\n",
              "      <td>Despegue</td>\n",
              "      <td>IGU</td>\n",
              "      <td>AER</td>\n",
              "      <td>JETSMART AIRLINES S.A.</td>\n",
              "      <td>AIB-A320-232</td>\n",
              "      <td>41</td>\n",
              "      <td>DEFINITIVO</td>\n",
              "    </tr>\n",
              "    <tr>\n",
              "      <th>3</th>\n",
              "      <td>01/01/2022</td>\n",
              "      <td>00:09</td>\n",
              "      <td>Regular</td>\n",
              "      <td>Doméstico</td>\n",
              "      <td>Aterrizaje</td>\n",
              "      <td>AER</td>\n",
              "      <td>GAL</td>\n",
              "      <td>AEROLINEAS ARGENTINAS SA</td>\n",
              "      <td>BO-B737-81D</td>\n",
              "      <td>73</td>\n",
              "      <td>DEFINITIVO</td>\n",
              "    </tr>\n",
              "    <tr>\n",
              "      <th>4</th>\n",
              "      <td>01/01/2022</td>\n",
              "      <td>00:09</td>\n",
              "      <td>Regular</td>\n",
              "      <td>Internacional</td>\n",
              "      <td>Despegue</td>\n",
              "      <td>EZE</td>\n",
              "      <td>KDFW</td>\n",
              "      <td>AMERICAN AIRLINES INC.</td>\n",
              "      <td>0</td>\n",
              "      <td>261</td>\n",
              "      <td>DEFINITIVO</td>\n",
              "    </tr>\n",
              "    <tr>\n",
              "      <th>...</th>\n",
              "      <td>...</td>\n",
              "      <td>...</td>\n",
              "      <td>...</td>\n",
              "      <td>...</td>\n",
              "      <td>...</td>\n",
              "      <td>...</td>\n",
              "      <td>...</td>\n",
              "      <td>...</td>\n",
              "      <td>...</td>\n",
              "      <td>...</td>\n",
              "      <td>...</td>\n",
              "    </tr>\n",
              "    <tr>\n",
              "      <th>222922</th>\n",
              "      <td>30/06/2022</td>\n",
              "      <td>23:59</td>\n",
              "      <td>Regular</td>\n",
              "      <td>Doméstico</td>\n",
              "      <td>Despegue</td>\n",
              "      <td>DOZ</td>\n",
              "      <td>AER</td>\n",
              "      <td>AEROLINEAS ARGENTINAS SA</td>\n",
              "      <td>BO-B737-8SH</td>\n",
              "      <td>83,5</td>\n",
              "      <td>PROVISORIO</td>\n",
              "    </tr>\n",
              "    <tr>\n",
              "      <th>222923</th>\n",
              "      <td>30/06/2022</td>\n",
              "      <td>16:26</td>\n",
              "      <td>Regular</td>\n",
              "      <td>Doméstico</td>\n",
              "      <td>Despegue</td>\n",
              "      <td>VIE</td>\n",
              "      <td>BAR</td>\n",
              "      <td>AEROLINEAS ARGENTINAS SA</td>\n",
              "      <td>EMB-ERJ190100IGW</td>\n",
              "      <td>33,5</td>\n",
              "      <td>PROVISORIO</td>\n",
              "    </tr>\n",
              "    <tr>\n",
              "      <th>222924</th>\n",
              "      <td>30/06/2022</td>\n",
              "      <td>13:08</td>\n",
              "      <td>Regular</td>\n",
              "      <td>Doméstico</td>\n",
              "      <td>Aterrizaje</td>\n",
              "      <td>VIE</td>\n",
              "      <td>AER</td>\n",
              "      <td>AEROLINEAS ARGENTINAS SA</td>\n",
              "      <td>EMB-ERJ190100IGW</td>\n",
              "      <td>45,5</td>\n",
              "      <td>PROVISORIO</td>\n",
              "    </tr>\n",
              "    <tr>\n",
              "      <th>222925</th>\n",
              "      <td>30/06/2022</td>\n",
              "      <td>01:33</td>\n",
              "      <td>Regular</td>\n",
              "      <td>Doméstico</td>\n",
              "      <td>Despegue</td>\n",
              "      <td>LAR</td>\n",
              "      <td>AER</td>\n",
              "      <td>AEROLINEAS ARGENTINAS SA</td>\n",
              "      <td>EMB-ERJ190100IGW</td>\n",
              "      <td>47,5</td>\n",
              "      <td>PROVISORIO</td>\n",
              "    </tr>\n",
              "    <tr>\n",
              "      <th>222926</th>\n",
              "      <td>30/06/2022</td>\n",
              "      <td>21:26</td>\n",
              "      <td>Regular</td>\n",
              "      <td>Doméstico</td>\n",
              "      <td>Aterrizaje</td>\n",
              "      <td>LAR</td>\n",
              "      <td>AER</td>\n",
              "      <td>AEROLINEAS ARGENTINAS SA</td>\n",
              "      <td>EMB-ERJ190100IGW</td>\n",
              "      <td>48,5</td>\n",
              "      <td>PROVISORIO</td>\n",
              "    </tr>\n",
              "  </tbody>\n",
              "</table>\n",
              "<p>222927 rows × 11 columns</p>\n",
              "</div>\n",
              "      <button class=\"colab-df-convert\" onclick=\"convertToInteractive('df-95ad641f-fb72-44a5-8a59-7c9b40d1f353')\"\n",
              "              title=\"Convert this dataframe to an interactive table.\"\n",
              "              style=\"display:none;\">\n",
              "        \n",
              "  <svg xmlns=\"http://www.w3.org/2000/svg\" height=\"24px\"viewBox=\"0 0 24 24\"\n",
              "       width=\"24px\">\n",
              "    <path d=\"M0 0h24v24H0V0z\" fill=\"none\"/>\n",
              "    <path d=\"M18.56 5.44l.94 2.06.94-2.06 2.06-.94-2.06-.94-.94-2.06-.94 2.06-2.06.94zm-11 1L8.5 8.5l.94-2.06 2.06-.94-2.06-.94L8.5 2.5l-.94 2.06-2.06.94zm10 10l.94 2.06.94-2.06 2.06-.94-2.06-.94-.94-2.06-.94 2.06-2.06.94z\"/><path d=\"M17.41 7.96l-1.37-1.37c-.4-.4-.92-.59-1.43-.59-.52 0-1.04.2-1.43.59L10.3 9.45l-7.72 7.72c-.78.78-.78 2.05 0 2.83L4 21.41c.39.39.9.59 1.41.59.51 0 1.02-.2 1.41-.59l7.78-7.78 2.81-2.81c.8-.78.8-2.07 0-2.86zM5.41 20L4 18.59l7.72-7.72 1.47 1.35L5.41 20z\"/>\n",
              "  </svg>\n",
              "      </button>\n",
              "      \n",
              "  <style>\n",
              "    .colab-df-container {\n",
              "      display:flex;\n",
              "      flex-wrap:wrap;\n",
              "      gap: 12px;\n",
              "    }\n",
              "\n",
              "    .colab-df-convert {\n",
              "      background-color: #E8F0FE;\n",
              "      border: none;\n",
              "      border-radius: 50%;\n",
              "      cursor: pointer;\n",
              "      display: none;\n",
              "      fill: #1967D2;\n",
              "      height: 32px;\n",
              "      padding: 0 0 0 0;\n",
              "      width: 32px;\n",
              "    }\n",
              "\n",
              "    .colab-df-convert:hover {\n",
              "      background-color: #E2EBFA;\n",
              "      box-shadow: 0px 1px 2px rgba(60, 64, 67, 0.3), 0px 1px 3px 1px rgba(60, 64, 67, 0.15);\n",
              "      fill: #174EA6;\n",
              "    }\n",
              "\n",
              "    [theme=dark] .colab-df-convert {\n",
              "      background-color: #3B4455;\n",
              "      fill: #D2E3FC;\n",
              "    }\n",
              "\n",
              "    [theme=dark] .colab-df-convert:hover {\n",
              "      background-color: #434B5C;\n",
              "      box-shadow: 0px 1px 3px 1px rgba(0, 0, 0, 0.15);\n",
              "      filter: drop-shadow(0px 1px 2px rgba(0, 0, 0, 0.3));\n",
              "      fill: #FFFFFF;\n",
              "    }\n",
              "  </style>\n",
              "\n",
              "      <script>\n",
              "        const buttonEl =\n",
              "          document.querySelector('#df-95ad641f-fb72-44a5-8a59-7c9b40d1f353 button.colab-df-convert');\n",
              "        buttonEl.style.display =\n",
              "          google.colab.kernel.accessAllowed ? 'block' : 'none';\n",
              "\n",
              "        async function convertToInteractive(key) {\n",
              "          const element = document.querySelector('#df-95ad641f-fb72-44a5-8a59-7c9b40d1f353');\n",
              "          const dataTable =\n",
              "            await google.colab.kernel.invokeFunction('convertToInteractive',\n",
              "                                                     [key], {});\n",
              "          if (!dataTable) return;\n",
              "\n",
              "          const docLinkHtml = 'Like what you see? Visit the ' +\n",
              "            '<a target=\"_blank\" href=https://colab.research.google.com/notebooks/data_table.ipynb>data table notebook</a>'\n",
              "            + ' to learn more about interactive tables.';\n",
              "          element.innerHTML = '';\n",
              "          dataTable['output_type'] = 'display_data';\n",
              "          await google.colab.output.renderOutput(dataTable, element);\n",
              "          const docLink = document.createElement('div');\n",
              "          docLink.innerHTML = docLinkHtml;\n",
              "          element.appendChild(docLink);\n",
              "        }\n",
              "      </script>\n",
              "    </div>\n",
              "  </div>\n",
              "  "
            ]
          },
          "metadata": {},
          "execution_count": 39
        }
      ]
    },
    {
      "cell_type": "code",
      "source": [
        "# Validamos si hay valores faltantes\n",
        "isna = []\n",
        "for x in cols:\n",
        "  isna.append( df_2022[df_2022[x].isna()] )\n",
        "isna"
      ],
      "metadata": {
        "colab": {
          "base_uri": "https://localhost:8080/"
        },
        "id": "JGrDaHIKHmXZ",
        "outputId": "55d43d7b-e5dc-4e1e-a113-5588f07906da"
      },
      "execution_count": 41,
      "outputs": [
        {
          "output_type": "execute_result",
          "data": {
            "text/plain": [
              "[Empty DataFrame\n",
              " Columns: [Fecha, Hora UTC, Clase de Vuelo (todos los vuelos), Clasificación Vuelo, Tipo de Movimiento, Aeropuerto, Origen / Destino, Aerolinea Nombre, Aeronave, Pasajeros, Calidad dato]\n",
              " Index: [],\n",
              " Empty DataFrame\n",
              " Columns: [Fecha, Hora UTC, Clase de Vuelo (todos los vuelos), Clasificación Vuelo, Tipo de Movimiento, Aeropuerto, Origen / Destino, Aerolinea Nombre, Aeronave, Pasajeros, Calidad dato]\n",
              " Index: [],\n",
              " Empty DataFrame\n",
              " Columns: [Fecha, Hora UTC, Clase de Vuelo (todos los vuelos), Clasificación Vuelo, Tipo de Movimiento, Aeropuerto, Origen / Destino, Aerolinea Nombre, Aeronave, Pasajeros, Calidad dato]\n",
              " Index: [],\n",
              " Empty DataFrame\n",
              " Columns: [Fecha, Hora UTC, Clase de Vuelo (todos los vuelos), Clasificación Vuelo, Tipo de Movimiento, Aeropuerto, Origen / Destino, Aerolinea Nombre, Aeronave, Pasajeros, Calidad dato]\n",
              " Index: [],\n",
              " Empty DataFrame\n",
              " Columns: [Fecha, Hora UTC, Clase de Vuelo (todos los vuelos), Clasificación Vuelo, Tipo de Movimiento, Aeropuerto, Origen / Destino, Aerolinea Nombre, Aeronave, Pasajeros, Calidad dato]\n",
              " Index: [],\n",
              " Empty DataFrame\n",
              " Columns: [Fecha, Hora UTC, Clase de Vuelo (todos los vuelos), Clasificación Vuelo, Tipo de Movimiento, Aeropuerto, Origen / Destino, Aerolinea Nombre, Aeronave, Pasajeros, Calidad dato]\n",
              " Index: [],\n",
              " Empty DataFrame\n",
              " Columns: [Fecha, Hora UTC, Clase de Vuelo (todos los vuelos), Clasificación Vuelo, Tipo de Movimiento, Aeropuerto, Origen / Destino, Aerolinea Nombre, Aeronave, Pasajeros, Calidad dato]\n",
              " Index: [],\n",
              " Empty DataFrame\n",
              " Columns: [Fecha, Hora UTC, Clase de Vuelo (todos los vuelos), Clasificación Vuelo, Tipo de Movimiento, Aeropuerto, Origen / Destino, Aerolinea Nombre, Aeronave, Pasajeros, Calidad dato]\n",
              " Index: [],\n",
              " Empty DataFrame\n",
              " Columns: [Fecha, Hora UTC, Clase de Vuelo (todos los vuelos), Clasificación Vuelo, Tipo de Movimiento, Aeropuerto, Origen / Destino, Aerolinea Nombre, Aeronave, Pasajeros, Calidad dato]\n",
              " Index: [],\n",
              " Empty DataFrame\n",
              " Columns: [Fecha, Hora UTC, Clase de Vuelo (todos los vuelos), Clasificación Vuelo, Tipo de Movimiento, Aeropuerto, Origen / Destino, Aerolinea Nombre, Aeronave, Pasajeros, Calidad dato]\n",
              " Index: [],\n",
              " Empty DataFrame\n",
              " Columns: [Fecha, Hora UTC, Clase de Vuelo (todos los vuelos), Clasificación Vuelo, Tipo de Movimiento, Aeropuerto, Origen / Destino, Aerolinea Nombre, Aeronave, Pasajeros, Calidad dato]\n",
              " Index: []]"
            ]
          },
          "metadata": {},
          "execution_count": 41
        }
      ]
    },
    {
      "cell_type": "code",
      "source": [
        "# Validamos si hay valores nulos\n",
        "nulos = []\n",
        "for x in cols:\n",
        "  nulos.append( df_2022[df_2022[x].isnull()] )\n",
        "nulos"
      ],
      "metadata": {
        "colab": {
          "base_uri": "https://localhost:8080/"
        },
        "id": "vBAlapUWHs5F",
        "outputId": "c4e87e41-fb69-43c4-8135-3772d9e9e0bb"
      },
      "execution_count": 43,
      "outputs": [
        {
          "output_type": "execute_result",
          "data": {
            "text/plain": [
              "[Empty DataFrame\n",
              " Columns: [Fecha, Hora UTC, Clase de Vuelo (todos los vuelos), Clasificación Vuelo, Tipo de Movimiento, Aeropuerto, Origen / Destino, Aerolinea Nombre, Aeronave, Pasajeros, Calidad dato]\n",
              " Index: [],\n",
              " Empty DataFrame\n",
              " Columns: [Fecha, Hora UTC, Clase de Vuelo (todos los vuelos), Clasificación Vuelo, Tipo de Movimiento, Aeropuerto, Origen / Destino, Aerolinea Nombre, Aeronave, Pasajeros, Calidad dato]\n",
              " Index: [],\n",
              " Empty DataFrame\n",
              " Columns: [Fecha, Hora UTC, Clase de Vuelo (todos los vuelos), Clasificación Vuelo, Tipo de Movimiento, Aeropuerto, Origen / Destino, Aerolinea Nombre, Aeronave, Pasajeros, Calidad dato]\n",
              " Index: [],\n",
              " Empty DataFrame\n",
              " Columns: [Fecha, Hora UTC, Clase de Vuelo (todos los vuelos), Clasificación Vuelo, Tipo de Movimiento, Aeropuerto, Origen / Destino, Aerolinea Nombre, Aeronave, Pasajeros, Calidad dato]\n",
              " Index: [],\n",
              " Empty DataFrame\n",
              " Columns: [Fecha, Hora UTC, Clase de Vuelo (todos los vuelos), Clasificación Vuelo, Tipo de Movimiento, Aeropuerto, Origen / Destino, Aerolinea Nombre, Aeronave, Pasajeros, Calidad dato]\n",
              " Index: [],\n",
              " Empty DataFrame\n",
              " Columns: [Fecha, Hora UTC, Clase de Vuelo (todos los vuelos), Clasificación Vuelo, Tipo de Movimiento, Aeropuerto, Origen / Destino, Aerolinea Nombre, Aeronave, Pasajeros, Calidad dato]\n",
              " Index: [],\n",
              " Empty DataFrame\n",
              " Columns: [Fecha, Hora UTC, Clase de Vuelo (todos los vuelos), Clasificación Vuelo, Tipo de Movimiento, Aeropuerto, Origen / Destino, Aerolinea Nombre, Aeronave, Pasajeros, Calidad dato]\n",
              " Index: [],\n",
              " Empty DataFrame\n",
              " Columns: [Fecha, Hora UTC, Clase de Vuelo (todos los vuelos), Clasificación Vuelo, Tipo de Movimiento, Aeropuerto, Origen / Destino, Aerolinea Nombre, Aeronave, Pasajeros, Calidad dato]\n",
              " Index: [],\n",
              " Empty DataFrame\n",
              " Columns: [Fecha, Hora UTC, Clase de Vuelo (todos los vuelos), Clasificación Vuelo, Tipo de Movimiento, Aeropuerto, Origen / Destino, Aerolinea Nombre, Aeronave, Pasajeros, Calidad dato]\n",
              " Index: [],\n",
              " Empty DataFrame\n",
              " Columns: [Fecha, Hora UTC, Clase de Vuelo (todos los vuelos), Clasificación Vuelo, Tipo de Movimiento, Aeropuerto, Origen / Destino, Aerolinea Nombre, Aeronave, Pasajeros, Calidad dato]\n",
              " Index: [],\n",
              " Empty DataFrame\n",
              " Columns: [Fecha, Hora UTC, Clase de Vuelo (todos los vuelos), Clasificación Vuelo, Tipo de Movimiento, Aeropuerto, Origen / Destino, Aerolinea Nombre, Aeronave, Pasajeros, Calidad dato]\n",
              " Index: []]"
            ]
          },
          "metadata": {},
          "execution_count": 43
        }
      ]
    },
    {
      "cell_type": "code",
      "source": [],
      "metadata": {
        "id": "t3i-peJ9H1Pe"
      },
      "execution_count": null,
      "outputs": []
    }
  ]
}