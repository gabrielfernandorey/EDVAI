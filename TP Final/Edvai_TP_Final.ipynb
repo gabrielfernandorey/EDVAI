{
  "nbformat": 4,
  "nbformat_minor": 0,
  "metadata": {
    "colab": {
      "provenance": [],
      "authorship_tag": "ABX9TyMiTnpAOfa8HNWm/1dCO50e",
      "include_colab_link": true
    },
    "kernelspec": {
      "name": "python3",
      "display_name": "Python 3"
    },
    "language_info": {
      "name": "python"
    }
  },
  "cells": [
    {
      "cell_type": "markdown",
      "metadata": {
        "id": "view-in-github",
        "colab_type": "text"
      },
      "source": [
        "<a href=\"https://colab.research.google.com/github/gabrielfernandorey/EDVAI/blob/main/TP%20Final/Edvai_TP_Final.ipynb\" target=\"_parent\"><img src=\"https://colab.research.google.com/assets/colab-badge.svg\" alt=\"Open In Colab\"/></a>"
      ]
    },
    {
      "cell_type": "markdown",
      "source": [
        "# TRABAJO PRACTICO FINAL \n",
        "##### EDVAI\n",
        "\n",
        "## Gabriel Rey \n",
        "##### Mayo 2023\n"
      ],
      "metadata": {
        "id": "E4MwsZgZ_MBV"
      }
    },
    {
      "cell_type": "code",
      "execution_count": 2,
      "metadata": {
        "colab": {
          "base_uri": "https://localhost:8080/"
        },
        "id": "9KBN0Sww_Hhg",
        "outputId": "ca07dbaf-a709-4cf6-f706-fbc7a505bf96"
      },
      "outputs": [
        {
          "output_type": "stream",
          "name": "stdout",
          "text": [
            "Looking in indexes: https://pypi.org/simple, https://us-python.pkg.dev/colab-wheels/public/simple/\n",
            "Collecting pyspark\n",
            "  Downloading pyspark-3.4.0.tar.gz (310.8 MB)\n",
            "\u001b[2K     \u001b[90m━━━━━━━━━━━━━━━━━━━━━━━━━━━━━━━━━━━━━━━\u001b[0m \u001b[32m310.8/310.8 MB\u001b[0m \u001b[31m4.7 MB/s\u001b[0m eta \u001b[36m0:00:00\u001b[0m\n",
            "\u001b[?25h  Preparing metadata (setup.py) ... \u001b[?25l\u001b[?25hdone\n",
            "Requirement already satisfied: py4j==0.10.9.7 in /usr/local/lib/python3.10/dist-packages (from pyspark) (0.10.9.7)\n",
            "Building wheels for collected packages: pyspark\n",
            "  Building wheel for pyspark (setup.py) ... \u001b[?25l\u001b[?25hdone\n",
            "  Created wheel for pyspark: filename=pyspark-3.4.0-py2.py3-none-any.whl size=311317130 sha256=9b072c3de63309a4beffec66a8062d1c38ebdad9d5b0ff3f41632478975bcfbb\n",
            "  Stored in directory: /root/.cache/pip/wheels/7b/1b/4b/3363a1d04368e7ff0d408e57ff57966fcdf00583774e761327\n",
            "Successfully built pyspark\n",
            "Installing collected packages: pyspark\n",
            "Successfully installed pyspark-3.4.0\n"
          ]
        }
      ],
      "source": [
        "!pip install pyspark"
      ]
    },
    {
      "cell_type": "code",
      "source": [
        "from pyspark.sql import SparkSession"
      ],
      "metadata": {
        "id": "x_z6Qbm-_sx2"
      },
      "execution_count": 3,
      "outputs": []
    },
    {
      "cell_type": "code",
      "source": [
        "spark = SparkSession.builder.appName('test_pyspark').getOrCreate()"
      ],
      "metadata": {
        "id": "qAi0HAZU_vWw"
      },
      "execution_count": 4,
      "outputs": []
    },
    {
      "cell_type": "code",
      "source": [
        "from pyspark.sql.types import StructType, StructField, StringType, TimestampType, BooleanType, FloatType, IntegerType, DoubleType, DateType\n",
        "import pyspark.sql.functions as F\n",
        "from pyspark.sql.functions import sum, col, desc, asc, count, countDistinct, round, max, min, avg, when, lower\n",
        "from pyspark.sql.functions import to_timestamp, date_format, to_date\n",
        "from pyspark.sql.window import Window\n",
        "\n",
        "from pyspark.ml import Transformer\n",
        "from pyspark.ml.param.shared import HasInputCol, HasOutputCol, HasInputCols, HasOutputCols, Param, Params, TypeConverters\n",
        "from pyspark import keyword_only\n",
        "from pyspark.ml import Pipeline, PipelineModel\n",
        "from pyspark.ml import Model\n",
        "from pyspark.ml import Estimator\n",
        "\n",
        "from datetime import datetime\n",
        "import numpy as np\n",
        "import pandas as pd"
      ],
      "metadata": {
        "id": "vea6pl-j_yos"
      },
      "execution_count": 5,
      "outputs": []
    },
    {
      "cell_type": "markdown",
      "source": [
        "# Ejercicio 1"
      ],
      "metadata": {
        "id": "Z7couMKDyCC7"
      }
    },
    {
      "cell_type": "markdown",
      "source": [
        "### Importamos datos"
      ],
      "metadata": {
        "id": "7GBoFirEASUa"
      }
    },
    {
      "cell_type": "code",
      "source": [
        "!wget https://data-engineer-edvai.s3.amazonaws.com/2021-informe-ministerio.csv\n",
        "!wget https://data-engineer-edvai.s3.amazonaws.com/202206-informe-ministerio.csv\n",
        "!wget https://data-engineer-edvai.s3.amazonaws.com/aeropuertos_detalle.csv"
      ],
      "metadata": {
        "colab": {
          "base_uri": "https://localhost:8080/"
        },
        "id": "cROwephx_9c4",
        "outputId": "d5423a05-f9a3-4ebf-8ba6-a418a013d167"
      },
      "execution_count": null,
      "outputs": [
        {
          "output_type": "stream",
          "name": "stdout",
          "text": [
            "--2023-05-17 21:17:49--  https://data-engineer-edvai.s3.amazonaws.com/2021-informe-ministerio.csv\n",
            "Resolving data-engineer-edvai.s3.amazonaws.com (data-engineer-edvai.s3.amazonaws.com)... 52.217.168.161, 52.216.163.3, 52.216.57.209, ...\n",
            "Connecting to data-engineer-edvai.s3.amazonaws.com (data-engineer-edvai.s3.amazonaws.com)|52.217.168.161|:443... connected.\n",
            "HTTP request sent, awaiting response... 200 OK\n",
            "Length: 32322556 (31M) [text/csv]\n",
            "Saving to: ‘2021-informe-ministerio.csv’\n",
            "\n",
            "2021-informe-minist 100%[===================>]  30.82M  26.9MB/s    in 1.1s    \n",
            "\n",
            "2023-05-17 21:17:51 (26.9 MB/s) - ‘2021-informe-ministerio.csv’ saved [32322556/32322556]\n",
            "\n",
            "--2023-05-17 21:17:51--  https://data-engineer-edvai.s3.amazonaws.com/202206-informe-ministerio.csv\n",
            "Resolving data-engineer-edvai.s3.amazonaws.com (data-engineer-edvai.s3.amazonaws.com)... 52.217.168.161, 52.216.163.3, 52.216.57.209, ...\n",
            "Connecting to data-engineer-edvai.s3.amazonaws.com (data-engineer-edvai.s3.amazonaws.com)|52.217.168.161|:443... connected.\n",
            "HTTP request sent, awaiting response... 200 OK\n",
            "Length: 22833520 (22M) [text/csv]\n",
            "Saving to: ‘202206-informe-ministerio.csv’\n",
            "\n",
            "202206-informe-mini 100%[===================>]  21.78M  22.6MB/s    in 1.0s    \n",
            "\n",
            "2023-05-17 21:17:52 (22.6 MB/s) - ‘202206-informe-ministerio.csv’ saved [22833520/22833520]\n",
            "\n",
            "--2023-05-17 21:17:52--  https://data-engineer-edvai.s3.amazonaws.com/aeropuertos_detalle.csv\n",
            "Resolving data-engineer-edvai.s3.amazonaws.com (data-engineer-edvai.s3.amazonaws.com)... 52.217.168.161, 52.216.163.3, 52.216.57.209, ...\n",
            "Connecting to data-engineer-edvai.s3.amazonaws.com (data-engineer-edvai.s3.amazonaws.com)|52.217.168.161|:443... connected.\n",
            "HTTP request sent, awaiting response... 200 OK\n",
            "Length: 136007 (133K) [text/csv]\n",
            "Saving to: ‘aeropuertos_detalle.csv’\n",
            "\n",
            "aeropuertos_detalle 100%[===================>] 132.82K   712KB/s    in 0.2s    \n",
            "\n",
            "2023-05-17 21:17:53 (712 KB/s) - ‘aeropuertos_detalle.csv’ saved [136007/136007]\n",
            "\n"
          ]
        }
      ]
    },
    {
      "cell_type": "code",
      "source": [
        "df_2021 = pd.read_csv(\"/content/2021-informe-ministerio.csv\", sep=';')"
      ],
      "metadata": {
        "id": "p89yFMjwAlfJ"
      },
      "execution_count": null,
      "outputs": []
    },
    {
      "cell_type": "code",
      "source": [
        "df_2022 = pd.read_csv(\"/content/202206-informe-ministerio.csv\", sep=';')"
      ],
      "metadata": {
        "colab": {
          "base_uri": "https://localhost:8080/"
        },
        "id": "mwAeVbWXA_-v",
        "outputId": "3d3b3bf8-2b2e-42f3-a1ad-e7c33eaba7ca"
      },
      "execution_count": null,
      "outputs": [
        {
          "output_type": "stream",
          "name": "stderr",
          "text": [
            "<ipython-input-98-bcad1b5984a1>:1: DtypeWarning: Columns (9) have mixed types. Specify dtype option on import or set low_memory=False.\n",
            "  df_2022 = pd.read_csv(\"/content/202206-informe-ministerio.csv\", sep=';')\n"
          ]
        }
      ]
    },
    {
      "cell_type": "code",
      "source": [
        "df_aeropuertos = pd.read_csv(\"/content/aeropuertos_detalle.csv\", sep=';')"
      ],
      "metadata": {
        "id": "Y3UX0l2tBLrE"
      },
      "execution_count": null,
      "outputs": []
    },
    {
      "cell_type": "markdown",
      "source": [
        "### EDA"
      ],
      "metadata": {
        "id": "HV0hQ0HlD1dH"
      }
    },
    {
      "cell_type": "code",
      "source": [
        "df_2021"
      ],
      "metadata": {
        "colab": {
          "base_uri": "https://localhost:8080/",
          "height": 467
        },
        "id": "xoRoH71fBV-6",
        "outputId": "740e608a-a2e2-4ecc-eae7-5b3b29be5bbf"
      },
      "execution_count": null,
      "outputs": [
        {
          "output_type": "execute_result",
          "data": {
            "text/plain": [
              "             Fecha Hora UTC     Clase de Vuelo (todos los vuelos)  \\\n",
              "0       01/01/2021    00:02  Vuelo Privado con Matrícula Nacional   \n",
              "1       01/01/2021    00:24                               Regular   \n",
              "2       01/01/2021    00:26                               Regular   \n",
              "3       01/01/2021    00:29                               Regular   \n",
              "4       01/01/2021    00:37                               Regular   \n",
              "...            ...      ...                                   ...   \n",
              "328131  31/12/2021    23:44                               Regular   \n",
              "328132  31/12/2021    23:45                               Regular   \n",
              "328133  31/12/2021    23:48                               Regular   \n",
              "328134  31/12/2021    23:55                               Regular   \n",
              "328135  31/12/2021    23:58                               Regular   \n",
              "\n",
              "       Clasificación Vuelo Tipo de Movimiento Aeropuerto Origen / Destino  \\\n",
              "0                Domestico           Despegue        PAR              ROS   \n",
              "1                Domestico         Aterrizaje        EZE              GRA   \n",
              "2                Domestico         Aterrizaje        EZE              ECA   \n",
              "3                Domestico         Aterrizaje        EZE              SAL   \n",
              "4                Domestico         Aterrizaje        EZE              TUC   \n",
              "...                    ...                ...        ...              ...   \n",
              "328131           Domestico         Aterrizaje        JUJ              AER   \n",
              "328132           Domestico           Despegue        AER              CBA   \n",
              "328133           Domestico           Despegue        ROS              AER   \n",
              "328134       Internacional         Aterrizaje        EZE             SCEL   \n",
              "328135           Domestico           Despegue        BAR              AER   \n",
              "\n",
              "                   Aerolinea Nombre          Aeronave  Pasajeros Calidad dato  \n",
              "0                                 0      PA-PA-28-181          0   DEFINITIVO  \n",
              "1          AEROLINEAS ARGENTINAS SA       BO-B737-8MB         70   DEFINITIVO  \n",
              "2          AEROLINEAS ARGENTINAS SA        BO-737-800         70   DEFINITIVO  \n",
              "3          AEROLINEAS ARGENTINAS SA      BO-B-737-76N         12   DEFINITIVO  \n",
              "4          AEROLINEAS ARGENTINAS SA  EMB-ERJ190100IGW         26   DEFINITIVO  \n",
              "...                             ...               ...        ...          ...  \n",
              "328131  FB LÍNEAS AÉREAS - FLYBONDI        BO-737-8Q8         96   DEFINITIVO  \n",
              "328132  FB LÍNEAS AÉREAS - FLYBONDI        BO-737-8Q8         88   DEFINITIVO  \n",
              "328133     AEROLINEAS ARGENTINAS SA        BO-737-800         10   DEFINITIVO  \n",
              "328134             SKY AIRLINE S.A.                 0        137   DEFINITIVO  \n",
              "328135     AEROLINEAS ARGENTINAS SA        BO-737-800         11   DEFINITIVO  \n",
              "\n",
              "[328136 rows x 11 columns]"
            ],
            "text/html": [
              "\n",
              "  <div id=\"df-359c28ed-d506-4777-af88-dc2f50903695\">\n",
              "    <div class=\"colab-df-container\">\n",
              "      <div>\n",
              "<style scoped>\n",
              "    .dataframe tbody tr th:only-of-type {\n",
              "        vertical-align: middle;\n",
              "    }\n",
              "\n",
              "    .dataframe tbody tr th {\n",
              "        vertical-align: top;\n",
              "    }\n",
              "\n",
              "    .dataframe thead th {\n",
              "        text-align: right;\n",
              "    }\n",
              "</style>\n",
              "<table border=\"1\" class=\"dataframe\">\n",
              "  <thead>\n",
              "    <tr style=\"text-align: right;\">\n",
              "      <th></th>\n",
              "      <th>Fecha</th>\n",
              "      <th>Hora UTC</th>\n",
              "      <th>Clase de Vuelo (todos los vuelos)</th>\n",
              "      <th>Clasificación Vuelo</th>\n",
              "      <th>Tipo de Movimiento</th>\n",
              "      <th>Aeropuerto</th>\n",
              "      <th>Origen / Destino</th>\n",
              "      <th>Aerolinea Nombre</th>\n",
              "      <th>Aeronave</th>\n",
              "      <th>Pasajeros</th>\n",
              "      <th>Calidad dato</th>\n",
              "    </tr>\n",
              "  </thead>\n",
              "  <tbody>\n",
              "    <tr>\n",
              "      <th>0</th>\n",
              "      <td>01/01/2021</td>\n",
              "      <td>00:02</td>\n",
              "      <td>Vuelo Privado con Matrícula Nacional</td>\n",
              "      <td>Domestico</td>\n",
              "      <td>Despegue</td>\n",
              "      <td>PAR</td>\n",
              "      <td>ROS</td>\n",
              "      <td>0</td>\n",
              "      <td>PA-PA-28-181</td>\n",
              "      <td>0</td>\n",
              "      <td>DEFINITIVO</td>\n",
              "    </tr>\n",
              "    <tr>\n",
              "      <th>1</th>\n",
              "      <td>01/01/2021</td>\n",
              "      <td>00:24</td>\n",
              "      <td>Regular</td>\n",
              "      <td>Domestico</td>\n",
              "      <td>Aterrizaje</td>\n",
              "      <td>EZE</td>\n",
              "      <td>GRA</td>\n",
              "      <td>AEROLINEAS ARGENTINAS SA</td>\n",
              "      <td>BO-B737-8MB</td>\n",
              "      <td>70</td>\n",
              "      <td>DEFINITIVO</td>\n",
              "    </tr>\n",
              "    <tr>\n",
              "      <th>2</th>\n",
              "      <td>01/01/2021</td>\n",
              "      <td>00:26</td>\n",
              "      <td>Regular</td>\n",
              "      <td>Domestico</td>\n",
              "      <td>Aterrizaje</td>\n",
              "      <td>EZE</td>\n",
              "      <td>ECA</td>\n",
              "      <td>AEROLINEAS ARGENTINAS SA</td>\n",
              "      <td>BO-737-800</td>\n",
              "      <td>70</td>\n",
              "      <td>DEFINITIVO</td>\n",
              "    </tr>\n",
              "    <tr>\n",
              "      <th>3</th>\n",
              "      <td>01/01/2021</td>\n",
              "      <td>00:29</td>\n",
              "      <td>Regular</td>\n",
              "      <td>Domestico</td>\n",
              "      <td>Aterrizaje</td>\n",
              "      <td>EZE</td>\n",
              "      <td>SAL</td>\n",
              "      <td>AEROLINEAS ARGENTINAS SA</td>\n",
              "      <td>BO-B-737-76N</td>\n",
              "      <td>12</td>\n",
              "      <td>DEFINITIVO</td>\n",
              "    </tr>\n",
              "    <tr>\n",
              "      <th>4</th>\n",
              "      <td>01/01/2021</td>\n",
              "      <td>00:37</td>\n",
              "      <td>Regular</td>\n",
              "      <td>Domestico</td>\n",
              "      <td>Aterrizaje</td>\n",
              "      <td>EZE</td>\n",
              "      <td>TUC</td>\n",
              "      <td>AEROLINEAS ARGENTINAS SA</td>\n",
              "      <td>EMB-ERJ190100IGW</td>\n",
              "      <td>26</td>\n",
              "      <td>DEFINITIVO</td>\n",
              "    </tr>\n",
              "    <tr>\n",
              "      <th>...</th>\n",
              "      <td>...</td>\n",
              "      <td>...</td>\n",
              "      <td>...</td>\n",
              "      <td>...</td>\n",
              "      <td>...</td>\n",
              "      <td>...</td>\n",
              "      <td>...</td>\n",
              "      <td>...</td>\n",
              "      <td>...</td>\n",
              "      <td>...</td>\n",
              "      <td>...</td>\n",
              "    </tr>\n",
              "    <tr>\n",
              "      <th>328131</th>\n",
              "      <td>31/12/2021</td>\n",
              "      <td>23:44</td>\n",
              "      <td>Regular</td>\n",
              "      <td>Domestico</td>\n",
              "      <td>Aterrizaje</td>\n",
              "      <td>JUJ</td>\n",
              "      <td>AER</td>\n",
              "      <td>FB LÍNEAS AÉREAS - FLYBONDI</td>\n",
              "      <td>BO-737-8Q8</td>\n",
              "      <td>96</td>\n",
              "      <td>DEFINITIVO</td>\n",
              "    </tr>\n",
              "    <tr>\n",
              "      <th>328132</th>\n",
              "      <td>31/12/2021</td>\n",
              "      <td>23:45</td>\n",
              "      <td>Regular</td>\n",
              "      <td>Domestico</td>\n",
              "      <td>Despegue</td>\n",
              "      <td>AER</td>\n",
              "      <td>CBA</td>\n",
              "      <td>FB LÍNEAS AÉREAS - FLYBONDI</td>\n",
              "      <td>BO-737-8Q8</td>\n",
              "      <td>88</td>\n",
              "      <td>DEFINITIVO</td>\n",
              "    </tr>\n",
              "    <tr>\n",
              "      <th>328133</th>\n",
              "      <td>31/12/2021</td>\n",
              "      <td>23:48</td>\n",
              "      <td>Regular</td>\n",
              "      <td>Domestico</td>\n",
              "      <td>Despegue</td>\n",
              "      <td>ROS</td>\n",
              "      <td>AER</td>\n",
              "      <td>AEROLINEAS ARGENTINAS SA</td>\n",
              "      <td>BO-737-800</td>\n",
              "      <td>10</td>\n",
              "      <td>DEFINITIVO</td>\n",
              "    </tr>\n",
              "    <tr>\n",
              "      <th>328134</th>\n",
              "      <td>31/12/2021</td>\n",
              "      <td>23:55</td>\n",
              "      <td>Regular</td>\n",
              "      <td>Internacional</td>\n",
              "      <td>Aterrizaje</td>\n",
              "      <td>EZE</td>\n",
              "      <td>SCEL</td>\n",
              "      <td>SKY AIRLINE S.A.</td>\n",
              "      <td>0</td>\n",
              "      <td>137</td>\n",
              "      <td>DEFINITIVO</td>\n",
              "    </tr>\n",
              "    <tr>\n",
              "      <th>328135</th>\n",
              "      <td>31/12/2021</td>\n",
              "      <td>23:58</td>\n",
              "      <td>Regular</td>\n",
              "      <td>Domestico</td>\n",
              "      <td>Despegue</td>\n",
              "      <td>BAR</td>\n",
              "      <td>AER</td>\n",
              "      <td>AEROLINEAS ARGENTINAS SA</td>\n",
              "      <td>BO-737-800</td>\n",
              "      <td>11</td>\n",
              "      <td>DEFINITIVO</td>\n",
              "    </tr>\n",
              "  </tbody>\n",
              "</table>\n",
              "<p>328136 rows × 11 columns</p>\n",
              "</div>\n",
              "      <button class=\"colab-df-convert\" onclick=\"convertToInteractive('df-359c28ed-d506-4777-af88-dc2f50903695')\"\n",
              "              title=\"Convert this dataframe to an interactive table.\"\n",
              "              style=\"display:none;\">\n",
              "        \n",
              "  <svg xmlns=\"http://www.w3.org/2000/svg\" height=\"24px\"viewBox=\"0 0 24 24\"\n",
              "       width=\"24px\">\n",
              "    <path d=\"M0 0h24v24H0V0z\" fill=\"none\"/>\n",
              "    <path d=\"M18.56 5.44l.94 2.06.94-2.06 2.06-.94-2.06-.94-.94-2.06-.94 2.06-2.06.94zm-11 1L8.5 8.5l.94-2.06 2.06-.94-2.06-.94L8.5 2.5l-.94 2.06-2.06.94zm10 10l.94 2.06.94-2.06 2.06-.94-2.06-.94-.94-2.06-.94 2.06-2.06.94z\"/><path d=\"M17.41 7.96l-1.37-1.37c-.4-.4-.92-.59-1.43-.59-.52 0-1.04.2-1.43.59L10.3 9.45l-7.72 7.72c-.78.78-.78 2.05 0 2.83L4 21.41c.39.39.9.59 1.41.59.51 0 1.02-.2 1.41-.59l7.78-7.78 2.81-2.81c.8-.78.8-2.07 0-2.86zM5.41 20L4 18.59l7.72-7.72 1.47 1.35L5.41 20z\"/>\n",
              "  </svg>\n",
              "      </button>\n",
              "      \n",
              "  <style>\n",
              "    .colab-df-container {\n",
              "      display:flex;\n",
              "      flex-wrap:wrap;\n",
              "      gap: 12px;\n",
              "    }\n",
              "\n",
              "    .colab-df-convert {\n",
              "      background-color: #E8F0FE;\n",
              "      border: none;\n",
              "      border-radius: 50%;\n",
              "      cursor: pointer;\n",
              "      display: none;\n",
              "      fill: #1967D2;\n",
              "      height: 32px;\n",
              "      padding: 0 0 0 0;\n",
              "      width: 32px;\n",
              "    }\n",
              "\n",
              "    .colab-df-convert:hover {\n",
              "      background-color: #E2EBFA;\n",
              "      box-shadow: 0px 1px 2px rgba(60, 64, 67, 0.3), 0px 1px 3px 1px rgba(60, 64, 67, 0.15);\n",
              "      fill: #174EA6;\n",
              "    }\n",
              "\n",
              "    [theme=dark] .colab-df-convert {\n",
              "      background-color: #3B4455;\n",
              "      fill: #D2E3FC;\n",
              "    }\n",
              "\n",
              "    [theme=dark] .colab-df-convert:hover {\n",
              "      background-color: #434B5C;\n",
              "      box-shadow: 0px 1px 3px 1px rgba(0, 0, 0, 0.15);\n",
              "      filter: drop-shadow(0px 1px 2px rgba(0, 0, 0, 0.3));\n",
              "      fill: #FFFFFF;\n",
              "    }\n",
              "  </style>\n",
              "\n",
              "      <script>\n",
              "        const buttonEl =\n",
              "          document.querySelector('#df-359c28ed-d506-4777-af88-dc2f50903695 button.colab-df-convert');\n",
              "        buttonEl.style.display =\n",
              "          google.colab.kernel.accessAllowed ? 'block' : 'none';\n",
              "\n",
              "        async function convertToInteractive(key) {\n",
              "          const element = document.querySelector('#df-359c28ed-d506-4777-af88-dc2f50903695');\n",
              "          const dataTable =\n",
              "            await google.colab.kernel.invokeFunction('convertToInteractive',\n",
              "                                                     [key], {});\n",
              "          if (!dataTable) return;\n",
              "\n",
              "          const docLinkHtml = 'Like what you see? Visit the ' +\n",
              "            '<a target=\"_blank\" href=https://colab.research.google.com/notebooks/data_table.ipynb>data table notebook</a>'\n",
              "            + ' to learn more about interactive tables.';\n",
              "          element.innerHTML = '';\n",
              "          dataTable['output_type'] = 'display_data';\n",
              "          await google.colab.output.renderOutput(dataTable, element);\n",
              "          const docLink = document.createElement('div');\n",
              "          docLink.innerHTML = docLinkHtml;\n",
              "          element.appendChild(docLink);\n",
              "        }\n",
              "      </script>\n",
              "    </div>\n",
              "  </div>\n",
              "  "
            ]
          },
          "metadata": {},
          "execution_count": 100
        }
      ]
    },
    {
      "cell_type": "code",
      "source": [
        "df_2021.info()"
      ],
      "metadata": {
        "id": "AkS3J3W1lmRy",
        "outputId": "d3704143-e111-4040-923b-fa585f4dae1b",
        "colab": {
          "base_uri": "https://localhost:8080/"
        }
      },
      "execution_count": null,
      "outputs": [
        {
          "output_type": "stream",
          "name": "stdout",
          "text": [
            "<class 'pandas.core.frame.DataFrame'>\n",
            "RangeIndex: 328136 entries, 0 to 328135\n",
            "Data columns (total 11 columns):\n",
            " #   Column                             Non-Null Count   Dtype \n",
            "---  ------                             --------------   ----- \n",
            " 0   Fecha                              328136 non-null  object\n",
            " 1   Hora UTC                           328136 non-null  object\n",
            " 2   Clase de Vuelo (todos los vuelos)  328136 non-null  object\n",
            " 3   Clasificación Vuelo                328136 non-null  object\n",
            " 4   Tipo de Movimiento                 328136 non-null  object\n",
            " 5   Aeropuerto                         328136 non-null  object\n",
            " 6   Origen / Destino                   328136 non-null  object\n",
            " 7   Aerolinea Nombre                   328136 non-null  object\n",
            " 8   Aeronave                           328136 non-null  object\n",
            " 9   Pasajeros                          328136 non-null  int64 \n",
            " 10  Calidad dato                       328136 non-null  object\n",
            "dtypes: int64(1), object(10)\n",
            "memory usage: 27.5+ MB\n"
          ]
        }
      ]
    },
    {
      "cell_type": "code",
      "source": [
        "# Validamos si hay valores nulos en pasajeros\n",
        "df_2021[df_2021['Pasajeros'].isna()] \n"
      ],
      "metadata": {
        "id": "DutEu1K6ECO1",
        "outputId": "cd0323cb-caac-44d3-d71d-20abcfe00627",
        "colab": {
          "base_uri": "https://localhost:8080/",
          "height": 49
        }
      },
      "execution_count": null,
      "outputs": [
        {
          "output_type": "execute_result",
          "data": {
            "text/plain": [
              "Empty DataFrame\n",
              "Columns: [Fecha, Hora UTC, Clase de Vuelo (todos los vuelos), Clasificación Vuelo, Tipo de Movimiento, Aeropuerto, Origen / Destino, Aerolinea Nombre, Aeronave, Pasajeros, Calidad dato]\n",
              "Index: []"
            ],
            "text/html": [
              "\n",
              "  <div id=\"df-aa492fd8-63ea-4f8f-b077-fa87034b3a9c\">\n",
              "    <div class=\"colab-df-container\">\n",
              "      <div>\n",
              "<style scoped>\n",
              "    .dataframe tbody tr th:only-of-type {\n",
              "        vertical-align: middle;\n",
              "    }\n",
              "\n",
              "    .dataframe tbody tr th {\n",
              "        vertical-align: top;\n",
              "    }\n",
              "\n",
              "    .dataframe thead th {\n",
              "        text-align: right;\n",
              "    }\n",
              "</style>\n",
              "<table border=\"1\" class=\"dataframe\">\n",
              "  <thead>\n",
              "    <tr style=\"text-align: right;\">\n",
              "      <th></th>\n",
              "      <th>Fecha</th>\n",
              "      <th>Hora UTC</th>\n",
              "      <th>Clase de Vuelo (todos los vuelos)</th>\n",
              "      <th>Clasificación Vuelo</th>\n",
              "      <th>Tipo de Movimiento</th>\n",
              "      <th>Aeropuerto</th>\n",
              "      <th>Origen / Destino</th>\n",
              "      <th>Aerolinea Nombre</th>\n",
              "      <th>Aeronave</th>\n",
              "      <th>Pasajeros</th>\n",
              "      <th>Calidad dato</th>\n",
              "    </tr>\n",
              "  </thead>\n",
              "  <tbody>\n",
              "  </tbody>\n",
              "</table>\n",
              "</div>\n",
              "      <button class=\"colab-df-convert\" onclick=\"convertToInteractive('df-aa492fd8-63ea-4f8f-b077-fa87034b3a9c')\"\n",
              "              title=\"Convert this dataframe to an interactive table.\"\n",
              "              style=\"display:none;\">\n",
              "        \n",
              "  <svg xmlns=\"http://www.w3.org/2000/svg\" height=\"24px\"viewBox=\"0 0 24 24\"\n",
              "       width=\"24px\">\n",
              "    <path d=\"M0 0h24v24H0V0z\" fill=\"none\"/>\n",
              "    <path d=\"M18.56 5.44l.94 2.06.94-2.06 2.06-.94-2.06-.94-.94-2.06-.94 2.06-2.06.94zm-11 1L8.5 8.5l.94-2.06 2.06-.94-2.06-.94L8.5 2.5l-.94 2.06-2.06.94zm10 10l.94 2.06.94-2.06 2.06-.94-2.06-.94-.94-2.06-.94 2.06-2.06.94z\"/><path d=\"M17.41 7.96l-1.37-1.37c-.4-.4-.92-.59-1.43-.59-.52 0-1.04.2-1.43.59L10.3 9.45l-7.72 7.72c-.78.78-.78 2.05 0 2.83L4 21.41c.39.39.9.59 1.41.59.51 0 1.02-.2 1.41-.59l7.78-7.78 2.81-2.81c.8-.78.8-2.07 0-2.86zM5.41 20L4 18.59l7.72-7.72 1.47 1.35L5.41 20z\"/>\n",
              "  </svg>\n",
              "      </button>\n",
              "      \n",
              "  <style>\n",
              "    .colab-df-container {\n",
              "      display:flex;\n",
              "      flex-wrap:wrap;\n",
              "      gap: 12px;\n",
              "    }\n",
              "\n",
              "    .colab-df-convert {\n",
              "      background-color: #E8F0FE;\n",
              "      border: none;\n",
              "      border-radius: 50%;\n",
              "      cursor: pointer;\n",
              "      display: none;\n",
              "      fill: #1967D2;\n",
              "      height: 32px;\n",
              "      padding: 0 0 0 0;\n",
              "      width: 32px;\n",
              "    }\n",
              "\n",
              "    .colab-df-convert:hover {\n",
              "      background-color: #E2EBFA;\n",
              "      box-shadow: 0px 1px 2px rgba(60, 64, 67, 0.3), 0px 1px 3px 1px rgba(60, 64, 67, 0.15);\n",
              "      fill: #174EA6;\n",
              "    }\n",
              "\n",
              "    [theme=dark] .colab-df-convert {\n",
              "      background-color: #3B4455;\n",
              "      fill: #D2E3FC;\n",
              "    }\n",
              "\n",
              "    [theme=dark] .colab-df-convert:hover {\n",
              "      background-color: #434B5C;\n",
              "      box-shadow: 0px 1px 3px 1px rgba(0, 0, 0, 0.15);\n",
              "      filter: drop-shadow(0px 1px 2px rgba(0, 0, 0, 0.3));\n",
              "      fill: #FFFFFF;\n",
              "    }\n",
              "  </style>\n",
              "\n",
              "      <script>\n",
              "        const buttonEl =\n",
              "          document.querySelector('#df-aa492fd8-63ea-4f8f-b077-fa87034b3a9c button.colab-df-convert');\n",
              "        buttonEl.style.display =\n",
              "          google.colab.kernel.accessAllowed ? 'block' : 'none';\n",
              "\n",
              "        async function convertToInteractive(key) {\n",
              "          const element = document.querySelector('#df-aa492fd8-63ea-4f8f-b077-fa87034b3a9c');\n",
              "          const dataTable =\n",
              "            await google.colab.kernel.invokeFunction('convertToInteractive',\n",
              "                                                     [key], {});\n",
              "          if (!dataTable) return;\n",
              "\n",
              "          const docLinkHtml = 'Like what you see? Visit the ' +\n",
              "            '<a target=\"_blank\" href=https://colab.research.google.com/notebooks/data_table.ipynb>data table notebook</a>'\n",
              "            + ' to learn more about interactive tables.';\n",
              "          element.innerHTML = '';\n",
              "          dataTable['output_type'] = 'display_data';\n",
              "          await google.colab.output.renderOutput(dataTable, element);\n",
              "          const docLink = document.createElement('div');\n",
              "          docLink.innerHTML = docLinkHtml;\n",
              "          element.appendChild(docLink);\n",
              "        }\n",
              "      </script>\n",
              "    </div>\n",
              "  </div>\n",
              "  "
            ]
          },
          "metadata": {},
          "execution_count": 102
        }
      ]
    },
    {
      "cell_type": "code",
      "source": [
        "df_2022"
      ],
      "metadata": {
        "colab": {
          "base_uri": "https://localhost:8080/",
          "height": 467
        },
        "id": "mAB_4P8rGvMG",
        "outputId": "c25a5e05-6481-45b3-f0df-7059fd4aab4a"
      },
      "execution_count": null,
      "outputs": [
        {
          "output_type": "execute_result",
          "data": {
            "text/plain": [
              "             Fecha Hora UTC Clase de Vuelo (todos los vuelos)  \\\n",
              "0       01/01/2022    00:01                           Regular   \n",
              "1       01/01/2022    00:05                           Regular   \n",
              "2       01/01/2022    00:05                           Regular   \n",
              "3       01/01/2022    00:09                           Regular   \n",
              "4       01/01/2022    00:09                           Regular   \n",
              "...            ...      ...                               ...   \n",
              "222922  30/06/2022    23:59                           Regular   \n",
              "222923  30/06/2022    16:26                           Regular   \n",
              "222924  30/06/2022    13:08                           Regular   \n",
              "222925  30/06/2022    01:33                           Regular   \n",
              "222926  30/06/2022    21:26                           Regular   \n",
              "\n",
              "       Clasificación Vuelo Tipo de Movimiento Aeropuerto Origen / Destino  \\\n",
              "0                Doméstico         Aterrizaje        AER              ECA   \n",
              "1                Doméstico         Aterrizaje        AER              SAL   \n",
              "2                Doméstico           Despegue        IGU              AER   \n",
              "3                Doméstico         Aterrizaje        AER              GAL   \n",
              "4            Internacional           Despegue        EZE             KDFW   \n",
              "...                    ...                ...        ...              ...   \n",
              "222922           Doméstico           Despegue        DOZ              AER   \n",
              "222923           Doméstico           Despegue        VIE              BAR   \n",
              "222924           Doméstico         Aterrizaje        VIE              AER   \n",
              "222925           Doméstico           Despegue        LAR              AER   \n",
              "222926           Doméstico         Aterrizaje        LAR              AER   \n",
              "\n",
              "                Aerolinea Nombre          Aeronave Pasajeros Calidad dato  \n",
              "0       AEROLINEAS ARGENTINAS SA        BO-737-8SH        69   DEFINITIVO  \n",
              "1       AEROLINEAS ARGENTINAS SA         BO-B737-8        65   DEFINITIVO  \n",
              "2         JETSMART AIRLINES S.A.      AIB-A320-232        41   DEFINITIVO  \n",
              "3       AEROLINEAS ARGENTINAS SA       BO-B737-81D        73   DEFINITIVO  \n",
              "4         AMERICAN AIRLINES INC.                 0       261   DEFINITIVO  \n",
              "...                          ...               ...       ...          ...  \n",
              "222922  AEROLINEAS ARGENTINAS SA       BO-B737-8SH      83,5   PROVISORIO  \n",
              "222923  AEROLINEAS ARGENTINAS SA  EMB-ERJ190100IGW      33,5   PROVISORIO  \n",
              "222924  AEROLINEAS ARGENTINAS SA  EMB-ERJ190100IGW      45,5   PROVISORIO  \n",
              "222925  AEROLINEAS ARGENTINAS SA  EMB-ERJ190100IGW      47,5   PROVISORIO  \n",
              "222926  AEROLINEAS ARGENTINAS SA  EMB-ERJ190100IGW      48,5   PROVISORIO  \n",
              "\n",
              "[222927 rows x 11 columns]"
            ],
            "text/html": [
              "\n",
              "  <div id=\"df-b718d2c5-9ede-4556-884b-28c71a9a2272\">\n",
              "    <div class=\"colab-df-container\">\n",
              "      <div>\n",
              "<style scoped>\n",
              "    .dataframe tbody tr th:only-of-type {\n",
              "        vertical-align: middle;\n",
              "    }\n",
              "\n",
              "    .dataframe tbody tr th {\n",
              "        vertical-align: top;\n",
              "    }\n",
              "\n",
              "    .dataframe thead th {\n",
              "        text-align: right;\n",
              "    }\n",
              "</style>\n",
              "<table border=\"1\" class=\"dataframe\">\n",
              "  <thead>\n",
              "    <tr style=\"text-align: right;\">\n",
              "      <th></th>\n",
              "      <th>Fecha</th>\n",
              "      <th>Hora UTC</th>\n",
              "      <th>Clase de Vuelo (todos los vuelos)</th>\n",
              "      <th>Clasificación Vuelo</th>\n",
              "      <th>Tipo de Movimiento</th>\n",
              "      <th>Aeropuerto</th>\n",
              "      <th>Origen / Destino</th>\n",
              "      <th>Aerolinea Nombre</th>\n",
              "      <th>Aeronave</th>\n",
              "      <th>Pasajeros</th>\n",
              "      <th>Calidad dato</th>\n",
              "    </tr>\n",
              "  </thead>\n",
              "  <tbody>\n",
              "    <tr>\n",
              "      <th>0</th>\n",
              "      <td>01/01/2022</td>\n",
              "      <td>00:01</td>\n",
              "      <td>Regular</td>\n",
              "      <td>Doméstico</td>\n",
              "      <td>Aterrizaje</td>\n",
              "      <td>AER</td>\n",
              "      <td>ECA</td>\n",
              "      <td>AEROLINEAS ARGENTINAS SA</td>\n",
              "      <td>BO-737-8SH</td>\n",
              "      <td>69</td>\n",
              "      <td>DEFINITIVO</td>\n",
              "    </tr>\n",
              "    <tr>\n",
              "      <th>1</th>\n",
              "      <td>01/01/2022</td>\n",
              "      <td>00:05</td>\n",
              "      <td>Regular</td>\n",
              "      <td>Doméstico</td>\n",
              "      <td>Aterrizaje</td>\n",
              "      <td>AER</td>\n",
              "      <td>SAL</td>\n",
              "      <td>AEROLINEAS ARGENTINAS SA</td>\n",
              "      <td>BO-B737-8</td>\n",
              "      <td>65</td>\n",
              "      <td>DEFINITIVO</td>\n",
              "    </tr>\n",
              "    <tr>\n",
              "      <th>2</th>\n",
              "      <td>01/01/2022</td>\n",
              "      <td>00:05</td>\n",
              "      <td>Regular</td>\n",
              "      <td>Doméstico</td>\n",
              "      <td>Despegue</td>\n",
              "      <td>IGU</td>\n",
              "      <td>AER</td>\n",
              "      <td>JETSMART AIRLINES S.A.</td>\n",
              "      <td>AIB-A320-232</td>\n",
              "      <td>41</td>\n",
              "      <td>DEFINITIVO</td>\n",
              "    </tr>\n",
              "    <tr>\n",
              "      <th>3</th>\n",
              "      <td>01/01/2022</td>\n",
              "      <td>00:09</td>\n",
              "      <td>Regular</td>\n",
              "      <td>Doméstico</td>\n",
              "      <td>Aterrizaje</td>\n",
              "      <td>AER</td>\n",
              "      <td>GAL</td>\n",
              "      <td>AEROLINEAS ARGENTINAS SA</td>\n",
              "      <td>BO-B737-81D</td>\n",
              "      <td>73</td>\n",
              "      <td>DEFINITIVO</td>\n",
              "    </tr>\n",
              "    <tr>\n",
              "      <th>4</th>\n",
              "      <td>01/01/2022</td>\n",
              "      <td>00:09</td>\n",
              "      <td>Regular</td>\n",
              "      <td>Internacional</td>\n",
              "      <td>Despegue</td>\n",
              "      <td>EZE</td>\n",
              "      <td>KDFW</td>\n",
              "      <td>AMERICAN AIRLINES INC.</td>\n",
              "      <td>0</td>\n",
              "      <td>261</td>\n",
              "      <td>DEFINITIVO</td>\n",
              "    </tr>\n",
              "    <tr>\n",
              "      <th>...</th>\n",
              "      <td>...</td>\n",
              "      <td>...</td>\n",
              "      <td>...</td>\n",
              "      <td>...</td>\n",
              "      <td>...</td>\n",
              "      <td>...</td>\n",
              "      <td>...</td>\n",
              "      <td>...</td>\n",
              "      <td>...</td>\n",
              "      <td>...</td>\n",
              "      <td>...</td>\n",
              "    </tr>\n",
              "    <tr>\n",
              "      <th>222922</th>\n",
              "      <td>30/06/2022</td>\n",
              "      <td>23:59</td>\n",
              "      <td>Regular</td>\n",
              "      <td>Doméstico</td>\n",
              "      <td>Despegue</td>\n",
              "      <td>DOZ</td>\n",
              "      <td>AER</td>\n",
              "      <td>AEROLINEAS ARGENTINAS SA</td>\n",
              "      <td>BO-B737-8SH</td>\n",
              "      <td>83,5</td>\n",
              "      <td>PROVISORIO</td>\n",
              "    </tr>\n",
              "    <tr>\n",
              "      <th>222923</th>\n",
              "      <td>30/06/2022</td>\n",
              "      <td>16:26</td>\n",
              "      <td>Regular</td>\n",
              "      <td>Doméstico</td>\n",
              "      <td>Despegue</td>\n",
              "      <td>VIE</td>\n",
              "      <td>BAR</td>\n",
              "      <td>AEROLINEAS ARGENTINAS SA</td>\n",
              "      <td>EMB-ERJ190100IGW</td>\n",
              "      <td>33,5</td>\n",
              "      <td>PROVISORIO</td>\n",
              "    </tr>\n",
              "    <tr>\n",
              "      <th>222924</th>\n",
              "      <td>30/06/2022</td>\n",
              "      <td>13:08</td>\n",
              "      <td>Regular</td>\n",
              "      <td>Doméstico</td>\n",
              "      <td>Aterrizaje</td>\n",
              "      <td>VIE</td>\n",
              "      <td>AER</td>\n",
              "      <td>AEROLINEAS ARGENTINAS SA</td>\n",
              "      <td>EMB-ERJ190100IGW</td>\n",
              "      <td>45,5</td>\n",
              "      <td>PROVISORIO</td>\n",
              "    </tr>\n",
              "    <tr>\n",
              "      <th>222925</th>\n",
              "      <td>30/06/2022</td>\n",
              "      <td>01:33</td>\n",
              "      <td>Regular</td>\n",
              "      <td>Doméstico</td>\n",
              "      <td>Despegue</td>\n",
              "      <td>LAR</td>\n",
              "      <td>AER</td>\n",
              "      <td>AEROLINEAS ARGENTINAS SA</td>\n",
              "      <td>EMB-ERJ190100IGW</td>\n",
              "      <td>47,5</td>\n",
              "      <td>PROVISORIO</td>\n",
              "    </tr>\n",
              "    <tr>\n",
              "      <th>222926</th>\n",
              "      <td>30/06/2022</td>\n",
              "      <td>21:26</td>\n",
              "      <td>Regular</td>\n",
              "      <td>Doméstico</td>\n",
              "      <td>Aterrizaje</td>\n",
              "      <td>LAR</td>\n",
              "      <td>AER</td>\n",
              "      <td>AEROLINEAS ARGENTINAS SA</td>\n",
              "      <td>EMB-ERJ190100IGW</td>\n",
              "      <td>48,5</td>\n",
              "      <td>PROVISORIO</td>\n",
              "    </tr>\n",
              "  </tbody>\n",
              "</table>\n",
              "<p>222927 rows × 11 columns</p>\n",
              "</div>\n",
              "      <button class=\"colab-df-convert\" onclick=\"convertToInteractive('df-b718d2c5-9ede-4556-884b-28c71a9a2272')\"\n",
              "              title=\"Convert this dataframe to an interactive table.\"\n",
              "              style=\"display:none;\">\n",
              "        \n",
              "  <svg xmlns=\"http://www.w3.org/2000/svg\" height=\"24px\"viewBox=\"0 0 24 24\"\n",
              "       width=\"24px\">\n",
              "    <path d=\"M0 0h24v24H0V0z\" fill=\"none\"/>\n",
              "    <path d=\"M18.56 5.44l.94 2.06.94-2.06 2.06-.94-2.06-.94-.94-2.06-.94 2.06-2.06.94zm-11 1L8.5 8.5l.94-2.06 2.06-.94-2.06-.94L8.5 2.5l-.94 2.06-2.06.94zm10 10l.94 2.06.94-2.06 2.06-.94-2.06-.94-.94-2.06-.94 2.06-2.06.94z\"/><path d=\"M17.41 7.96l-1.37-1.37c-.4-.4-.92-.59-1.43-.59-.52 0-1.04.2-1.43.59L10.3 9.45l-7.72 7.72c-.78.78-.78 2.05 0 2.83L4 21.41c.39.39.9.59 1.41.59.51 0 1.02-.2 1.41-.59l7.78-7.78 2.81-2.81c.8-.78.8-2.07 0-2.86zM5.41 20L4 18.59l7.72-7.72 1.47 1.35L5.41 20z\"/>\n",
              "  </svg>\n",
              "      </button>\n",
              "      \n",
              "  <style>\n",
              "    .colab-df-container {\n",
              "      display:flex;\n",
              "      flex-wrap:wrap;\n",
              "      gap: 12px;\n",
              "    }\n",
              "\n",
              "    .colab-df-convert {\n",
              "      background-color: #E8F0FE;\n",
              "      border: none;\n",
              "      border-radius: 50%;\n",
              "      cursor: pointer;\n",
              "      display: none;\n",
              "      fill: #1967D2;\n",
              "      height: 32px;\n",
              "      padding: 0 0 0 0;\n",
              "      width: 32px;\n",
              "    }\n",
              "\n",
              "    .colab-df-convert:hover {\n",
              "      background-color: #E2EBFA;\n",
              "      box-shadow: 0px 1px 2px rgba(60, 64, 67, 0.3), 0px 1px 3px 1px rgba(60, 64, 67, 0.15);\n",
              "      fill: #174EA6;\n",
              "    }\n",
              "\n",
              "    [theme=dark] .colab-df-convert {\n",
              "      background-color: #3B4455;\n",
              "      fill: #D2E3FC;\n",
              "    }\n",
              "\n",
              "    [theme=dark] .colab-df-convert:hover {\n",
              "      background-color: #434B5C;\n",
              "      box-shadow: 0px 1px 3px 1px rgba(0, 0, 0, 0.15);\n",
              "      filter: drop-shadow(0px 1px 2px rgba(0, 0, 0, 0.3));\n",
              "      fill: #FFFFFF;\n",
              "    }\n",
              "  </style>\n",
              "\n",
              "      <script>\n",
              "        const buttonEl =\n",
              "          document.querySelector('#df-b718d2c5-9ede-4556-884b-28c71a9a2272 button.colab-df-convert');\n",
              "        buttonEl.style.display =\n",
              "          google.colab.kernel.accessAllowed ? 'block' : 'none';\n",
              "\n",
              "        async function convertToInteractive(key) {\n",
              "          const element = document.querySelector('#df-b718d2c5-9ede-4556-884b-28c71a9a2272');\n",
              "          const dataTable =\n",
              "            await google.colab.kernel.invokeFunction('convertToInteractive',\n",
              "                                                     [key], {});\n",
              "          if (!dataTable) return;\n",
              "\n",
              "          const docLinkHtml = 'Like what you see? Visit the ' +\n",
              "            '<a target=\"_blank\" href=https://colab.research.google.com/notebooks/data_table.ipynb>data table notebook</a>'\n",
              "            + ' to learn more about interactive tables.';\n",
              "          element.innerHTML = '';\n",
              "          dataTable['output_type'] = 'display_data';\n",
              "          await google.colab.output.renderOutput(dataTable, element);\n",
              "          const docLink = document.createElement('div');\n",
              "          docLink.innerHTML = docLinkHtml;\n",
              "          element.appendChild(docLink);\n",
              "        }\n",
              "      </script>\n",
              "    </div>\n",
              "  </div>\n",
              "  "
            ]
          },
          "metadata": {},
          "execution_count": 103
        }
      ]
    },
    {
      "cell_type": "code",
      "source": [
        "# Validamos si hay valores nulos en pasajeros\n",
        "df_2022[df_2022['Pasajeros'].isna()] \n"
      ],
      "metadata": {
        "colab": {
          "base_uri": "https://localhost:8080/",
          "height": 49
        },
        "id": "JGrDaHIKHmXZ",
        "outputId": "eb0d892b-299d-4aa0-ff28-f93e513576b1"
      },
      "execution_count": null,
      "outputs": [
        {
          "output_type": "execute_result",
          "data": {
            "text/plain": [
              "Empty DataFrame\n",
              "Columns: [Fecha, Hora UTC, Clase de Vuelo (todos los vuelos), Clasificación Vuelo, Tipo de Movimiento, Aeropuerto, Origen / Destino, Aerolinea Nombre, Aeronave, Pasajeros, Calidad dato]\n",
              "Index: []"
            ],
            "text/html": [
              "\n",
              "  <div id=\"df-9c37716e-fff4-4402-b295-6ce9a7e31083\">\n",
              "    <div class=\"colab-df-container\">\n",
              "      <div>\n",
              "<style scoped>\n",
              "    .dataframe tbody tr th:only-of-type {\n",
              "        vertical-align: middle;\n",
              "    }\n",
              "\n",
              "    .dataframe tbody tr th {\n",
              "        vertical-align: top;\n",
              "    }\n",
              "\n",
              "    .dataframe thead th {\n",
              "        text-align: right;\n",
              "    }\n",
              "</style>\n",
              "<table border=\"1\" class=\"dataframe\">\n",
              "  <thead>\n",
              "    <tr style=\"text-align: right;\">\n",
              "      <th></th>\n",
              "      <th>Fecha</th>\n",
              "      <th>Hora UTC</th>\n",
              "      <th>Clase de Vuelo (todos los vuelos)</th>\n",
              "      <th>Clasificación Vuelo</th>\n",
              "      <th>Tipo de Movimiento</th>\n",
              "      <th>Aeropuerto</th>\n",
              "      <th>Origen / Destino</th>\n",
              "      <th>Aerolinea Nombre</th>\n",
              "      <th>Aeronave</th>\n",
              "      <th>Pasajeros</th>\n",
              "      <th>Calidad dato</th>\n",
              "    </tr>\n",
              "  </thead>\n",
              "  <tbody>\n",
              "  </tbody>\n",
              "</table>\n",
              "</div>\n",
              "      <button class=\"colab-df-convert\" onclick=\"convertToInteractive('df-9c37716e-fff4-4402-b295-6ce9a7e31083')\"\n",
              "              title=\"Convert this dataframe to an interactive table.\"\n",
              "              style=\"display:none;\">\n",
              "        \n",
              "  <svg xmlns=\"http://www.w3.org/2000/svg\" height=\"24px\"viewBox=\"0 0 24 24\"\n",
              "       width=\"24px\">\n",
              "    <path d=\"M0 0h24v24H0V0z\" fill=\"none\"/>\n",
              "    <path d=\"M18.56 5.44l.94 2.06.94-2.06 2.06-.94-2.06-.94-.94-2.06-.94 2.06-2.06.94zm-11 1L8.5 8.5l.94-2.06 2.06-.94-2.06-.94L8.5 2.5l-.94 2.06-2.06.94zm10 10l.94 2.06.94-2.06 2.06-.94-2.06-.94-.94-2.06-.94 2.06-2.06.94z\"/><path d=\"M17.41 7.96l-1.37-1.37c-.4-.4-.92-.59-1.43-.59-.52 0-1.04.2-1.43.59L10.3 9.45l-7.72 7.72c-.78.78-.78 2.05 0 2.83L4 21.41c.39.39.9.59 1.41.59.51 0 1.02-.2 1.41-.59l7.78-7.78 2.81-2.81c.8-.78.8-2.07 0-2.86zM5.41 20L4 18.59l7.72-7.72 1.47 1.35L5.41 20z\"/>\n",
              "  </svg>\n",
              "      </button>\n",
              "      \n",
              "  <style>\n",
              "    .colab-df-container {\n",
              "      display:flex;\n",
              "      flex-wrap:wrap;\n",
              "      gap: 12px;\n",
              "    }\n",
              "\n",
              "    .colab-df-convert {\n",
              "      background-color: #E8F0FE;\n",
              "      border: none;\n",
              "      border-radius: 50%;\n",
              "      cursor: pointer;\n",
              "      display: none;\n",
              "      fill: #1967D2;\n",
              "      height: 32px;\n",
              "      padding: 0 0 0 0;\n",
              "      width: 32px;\n",
              "    }\n",
              "\n",
              "    .colab-df-convert:hover {\n",
              "      background-color: #E2EBFA;\n",
              "      box-shadow: 0px 1px 2px rgba(60, 64, 67, 0.3), 0px 1px 3px 1px rgba(60, 64, 67, 0.15);\n",
              "      fill: #174EA6;\n",
              "    }\n",
              "\n",
              "    [theme=dark] .colab-df-convert {\n",
              "      background-color: #3B4455;\n",
              "      fill: #D2E3FC;\n",
              "    }\n",
              "\n",
              "    [theme=dark] .colab-df-convert:hover {\n",
              "      background-color: #434B5C;\n",
              "      box-shadow: 0px 1px 3px 1px rgba(0, 0, 0, 0.15);\n",
              "      filter: drop-shadow(0px 1px 2px rgba(0, 0, 0, 0.3));\n",
              "      fill: #FFFFFF;\n",
              "    }\n",
              "  </style>\n",
              "\n",
              "      <script>\n",
              "        const buttonEl =\n",
              "          document.querySelector('#df-9c37716e-fff4-4402-b295-6ce9a7e31083 button.colab-df-convert');\n",
              "        buttonEl.style.display =\n",
              "          google.colab.kernel.accessAllowed ? 'block' : 'none';\n",
              "\n",
              "        async function convertToInteractive(key) {\n",
              "          const element = document.querySelector('#df-9c37716e-fff4-4402-b295-6ce9a7e31083');\n",
              "          const dataTable =\n",
              "            await google.colab.kernel.invokeFunction('convertToInteractive',\n",
              "                                                     [key], {});\n",
              "          if (!dataTable) return;\n",
              "\n",
              "          const docLinkHtml = 'Like what you see? Visit the ' +\n",
              "            '<a target=\"_blank\" href=https://colab.research.google.com/notebooks/data_table.ipynb>data table notebook</a>'\n",
              "            + ' to learn more about interactive tables.';\n",
              "          element.innerHTML = '';\n",
              "          dataTable['output_type'] = 'display_data';\n",
              "          await google.colab.output.renderOutput(dataTable, element);\n",
              "          const docLink = document.createElement('div');\n",
              "          docLink.innerHTML = docLinkHtml;\n",
              "          element.appendChild(docLink);\n",
              "        }\n",
              "      </script>\n",
              "    </div>\n",
              "  </div>\n",
              "  "
            ]
          },
          "metadata": {},
          "execution_count": 104
        }
      ]
    },
    {
      "cell_type": "code",
      "source": [
        "df_aeropuertos"
      ],
      "metadata": {
        "id": "t3i-peJ9H1Pe",
        "outputId": "8225e161-91bc-4aed-cec6-bbc11d49c187",
        "colab": {
          "base_uri": "https://localhost:8080/",
          "height": 661
        }
      },
      "execution_count": null,
      "outputs": [
        {
          "output_type": "execute_result",
          "data": {
            "text/plain": [
              "    local  oaci iata       tipo                       denominacion  \\\n",
              "0     ACB   NaN  NaN  Aeródromo       CORONEL BOGADO/AGROSERVICIOS   \n",
              "1     ACH   NaN  NaN  Aeródromo                       GENERAL ACHA   \n",
              "2     ACM   NaN  NaN  Aeródromo            ARRECIFES/LA CURA MALAL   \n",
              "3     ADO  SAWD  PUD  Aeródromo                     PUERTO DESEADO   \n",
              "4     ADT   NaN  NaN  Aeródromo  BANDERA/AGROSERVICIOS DOÑA TERESA   \n",
              "..    ...   ...  ...        ...                                ...   \n",
              "688   YOS  SAZH  OYO  Aeródromo                       TRES ARROYOS   \n",
              "689   YPY   NaN  NaN  Aeródromo                             YAPEYÚ   \n",
              "690   ZAP  SAHZ  APZ  Aeródromo                             ZAPALA   \n",
              "691   ZLM   NaN  NaN  Aeródromo               BELL VILLE/LA ZULEMA   \n",
              "692   ZUL  SAZA  NaN  Aeródromo                               AZUL   \n",
              "\n",
              "                coordenadas    latitud   longitud    elev uom_elev  ...  \\\n",
              "0    33°16'20\"S  60°34'14\"W -60.570660 -33.272260    44.0   Metros  ...   \n",
              "1    37°24' 6\"S  64°36'49\"W -64.613510 -37.401640   277.0   Metros  ...   \n",
              "2    34° 4'33\"S  60° 8'30\"W -60.141700 -34.075740    37.0   Metros  ...   \n",
              "3    47°44' 6\"S  65°54'15\"W -65.904100 -47.735110    82.0   Metros  ...   \n",
              "4    28°51'19\"S  62°15'53\"W -62.264620 -28.855410    75.0   Metros  ...   \n",
              "..                      ...        ...        ...     ...      ...  ...   \n",
              "688  38°23' 8\"S  60°19'39\"W -60.327500 -38.385556   122.0   Metros  ...   \n",
              "689  29°21'32\"S  56°47'45\"W -56.795730 -29.358770    53.0   Metros  ...   \n",
              "690  38°58'33\"S  70° 6'48\"W -70.113464 -38.975886  1048.0   Metros  ...   \n",
              "691  32°29'23\"S  62°40'17\"W -62.671389 -32.489722   129.0   Metros  ...   \n",
              "692  36°50'12\"S  59°52'51\"W -59.880800 -36.836750   146.0   Metros  ...   \n",
              "\n",
              "    condicion    control region   fir      uso   trafico sna concesionado  \\\n",
              "0     PRIVADO  NOCONTROL   RACE  SAEF  AEROAPP  Nacional  NO           NO   \n",
              "1     PUBLICO  NOCONTROL   RACE  SAEF    CIVIL  Nacional  NO           NO   \n",
              "2     PRIVADO  NOCONTROL   RACE  SAEF    CIVIL  Nacional  NO           NO   \n",
              "3     PUBLICO    AERADIO   RASU  SAVF    CIVIL  Nacional  NO           NO   \n",
              "4     PRIVADO  NOCONTROL   RANO  SACF  AEROAPP  Nacional  NO           NO   \n",
              "..        ...        ...    ...   ...      ...       ...  ..          ...   \n",
              "688   PUBLICO  NOCONTROL   RACE  SAEF      NaN  Nacional  NO           NO   \n",
              "689   PRIVADO  NOCONTROL   RANE  SARR      NaN  Nacional  NO           NO   \n",
              "690   PUBLICO  NOCONTROL   RACE  SAEF      NaN  Nacional  NO           NO   \n",
              "691   PRIVADO  NOCONTROL   RANO  SACF  AEROAPP  Nacional  NO           NO   \n",
              "692   PUBLICO  NOCONTROL   RACE  SAEF    CIVIL  Nacional  NO           NO   \n",
              "\n",
              "               provincia inhab  \n",
              "0               SANTA FÉ    NO  \n",
              "1               LA PAMPA    NO  \n",
              "2           BUENOS AIRES    NO  \n",
              "3             SANTA CRUZ    NO  \n",
              "4    SANTIAGO DEL ESTERO    NO  \n",
              "..                   ...   ...  \n",
              "688         BUENOS AIRES    NO  \n",
              "689           CORRIENTES    NO  \n",
              "690              NEUQUÉN    NO  \n",
              "691              CÓRDOBA    NO  \n",
              "692         BUENOS AIRES    NO  \n",
              "\n",
              "[693 rows x 23 columns]"
            ],
            "text/html": [
              "\n",
              "  <div id=\"df-b343fe5c-171d-4caf-b7cc-4d0d6f0c39d1\">\n",
              "    <div class=\"colab-df-container\">\n",
              "      <div>\n",
              "<style scoped>\n",
              "    .dataframe tbody tr th:only-of-type {\n",
              "        vertical-align: middle;\n",
              "    }\n",
              "\n",
              "    .dataframe tbody tr th {\n",
              "        vertical-align: top;\n",
              "    }\n",
              "\n",
              "    .dataframe thead th {\n",
              "        text-align: right;\n",
              "    }\n",
              "</style>\n",
              "<table border=\"1\" class=\"dataframe\">\n",
              "  <thead>\n",
              "    <tr style=\"text-align: right;\">\n",
              "      <th></th>\n",
              "      <th>local</th>\n",
              "      <th>oaci</th>\n",
              "      <th>iata</th>\n",
              "      <th>tipo</th>\n",
              "      <th>denominacion</th>\n",
              "      <th>coordenadas</th>\n",
              "      <th>latitud</th>\n",
              "      <th>longitud</th>\n",
              "      <th>elev</th>\n",
              "      <th>uom_elev</th>\n",
              "      <th>...</th>\n",
              "      <th>condicion</th>\n",
              "      <th>control</th>\n",
              "      <th>region</th>\n",
              "      <th>fir</th>\n",
              "      <th>uso</th>\n",
              "      <th>trafico</th>\n",
              "      <th>sna</th>\n",
              "      <th>concesionado</th>\n",
              "      <th>provincia</th>\n",
              "      <th>inhab</th>\n",
              "    </tr>\n",
              "  </thead>\n",
              "  <tbody>\n",
              "    <tr>\n",
              "      <th>0</th>\n",
              "      <td>ACB</td>\n",
              "      <td>NaN</td>\n",
              "      <td>NaN</td>\n",
              "      <td>Aeródromo</td>\n",
              "      <td>CORONEL BOGADO/AGROSERVICIOS</td>\n",
              "      <td>33°16'20\"S  60°34'14\"W</td>\n",
              "      <td>-60.570660</td>\n",
              "      <td>-33.272260</td>\n",
              "      <td>44.0</td>\n",
              "      <td>Metros</td>\n",
              "      <td>...</td>\n",
              "      <td>PRIVADO</td>\n",
              "      <td>NOCONTROL</td>\n",
              "      <td>RACE</td>\n",
              "      <td>SAEF</td>\n",
              "      <td>AEROAPP</td>\n",
              "      <td>Nacional</td>\n",
              "      <td>NO</td>\n",
              "      <td>NO</td>\n",
              "      <td>SANTA FÉ</td>\n",
              "      <td>NO</td>\n",
              "    </tr>\n",
              "    <tr>\n",
              "      <th>1</th>\n",
              "      <td>ACH</td>\n",
              "      <td>NaN</td>\n",
              "      <td>NaN</td>\n",
              "      <td>Aeródromo</td>\n",
              "      <td>GENERAL ACHA</td>\n",
              "      <td>37°24' 6\"S  64°36'49\"W</td>\n",
              "      <td>-64.613510</td>\n",
              "      <td>-37.401640</td>\n",
              "      <td>277.0</td>\n",
              "      <td>Metros</td>\n",
              "      <td>...</td>\n",
              "      <td>PUBLICO</td>\n",
              "      <td>NOCONTROL</td>\n",
              "      <td>RACE</td>\n",
              "      <td>SAEF</td>\n",
              "      <td>CIVIL</td>\n",
              "      <td>Nacional</td>\n",
              "      <td>NO</td>\n",
              "      <td>NO</td>\n",
              "      <td>LA PAMPA</td>\n",
              "      <td>NO</td>\n",
              "    </tr>\n",
              "    <tr>\n",
              "      <th>2</th>\n",
              "      <td>ACM</td>\n",
              "      <td>NaN</td>\n",
              "      <td>NaN</td>\n",
              "      <td>Aeródromo</td>\n",
              "      <td>ARRECIFES/LA CURA MALAL</td>\n",
              "      <td>34° 4'33\"S  60° 8'30\"W</td>\n",
              "      <td>-60.141700</td>\n",
              "      <td>-34.075740</td>\n",
              "      <td>37.0</td>\n",
              "      <td>Metros</td>\n",
              "      <td>...</td>\n",
              "      <td>PRIVADO</td>\n",
              "      <td>NOCONTROL</td>\n",
              "      <td>RACE</td>\n",
              "      <td>SAEF</td>\n",
              "      <td>CIVIL</td>\n",
              "      <td>Nacional</td>\n",
              "      <td>NO</td>\n",
              "      <td>NO</td>\n",
              "      <td>BUENOS AIRES</td>\n",
              "      <td>NO</td>\n",
              "    </tr>\n",
              "    <tr>\n",
              "      <th>3</th>\n",
              "      <td>ADO</td>\n",
              "      <td>SAWD</td>\n",
              "      <td>PUD</td>\n",
              "      <td>Aeródromo</td>\n",
              "      <td>PUERTO DESEADO</td>\n",
              "      <td>47°44' 6\"S  65°54'15\"W</td>\n",
              "      <td>-65.904100</td>\n",
              "      <td>-47.735110</td>\n",
              "      <td>82.0</td>\n",
              "      <td>Metros</td>\n",
              "      <td>...</td>\n",
              "      <td>PUBLICO</td>\n",
              "      <td>AERADIO</td>\n",
              "      <td>RASU</td>\n",
              "      <td>SAVF</td>\n",
              "      <td>CIVIL</td>\n",
              "      <td>Nacional</td>\n",
              "      <td>NO</td>\n",
              "      <td>NO</td>\n",
              "      <td>SANTA CRUZ</td>\n",
              "      <td>NO</td>\n",
              "    </tr>\n",
              "    <tr>\n",
              "      <th>4</th>\n",
              "      <td>ADT</td>\n",
              "      <td>NaN</td>\n",
              "      <td>NaN</td>\n",
              "      <td>Aeródromo</td>\n",
              "      <td>BANDERA/AGROSERVICIOS DOÑA TERESA</td>\n",
              "      <td>28°51'19\"S  62°15'53\"W</td>\n",
              "      <td>-62.264620</td>\n",
              "      <td>-28.855410</td>\n",
              "      <td>75.0</td>\n",
              "      <td>Metros</td>\n",
              "      <td>...</td>\n",
              "      <td>PRIVADO</td>\n",
              "      <td>NOCONTROL</td>\n",
              "      <td>RANO</td>\n",
              "      <td>SACF</td>\n",
              "      <td>AEROAPP</td>\n",
              "      <td>Nacional</td>\n",
              "      <td>NO</td>\n",
              "      <td>NO</td>\n",
              "      <td>SANTIAGO DEL ESTERO</td>\n",
              "      <td>NO</td>\n",
              "    </tr>\n",
              "    <tr>\n",
              "      <th>...</th>\n",
              "      <td>...</td>\n",
              "      <td>...</td>\n",
              "      <td>...</td>\n",
              "      <td>...</td>\n",
              "      <td>...</td>\n",
              "      <td>...</td>\n",
              "      <td>...</td>\n",
              "      <td>...</td>\n",
              "      <td>...</td>\n",
              "      <td>...</td>\n",
              "      <td>...</td>\n",
              "      <td>...</td>\n",
              "      <td>...</td>\n",
              "      <td>...</td>\n",
              "      <td>...</td>\n",
              "      <td>...</td>\n",
              "      <td>...</td>\n",
              "      <td>...</td>\n",
              "      <td>...</td>\n",
              "      <td>...</td>\n",
              "      <td>...</td>\n",
              "    </tr>\n",
              "    <tr>\n",
              "      <th>688</th>\n",
              "      <td>YOS</td>\n",
              "      <td>SAZH</td>\n",
              "      <td>OYO</td>\n",
              "      <td>Aeródromo</td>\n",
              "      <td>TRES ARROYOS</td>\n",
              "      <td>38°23' 8\"S  60°19'39\"W</td>\n",
              "      <td>-60.327500</td>\n",
              "      <td>-38.385556</td>\n",
              "      <td>122.0</td>\n",
              "      <td>Metros</td>\n",
              "      <td>...</td>\n",
              "      <td>PUBLICO</td>\n",
              "      <td>NOCONTROL</td>\n",
              "      <td>RACE</td>\n",
              "      <td>SAEF</td>\n",
              "      <td>NaN</td>\n",
              "      <td>Nacional</td>\n",
              "      <td>NO</td>\n",
              "      <td>NO</td>\n",
              "      <td>BUENOS AIRES</td>\n",
              "      <td>NO</td>\n",
              "    </tr>\n",
              "    <tr>\n",
              "      <th>689</th>\n",
              "      <td>YPY</td>\n",
              "      <td>NaN</td>\n",
              "      <td>NaN</td>\n",
              "      <td>Aeródromo</td>\n",
              "      <td>YAPEYÚ</td>\n",
              "      <td>29°21'32\"S  56°47'45\"W</td>\n",
              "      <td>-56.795730</td>\n",
              "      <td>-29.358770</td>\n",
              "      <td>53.0</td>\n",
              "      <td>Metros</td>\n",
              "      <td>...</td>\n",
              "      <td>PRIVADO</td>\n",
              "      <td>NOCONTROL</td>\n",
              "      <td>RANE</td>\n",
              "      <td>SARR</td>\n",
              "      <td>NaN</td>\n",
              "      <td>Nacional</td>\n",
              "      <td>NO</td>\n",
              "      <td>NO</td>\n",
              "      <td>CORRIENTES</td>\n",
              "      <td>NO</td>\n",
              "    </tr>\n",
              "    <tr>\n",
              "      <th>690</th>\n",
              "      <td>ZAP</td>\n",
              "      <td>SAHZ</td>\n",
              "      <td>APZ</td>\n",
              "      <td>Aeródromo</td>\n",
              "      <td>ZAPALA</td>\n",
              "      <td>38°58'33\"S  70° 6'48\"W</td>\n",
              "      <td>-70.113464</td>\n",
              "      <td>-38.975886</td>\n",
              "      <td>1048.0</td>\n",
              "      <td>Metros</td>\n",
              "      <td>...</td>\n",
              "      <td>PUBLICO</td>\n",
              "      <td>NOCONTROL</td>\n",
              "      <td>RACE</td>\n",
              "      <td>SAEF</td>\n",
              "      <td>NaN</td>\n",
              "      <td>Nacional</td>\n",
              "      <td>NO</td>\n",
              "      <td>NO</td>\n",
              "      <td>NEUQUÉN</td>\n",
              "      <td>NO</td>\n",
              "    </tr>\n",
              "    <tr>\n",
              "      <th>691</th>\n",
              "      <td>ZLM</td>\n",
              "      <td>NaN</td>\n",
              "      <td>NaN</td>\n",
              "      <td>Aeródromo</td>\n",
              "      <td>BELL VILLE/LA ZULEMA</td>\n",
              "      <td>32°29'23\"S  62°40'17\"W</td>\n",
              "      <td>-62.671389</td>\n",
              "      <td>-32.489722</td>\n",
              "      <td>129.0</td>\n",
              "      <td>Metros</td>\n",
              "      <td>...</td>\n",
              "      <td>PRIVADO</td>\n",
              "      <td>NOCONTROL</td>\n",
              "      <td>RANO</td>\n",
              "      <td>SACF</td>\n",
              "      <td>AEROAPP</td>\n",
              "      <td>Nacional</td>\n",
              "      <td>NO</td>\n",
              "      <td>NO</td>\n",
              "      <td>CÓRDOBA</td>\n",
              "      <td>NO</td>\n",
              "    </tr>\n",
              "    <tr>\n",
              "      <th>692</th>\n",
              "      <td>ZUL</td>\n",
              "      <td>SAZA</td>\n",
              "      <td>NaN</td>\n",
              "      <td>Aeródromo</td>\n",
              "      <td>AZUL</td>\n",
              "      <td>36°50'12\"S  59°52'51\"W</td>\n",
              "      <td>-59.880800</td>\n",
              "      <td>-36.836750</td>\n",
              "      <td>146.0</td>\n",
              "      <td>Metros</td>\n",
              "      <td>...</td>\n",
              "      <td>PUBLICO</td>\n",
              "      <td>NOCONTROL</td>\n",
              "      <td>RACE</td>\n",
              "      <td>SAEF</td>\n",
              "      <td>CIVIL</td>\n",
              "      <td>Nacional</td>\n",
              "      <td>NO</td>\n",
              "      <td>NO</td>\n",
              "      <td>BUENOS AIRES</td>\n",
              "      <td>NO</td>\n",
              "    </tr>\n",
              "  </tbody>\n",
              "</table>\n",
              "<p>693 rows × 23 columns</p>\n",
              "</div>\n",
              "      <button class=\"colab-df-convert\" onclick=\"convertToInteractive('df-b343fe5c-171d-4caf-b7cc-4d0d6f0c39d1')\"\n",
              "              title=\"Convert this dataframe to an interactive table.\"\n",
              "              style=\"display:none;\">\n",
              "        \n",
              "  <svg xmlns=\"http://www.w3.org/2000/svg\" height=\"24px\"viewBox=\"0 0 24 24\"\n",
              "       width=\"24px\">\n",
              "    <path d=\"M0 0h24v24H0V0z\" fill=\"none\"/>\n",
              "    <path d=\"M18.56 5.44l.94 2.06.94-2.06 2.06-.94-2.06-.94-.94-2.06-.94 2.06-2.06.94zm-11 1L8.5 8.5l.94-2.06 2.06-.94-2.06-.94L8.5 2.5l-.94 2.06-2.06.94zm10 10l.94 2.06.94-2.06 2.06-.94-2.06-.94-.94-2.06-.94 2.06-2.06.94z\"/><path d=\"M17.41 7.96l-1.37-1.37c-.4-.4-.92-.59-1.43-.59-.52 0-1.04.2-1.43.59L10.3 9.45l-7.72 7.72c-.78.78-.78 2.05 0 2.83L4 21.41c.39.39.9.59 1.41.59.51 0 1.02-.2 1.41-.59l7.78-7.78 2.81-2.81c.8-.78.8-2.07 0-2.86zM5.41 20L4 18.59l7.72-7.72 1.47 1.35L5.41 20z\"/>\n",
              "  </svg>\n",
              "      </button>\n",
              "      \n",
              "  <style>\n",
              "    .colab-df-container {\n",
              "      display:flex;\n",
              "      flex-wrap:wrap;\n",
              "      gap: 12px;\n",
              "    }\n",
              "\n",
              "    .colab-df-convert {\n",
              "      background-color: #E8F0FE;\n",
              "      border: none;\n",
              "      border-radius: 50%;\n",
              "      cursor: pointer;\n",
              "      display: none;\n",
              "      fill: #1967D2;\n",
              "      height: 32px;\n",
              "      padding: 0 0 0 0;\n",
              "      width: 32px;\n",
              "    }\n",
              "\n",
              "    .colab-df-convert:hover {\n",
              "      background-color: #E2EBFA;\n",
              "      box-shadow: 0px 1px 2px rgba(60, 64, 67, 0.3), 0px 1px 3px 1px rgba(60, 64, 67, 0.15);\n",
              "      fill: #174EA6;\n",
              "    }\n",
              "\n",
              "    [theme=dark] .colab-df-convert {\n",
              "      background-color: #3B4455;\n",
              "      fill: #D2E3FC;\n",
              "    }\n",
              "\n",
              "    [theme=dark] .colab-df-convert:hover {\n",
              "      background-color: #434B5C;\n",
              "      box-shadow: 0px 1px 3px 1px rgba(0, 0, 0, 0.15);\n",
              "      filter: drop-shadow(0px 1px 2px rgba(0, 0, 0, 0.3));\n",
              "      fill: #FFFFFF;\n",
              "    }\n",
              "  </style>\n",
              "\n",
              "      <script>\n",
              "        const buttonEl =\n",
              "          document.querySelector('#df-b343fe5c-171d-4caf-b7cc-4d0d6f0c39d1 button.colab-df-convert');\n",
              "        buttonEl.style.display =\n",
              "          google.colab.kernel.accessAllowed ? 'block' : 'none';\n",
              "\n",
              "        async function convertToInteractive(key) {\n",
              "          const element = document.querySelector('#df-b343fe5c-171d-4caf-b7cc-4d0d6f0c39d1');\n",
              "          const dataTable =\n",
              "            await google.colab.kernel.invokeFunction('convertToInteractive',\n",
              "                                                     [key], {});\n",
              "          if (!dataTable) return;\n",
              "\n",
              "          const docLinkHtml = 'Like what you see? Visit the ' +\n",
              "            '<a target=\"_blank\" href=https://colab.research.google.com/notebooks/data_table.ipynb>data table notebook</a>'\n",
              "            + ' to learn more about interactive tables.';\n",
              "          element.innerHTML = '';\n",
              "          dataTable['output_type'] = 'display_data';\n",
              "          await google.colab.output.renderOutput(dataTable, element);\n",
              "          const docLink = document.createElement('div');\n",
              "          docLink.innerHTML = docLinkHtml;\n",
              "          element.appendChild(docLink);\n",
              "        }\n",
              "      </script>\n",
              "    </div>\n",
              "  </div>\n",
              "  "
            ]
          },
          "metadata": {},
          "execution_count": 105
        }
      ]
    },
    {
      "cell_type": "code",
      "source": [
        "df_aeropuertos.info()"
      ],
      "metadata": {
        "id": "zNdvzs0mm2bU",
        "outputId": "344047f3-f3f3-43b0-c317-3b393f750bdc",
        "colab": {
          "base_uri": "https://localhost:8080/"
        }
      },
      "execution_count": null,
      "outputs": [
        {
          "output_type": "stream",
          "name": "stdout",
          "text": [
            "<class 'pandas.core.frame.DataFrame'>\n",
            "RangeIndex: 693 entries, 0 to 692\n",
            "Data columns (total 23 columns):\n",
            " #   Column         Non-Null Count  Dtype  \n",
            "---  ------         --------------  -----  \n",
            " 0   local          693 non-null    object \n",
            " 1   oaci           124 non-null    object \n",
            " 2   iata           90 non-null     object \n",
            " 3   tipo           693 non-null    object \n",
            " 4   denominacion   693 non-null    object \n",
            " 5   coordenadas    693 non-null    object \n",
            " 6   latitud        693 non-null    float64\n",
            " 7   longitud       693 non-null    float64\n",
            " 8   elev           693 non-null    float64\n",
            " 9   uom_elev       693 non-null    object \n",
            " 10  ref            683 non-null    object \n",
            " 11  distancia_ref  688 non-null    float64\n",
            " 12  direccion_ref  679 non-null    object \n",
            " 13  condicion      693 non-null    object \n",
            " 14  control        693 non-null    object \n",
            " 15  region         693 non-null    object \n",
            " 16  fir            693 non-null    object \n",
            " 17  uso            470 non-null    object \n",
            " 18  trafico        693 non-null    object \n",
            " 19  sna            693 non-null    object \n",
            " 20  concesionado   693 non-null    object \n",
            " 21  provincia      693 non-null    object \n",
            " 22  inhab          693 non-null    object \n",
            "dtypes: float64(4), object(19)\n",
            "memory usage: 124.6+ KB\n"
          ]
        }
      ]
    },
    {
      "cell_type": "code",
      "source": [
        "# Validamos si hay valores nulos en distancia_ref\n",
        "df_aeropuertos[df_aeropuertos['distancia_ref'].isna()] "
      ],
      "metadata": {
        "id": "82ep3tUjkg0D",
        "outputId": "79992f66-f369-4646-b561-0c0a4b8b2546",
        "colab": {
          "base_uri": "https://localhost:8080/",
          "height": 557
        }
      },
      "execution_count": null,
      "outputs": [
        {
          "output_type": "execute_result",
          "data": {
            "text/plain": [
              "    local  oaci iata        tipo  \\\n",
              "266   HET   NaN  NaN  Helipuerto   \n",
              "299   HMG   NaN  NaN  Helipuerto   \n",
              "307   HNH   NaN  NaN  Helipuerto   \n",
              "341   HSW   NaN  NaN  Helipuerto   \n",
              "439   MBI  SAWB  NaN   Aeródromo   \n",
              "\n",
              "                                          denominacion  \\\n",
              "266  SANTIAGO DEL ESTERO/HELIPUERTO EDIFICIO TRIBUN...   \n",
              "299                      BUENOS AIRES / MADERO HARBOUR   \n",
              "307               HELIPLATAFORMA NOBLE HOUSTON COLBERT   \n",
              "341                      HELIPLATAFORMA SWIBER PJW3000   \n",
              "439                              VICECOMODORO MARAMBIO   \n",
              "\n",
              "                coordenadas    latitud   longitud   elev uom_elev  ...  \\\n",
              "266  27°46'53\"S  64°15'54\"W -64.265127 -27.781396  195.0   Metros  ...   \n",
              "299  34°37'16\"S  58°21'39\"W -58.360928 -34.620978   78.8   Metros  ...   \n",
              "307  53° 5'54\"S  67°13'13\"W -67.220278 -53.098333   63.5   Metros  ...   \n",
              "341  53° 4'35\"S  67°57'50\"W -67.964004 -53.076495   36.0   Metros  ...   \n",
              "439  64°14'21\"S  56°37'51\"W -56.630850 -64.239130  209.5   Metros  ...   \n",
              "\n",
              "    condicion    control region   fir    uso   trafico sna concesionado  \\\n",
              "266   PRIVADO  NOCONTROL   RANO  SACF    NaN  Nacional  NO           NO   \n",
              "299   PRIVADO  NOCONTROL   RACE  SAEF  CIVIL  Nacional  NO           NO   \n",
              "307   PRIVADO  NOCONTROL   RASU  SAVF    NaN  Nacional  NO           NO   \n",
              "341   PRIVADO  NOCONTROL   RASU  SAVF    NaN  Nacional  NO           NO   \n",
              "439   PUBLICO    CONTROL   RASU  SAVF    MIL  Nacional  NO           NO   \n",
              "\n",
              "                                             provincia inhab  \n",
              "266                                SANTIAGO DEL ESTERO    NO  \n",
              "299                    CIUDAD AUTÓNOMA DE BUENOS AIRES    NO  \n",
              "307  TIERRA DEL FUEGO ANTÁRTIDA E ISLAS DEL ATLÁNTI...    NO  \n",
              "341  TIERRA DEL FUEGO ANTÁRTIDA E ISLAS DEL ATLÁNTI...    NO  \n",
              "439  TIERRA DEL FUEGO ANTÁRTIDA E ISLAS DEL ATLÁNTI...    NO  \n",
              "\n",
              "[5 rows x 23 columns]"
            ],
            "text/html": [
              "\n",
              "  <div id=\"df-31e3867e-bb6b-47d2-8ded-de695b81f708\">\n",
              "    <div class=\"colab-df-container\">\n",
              "      <div>\n",
              "<style scoped>\n",
              "    .dataframe tbody tr th:only-of-type {\n",
              "        vertical-align: middle;\n",
              "    }\n",
              "\n",
              "    .dataframe tbody tr th {\n",
              "        vertical-align: top;\n",
              "    }\n",
              "\n",
              "    .dataframe thead th {\n",
              "        text-align: right;\n",
              "    }\n",
              "</style>\n",
              "<table border=\"1\" class=\"dataframe\">\n",
              "  <thead>\n",
              "    <tr style=\"text-align: right;\">\n",
              "      <th></th>\n",
              "      <th>local</th>\n",
              "      <th>oaci</th>\n",
              "      <th>iata</th>\n",
              "      <th>tipo</th>\n",
              "      <th>denominacion</th>\n",
              "      <th>coordenadas</th>\n",
              "      <th>latitud</th>\n",
              "      <th>longitud</th>\n",
              "      <th>elev</th>\n",
              "      <th>uom_elev</th>\n",
              "      <th>...</th>\n",
              "      <th>condicion</th>\n",
              "      <th>control</th>\n",
              "      <th>region</th>\n",
              "      <th>fir</th>\n",
              "      <th>uso</th>\n",
              "      <th>trafico</th>\n",
              "      <th>sna</th>\n",
              "      <th>concesionado</th>\n",
              "      <th>provincia</th>\n",
              "      <th>inhab</th>\n",
              "    </tr>\n",
              "  </thead>\n",
              "  <tbody>\n",
              "    <tr>\n",
              "      <th>266</th>\n",
              "      <td>HET</td>\n",
              "      <td>NaN</td>\n",
              "      <td>NaN</td>\n",
              "      <td>Helipuerto</td>\n",
              "      <td>SANTIAGO DEL ESTERO/HELIPUERTO EDIFICIO TRIBUN...</td>\n",
              "      <td>27°46'53\"S  64°15'54\"W</td>\n",
              "      <td>-64.265127</td>\n",
              "      <td>-27.781396</td>\n",
              "      <td>195.0</td>\n",
              "      <td>Metros</td>\n",
              "      <td>...</td>\n",
              "      <td>PRIVADO</td>\n",
              "      <td>NOCONTROL</td>\n",
              "      <td>RANO</td>\n",
              "      <td>SACF</td>\n",
              "      <td>NaN</td>\n",
              "      <td>Nacional</td>\n",
              "      <td>NO</td>\n",
              "      <td>NO</td>\n",
              "      <td>SANTIAGO DEL ESTERO</td>\n",
              "      <td>NO</td>\n",
              "    </tr>\n",
              "    <tr>\n",
              "      <th>299</th>\n",
              "      <td>HMG</td>\n",
              "      <td>NaN</td>\n",
              "      <td>NaN</td>\n",
              "      <td>Helipuerto</td>\n",
              "      <td>BUENOS AIRES / MADERO HARBOUR</td>\n",
              "      <td>34°37'16\"S  58°21'39\"W</td>\n",
              "      <td>-58.360928</td>\n",
              "      <td>-34.620978</td>\n",
              "      <td>78.8</td>\n",
              "      <td>Metros</td>\n",
              "      <td>...</td>\n",
              "      <td>PRIVADO</td>\n",
              "      <td>NOCONTROL</td>\n",
              "      <td>RACE</td>\n",
              "      <td>SAEF</td>\n",
              "      <td>CIVIL</td>\n",
              "      <td>Nacional</td>\n",
              "      <td>NO</td>\n",
              "      <td>NO</td>\n",
              "      <td>CIUDAD AUTÓNOMA DE BUENOS AIRES</td>\n",
              "      <td>NO</td>\n",
              "    </tr>\n",
              "    <tr>\n",
              "      <th>307</th>\n",
              "      <td>HNH</td>\n",
              "      <td>NaN</td>\n",
              "      <td>NaN</td>\n",
              "      <td>Helipuerto</td>\n",
              "      <td>HELIPLATAFORMA NOBLE HOUSTON COLBERT</td>\n",
              "      <td>53° 5'54\"S  67°13'13\"W</td>\n",
              "      <td>-67.220278</td>\n",
              "      <td>-53.098333</td>\n",
              "      <td>63.5</td>\n",
              "      <td>Metros</td>\n",
              "      <td>...</td>\n",
              "      <td>PRIVADO</td>\n",
              "      <td>NOCONTROL</td>\n",
              "      <td>RASU</td>\n",
              "      <td>SAVF</td>\n",
              "      <td>NaN</td>\n",
              "      <td>Nacional</td>\n",
              "      <td>NO</td>\n",
              "      <td>NO</td>\n",
              "      <td>TIERRA DEL FUEGO ANTÁRTIDA E ISLAS DEL ATLÁNTI...</td>\n",
              "      <td>NO</td>\n",
              "    </tr>\n",
              "    <tr>\n",
              "      <th>341</th>\n",
              "      <td>HSW</td>\n",
              "      <td>NaN</td>\n",
              "      <td>NaN</td>\n",
              "      <td>Helipuerto</td>\n",
              "      <td>HELIPLATAFORMA SWIBER PJW3000</td>\n",
              "      <td>53° 4'35\"S  67°57'50\"W</td>\n",
              "      <td>-67.964004</td>\n",
              "      <td>-53.076495</td>\n",
              "      <td>36.0</td>\n",
              "      <td>Metros</td>\n",
              "      <td>...</td>\n",
              "      <td>PRIVADO</td>\n",
              "      <td>NOCONTROL</td>\n",
              "      <td>RASU</td>\n",
              "      <td>SAVF</td>\n",
              "      <td>NaN</td>\n",
              "      <td>Nacional</td>\n",
              "      <td>NO</td>\n",
              "      <td>NO</td>\n",
              "      <td>TIERRA DEL FUEGO ANTÁRTIDA E ISLAS DEL ATLÁNTI...</td>\n",
              "      <td>NO</td>\n",
              "    </tr>\n",
              "    <tr>\n",
              "      <th>439</th>\n",
              "      <td>MBI</td>\n",
              "      <td>SAWB</td>\n",
              "      <td>NaN</td>\n",
              "      <td>Aeródromo</td>\n",
              "      <td>VICECOMODORO MARAMBIO</td>\n",
              "      <td>64°14'21\"S  56°37'51\"W</td>\n",
              "      <td>-56.630850</td>\n",
              "      <td>-64.239130</td>\n",
              "      <td>209.5</td>\n",
              "      <td>Metros</td>\n",
              "      <td>...</td>\n",
              "      <td>PUBLICO</td>\n",
              "      <td>CONTROL</td>\n",
              "      <td>RASU</td>\n",
              "      <td>SAVF</td>\n",
              "      <td>MIL</td>\n",
              "      <td>Nacional</td>\n",
              "      <td>NO</td>\n",
              "      <td>NO</td>\n",
              "      <td>TIERRA DEL FUEGO ANTÁRTIDA E ISLAS DEL ATLÁNTI...</td>\n",
              "      <td>NO</td>\n",
              "    </tr>\n",
              "  </tbody>\n",
              "</table>\n",
              "<p>5 rows × 23 columns</p>\n",
              "</div>\n",
              "      <button class=\"colab-df-convert\" onclick=\"convertToInteractive('df-31e3867e-bb6b-47d2-8ded-de695b81f708')\"\n",
              "              title=\"Convert this dataframe to an interactive table.\"\n",
              "              style=\"display:none;\">\n",
              "        \n",
              "  <svg xmlns=\"http://www.w3.org/2000/svg\" height=\"24px\"viewBox=\"0 0 24 24\"\n",
              "       width=\"24px\">\n",
              "    <path d=\"M0 0h24v24H0V0z\" fill=\"none\"/>\n",
              "    <path d=\"M18.56 5.44l.94 2.06.94-2.06 2.06-.94-2.06-.94-.94-2.06-.94 2.06-2.06.94zm-11 1L8.5 8.5l.94-2.06 2.06-.94-2.06-.94L8.5 2.5l-.94 2.06-2.06.94zm10 10l.94 2.06.94-2.06 2.06-.94-2.06-.94-.94-2.06-.94 2.06-2.06.94z\"/><path d=\"M17.41 7.96l-1.37-1.37c-.4-.4-.92-.59-1.43-.59-.52 0-1.04.2-1.43.59L10.3 9.45l-7.72 7.72c-.78.78-.78 2.05 0 2.83L4 21.41c.39.39.9.59 1.41.59.51 0 1.02-.2 1.41-.59l7.78-7.78 2.81-2.81c.8-.78.8-2.07 0-2.86zM5.41 20L4 18.59l7.72-7.72 1.47 1.35L5.41 20z\"/>\n",
              "  </svg>\n",
              "      </button>\n",
              "      \n",
              "  <style>\n",
              "    .colab-df-container {\n",
              "      display:flex;\n",
              "      flex-wrap:wrap;\n",
              "      gap: 12px;\n",
              "    }\n",
              "\n",
              "    .colab-df-convert {\n",
              "      background-color: #E8F0FE;\n",
              "      border: none;\n",
              "      border-radius: 50%;\n",
              "      cursor: pointer;\n",
              "      display: none;\n",
              "      fill: #1967D2;\n",
              "      height: 32px;\n",
              "      padding: 0 0 0 0;\n",
              "      width: 32px;\n",
              "    }\n",
              "\n",
              "    .colab-df-convert:hover {\n",
              "      background-color: #E2EBFA;\n",
              "      box-shadow: 0px 1px 2px rgba(60, 64, 67, 0.3), 0px 1px 3px 1px rgba(60, 64, 67, 0.15);\n",
              "      fill: #174EA6;\n",
              "    }\n",
              "\n",
              "    [theme=dark] .colab-df-convert {\n",
              "      background-color: #3B4455;\n",
              "      fill: #D2E3FC;\n",
              "    }\n",
              "\n",
              "    [theme=dark] .colab-df-convert:hover {\n",
              "      background-color: #434B5C;\n",
              "      box-shadow: 0px 1px 3px 1px rgba(0, 0, 0, 0.15);\n",
              "      filter: drop-shadow(0px 1px 2px rgba(0, 0, 0, 0.3));\n",
              "      fill: #FFFFFF;\n",
              "    }\n",
              "  </style>\n",
              "\n",
              "      <script>\n",
              "        const buttonEl =\n",
              "          document.querySelector('#df-31e3867e-bb6b-47d2-8ded-de695b81f708 button.colab-df-convert');\n",
              "        buttonEl.style.display =\n",
              "          google.colab.kernel.accessAllowed ? 'block' : 'none';\n",
              "\n",
              "        async function convertToInteractive(key) {\n",
              "          const element = document.querySelector('#df-31e3867e-bb6b-47d2-8ded-de695b81f708');\n",
              "          const dataTable =\n",
              "            await google.colab.kernel.invokeFunction('convertToInteractive',\n",
              "                                                     [key], {});\n",
              "          if (!dataTable) return;\n",
              "\n",
              "          const docLinkHtml = 'Like what you see? Visit the ' +\n",
              "            '<a target=\"_blank\" href=https://colab.research.google.com/notebooks/data_table.ipynb>data table notebook</a>'\n",
              "            + ' to learn more about interactive tables.';\n",
              "          element.innerHTML = '';\n",
              "          dataTable['output_type'] = 'display_data';\n",
              "          await google.colab.output.renderOutput(dataTable, element);\n",
              "          const docLink = document.createElement('div');\n",
              "          docLink.innerHTML = docLinkHtml;\n",
              "          element.appendChild(docLink);\n",
              "        }\n",
              "      </script>\n",
              "    </div>\n",
              "  </div>\n",
              "  "
            ]
          },
          "metadata": {},
          "execution_count": 107
        }
      ]
    },
    {
      "cell_type": "markdown",
      "source": [
        "### SPARK\n",
        "\n"
      ],
      "metadata": {
        "id": "gmthkqjM60fQ"
      }
    },
    {
      "cell_type": "markdown",
      "source": [
        "#### Transformaciones dataframes vuelos"
      ],
      "metadata": {
        "id": "6kX9hX3J_v38"
      }
    },
    {
      "cell_type": "code",
      "source": [
        "schema = StructType([\n",
        "            StructField(\"Fecha\", StringType(), True),\n",
        "            StructField(\"horaUTC\", StringType(), True),\n",
        "            StructField(\"clase_de_vuelo\", StringType(), True),\n",
        "            StructField(\"clasificacion_de_vuelo\", StringType(), True),\n",
        "            StructField(\"tipo_de_movimiento\", StringType(), True),\n",
        "            StructField(\"aeropuerto\", StringType(), True),\n",
        "            StructField(\"origen_destino\", StringType(), True),\n",
        "            StructField(\"aerolinea_nombre\", StringType(), True),\n",
        "            StructField(\"aeronave\", StringType(), True),\n",
        "            StructField(\"pasajeros\", IntegerType(), True)\n",
        "])"
      ],
      "metadata": {
        "id": "VmSkkwXVOLkR"
      },
      "execution_count": null,
      "outputs": []
    },
    {
      "cell_type": "code",
      "source": [
        "# Con esta alternativa los tipos de datos se importan de forma adecuada (siempre verificar!)\n",
        "spk_2021 = spark.read.csv(\"/content/2021-informe-ministerio.csv\", sep=';', schema=schema, header=True).withColumn(\"fecha\", to_date(\"Fecha\",\"dd/MM/yyyy\"))"
      ],
      "metadata": {
        "id": "fzQ2y9OE7TpC"
      },
      "execution_count": null,
      "outputs": []
    },
    {
      "cell_type": "code",
      "source": [
        "spk_2021"
      ],
      "metadata": {
        "colab": {
          "base_uri": "https://localhost:8080/"
        },
        "id": "PrwI4dFKWKSb",
        "outputId": "48b33d44-453b-4bfa-c1dd-6e47b99149b4"
      },
      "execution_count": null,
      "outputs": [
        {
          "output_type": "execute_result",
          "data": {
            "text/plain": [
              "DataFrame[fecha: date, horaUTC: string, clase_de_vuelo: string, clasificacion_de_vuelo: string, tipo_de_movimiento: string, aeropuerto: string, origen_destino: string, aerolinea_nombre: string, aeronave: string, pasajeros: int]"
            ]
          },
          "metadata": {},
          "execution_count": 8
        }
      ]
    },
    {
      "cell_type": "code",
      "source": [
        "spk_2021.show(5)"
      ],
      "metadata": {
        "id": "FGgscMVq_tMm",
        "outputId": "77a3d239-d5b0-401e-a779-b6a921c500a9",
        "colab": {
          "base_uri": "https://localhost:8080/"
        }
      },
      "execution_count": null,
      "outputs": [
        {
          "output_type": "stream",
          "name": "stdout",
          "text": [
            "+----------+-------+--------------------+----------------------+------------------+----------+--------------+--------------------+----------------+---------+\n",
            "|     fecha|horaUTC|      clase_de_vuelo|clasificacion_de_vuelo|tipo_de_movimiento|aeropuerto|origen_destino|    aerolinea_nombre|        aeronave|pasajeros|\n",
            "+----------+-------+--------------------+----------------------+------------------+----------+--------------+--------------------+----------------+---------+\n",
            "|2021-01-01|  00:02|Vuelo Privado con...|             Domestico|          Despegue|       PAR|           ROS|                   0|    PA-PA-28-181|        0|\n",
            "|2021-01-01|  00:24|             Regular|             Domestico|        Aterrizaje|       EZE|           GRA|AEROLINEAS ARGENT...|     BO-B737-8MB|       70|\n",
            "|2021-01-01|  00:26|             Regular|             Domestico|        Aterrizaje|       EZE|           ECA|AEROLINEAS ARGENT...|      BO-737-800|       70|\n",
            "|2021-01-01|  00:29|             Regular|             Domestico|        Aterrizaje|       EZE|           SAL|AEROLINEAS ARGENT...|    BO-B-737-76N|       12|\n",
            "|2021-01-01|  00:37|             Regular|             Domestico|        Aterrizaje|       EZE|           TUC|AEROLINEAS ARGENT...|EMB-ERJ190100IGW|       26|\n",
            "+----------+-------+--------------------+----------------------+------------------+----------+--------------+--------------------+----------------+---------+\n",
            "only showing top 5 rows\n",
            "\n"
          ]
        }
      ]
    },
    {
      "cell_type": "code",
      "source": [
        "spk_2021.tail(5)"
      ],
      "metadata": {
        "id": "ornD84EwlPIi",
        "outputId": "79248b5c-cf01-4bde-9205-ebb5eb2b0594",
        "colab": {
          "base_uri": "https://localhost:8080/"
        }
      },
      "execution_count": null,
      "outputs": [
        {
          "output_type": "execute_result",
          "data": {
            "text/plain": [
              "[Row(fecha=datetime.date(2021, 12, 31), horaUTC='23:44', clase_de_vuelo='Regular', clasificacion_de_vuelo='Domestico', tipo_de_movimiento='Aterrizaje', aeropuerto='JUJ', origen_destino='AER', aerolinea_nombre='FB LÍNEAS AÉREAS - FLYBONDI', aeronave='BO-737-8Q8', pasajeros=96),\n",
              " Row(fecha=datetime.date(2021, 12, 31), horaUTC='23:45', clase_de_vuelo='Regular', clasificacion_de_vuelo='Domestico', tipo_de_movimiento='Despegue', aeropuerto='AER', origen_destino='CBA', aerolinea_nombre='FB LÍNEAS AÉREAS - FLYBONDI', aeronave='BO-737-8Q8', pasajeros=88),\n",
              " Row(fecha=datetime.date(2021, 12, 31), horaUTC='23:48', clase_de_vuelo='Regular', clasificacion_de_vuelo='Domestico', tipo_de_movimiento='Despegue', aeropuerto='ROS', origen_destino='AER', aerolinea_nombre='AEROLINEAS ARGENTINAS SA', aeronave='BO-737-800', pasajeros=10),\n",
              " Row(fecha=datetime.date(2021, 12, 31), horaUTC='23:55', clase_de_vuelo='Regular', clasificacion_de_vuelo='Internacional', tipo_de_movimiento='Aterrizaje', aeropuerto='EZE', origen_destino='SCEL', aerolinea_nombre='SKY AIRLINE S.A.', aeronave='0', pasajeros=137),\n",
              " Row(fecha=datetime.date(2021, 12, 31), horaUTC='23:58', clase_de_vuelo='Regular', clasificacion_de_vuelo='Domestico', tipo_de_movimiento='Despegue', aeropuerto='BAR', origen_destino='AER', aerolinea_nombre='AEROLINEAS ARGENTINAS SA', aeronave='BO-737-800', pasajeros=11)]"
            ]
          },
          "metadata": {},
          "execution_count": 10
        }
      ]
    },
    {
      "cell_type": "code",
      "source": [
        "# Validar si hay valores nulos y reemplazarlos por cero\n",
        "spk_2021 = spk_2021.withColumn('pasajeros', when(col('pasajeros').isNull(), 0).otherwise(col('pasajeros')))\n"
      ],
      "metadata": {
        "id": "ALA_ij-t9KoC"
      },
      "execution_count": null,
      "outputs": []
    },
    {
      "cell_type": "code",
      "source": [
        "spk_2022 = spark.read.csv(\"/content/202206-informe-ministerio.csv\", sep=';', schema=schema, header=True).withColumn(\"fecha\", to_date(\"Fecha\",\"dd/MM/yyyy\"))"
      ],
      "metadata": {
        "id": "Yr2kOEmO8Iri"
      },
      "execution_count": null,
      "outputs": []
    },
    {
      "cell_type": "code",
      "source": [
        "spk_2022.show(5)"
      ],
      "metadata": {
        "id": "vBT9fn4J9eih",
        "outputId": "11cbc363-59a8-4825-f8b2-7702ed2ec7c7",
        "colab": {
          "base_uri": "https://localhost:8080/"
        }
      },
      "execution_count": null,
      "outputs": [
        {
          "output_type": "stream",
          "name": "stdout",
          "text": [
            "+----------+-------+--------------+----------------------+------------------+----------+--------------+--------------------+------------+---------+\n",
            "|     fecha|horaUTC|clase_de_vuelo|clasificacion_de_vuelo|tipo_de_movimiento|aeropuerto|origen_destino|    aerolinea_nombre|    aeronave|pasajeros|\n",
            "+----------+-------+--------------+----------------------+------------------+----------+--------------+--------------------+------------+---------+\n",
            "|2022-01-01|  00:01|       Regular|             Doméstico|        Aterrizaje|       AER|           ECA|AEROLINEAS ARGENT...|  BO-737-8SH|       69|\n",
            "|2022-01-01|  00:05|       Regular|             Doméstico|        Aterrizaje|       AER|           SAL|AEROLINEAS ARGENT...|   BO-B737-8|       65|\n",
            "|2022-01-01|  00:05|       Regular|             Doméstico|          Despegue|       IGU|           AER|JETSMART AIRLINES...|AIB-A320-232|       41|\n",
            "|2022-01-01|  00:09|       Regular|             Doméstico|        Aterrizaje|       AER|           GAL|AEROLINEAS ARGENT...| BO-B737-81D|       73|\n",
            "|2022-01-01|  00:09|       Regular|         Internacional|          Despegue|       EZE|          KDFW|AMERICAN AIRLINES...|           0|      261|\n",
            "+----------+-------+--------------+----------------------+------------------+----------+--------------+--------------------+------------+---------+\n",
            "only showing top 5 rows\n",
            "\n"
          ]
        }
      ]
    },
    {
      "cell_type": "code",
      "source": [
        "spk_2022.tail(5)"
      ],
      "metadata": {
        "id": "UEbMbwCUlXaE",
        "outputId": "904ff0e7-0c70-4343-9b4e-57eda029a941",
        "colab": {
          "base_uri": "https://localhost:8080/"
        }
      },
      "execution_count": null,
      "outputs": [
        {
          "output_type": "execute_result",
          "data": {
            "text/plain": [
              "[Row(fecha=datetime.date(2022, 6, 30), horaUTC='23:59', clase_de_vuelo='Regular', clasificacion_de_vuelo='Doméstico', tipo_de_movimiento='Despegue', aeropuerto='DOZ', origen_destino='AER', aerolinea_nombre='AEROLINEAS ARGENTINAS SA', aeronave='BO-B737-8SH', pasajeros=None),\n",
              " Row(fecha=datetime.date(2022, 6, 30), horaUTC='16:26', clase_de_vuelo='Regular', clasificacion_de_vuelo='Doméstico', tipo_de_movimiento='Despegue', aeropuerto='VIE', origen_destino='BAR', aerolinea_nombre='AEROLINEAS ARGENTINAS SA', aeronave='EMB-ERJ190100IGW', pasajeros=None),\n",
              " Row(fecha=datetime.date(2022, 6, 30), horaUTC='13:08', clase_de_vuelo='Regular', clasificacion_de_vuelo='Doméstico', tipo_de_movimiento='Aterrizaje', aeropuerto='VIE', origen_destino='AER', aerolinea_nombre='AEROLINEAS ARGENTINAS SA', aeronave='EMB-ERJ190100IGW', pasajeros=None),\n",
              " Row(fecha=datetime.date(2022, 6, 30), horaUTC='01:33', clase_de_vuelo='Regular', clasificacion_de_vuelo='Doméstico', tipo_de_movimiento='Despegue', aeropuerto='LAR', origen_destino='AER', aerolinea_nombre='AEROLINEAS ARGENTINAS SA', aeronave='EMB-ERJ190100IGW', pasajeros=None),\n",
              " Row(fecha=datetime.date(2022, 6, 30), horaUTC='21:26', clase_de_vuelo='Regular', clasificacion_de_vuelo='Doméstico', tipo_de_movimiento='Aterrizaje', aeropuerto='LAR', origen_destino='AER', aerolinea_nombre='AEROLINEAS ARGENTINAS SA', aeronave='EMB-ERJ190100IGW', pasajeros=None)]"
            ]
          },
          "metadata": {},
          "execution_count": 13
        }
      ]
    },
    {
      "cell_type": "code",
      "source": [
        "# Validar si hay valores nulos y reemplazarlos por cero\n",
        "spk_2022 = spk_2022.withColumn('pasajeros', when(col('pasajeros').isNull(), 0).otherwise(col('pasajeros')))"
      ],
      "metadata": {
        "id": "AM6RISNG9p_e"
      },
      "execution_count": null,
      "outputs": []
    },
    {
      "cell_type": "markdown",
      "source": [
        "#### Transformaciones dataframe aeropuerto"
      ],
      "metadata": {
        "id": "7v_kY2wzyyWJ"
      }
    },
    {
      "cell_type": "code",
      "source": [
        "schema2 = StructType([\n",
        "            StructField(\"aeropuerto\", StringType(), True),\n",
        "            StructField(\"oac\", StringType(), True),\n",
        "            StructField(\"iata\", StringType(), True),\n",
        "            StructField(\"tipo\", StringType(), True),\n",
        "            StructField(\"denominacion\", StringType(), True),\n",
        "            StructField(\"coordenadas\", StringType(), True),\n",
        "            StructField(\"latitud\", StringType(), True),\n",
        "            StructField(\"longitud\", StringType(), True),\n",
        "            StructField(\"elev\", FloatType(), True),\n",
        "            StructField(\"uom_elev\", StringType(), True),\n",
        "            StructField(\"ref\", StringType(), True),\n",
        "            StructField(\"distancia_ref\", FloatType(), True),\n",
        "            StructField(\"condicion\", StringType(), True),\n",
        "            StructField(\"control\", StringType(), True),\n",
        "            StructField(\"region\", StringType(), True),\n",
        "            StructField(\"uso\", StringType(), True),\n",
        "            StructField(\"trafico\", StringType(), True),\n",
        "            StructField(\"sna\", StringType(), True),\n",
        "            StructField(\"concesionado\", StringType(), True),\n",
        "            StructField(\"provincia\", StringType(), True)\n",
        "])"
      ],
      "metadata": {
        "id": "6iamLEL2yyWP"
      },
      "execution_count": null,
      "outputs": []
    },
    {
      "cell_type": "code",
      "source": [
        "spk_aeropuertos = spark.read.csv(\"/content/aeropuertos_detalle.csv\", sep=';', schema=schema2, header=True)"
      ],
      "metadata": {
        "id": "CEc10INryyWP"
      },
      "execution_count": null,
      "outputs": []
    },
    {
      "cell_type": "code",
      "source": [
        "spk_aeropuertos.show(5)"
      ],
      "metadata": {
        "outputId": "a170463d-97d5-4677-f4a0-c9d908ef99b6",
        "colab": {
          "base_uri": "https://localhost:8080/"
        },
        "id": "pvlJpj7fyyWP"
      },
      "execution_count": null,
      "outputs": [
        {
          "output_type": "stream",
          "name": "stdout",
          "text": [
            "+----------+----+----+---------+--------------------+--------------------+------------+------------+-----+--------+--------------+-------------+---------+-------+---------+----+-------+-------+------------+---------+\n",
            "|aeropuerto| oac|iata|     tipo|        denominacion|         coordenadas|     latitud|    longitud| elev|uom_elev|           ref|distancia_ref|condicion|control|   region| uso|trafico|    sna|concesionado|provincia|\n",
            "+----------+----+----+---------+--------------------+--------------------+------------+------------+-----+--------+--------------+-------------+---------+-------+---------+----+-------+-------+------------+---------+\n",
            "|       ACB|null|null|Aeródromo|CORONEL BOGADO/AG...|\"33°16'20\"\"S  60°...|-60.57066000|-33.27226000| 44.0|  Metros|Coronel Bogado|          6.0|       NE|PRIVADO|NOCONTROL|RACE|   SAEF|AEROAPP|    Nacional|       NO|\n",
            "|       ACH|null|null|Aeródromo|        GENERAL ACHA|\"37°24' 6\"\"S  64°...|-64.61351000|-37.40164000|277.0|  Metros|  General Acha|          3.0|       SO|PUBLICO|NOCONTROL|RACE|   SAEF|  CIVIL|    Nacional|       NO|\n",
            "|       ACM|null|null|Aeródromo|ARRECIFES/LA CURA...|\"34° 4'33\"\"S  60°...|-60.14170000|-34.07574000| 37.0|  Metros|     Arrecifes|          4.0|      OSO|PRIVADO|NOCONTROL|RACE|   SAEF|  CIVIL|    Nacional|       NO|\n",
            "|       ADO|SAWD| PUD|Aeródromo|      PUERTO DESEADO|\"47°44' 6\"\"S  65°...|-65.90410000|-47.73511000| 82.0|  Metros|Puerto Deseado|          2.0|        N|PUBLICO|  AERADIO|RASU|   SAVF|  CIVIL|    Nacional|       NO|\n",
            "|       ADT|null|null|Aeródromo|BANDERA/AGROSERVI...|\"28°51'19\"\"S  62°...|-62.26462000|-28.85541000| 75.0|  Metros|       Bandera|          4.0|        N|PRIVADO|NOCONTROL|RANO|   SACF|AEROAPP|    Nacional|       NO|\n",
            "+----------+----+----+---------+--------------------+--------------------+------------+------------+-----+--------+--------------+-------------+---------+-------+---------+----+-------+-------+------------+---------+\n",
            "only showing top 5 rows\n",
            "\n"
          ]
        }
      ]
    },
    {
      "cell_type": "markdown",
      "source": [
        "### Union vuelos 2021-2022"
      ],
      "metadata": {
        "id": "4QfsqPfry21B"
      }
    },
    {
      "cell_type": "code",
      "source": [
        "spk_vuelos = spk_2021.union(spk_2022)"
      ],
      "metadata": {
        "id": "NrPlv0QP9hXN"
      },
      "execution_count": null,
      "outputs": []
    },
    {
      "cell_type": "code",
      "source": [
        "spk_vuelos.show(5)"
      ],
      "metadata": {
        "id": "BD3Og9ts_bdJ",
        "outputId": "f873029e-cd9d-43a7-9e6f-4ba421eb7322",
        "colab": {
          "base_uri": "https://localhost:8080/"
        }
      },
      "execution_count": null,
      "outputs": [
        {
          "output_type": "stream",
          "name": "stdout",
          "text": [
            "+----------+-------+--------------------+----------------------+------------------+----------+--------------+--------------------+----------------+---------+\n",
            "|     fecha|horaUTC|      clase_de_vuelo|clasificacion_de_vuelo|tipo_de_movimiento|aeropuerto|origen_destino|    aerolinea_nombre|        aeronave|pasajeros|\n",
            "+----------+-------+--------------------+----------------------+------------------+----------+--------------+--------------------+----------------+---------+\n",
            "|2021-01-01|  00:02|Vuelo Privado con...|             Domestico|          Despegue|       PAR|           ROS|                   0|    PA-PA-28-181|        0|\n",
            "|2021-01-01|  00:24|             Regular|             Domestico|        Aterrizaje|       EZE|           GRA|AEROLINEAS ARGENT...|     BO-B737-8MB|       70|\n",
            "|2021-01-01|  00:26|             Regular|             Domestico|        Aterrizaje|       EZE|           ECA|AEROLINEAS ARGENT...|      BO-737-800|       70|\n",
            "|2021-01-01|  00:29|             Regular|             Domestico|        Aterrizaje|       EZE|           SAL|AEROLINEAS ARGENT...|    BO-B-737-76N|       12|\n",
            "|2021-01-01|  00:37|             Regular|             Domestico|        Aterrizaje|       EZE|           TUC|AEROLINEAS ARGENT...|EMB-ERJ190100IGW|       26|\n",
            "+----------+-------+--------------------+----------------------+------------------+----------+--------------+--------------------+----------------+---------+\n",
            "only showing top 5 rows\n",
            "\n"
          ]
        }
      ]
    },
    {
      "cell_type": "markdown",
      "source": [
        "Vuelos totales, nacionales e internacionales"
      ],
      "metadata": {
        "id": "GxHw51X699DY"
      }
    },
    {
      "cell_type": "code",
      "source": [
        "spk_vuelos.count()"
      ],
      "metadata": {
        "id": "XrtS1deNCCtL",
        "outputId": "67b0cac2-1a9e-488b-fd6c-e7eb2fd3a439",
        "colab": {
          "base_uri": "https://localhost:8080/"
        }
      },
      "execution_count": null,
      "outputs": [
        {
          "output_type": "execute_result",
          "data": {
            "text/plain": [
              "551063"
            ]
          },
          "metadata": {},
          "execution_count": 20
        }
      ]
    },
    {
      "cell_type": "markdown",
      "source": [
        "Vuelos domesticos"
      ],
      "metadata": {
        "id": "Qr0YNXBo-N3x"
      }
    },
    {
      "cell_type": "code",
      "source": [
        "spk_vuelos_nacionales = spk_vuelos.filter((spk_vuelos['clasificacion_de_vuelo'] == 'Doméstico') | (spk_vuelos['clasificacion_de_vuelo'] == 'Domestico') )"
      ],
      "metadata": {
        "id": "Ndig-QGVAzqC"
      },
      "execution_count": null,
      "outputs": []
    },
    {
      "cell_type": "code",
      "source": [
        "spk_vuelos_nacionales.count()"
      ],
      "metadata": {
        "id": "WybRauFmBk1N",
        "outputId": "af65c39a-b530-464e-fdf4-ce691469e164",
        "colab": {
          "base_uri": "https://localhost:8080/"
        }
      },
      "execution_count": null,
      "outputs": [
        {
          "output_type": "execute_result",
          "data": {
            "text/plain": [
              "483122"
            ]
          },
          "metadata": {},
          "execution_count": 62
        }
      ]
    },
    {
      "cell_type": "markdown",
      "source": [
        "Determinar la cantidad de vuelos entre las fechas 01/12/2021 y 31/01/2022"
      ],
      "metadata": {
        "id": "0Vj0Kgh8CeI_"
      }
    },
    {
      "cell_type": "code",
      "source": [
        "vuelos_nacionales_filtro = spk_vuelos_nacionales.filter((spk_vuelos_nacionales[\"fecha\"] >= '2021-12-01') & (spk_vuelos_nacionales[\"fecha\"] <= '2022-01-31'))"
      ],
      "metadata": {
        "id": "9GiLPeWNCaAG"
      },
      "execution_count": null,
      "outputs": []
    },
    {
      "cell_type": "code",
      "source": [
        "vuelos_nacionales_filtro.count()"
      ],
      "metadata": {
        "id": "K0B3C2azDwfv",
        "outputId": "722d003e-da21-4b45-e750-64a1914f8287",
        "colab": {
          "base_uri": "https://localhost:8080/"
        }
      },
      "execution_count": null,
      "outputs": [
        {
          "output_type": "execute_result",
          "data": {
            "text/plain": [
              "57984"
            ]
          },
          "metadata": {},
          "execution_count": 72
        }
      ]
    },
    {
      "cell_type": "markdown",
      "source": [
        "Cantidad de pasajeros que viajaron en Aerolíneas Argentinas entre el 01/01/2021 y 30/06/2022"
      ],
      "metadata": {
        "id": "OsjvGbNYEAUU"
      }
    },
    {
      "cell_type": "code",
      "source": [
        "pasajeros_aerolineasargentinas = spk_vuelos_nacionales.filter((spk_vuelos_nacionales[\"aerolinea_nombre\"] == \"AEROLINEAS ARGENTINAS SA\") & (spk_vuelos_nacionales[\"fecha\"] >= '2021-01-01') & (spk_vuelos_nacionales[\"fecha\"] <= '2022-06-30'))"
      ],
      "metadata": {
        "id": "TXYTMAb4ED_V"
      },
      "execution_count": null,
      "outputs": []
    },
    {
      "cell_type": "code",
      "source": [
        "total_pasajeros = pasajeros_aerolineasargentinas.agg(sum(\"pasajeros\")).collect()[0][0]"
      ],
      "metadata": {
        "id": "Hz4-dkLTFYwM"
      },
      "execution_count": null,
      "outputs": []
    },
    {
      "cell_type": "code",
      "source": [
        "total_pasajeros"
      ],
      "metadata": {
        "id": "84kKNDGcF6jq",
        "outputId": "5c37038e-e724-46b3-ad8a-bd69f0e716fa",
        "colab": {
          "base_uri": "https://localhost:8080/"
        }
      },
      "execution_count": null,
      "outputs": [
        {
          "output_type": "execute_result",
          "data": {
            "text/plain": [
              "7484860"
            ]
          },
          "metadata": {},
          "execution_count": 75
        }
      ]
    },
    {
      "cell_type": "markdown",
      "source": [
        "Mostrar fecha, hora, código aeropuerto salida, ciudad de salida, código de aeropuerto de arribo, ciudad de arribo, y cantidad de pasajeros de cada vuelo, entre el 01/01/2022 y el 30/06/2022 ordenados por fecha de manera descendiente. \n"
      ],
      "metadata": {
        "id": "0OqyFNr0GEuA"
      }
    },
    {
      "cell_type": "code",
      "source": [
        "spk_vuelos_nacionales.createOrReplaceTempView(\"vuelos_horarios\")"
      ],
      "metadata": {
        "id": "g77KKVsIGLeA"
      },
      "execution_count": null,
      "outputs": []
    },
    {
      "cell_type": "code",
      "source": [
        "spk_aeropuertos.createOrReplaceTempView(\"aeropuertos\")"
      ],
      "metadata": {
        "id": "DD_sh8gq09qU"
      },
      "execution_count": null,
      "outputs": []
    },
    {
      "cell_type": "code",
      "source": [
        "consulta_sql = \"\"\"\n",
        "SELECT vh.fecha, vh.horaUTC, vh.aeropuerto AS codigo_salida, a1.denominacion AS ciudad_salida, vh.origen_destino AS codigo_arribo, a2.denominacion AS ciudad_arribo, vh.pasajeros\n",
        "FROM vuelos_horarios vh\n",
        "JOIN aeropuertos a1 ON vh.aeropuerto = a1.aeropuerto\n",
        "JOIN aeropuertos a2 ON vh.origen_destino = a2.aeropuerto\n",
        "WHERE vh.fecha >= '2022-01-01'\n",
        "ORDER BY vh.fecha DESC\n",
        "\"\"\""
      ],
      "metadata": {
        "id": "IFKpo1280YlF"
      },
      "execution_count": null,
      "outputs": []
    },
    {
      "cell_type": "code",
      "source": [
        "vuelos_ordenados = spark.sql(consulta_sql)"
      ],
      "metadata": {
        "id": "b3IKXbMeILTs"
      },
      "execution_count": null,
      "outputs": []
    },
    {
      "cell_type": "code",
      "source": [
        "vuelos_ordenados.show(5)"
      ],
      "metadata": {
        "id": "BG8Aooy3IK0W",
        "outputId": "32766482-f9a9-496c-e37f-420a8cf44747",
        "colab": {
          "base_uri": "https://localhost:8080/"
        }
      },
      "execution_count": null,
      "outputs": [
        {
          "output_type": "stream",
          "name": "stdout",
          "text": [
            "+----------+-------+-------------+--------------------+-------------+--------------------+---------+\n",
            "|     fecha|horaUTC|codigo_salida|       ciudad_salida|codigo_arribo|       ciudad_arribo|pasajeros|\n",
            "+----------+-------+-------------+--------------------+-------------+--------------------+---------+\n",
            "|2022-06-30|  00:02|          BAR|SAN CARLOS DE BAR...|          AER|BUENOS AIRES/AERO...|        0|\n",
            "|2022-06-30|  00:12|          JUJ|JUJUY/GOBERNADOR ...|          EZE|EZEIZA/MINISTRO P...|        0|\n",
            "|2022-06-30|  00:07|          FDO|        SAN FERNANDO|          CBA|CÓRDOBA/ING. AER....|        0|\n",
            "|2022-06-30|  00:08|          ROS|ROSARIO/ISLAS MAL...|          FMA|CÓRDOBA/CAPITÁN D...|       48|\n",
            "|2022-06-30|  00:09|          FDO|        SAN FERNANDO|          FDO|        SAN FERNANDO|        0|\n",
            "+----------+-------+-------------+--------------------+-------------+--------------------+---------+\n",
            "only showing top 5 rows\n",
            "\n"
          ]
        }
      ]
    },
    {
      "cell_type": "markdown",
      "source": [
        "Cuáles son las 10 aerolíneas que más pasajeros llevaron entre el 01/01/2021 y el\n",
        "30/06/2022 exceptuando aquellas aerolíneas que no tengan nombre?"
      ],
      "metadata": {
        "id": "VS_--3jW8eAf"
      }
    },
    {
      "cell_type": "code",
      "source": [
        "consulta_sql_2 = \"\"\"\n",
        "SELECT DISTINCT vh.aerolinea_nombre, SUM(vh.pasajeros) as total_pasajeros\n",
        "FROM vuelos_horarios vh\n",
        "WHERE vh.aerolinea_nombre !=\"0\" and fecha BETWEEN '2021-01-01' AND '2022-06-30'\n",
        "GROUP BY vh.aerolinea_nombre\n",
        "ORDER BY total_pasajeros DESC, vh.aerolinea_nombre ASC\n",
        "\"\"\""
      ],
      "metadata": {
        "id": "HiiSgGErAgcO"
      },
      "execution_count": null,
      "outputs": []
    },
    {
      "cell_type": "code",
      "source": [
        "aerolineas_ordenado = spark.sql(consulta_sql_2)"
      ],
      "metadata": {
        "id": "nCtZPlbtFvHI"
      },
      "execution_count": null,
      "outputs": []
    },
    {
      "cell_type": "code",
      "source": [
        "aerolineas_ordenado.show(10)"
      ],
      "metadata": {
        "id": "gWg6KYeXF0l4",
        "outputId": "7fb5ad0d-0e2c-4cdd-be68-64710f565c82",
        "colab": {
          "base_uri": "https://localhost:8080/"
        }
      },
      "execution_count": null,
      "outputs": [
        {
          "output_type": "stream",
          "name": "stdout",
          "text": [
            "+--------------------+---------------+\n",
            "|    aerolinea_nombre|total_pasajeros|\n",
            "+--------------------+---------------+\n",
            "|AEROLINEAS ARGENT...|        7484860|\n",
            "|JETSMART AIRLINES...|        1511650|\n",
            "|FB LÍNEAS AÉREAS ...|        1482473|\n",
            "|   AMERICAN JET S.A.|          25789|\n",
            "|            L.A.D.E.|          15074|\n",
            "|       BAIRES FLY SA|           4960|\n",
            "|                LADE|           3895|\n",
            "|FUERZA AEREA ARGE...|           3855|\n",
            "|FUERZA AEREA ARGE...|           3138|\n",
            "|   FLYING AMERICA SA|           2839|\n",
            "+--------------------+---------------+\n",
            "only showing top 10 rows\n",
            "\n"
          ]
        }
      ]
    },
    {
      "cell_type": "markdown",
      "source": [
        "Cuáles son las 10 aeronaves más utilizadas entre el 01/01/2021 y el 30/06/22 que despegaron desde la Ciudad autónoma de Buenos Aires o de Buenos Aires, exceptuando aquellas aeronaves que no cuentan con nombre?\n"
      ],
      "metadata": {
        "id": "QnWY1RmtMIIP"
      }
    },
    {
      "cell_type": "markdown",
      "source": [
        "# Ejercicio 2"
      ],
      "metadata": {
        "id": "F6gmwxmUyIYN"
      }
    },
    {
      "cell_type": "code",
      "source": [
        "!wget https://data-engineer-edvai.s3.amazonaws.com/CarRentalData.csv"
      ],
      "metadata": {
        "id": "BtL2i6rnF9R2",
        "colab": {
          "base_uri": "https://localhost:8080/"
        },
        "outputId": "9496318d-e3cb-40ea-98c3-2eea1a392d23"
      },
      "execution_count": 6,
      "outputs": [
        {
          "output_type": "stream",
          "name": "stdout",
          "text": [
            "--2023-05-22 18:24:28--  https://data-engineer-edvai.s3.amazonaws.com/CarRentalData.csv\n",
            "Resolving data-engineer-edvai.s3.amazonaws.com (data-engineer-edvai.s3.amazonaws.com)... 52.217.100.164, 3.5.16.146, 52.217.161.225, ...\n",
            "Connecting to data-engineer-edvai.s3.amazonaws.com (data-engineer-edvai.s3.amazonaws.com)|52.217.100.164|:443... connected.\n",
            "HTTP request sent, awaiting response... 200 OK\n",
            "Length: 533157 (521K) [text/csv]\n",
            "Saving to: ‘CarRentalData.csv’\n",
            "\n",
            "CarRentalData.csv   100%[===================>] 520.66K  --.-KB/s    in 0.1s    \n",
            "\n",
            "2023-05-22 18:24:28 (4.64 MB/s) - ‘CarRentalData.csv’ saved [533157/533157]\n",
            "\n"
          ]
        }
      ]
    },
    {
      "cell_type": "code",
      "source": [
        "!wget -O /content/geo.csv 'https://public.opendatasoft.com/api/explore/v2.1/catalog/datasets/georef-united-states-of-america-state/exports/csv?lang=en&timezone=America%2FArgentina%2FBuenos_Aires&use_labels=true&delimiter=%3B'\n"
      ],
      "metadata": {
        "colab": {
          "base_uri": "https://localhost:8080/"
        },
        "id": "o9Ymkk2lyU9o",
        "outputId": "521c3331-bcec-4064-d750-b49abae4954c"
      },
      "execution_count": 7,
      "outputs": [
        {
          "output_type": "stream",
          "name": "stdout",
          "text": [
            "--2023-05-22 18:24:28--  https://public.opendatasoft.com/api/explore/v2.1/catalog/datasets/georef-united-states-of-america-state/exports/csv?lang=en&timezone=America%2FArgentina%2FBuenos_Aires&use_labels=true&delimiter=%3B\n",
            "Resolving public.opendatasoft.com (public.opendatasoft.com)... 34.248.20.69, 34.249.199.226\n",
            "Connecting to public.opendatasoft.com (public.opendatasoft.com)|34.248.20.69|:443... connected.\n",
            "HTTP request sent, awaiting response... 200 OK\n",
            "Length: unspecified [text/csv]\n",
            "Saving to: ‘/content/geo.csv’\n",
            "\n",
            "/content/geo.csv        [    <=>             ]   3.22M  5.12MB/s    in 0.6s    \n",
            "\n",
            "2023-05-22 18:24:30 (5.12 MB/s) - ‘/content/geo.csv’ saved [3380726]\n",
            "\n"
          ]
        }
      ]
    },
    {
      "cell_type": "code",
      "source": [
        "df_rental = pd.read_csv(\"/content/CarRentalData.csv\", sep=',')"
      ],
      "metadata": {
        "id": "_r52IA9NzAIx"
      },
      "execution_count": 8,
      "outputs": []
    },
    {
      "cell_type": "code",
      "source": [
        "df_rental"
      ],
      "metadata": {
        "colab": {
          "base_uri": "https://localhost:8080/",
          "height": 487
        },
        "id": "NnrlUnHg1ns-",
        "outputId": "6ee845a0-0a5c-4c2e-8a0b-0e2700e8981a"
      },
      "execution_count": 9,
      "outputs": [
        {
          "output_type": "execute_result",
          "data": {
            "text/plain": [
              "      fuelType  rating  renterTripsTaken  reviewCount location.city  \\\n",
              "0     ELECTRIC    5.00                13           12       Seattle   \n",
              "1     ELECTRIC    5.00                 2            1       Tijeras   \n",
              "2       HYBRID    4.92                28           24   Albuquerque   \n",
              "3     GASOLINE    5.00                21           20   Albuquerque   \n",
              "4     GASOLINE    5.00                 3            1   Albuquerque   \n",
              "...        ...     ...               ...          ...           ...   \n",
              "5846  GASOLINE    5.00                32           27      Honolulu   \n",
              "5847    HYBRID    5.00                17           16          Aiea   \n",
              "5848  GASOLINE    4.94                18           17        Kailua   \n",
              "5849  GASOLINE     NaN                 1            0       Waipahu   \n",
              "5850  GASOLINE    5.00                16           14        Kailua   \n",
              "\n",
              "     location.country  location.latitude  location.longitude location.state  \\\n",
              "0                  US          47.449107         -122.308841             WA   \n",
              "1                  US          35.111060         -106.276551             NM   \n",
              "2                  US          35.127163         -106.566681             NM   \n",
              "3                  US          35.149726         -106.711425             NM   \n",
              "4                  US          35.208659         -106.601008             NM   \n",
              "...               ...                ...                 ...            ...   \n",
              "5846               US          21.292950         -157.836856             HI   \n",
              "5847               US          21.375507         -157.914919             HI   \n",
              "5848               US          21.378719         -157.727816             HI   \n",
              "5849               US          21.376105         -158.020237             HI   \n",
              "5850               US          21.378040         -157.730000             HI   \n",
              "\n",
              "      owner.id  rate.daily vehicle.make vehicle.model vehicle.type  \\\n",
              "0     12847615         135        Tesla       Model X          suv   \n",
              "1     15621242         190        Tesla       Model X          suv   \n",
              "2     10199256          35       Toyota         Prius          car   \n",
              "3      9365496          75         Ford       Mustang          car   \n",
              "4      3553565          47     Chrysler       Sebring          car   \n",
              "...        ...         ...          ...           ...          ...   \n",
              "5846   9794111          33    Chevrolet         Cruze          car   \n",
              "5847   2754690          49        Lexus       HS 250h          car   \n",
              "5848  11313508          35        smart        fortwo          car   \n",
              "5849   4209883          77          GMC        Savana          van   \n",
              "5850  11313508          35        smart        fortwo          car   \n",
              "\n",
              "      vehicle.year  \n",
              "0             2019  \n",
              "1             2018  \n",
              "2             2012  \n",
              "3             2018  \n",
              "4             2010  \n",
              "...            ...  \n",
              "5846          2017  \n",
              "5847          2010  \n",
              "5848          2013  \n",
              "5849          2015  \n",
              "5850          2013  \n",
              "\n",
              "[5851 rows x 15 columns]"
            ],
            "text/html": [
              "\n",
              "  <div id=\"df-ab7df51f-ed12-4931-8429-7dc747364e48\">\n",
              "    <div class=\"colab-df-container\">\n",
              "      <div>\n",
              "<style scoped>\n",
              "    .dataframe tbody tr th:only-of-type {\n",
              "        vertical-align: middle;\n",
              "    }\n",
              "\n",
              "    .dataframe tbody tr th {\n",
              "        vertical-align: top;\n",
              "    }\n",
              "\n",
              "    .dataframe thead th {\n",
              "        text-align: right;\n",
              "    }\n",
              "</style>\n",
              "<table border=\"1\" class=\"dataframe\">\n",
              "  <thead>\n",
              "    <tr style=\"text-align: right;\">\n",
              "      <th></th>\n",
              "      <th>fuelType</th>\n",
              "      <th>rating</th>\n",
              "      <th>renterTripsTaken</th>\n",
              "      <th>reviewCount</th>\n",
              "      <th>location.city</th>\n",
              "      <th>location.country</th>\n",
              "      <th>location.latitude</th>\n",
              "      <th>location.longitude</th>\n",
              "      <th>location.state</th>\n",
              "      <th>owner.id</th>\n",
              "      <th>rate.daily</th>\n",
              "      <th>vehicle.make</th>\n",
              "      <th>vehicle.model</th>\n",
              "      <th>vehicle.type</th>\n",
              "      <th>vehicle.year</th>\n",
              "    </tr>\n",
              "  </thead>\n",
              "  <tbody>\n",
              "    <tr>\n",
              "      <th>0</th>\n",
              "      <td>ELECTRIC</td>\n",
              "      <td>5.00</td>\n",
              "      <td>13</td>\n",
              "      <td>12</td>\n",
              "      <td>Seattle</td>\n",
              "      <td>US</td>\n",
              "      <td>47.449107</td>\n",
              "      <td>-122.308841</td>\n",
              "      <td>WA</td>\n",
              "      <td>12847615</td>\n",
              "      <td>135</td>\n",
              "      <td>Tesla</td>\n",
              "      <td>Model X</td>\n",
              "      <td>suv</td>\n",
              "      <td>2019</td>\n",
              "    </tr>\n",
              "    <tr>\n",
              "      <th>1</th>\n",
              "      <td>ELECTRIC</td>\n",
              "      <td>5.00</td>\n",
              "      <td>2</td>\n",
              "      <td>1</td>\n",
              "      <td>Tijeras</td>\n",
              "      <td>US</td>\n",
              "      <td>35.111060</td>\n",
              "      <td>-106.276551</td>\n",
              "      <td>NM</td>\n",
              "      <td>15621242</td>\n",
              "      <td>190</td>\n",
              "      <td>Tesla</td>\n",
              "      <td>Model X</td>\n",
              "      <td>suv</td>\n",
              "      <td>2018</td>\n",
              "    </tr>\n",
              "    <tr>\n",
              "      <th>2</th>\n",
              "      <td>HYBRID</td>\n",
              "      <td>4.92</td>\n",
              "      <td>28</td>\n",
              "      <td>24</td>\n",
              "      <td>Albuquerque</td>\n",
              "      <td>US</td>\n",
              "      <td>35.127163</td>\n",
              "      <td>-106.566681</td>\n",
              "      <td>NM</td>\n",
              "      <td>10199256</td>\n",
              "      <td>35</td>\n",
              "      <td>Toyota</td>\n",
              "      <td>Prius</td>\n",
              "      <td>car</td>\n",
              "      <td>2012</td>\n",
              "    </tr>\n",
              "    <tr>\n",
              "      <th>3</th>\n",
              "      <td>GASOLINE</td>\n",
              "      <td>5.00</td>\n",
              "      <td>21</td>\n",
              "      <td>20</td>\n",
              "      <td>Albuquerque</td>\n",
              "      <td>US</td>\n",
              "      <td>35.149726</td>\n",
              "      <td>-106.711425</td>\n",
              "      <td>NM</td>\n",
              "      <td>9365496</td>\n",
              "      <td>75</td>\n",
              "      <td>Ford</td>\n",
              "      <td>Mustang</td>\n",
              "      <td>car</td>\n",
              "      <td>2018</td>\n",
              "    </tr>\n",
              "    <tr>\n",
              "      <th>4</th>\n",
              "      <td>GASOLINE</td>\n",
              "      <td>5.00</td>\n",
              "      <td>3</td>\n",
              "      <td>1</td>\n",
              "      <td>Albuquerque</td>\n",
              "      <td>US</td>\n",
              "      <td>35.208659</td>\n",
              "      <td>-106.601008</td>\n",
              "      <td>NM</td>\n",
              "      <td>3553565</td>\n",
              "      <td>47</td>\n",
              "      <td>Chrysler</td>\n",
              "      <td>Sebring</td>\n",
              "      <td>car</td>\n",
              "      <td>2010</td>\n",
              "    </tr>\n",
              "    <tr>\n",
              "      <th>...</th>\n",
              "      <td>...</td>\n",
              "      <td>...</td>\n",
              "      <td>...</td>\n",
              "      <td>...</td>\n",
              "      <td>...</td>\n",
              "      <td>...</td>\n",
              "      <td>...</td>\n",
              "      <td>...</td>\n",
              "      <td>...</td>\n",
              "      <td>...</td>\n",
              "      <td>...</td>\n",
              "      <td>...</td>\n",
              "      <td>...</td>\n",
              "      <td>...</td>\n",
              "      <td>...</td>\n",
              "    </tr>\n",
              "    <tr>\n",
              "      <th>5846</th>\n",
              "      <td>GASOLINE</td>\n",
              "      <td>5.00</td>\n",
              "      <td>32</td>\n",
              "      <td>27</td>\n",
              "      <td>Honolulu</td>\n",
              "      <td>US</td>\n",
              "      <td>21.292950</td>\n",
              "      <td>-157.836856</td>\n",
              "      <td>HI</td>\n",
              "      <td>9794111</td>\n",
              "      <td>33</td>\n",
              "      <td>Chevrolet</td>\n",
              "      <td>Cruze</td>\n",
              "      <td>car</td>\n",
              "      <td>2017</td>\n",
              "    </tr>\n",
              "    <tr>\n",
              "      <th>5847</th>\n",
              "      <td>HYBRID</td>\n",
              "      <td>5.00</td>\n",
              "      <td>17</td>\n",
              "      <td>16</td>\n",
              "      <td>Aiea</td>\n",
              "      <td>US</td>\n",
              "      <td>21.375507</td>\n",
              "      <td>-157.914919</td>\n",
              "      <td>HI</td>\n",
              "      <td>2754690</td>\n",
              "      <td>49</td>\n",
              "      <td>Lexus</td>\n",
              "      <td>HS 250h</td>\n",
              "      <td>car</td>\n",
              "      <td>2010</td>\n",
              "    </tr>\n",
              "    <tr>\n",
              "      <th>5848</th>\n",
              "      <td>GASOLINE</td>\n",
              "      <td>4.94</td>\n",
              "      <td>18</td>\n",
              "      <td>17</td>\n",
              "      <td>Kailua</td>\n",
              "      <td>US</td>\n",
              "      <td>21.378719</td>\n",
              "      <td>-157.727816</td>\n",
              "      <td>HI</td>\n",
              "      <td>11313508</td>\n",
              "      <td>35</td>\n",
              "      <td>smart</td>\n",
              "      <td>fortwo</td>\n",
              "      <td>car</td>\n",
              "      <td>2013</td>\n",
              "    </tr>\n",
              "    <tr>\n",
              "      <th>5849</th>\n",
              "      <td>GASOLINE</td>\n",
              "      <td>NaN</td>\n",
              "      <td>1</td>\n",
              "      <td>0</td>\n",
              "      <td>Waipahu</td>\n",
              "      <td>US</td>\n",
              "      <td>21.376105</td>\n",
              "      <td>-158.020237</td>\n",
              "      <td>HI</td>\n",
              "      <td>4209883</td>\n",
              "      <td>77</td>\n",
              "      <td>GMC</td>\n",
              "      <td>Savana</td>\n",
              "      <td>van</td>\n",
              "      <td>2015</td>\n",
              "    </tr>\n",
              "    <tr>\n",
              "      <th>5850</th>\n",
              "      <td>GASOLINE</td>\n",
              "      <td>5.00</td>\n",
              "      <td>16</td>\n",
              "      <td>14</td>\n",
              "      <td>Kailua</td>\n",
              "      <td>US</td>\n",
              "      <td>21.378040</td>\n",
              "      <td>-157.730000</td>\n",
              "      <td>HI</td>\n",
              "      <td>11313508</td>\n",
              "      <td>35</td>\n",
              "      <td>smart</td>\n",
              "      <td>fortwo</td>\n",
              "      <td>car</td>\n",
              "      <td>2013</td>\n",
              "    </tr>\n",
              "  </tbody>\n",
              "</table>\n",
              "<p>5851 rows × 15 columns</p>\n",
              "</div>\n",
              "      <button class=\"colab-df-convert\" onclick=\"convertToInteractive('df-ab7df51f-ed12-4931-8429-7dc747364e48')\"\n",
              "              title=\"Convert this dataframe to an interactive table.\"\n",
              "              style=\"display:none;\">\n",
              "        \n",
              "  <svg xmlns=\"http://www.w3.org/2000/svg\" height=\"24px\"viewBox=\"0 0 24 24\"\n",
              "       width=\"24px\">\n",
              "    <path d=\"M0 0h24v24H0V0z\" fill=\"none\"/>\n",
              "    <path d=\"M18.56 5.44l.94 2.06.94-2.06 2.06-.94-2.06-.94-.94-2.06-.94 2.06-2.06.94zm-11 1L8.5 8.5l.94-2.06 2.06-.94-2.06-.94L8.5 2.5l-.94 2.06-2.06.94zm10 10l.94 2.06.94-2.06 2.06-.94-2.06-.94-.94-2.06-.94 2.06-2.06.94z\"/><path d=\"M17.41 7.96l-1.37-1.37c-.4-.4-.92-.59-1.43-.59-.52 0-1.04.2-1.43.59L10.3 9.45l-7.72 7.72c-.78.78-.78 2.05 0 2.83L4 21.41c.39.39.9.59 1.41.59.51 0 1.02-.2 1.41-.59l7.78-7.78 2.81-2.81c.8-.78.8-2.07 0-2.86zM5.41 20L4 18.59l7.72-7.72 1.47 1.35L5.41 20z\"/>\n",
              "  </svg>\n",
              "      </button>\n",
              "      \n",
              "  <style>\n",
              "    .colab-df-container {\n",
              "      display:flex;\n",
              "      flex-wrap:wrap;\n",
              "      gap: 12px;\n",
              "    }\n",
              "\n",
              "    .colab-df-convert {\n",
              "      background-color: #E8F0FE;\n",
              "      border: none;\n",
              "      border-radius: 50%;\n",
              "      cursor: pointer;\n",
              "      display: none;\n",
              "      fill: #1967D2;\n",
              "      height: 32px;\n",
              "      padding: 0 0 0 0;\n",
              "      width: 32px;\n",
              "    }\n",
              "\n",
              "    .colab-df-convert:hover {\n",
              "      background-color: #E2EBFA;\n",
              "      box-shadow: 0px 1px 2px rgba(60, 64, 67, 0.3), 0px 1px 3px 1px rgba(60, 64, 67, 0.15);\n",
              "      fill: #174EA6;\n",
              "    }\n",
              "\n",
              "    [theme=dark] .colab-df-convert {\n",
              "      background-color: #3B4455;\n",
              "      fill: #D2E3FC;\n",
              "    }\n",
              "\n",
              "    [theme=dark] .colab-df-convert:hover {\n",
              "      background-color: #434B5C;\n",
              "      box-shadow: 0px 1px 3px 1px rgba(0, 0, 0, 0.15);\n",
              "      filter: drop-shadow(0px 1px 2px rgba(0, 0, 0, 0.3));\n",
              "      fill: #FFFFFF;\n",
              "    }\n",
              "  </style>\n",
              "\n",
              "      <script>\n",
              "        const buttonEl =\n",
              "          document.querySelector('#df-ab7df51f-ed12-4931-8429-7dc747364e48 button.colab-df-convert');\n",
              "        buttonEl.style.display =\n",
              "          google.colab.kernel.accessAllowed ? 'block' : 'none';\n",
              "\n",
              "        async function convertToInteractive(key) {\n",
              "          const element = document.querySelector('#df-ab7df51f-ed12-4931-8429-7dc747364e48');\n",
              "          const dataTable =\n",
              "            await google.colab.kernel.invokeFunction('convertToInteractive',\n",
              "                                                     [key], {});\n",
              "          if (!dataTable) return;\n",
              "\n",
              "          const docLinkHtml = 'Like what you see? Visit the ' +\n",
              "            '<a target=\"_blank\" href=https://colab.research.google.com/notebooks/data_table.ipynb>data table notebook</a>'\n",
              "            + ' to learn more about interactive tables.';\n",
              "          element.innerHTML = '';\n",
              "          dataTable['output_type'] = 'display_data';\n",
              "          await google.colab.output.renderOutput(dataTable, element);\n",
              "          const docLink = document.createElement('div');\n",
              "          docLink.innerHTML = docLinkHtml;\n",
              "          element.appendChild(docLink);\n",
              "        }\n",
              "      </script>\n",
              "    </div>\n",
              "  </div>\n",
              "  "
            ]
          },
          "metadata": {},
          "execution_count": 9
        }
      ]
    },
    {
      "cell_type": "code",
      "source": [
        "df_rental.info()"
      ],
      "metadata": {
        "colab": {
          "base_uri": "https://localhost:8080/"
        },
        "id": "gRtmsvm5GBpd",
        "outputId": "40946ed1-fb33-4f27-8be4-81678a06d687"
      },
      "execution_count": 10,
      "outputs": [
        {
          "output_type": "stream",
          "name": "stdout",
          "text": [
            "<class 'pandas.core.frame.DataFrame'>\n",
            "RangeIndex: 5851 entries, 0 to 5850\n",
            "Data columns (total 15 columns):\n",
            " #   Column              Non-Null Count  Dtype  \n",
            "---  ------              --------------  -----  \n",
            " 0   fuelType            5776 non-null   object \n",
            " 1   rating              5350 non-null   float64\n",
            " 2   renterTripsTaken    5851 non-null   int64  \n",
            " 3   reviewCount         5851 non-null   int64  \n",
            " 4   location.city       5851 non-null   object \n",
            " 5   location.country    5851 non-null   object \n",
            " 6   location.latitude   5851 non-null   float64\n",
            " 7   location.longitude  5851 non-null   float64\n",
            " 8   location.state      5851 non-null   object \n",
            " 9   owner.id            5851 non-null   int64  \n",
            " 10  rate.daily          5851 non-null   int64  \n",
            " 11  vehicle.make        5851 non-null   object \n",
            " 12  vehicle.model       5851 non-null   object \n",
            " 13  vehicle.type        5851 non-null   object \n",
            " 14  vehicle.year        5851 non-null   int64  \n",
            "dtypes: float64(3), int64(5), object(7)\n",
            "memory usage: 685.8+ KB\n"
          ]
        }
      ]
    },
    {
      "cell_type": "code",
      "source": [
        "df_geo = pd.read_csv(\"/content/geo.csv\", sep=';', usecols=[4, 7])"
      ],
      "metadata": {
        "id": "WZSnPQ_m1pdi"
      },
      "execution_count": 11,
      "outputs": []
    },
    {
      "cell_type": "code",
      "source": [
        "df_geo.head(5)"
      ],
      "metadata": {
        "colab": {
          "base_uri": "https://localhost:8080/",
          "height": 206
        },
        "id": "FiW1wAiR2NsC",
        "outputId": "e0cafc90-5f7e-4249-e476-087aec7466d0"
      },
      "execution_count": 12,
      "outputs": [
        {
          "output_type": "execute_result",
          "data": {
            "text/plain": [
              "  Official Name State United States Postal Service state abbreviation\n",
              "0          Washington                                              WA\n",
              "1          New Mexico                                              NM\n",
              "2       Massachusetts                                              MA\n",
              "3                Utah                                              UT\n",
              "4            Arkansas                                              AR"
            ],
            "text/html": [
              "\n",
              "  <div id=\"df-95fc8f31-8e88-4cf2-9a9c-1c211e7cdc94\">\n",
              "    <div class=\"colab-df-container\">\n",
              "      <div>\n",
              "<style scoped>\n",
              "    .dataframe tbody tr th:only-of-type {\n",
              "        vertical-align: middle;\n",
              "    }\n",
              "\n",
              "    .dataframe tbody tr th {\n",
              "        vertical-align: top;\n",
              "    }\n",
              "\n",
              "    .dataframe thead th {\n",
              "        text-align: right;\n",
              "    }\n",
              "</style>\n",
              "<table border=\"1\" class=\"dataframe\">\n",
              "  <thead>\n",
              "    <tr style=\"text-align: right;\">\n",
              "      <th></th>\n",
              "      <th>Official Name State</th>\n",
              "      <th>United States Postal Service state abbreviation</th>\n",
              "    </tr>\n",
              "  </thead>\n",
              "  <tbody>\n",
              "    <tr>\n",
              "      <th>0</th>\n",
              "      <td>Washington</td>\n",
              "      <td>WA</td>\n",
              "    </tr>\n",
              "    <tr>\n",
              "      <th>1</th>\n",
              "      <td>New Mexico</td>\n",
              "      <td>NM</td>\n",
              "    </tr>\n",
              "    <tr>\n",
              "      <th>2</th>\n",
              "      <td>Massachusetts</td>\n",
              "      <td>MA</td>\n",
              "    </tr>\n",
              "    <tr>\n",
              "      <th>3</th>\n",
              "      <td>Utah</td>\n",
              "      <td>UT</td>\n",
              "    </tr>\n",
              "    <tr>\n",
              "      <th>4</th>\n",
              "      <td>Arkansas</td>\n",
              "      <td>AR</td>\n",
              "    </tr>\n",
              "  </tbody>\n",
              "</table>\n",
              "</div>\n",
              "      <button class=\"colab-df-convert\" onclick=\"convertToInteractive('df-95fc8f31-8e88-4cf2-9a9c-1c211e7cdc94')\"\n",
              "              title=\"Convert this dataframe to an interactive table.\"\n",
              "              style=\"display:none;\">\n",
              "        \n",
              "  <svg xmlns=\"http://www.w3.org/2000/svg\" height=\"24px\"viewBox=\"0 0 24 24\"\n",
              "       width=\"24px\">\n",
              "    <path d=\"M0 0h24v24H0V0z\" fill=\"none\"/>\n",
              "    <path d=\"M18.56 5.44l.94 2.06.94-2.06 2.06-.94-2.06-.94-.94-2.06-.94 2.06-2.06.94zm-11 1L8.5 8.5l.94-2.06 2.06-.94-2.06-.94L8.5 2.5l-.94 2.06-2.06.94zm10 10l.94 2.06.94-2.06 2.06-.94-2.06-.94-.94-2.06-.94 2.06-2.06.94z\"/><path d=\"M17.41 7.96l-1.37-1.37c-.4-.4-.92-.59-1.43-.59-.52 0-1.04.2-1.43.59L10.3 9.45l-7.72 7.72c-.78.78-.78 2.05 0 2.83L4 21.41c.39.39.9.59 1.41.59.51 0 1.02-.2 1.41-.59l7.78-7.78 2.81-2.81c.8-.78.8-2.07 0-2.86zM5.41 20L4 18.59l7.72-7.72 1.47 1.35L5.41 20z\"/>\n",
              "  </svg>\n",
              "      </button>\n",
              "      \n",
              "  <style>\n",
              "    .colab-df-container {\n",
              "      display:flex;\n",
              "      flex-wrap:wrap;\n",
              "      gap: 12px;\n",
              "    }\n",
              "\n",
              "    .colab-df-convert {\n",
              "      background-color: #E8F0FE;\n",
              "      border: none;\n",
              "      border-radius: 50%;\n",
              "      cursor: pointer;\n",
              "      display: none;\n",
              "      fill: #1967D2;\n",
              "      height: 32px;\n",
              "      padding: 0 0 0 0;\n",
              "      width: 32px;\n",
              "    }\n",
              "\n",
              "    .colab-df-convert:hover {\n",
              "      background-color: #E2EBFA;\n",
              "      box-shadow: 0px 1px 2px rgba(60, 64, 67, 0.3), 0px 1px 3px 1px rgba(60, 64, 67, 0.15);\n",
              "      fill: #174EA6;\n",
              "    }\n",
              "\n",
              "    [theme=dark] .colab-df-convert {\n",
              "      background-color: #3B4455;\n",
              "      fill: #D2E3FC;\n",
              "    }\n",
              "\n",
              "    [theme=dark] .colab-df-convert:hover {\n",
              "      background-color: #434B5C;\n",
              "      box-shadow: 0px 1px 3px 1px rgba(0, 0, 0, 0.15);\n",
              "      filter: drop-shadow(0px 1px 2px rgba(0, 0, 0, 0.3));\n",
              "      fill: #FFFFFF;\n",
              "    }\n",
              "  </style>\n",
              "\n",
              "      <script>\n",
              "        const buttonEl =\n",
              "          document.querySelector('#df-95fc8f31-8e88-4cf2-9a9c-1c211e7cdc94 button.colab-df-convert');\n",
              "        buttonEl.style.display =\n",
              "          google.colab.kernel.accessAllowed ? 'block' : 'none';\n",
              "\n",
              "        async function convertToInteractive(key) {\n",
              "          const element = document.querySelector('#df-95fc8f31-8e88-4cf2-9a9c-1c211e7cdc94');\n",
              "          const dataTable =\n",
              "            await google.colab.kernel.invokeFunction('convertToInteractive',\n",
              "                                                     [key], {});\n",
              "          if (!dataTable) return;\n",
              "\n",
              "          const docLinkHtml = 'Like what you see? Visit the ' +\n",
              "            '<a target=\"_blank\" href=https://colab.research.google.com/notebooks/data_table.ipynb>data table notebook</a>'\n",
              "            + ' to learn more about interactive tables.';\n",
              "          element.innerHTML = '';\n",
              "          dataTable['output_type'] = 'display_data';\n",
              "          await google.colab.output.renderOutput(dataTable, element);\n",
              "          const docLink = document.createElement('div');\n",
              "          docLink.innerHTML = docLinkHtml;\n",
              "          element.appendChild(docLink);\n",
              "        }\n",
              "      </script>\n",
              "    </div>\n",
              "  </div>\n",
              "  "
            ]
          },
          "metadata": {},
          "execution_count": 12
        }
      ]
    },
    {
      "cell_type": "markdown",
      "source": [
        "### SPARK"
      ],
      "metadata": {
        "id": "7OHIxgifHetP"
      }
    },
    {
      "cell_type": "markdown",
      "source": [
        "#### Transformaciones "
      ],
      "metadata": {
        "id": "3em799HUHl8B"
      }
    },
    {
      "cell_type": "code",
      "source": [
        "schema = StructType([\n",
        "            StructField(\"fuelType\", StringType(), True),\n",
        "            StructField(\"rating\", FloatType(), True),\n",
        "            StructField(\"renterTripsTaken\", IntegerType(), True),\n",
        "            StructField(\"reviewCount\", IntegerType(), True),\n",
        "            StructField(\"city\", StringType(), True),\n",
        "            StructField(\"aux1\", StringType(), True),\n",
        "            StructField(\"aux2\", StringType(), True),\n",
        "            StructField(\"aux3\", StringType(), True),\n",
        "            StructField(\"state_id\", StringType(), True),\n",
        "            StructField(\"owner_id\", IntegerType(), True),\n",
        "            StructField(\"rate_daily\", IntegerType(), True),\n",
        "            StructField(\"make\", StringType(), True),\n",
        "            StructField(\"model\", StringType(), True),\n",
        "            StructField(\"aux4\", StringType(), True),\n",
        "            StructField(\"year\", IntegerType(), True)\n",
        "])"
      ],
      "metadata": {
        "id": "k2J9JI_22Q-H"
      },
      "execution_count": 28,
      "outputs": []
    },
    {
      "cell_type": "code",
      "source": [
        "spk_rental = spark.read.csv(\"/content/CarRentalData.csv\", sep=',', schema=schema, header=True).withColumn(\"rating\", round(\"rating\").cast(\"integer\")).withColumn(\"fuelType\", lower(col(\"fuelType\")))"
      ],
      "metadata": {
        "id": "JXRpAtuqIl6i"
      },
      "execution_count": 29,
      "outputs": []
    },
    {
      "cell_type": "code",
      "source": [
        "spk_rental.show(5)"
      ],
      "metadata": {
        "colab": {
          "base_uri": "https://localhost:8080/"
        },
        "id": "jw62b1X-I-ps",
        "outputId": "9e1edd20-fb8e-40f0-c886-6e702b16b8b0"
      },
      "execution_count": 30,
      "outputs": [
        {
          "output_type": "stream",
          "name": "stdout",
          "text": [
            "+--------+------+----------------+-----------+-----------+----+---------+-----------+--------+--------+----------+--------+-------+----+----+\n",
            "|fuelType|rating|renterTripsTaken|reviewCount|       city|aux1|     aux2|       aux3|state_id|owner_id|rate_daily|    make|  model|aux4|year|\n",
            "+--------+------+----------------+-----------+-----------+----+---------+-----------+--------+--------+----------+--------+-------+----+----+\n",
            "|electric|     5|              13|         12|    Seattle|  US|47.449107|-122.308841|      WA|12847615|       135|   Tesla|Model X| suv|2019|\n",
            "|electric|     5|               2|          1|    Tijeras|  US| 35.11106|-106.276551|      NM|15621242|       190|   Tesla|Model X| suv|2018|\n",
            "|  hybrid|     5|              28|         24|Albuquerque|  US|35.127163|-106.566681|      NM|10199256|        35|  Toyota|  Prius| car|2012|\n",
            "|gasoline|     5|              21|         20|Albuquerque|  US|35.149726|-106.711425|      NM| 9365496|        75|    Ford|Mustang| car|2018|\n",
            "|gasoline|     5|               3|          1|Albuquerque|  US|35.208659|-106.601008|      NM| 3553565|        47|Chrysler|Sebring| car|2010|\n",
            "+--------+------+----------------+-----------+-----------+----+---------+-----------+--------+--------+----------+--------+-------+----+----+\n",
            "only showing top 5 rows\n",
            "\n"
          ]
        }
      ]
    },
    {
      "cell_type": "code",
      "source": [
        "spk_rental.printSchema()"
      ],
      "metadata": {
        "colab": {
          "base_uri": "https://localhost:8080/"
        },
        "id": "Qdrmzw_dJIYU",
        "outputId": "ac096325-ed3a-449d-f791-548dacfcd0ae"
      },
      "execution_count": 31,
      "outputs": [
        {
          "output_type": "stream",
          "name": "stdout",
          "text": [
            "root\n",
            " |-- fuelType: string (nullable = true)\n",
            " |-- rating: integer (nullable = true)\n",
            " |-- renterTripsTaken: integer (nullable = true)\n",
            " |-- reviewCount: integer (nullable = true)\n",
            " |-- city: string (nullable = true)\n",
            " |-- aux1: string (nullable = true)\n",
            " |-- aux2: string (nullable = true)\n",
            " |-- aux3: string (nullable = true)\n",
            " |-- state_id: string (nullable = true)\n",
            " |-- owner_id: integer (nullable = true)\n",
            " |-- rate_daily: integer (nullable = true)\n",
            " |-- make: string (nullable = true)\n",
            " |-- model: string (nullable = true)\n",
            " |-- aux4: string (nullable = true)\n",
            " |-- year: integer (nullable = true)\n",
            "\n"
          ]
        }
      ]
    },
    {
      "cell_type": "code",
      "source": [
        "spk_rental.count()"
      ],
      "metadata": {
        "id": "hYfLG-K1RUwF",
        "outputId": "ca87f2b1-70be-48aa-8933-9746d940f703",
        "colab": {
          "base_uri": "https://localhost:8080/"
        }
      },
      "execution_count": 32,
      "outputs": [
        {
          "output_type": "execute_result",
          "data": {
            "text/plain": [
              "5851"
            ]
          },
          "metadata": {},
          "execution_count": 32
        }
      ]
    },
    {
      "cell_type": "code",
      "source": [
        "spk_rental.createOrReplaceTempView(\"rental\")"
      ],
      "metadata": {
        "id": "aCX-56zrPM2b"
      },
      "execution_count": 33,
      "outputs": []
    },
    {
      "cell_type": "code",
      "source": [
        "consulta_sql = \"\"\"\n",
        "SELECT * FROM rental\n",
        "WHERE state_id !='TX' AND rating IS NOT NULL\n",
        "\"\"\"\n",
        "spk_rental_sinulos = spark.sql(consulta_sql)\n",
        "spk_rental_sinulos.show(5)"
      ],
      "metadata": {
        "colab": {
          "base_uri": "https://localhost:8080/"
        },
        "id": "ndtYYWTXO-4t",
        "outputId": "fa262950-7946-4661-fac1-1b0d4cde94b6"
      },
      "execution_count": 35,
      "outputs": [
        {
          "output_type": "stream",
          "name": "stdout",
          "text": [
            "+--------+------+----------------+-----------+-----------+----+---------+-----------+--------+--------+----------+--------+-------+----+----+\n",
            "|fuelType|rating|renterTripsTaken|reviewCount|       city|aux1|     aux2|       aux3|state_id|owner_id|rate_daily|    make|  model|aux4|year|\n",
            "+--------+------+----------------+-----------+-----------+----+---------+-----------+--------+--------+----------+--------+-------+----+----+\n",
            "|electric|     5|              13|         12|    Seattle|  US|47.449107|-122.308841|      WA|12847615|       135|   Tesla|Model X| suv|2019|\n",
            "|electric|     5|               2|          1|    Tijeras|  US| 35.11106|-106.276551|      NM|15621242|       190|   Tesla|Model X| suv|2018|\n",
            "|  hybrid|     5|              28|         24|Albuquerque|  US|35.127163|-106.566681|      NM|10199256|        35|  Toyota|  Prius| car|2012|\n",
            "|gasoline|     5|              21|         20|Albuquerque|  US|35.149726|-106.711425|      NM| 9365496|        75|    Ford|Mustang| car|2018|\n",
            "|gasoline|     5|               3|          1|Albuquerque|  US|35.208659|-106.601008|      NM| 3553565|        47|Chrysler|Sebring| car|2010|\n",
            "+--------+------+----------------+-----------+-----------+----+---------+-----------+--------+--------+----------+--------+-------+----+----+\n",
            "only showing top 5 rows\n",
            "\n"
          ]
        }
      ]
    },
    {
      "cell_type": "code",
      "source": [
        "spk_rental_sinulos.count()"
      ],
      "metadata": {
        "colab": {
          "base_uri": "https://localhost:8080/"
        },
        "id": "WGpbDVikOhC4",
        "outputId": "9482a386-7606-4460-e63f-0e25c7506062"
      },
      "execution_count": 20,
      "outputs": [
        {
          "output_type": "execute_result",
          "data": {
            "text/plain": [
              "4905"
            ]
          },
          "metadata": {},
          "execution_count": 20
        }
      ]
    },
    {
      "cell_type": "markdown",
      "source": [
        "#------------------------------------------------"
      ],
      "metadata": {
        "id": "pi2LTWaKsn0e"
      }
    },
    {
      "cell_type": "code",
      "source": [
        "schema_geo = StructType([\n",
        "                StructField(\"Aux1\", StringType(), True),\n",
        "                StructField(\"Aux2\", StringType(), True),\n",
        "                StructField(\"Aux3\", IntegerType(), True),\n",
        "                StructField(\"Aux4\", IntegerType(), True),\n",
        "                StructField(\"state_name\", StringType(), True),\n",
        "                StructField(\"aux5\", StringType(), True),\n",
        "                StructField(\"aux6\", StringType(), True),\n",
        "                StructField(\"state_id\", StringType(), True),\n",
        "                StructField(\"aux7\", StringType(), True),\n",
        "                StructField(\"aux8\", IntegerType(), True)\n",
        "                \n",
        "])"
      ],
      "metadata": {
        "id": "GP6w4FtQvYyW"
      },
      "execution_count": 36,
      "outputs": []
    },
    {
      "cell_type": "code",
      "source": [
        "spk_geo = spark.read.csv(\"/content/geo.csv\", sep=';', header=True, schema=schema_geo)"
      ],
      "metadata": {
        "id": "tePz7cr4QWDl"
      },
      "execution_count": 38,
      "outputs": []
    },
    {
      "cell_type": "code",
      "source": [
        "spk_geo.show(5)"
      ],
      "metadata": {
        "id": "707298Wntmrg",
        "outputId": "dc37bc2c-14d6-424a-ac61-f3a98caccf13",
        "colab": {
          "base_uri": "https://localhost:8080/"
        }
      },
      "execution_count": 39,
      "outputs": [
        {
          "output_type": "stream",
          "name": "stdout",
          "text": [
            "+--------------------+--------------------+----+----+-------------+----+-----+--------+----+-------+\n",
            "|                Aux1|                Aux2|Aux3|Aux4|   state_name|aux5| aux6|state_id|aux7|   aux8|\n",
            "+--------------------+--------------------+----+----+-------------+----+-----+--------+----+-------+\n",
            "|47.41161380972456...|\"{\"\"coordinates\"\"...|2022|  53|   Washington| USA|state|      WA|null|1779804|\n",
            "|34.42129899531876...|\"{\"\"coordinates\"\"...|2022|  35|   New Mexico| USA|state|      NM|null| 897535|\n",
            "|42.16009070994133...|\"{\"\"coordinates\"\"...|2022|  25|Massachusetts| USA|state|      MA|null| 606926|\n",
            "|39.32376674216668...|\"{\"\"coordinates\"\"...|2022|  49|         Utah| USA|state|      UT|null|1455989|\n",
            "|34.89991914658269...|\"{\"\"coordinates\"\"...|2022|   5|     Arkansas| USA|state|      AR|null|  68085|\n",
            "+--------------------+--------------------+----+----+-------------+----+-----+--------+----+-------+\n",
            "only showing top 5 rows\n",
            "\n"
          ]
        }
      ]
    },
    {
      "cell_type": "code",
      "source": [
        "spk_geo.printSchema()"
      ],
      "metadata": {
        "id": "q1Ql20HQtq08",
        "outputId": "3734b7bd-5dfc-4cd8-e5d4-80db682a7624",
        "colab": {
          "base_uri": "https://localhost:8080/"
        }
      },
      "execution_count": 40,
      "outputs": [
        {
          "output_type": "stream",
          "name": "stdout",
          "text": [
            "root\n",
            " |-- Aux1: string (nullable = true)\n",
            " |-- Aux2: string (nullable = true)\n",
            " |-- Aux3: integer (nullable = true)\n",
            " |-- Aux4: integer (nullable = true)\n",
            " |-- state_name: string (nullable = true)\n",
            " |-- aux5: string (nullable = true)\n",
            " |-- aux6: string (nullable = true)\n",
            " |-- state_id: string (nullable = true)\n",
            " |-- aux7: string (nullable = true)\n",
            " |-- aux8: integer (nullable = true)\n",
            "\n"
          ]
        }
      ]
    },
    {
      "cell_type": "markdown",
      "source": [
        "# ------------------------------------------------------"
      ],
      "metadata": {
        "id": "ahAMofxfuDKQ"
      }
    },
    {
      "cell_type": "code",
      "source": [
        "spk_rental_sinulos.createOrReplaceTempView(\"rental\")"
      ],
      "metadata": {
        "id": "SyoTmVdTusL3"
      },
      "execution_count": 41,
      "outputs": []
    },
    {
      "cell_type": "code",
      "source": [
        "spk_geo.createOrReplaceTempView(\"geo\")"
      ],
      "metadata": {
        "id": "i5pHxIJ2u8-P"
      },
      "execution_count": 42,
      "outputs": []
    },
    {
      "cell_type": "code",
      "source": [
        "consulta_sql_2 = \"\"\"\n",
        "SELECT r.fuelType, r.rating, r.renterTripsTaken, r.reviewCount, r.city, g.state_name, r.owner_id, r.rate_daily, r.make, r.model, r.year\n",
        "FROM rental AS r\n",
        "JOIN geo AS g ON g.state_id = r.state_id\n",
        "ORDER BY r.rating DESC\n",
        "\"\"\"\n",
        "spk_rental = spark.sql(consulta_sql_2)\n",
        "spk_rental.show(5)"
      ],
      "metadata": {
        "id": "BWt_vnZ2t1ac",
        "outputId": "0cfc6a3b-c834-49bb-83dd-2c865228c332",
        "colab": {
          "base_uri": "https://localhost:8080/"
        }
      },
      "execution_count": 43,
      "outputs": [
        {
          "output_type": "stream",
          "name": "stdout",
          "text": [
            "+--------+------+----------------+-----------+--------+----------+--------+----------+---------+----------------+----+\n",
            "|fuelType|rating|renterTripsTaken|reviewCount|    city|state_name|owner_id|rate_daily|     make|           model|year|\n",
            "+--------+------+----------------+-----------+--------+----------+--------+----------+---------+----------------+----+\n",
            "|  diesel|     5|               9|          8| Olympia|Washington| 6791294|        56|Chevrolet|Silverado 2500HD|2009|\n",
            "|gasoline|     5|               8|          7|  Auburn|Washington|13165859|       128|  Porsche|         Cayenne|2014|\n",
            "|gasoline|     5|              10|          7|Bellevue|Washington| 5103874|       150| Maserati|          Ghibli|2014|\n",
            "|gasoline|     5|               2|          1|  Auburn|Washington|13165859|        60|     Ford|            Edge|2019|\n",
            "|gasoline|     5|              49|         35|Puyallup|Washington| 3237150|        89|     Jeep|        Wrangler|2018|\n",
            "+--------+------+----------------+-----------+--------+----------+--------+----------+---------+----------------+----+\n",
            "only showing top 5 rows\n",
            "\n"
          ]
        }
      ]
    },
    {
      "cell_type": "markdown",
      "source": [
        "#### Consultas DWH"
      ],
      "metadata": {
        "id": "MAHzZpsyAAId"
      }
    },
    {
      "cell_type": "markdown",
      "source": [
        "a.\tCantidad de alquileres de autos, teniendo en cuenta sólo los vehículos ecológicos\t(fuelType hibrido o eléctrico) y con un rating de al menos 4\n"
      ],
      "metadata": {
        "id": "q_dU_Q_LAEO5"
      }
    },
    {
      "cell_type": "code",
      "source": [
        "spk_rental.createOrReplaceTempView(\"rental\")"
      ],
      "metadata": {
        "id": "iITeKg6j_1XC"
      },
      "execution_count": 46,
      "outputs": []
    },
    {
      "cell_type": "code",
      "source": [
        "consulta_dwh_a = \"\"\"\n",
        "SELECT count(*) AS total\n",
        "FROM rental\n",
        "WHERE fuelType = 'electric' OR fuelType = 'hybrid' AND rating >= 4\n",
        "\"\"\"\n",
        "spk_dwh_a = spark.sql(consulta_dwh_a)\n",
        "spk_dwh_a.show()"
      ],
      "metadata": {
        "id": "2LXiy7yuAW_B",
        "outputId": "590266bf-9083-4f63-d9fb-2941ed85eade",
        "colab": {
          "base_uri": "https://localhost:8080/"
        }
      },
      "execution_count": 47,
      "outputs": [
        {
          "output_type": "stream",
          "name": "stdout",
          "text": [
            "+-----+\n",
            "|total|\n",
            "+-----+\n",
            "|  771|\n",
            "+-----+\n",
            "\n"
          ]
        }
      ]
    },
    {
      "cell_type": "markdown",
      "source": [
        "b. Los 5 estados con menor cantidad de alquileres (crear visualización)"
      ],
      "metadata": {
        "id": "85f-ETl8Bc51"
      }
    },
    {
      "cell_type": "code",
      "source": [
        "consulta_dwh_b = \"\"\"\n",
        "SELECT state_name, COUNT(make, model) AS total\n",
        "FROM rental\n",
        "GROUP BY state_name\n",
        "ORDER BY total ASC\n",
        "LIMIT 5\n",
        "\"\"\"\n",
        "spk_dwh_b = spark.sql(consulta_dwh_b)\n",
        "spk_dwh_b.show()"
      ],
      "metadata": {
        "id": "v2m-hNn1BRMt",
        "outputId": "e8a2fddf-b303-4971-ca30-4ad39c5dc4df",
        "colab": {
          "base_uri": "https://localhost:8080/"
        }
      },
      "execution_count": 53,
      "outputs": [
        {
          "output_type": "stream",
          "name": "stdout",
          "text": [
            "+-------------+-----+\n",
            "|   state_name|total|\n",
            "+-------------+-----+\n",
            "|      Montana|    1|\n",
            "|West Virginia|    3|\n",
            "|New Hampshire|    3|\n",
            "|     Delaware|    4|\n",
            "|     Arkansas|    4|\n",
            "+-------------+-----+\n",
            "\n"
          ]
        }
      ]
    },
    {
      "cell_type": "markdown",
      "source": [
        "c.\tLos 10 modelos (junto con su marca) de autos más rentados (crear visualización)"
      ],
      "metadata": {
        "id": "t9paiVgQDtGc"
      }
    },
    {
      "cell_type": "code",
      "source": [
        "consulta_dwh_c = \"\"\"\n",
        "SELECT make, model, COUNT(make, model) AS total\n",
        "FROM rental\n",
        "GROUP BY make, model\n",
        "ORDER BY total DESC\n",
        "LIMIT 10\n",
        "\"\"\"\n",
        "spk_dwh_c = spark.sql(consulta_dwh_c)\n",
        "spk_dwh_c.show()"
      ],
      "metadata": {
        "id": "7ZGfC5B0CNrx",
        "outputId": "9097936e-3db5-48eb-ebbc-8581a34baa5a",
        "colab": {
          "base_uri": "https://localhost:8080/"
        }
      },
      "execution_count": 57,
      "outputs": [
        {
          "output_type": "stream",
          "name": "stdout",
          "text": [
            "+-------------+--------+-----+\n",
            "|         make|   model|total|\n",
            "+-------------+--------+-----+\n",
            "|        Tesla| Model 3|  288|\n",
            "|         Ford| Mustang|  136|\n",
            "|        Tesla| Model S|  122|\n",
            "|         Jeep|Wrangler|  108|\n",
            "|        Tesla| Model X|  103|\n",
            "|Mercedes-Benz| C-Class|   78|\n",
            "|       Toyota| Corolla|   78|\n",
            "|          BMW|3 Series|   76|\n",
            "|    Chevrolet|Corvette|   68|\n",
            "|    Chevrolet|  Camaro|   61|\n",
            "+-------------+--------+-----+\n",
            "\n"
          ]
        }
      ]
    },
    {
      "cell_type": "markdown",
      "source": [
        "d.\tPor año, cuántos alquileres se hicieron, teniendo en cuenta desde 2010 a 2015"
      ],
      "metadata": {
        "id": "-DhTrldoEW7j"
      }
    },
    {
      "cell_type": "code",
      "source": [
        "consulta_dwh_d = \"\"\"\n",
        "SELECT year, COUNT(year) AS total\n",
        "FROM rental\n",
        "WHERE year BETWEEN '2010' AND '2015'\n",
        "GROUP BY year\n",
        "ORDER BY total DESC\n",
        "\"\"\"\n",
        "spk_dwh_d = spark.sql(consulta_dwh_d)\n",
        "spk_dwh_d.show()"
      ],
      "metadata": {
        "id": "JbykhqvsEHs0",
        "outputId": "da213469-895d-409a-93a3-6a561d9c0b6c",
        "colab": {
          "base_uri": "https://localhost:8080/"
        }
      },
      "execution_count": 58,
      "outputs": [
        {
          "output_type": "stream",
          "name": "stdout",
          "text": [
            "+----+-----+\n",
            "|year|total|\n",
            "+----+-----+\n",
            "|2015|  532|\n",
            "|2014|  382|\n",
            "|2013|  305|\n",
            "|2012|  225|\n",
            "|2011|  200|\n",
            "|2010|  144|\n",
            "+----+-----+\n",
            "\n"
          ]
        }
      ]
    },
    {
      "cell_type": "markdown",
      "source": [
        "e.\tLas 5 ciudades con más alquileres de vehículos ecológicos (fuelType hibrido o electrico)"
      ],
      "metadata": {
        "id": "ngfFZbe_E9px"
      }
    },
    {
      "cell_type": "code",
      "source": [
        "consulta_dwh_e = \"\"\"\n",
        "SELECT state_name, COUNT(*) AS total\n",
        "FROM rental\n",
        "WHERE fuelType = 'electric' OR fuelType = 'hybrid'\n",
        "GROUP BY state_name\n",
        "ORDER BY total DESC\n",
        "LIMIT 5\n",
        "\"\"\"\n",
        "spk_dwh_e = spark.sql(consulta_dwh_e)\n",
        "spk_dwh_e.show()"
      ],
      "metadata": {
        "id": "hmTIBFMOE4jh",
        "outputId": "f48246d3-b252-4e48-b59c-5e798ef220c7",
        "colab": {
          "base_uri": "https://localhost:8080/"
        }
      },
      "execution_count": 59,
      "outputs": [
        {
          "output_type": "stream",
          "name": "stdout",
          "text": [
            "+----------+-----+\n",
            "|state_name|total|\n",
            "+----------+-----+\n",
            "|California|  201|\n",
            "|   Florida|   77|\n",
            "|    Nevada|   44|\n",
            "|New Jersey|   41|\n",
            "|   Arizona|   33|\n",
            "+----------+-----+\n",
            "\n"
          ]
        }
      ]
    },
    {
      "cell_type": "markdown",
      "source": [
        "f.\tEl promedio de reviews, segmentando por tipo de combustible"
      ],
      "metadata": {
        "id": "dg2PvvKvFjsF"
      }
    },
    {
      "cell_type": "code",
      "source": [
        "consulta_dwh_f = \"\"\"\n",
        "SELECT fuelType, round(AVG(reviewCount)) AS promedio\n",
        "FROM rental\n",
        "GROUP BY fuelType\n",
        "ORDER BY promedio DESC\n",
        "LIMIT 5\n",
        "\"\"\"\n",
        "spk_dwh_f = spark.sql(consulta_dwh_f)\n",
        "spk_dwh_f.show()"
      ],
      "metadata": {
        "id": "-KyWQ0dwFd7-",
        "outputId": "97aa3e9b-70c3-436f-cf98-b1a86ba41df5",
        "colab": {
          "base_uri": "https://localhost:8080/"
        }
      },
      "execution_count": 66,
      "outputs": [
        {
          "output_type": "stream",
          "name": "stdout",
          "text": [
            "+--------+--------+\n",
            "|fuelType|promedio|\n",
            "+--------+--------+\n",
            "|  hybrid|    35.0|\n",
            "|gasoline|    32.0|\n",
            "|electric|    28.0|\n",
            "|    null|    21.0|\n",
            "|  diesel|    18.0|\n",
            "+--------+--------+\n",
            "\n"
          ]
        }
      ]
    },
    {
      "cell_type": "code",
      "source": [
        "consulta_dwh_g = \"\"\"\n",
        "SELECT count(*)\n",
        "FROM rental\n",
        "WHERE fuelType IS NULL\n",
        "\"\"\"\n",
        "spk_dwh_g = spark.sql(consulta_dwh_g)\n",
        "spk_dwh_g.show()"
      ],
      "metadata": {
        "id": "rBF7Wrg1GAOz",
        "outputId": "002dc6d7-1268-465a-944d-30d24545cbf0",
        "colab": {
          "base_uri": "https://localhost:8080/"
        }
      },
      "execution_count": 69,
      "outputs": [
        {
          "output_type": "stream",
          "name": "stdout",
          "text": [
            "+--------+\n",
            "|count(1)|\n",
            "+--------+\n",
            "|      61|\n",
            "+--------+\n",
            "\n"
          ]
        }
      ]
    },
    {
      "cell_type": "code",
      "source": [],
      "metadata": {
        "id": "C-LAdMETHb4Y"
      },
      "execution_count": null,
      "outputs": []
    }
  ]
}