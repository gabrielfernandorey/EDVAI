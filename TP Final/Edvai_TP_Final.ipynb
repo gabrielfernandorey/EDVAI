{
  "nbformat": 4,
  "nbformat_minor": 0,
  "metadata": {
    "colab": {
      "provenance": [],
      "authorship_tag": "ABX9TyPHsI1NHGOCvLb0Qo6SsHMi",
      "include_colab_link": true
    },
    "kernelspec": {
      "name": "python3",
      "display_name": "Python 3"
    },
    "language_info": {
      "name": "python"
    }
  },
  "cells": [
    {
      "cell_type": "markdown",
      "metadata": {
        "id": "view-in-github",
        "colab_type": "text"
      },
      "source": [
        "<a href=\"https://colab.research.google.com/github/gabrielfernandorey/EDVAI/blob/main/TP%20Final/Edvai_TP_Final.ipynb\" target=\"_parent\"><img src=\"https://colab.research.google.com/assets/colab-badge.svg\" alt=\"Open In Colab\"/></a>"
      ]
    },
    {
      "cell_type": "markdown",
      "source": [
        "# TRABAJO PRACTICO FINAL \n",
        "##### EDVAI\n",
        "\n",
        "## Gabriel Rey \n",
        "##### Mayo 2023\n"
      ],
      "metadata": {
        "id": "E4MwsZgZ_MBV"
      }
    },
    {
      "cell_type": "code",
      "execution_count": 1,
      "metadata": {
        "colab": {
          "base_uri": "https://localhost:8080/"
        },
        "id": "9KBN0Sww_Hhg",
        "outputId": "c289682d-06f5-490f-acc5-fafa3d1084db"
      },
      "outputs": [
        {
          "output_type": "stream",
          "name": "stdout",
          "text": [
            "Looking in indexes: https://pypi.org/simple, https://us-python.pkg.dev/colab-wheels/public/simple/\n",
            "Collecting pyspark\n",
            "  Downloading pyspark-3.4.0.tar.gz (310.8 MB)\n",
            "\u001b[2K     \u001b[90m━━━━━━━━━━━━━━━━━━━━━━━━━━━━━━━━━━━━━━━\u001b[0m \u001b[32m310.8/310.8 MB\u001b[0m \u001b[31m2.6 MB/s\u001b[0m eta \u001b[36m0:00:00\u001b[0m\n",
            "\u001b[?25h  Preparing metadata (setup.py) ... \u001b[?25l\u001b[?25hdone\n",
            "Requirement already satisfied: py4j==0.10.9.7 in /usr/local/lib/python3.10/dist-packages (from pyspark) (0.10.9.7)\n",
            "Building wheels for collected packages: pyspark\n",
            "  Building wheel for pyspark (setup.py) ... \u001b[?25l\u001b[?25hdone\n",
            "  Created wheel for pyspark: filename=pyspark-3.4.0-py2.py3-none-any.whl size=311317130 sha256=ff45d07559187b1cf0f85f6e4b0220480f45a957ae67e308a8591a09a2f279fd\n",
            "  Stored in directory: /root/.cache/pip/wheels/7b/1b/4b/3363a1d04368e7ff0d408e57ff57966fcdf00583774e761327\n",
            "Successfully built pyspark\n",
            "Installing collected packages: pyspark\n",
            "Successfully installed pyspark-3.4.0\n"
          ]
        }
      ],
      "source": [
        "!pip install pyspark"
      ]
    },
    {
      "cell_type": "code",
      "source": [
        "from pyspark.sql import SparkSession"
      ],
      "metadata": {
        "id": "x_z6Qbm-_sx2"
      },
      "execution_count": 2,
      "outputs": []
    },
    {
      "cell_type": "code",
      "source": [
        "spark = SparkSession.builder.appName('test_pyspark').getOrCreate()"
      ],
      "metadata": {
        "id": "qAi0HAZU_vWw"
      },
      "execution_count": 3,
      "outputs": []
    },
    {
      "cell_type": "code",
      "source": [
        "from pyspark.sql.types import StructType, StructField, StringType, TimestampType, BooleanType, FloatType, IntegerType, DoubleType, DateType\n",
        "import pyspark.sql.functions as F\n",
        "from pyspark.sql.functions import sum, col, desc, asc, count, countDistinct, round, max, min, avg, when, lower\n",
        "from pyspark.sql.functions import to_timestamp, date_format, to_date\n",
        "from pyspark.sql.window import Window\n",
        "\n",
        "from pyspark.ml import Transformer\n",
        "from pyspark.ml.param.shared import HasInputCol, HasOutputCol, HasInputCols, HasOutputCols, Param, Params, TypeConverters\n",
        "from pyspark import keyword_only\n",
        "from pyspark.ml import Pipeline, PipelineModel\n",
        "from pyspark.ml import Model\n",
        "from pyspark.ml import Estimator\n",
        "\n",
        "from datetime import datetime\n",
        "import numpy as np\n",
        "import pandas as pd"
      ],
      "metadata": {
        "id": "vea6pl-j_yos"
      },
      "execution_count": 4,
      "outputs": []
    },
    {
      "cell_type": "markdown",
      "source": [
        "# Ejercicio 1"
      ],
      "metadata": {
        "id": "Z7couMKDyCC7"
      }
    },
    {
      "cell_type": "markdown",
      "source": [
        "### Importamos datos"
      ],
      "metadata": {
        "id": "7GBoFirEASUa"
      }
    },
    {
      "cell_type": "code",
      "source": [
        "!wget https://data-engineer-edvai.s3.amazonaws.com/2021-informe-ministerio.csv\n",
        "!wget https://data-engineer-edvai.s3.amazonaws.com/202206-informe-ministerio.csv\n",
        "!wget https://data-engineer-edvai.s3.amazonaws.com/aeropuertos_detalle.csv"
      ],
      "metadata": {
        "colab": {
          "base_uri": "https://localhost:8080/"
        },
        "id": "cROwephx_9c4",
        "outputId": "fe99e944-b371-49b8-9cf6-4bf54c0540fb"
      },
      "execution_count": 5,
      "outputs": [
        {
          "output_type": "stream",
          "name": "stdout",
          "text": [
            "--2023-05-25 18:05:16--  https://data-engineer-edvai.s3.amazonaws.com/2021-informe-ministerio.csv\n",
            "Resolving data-engineer-edvai.s3.amazonaws.com (data-engineer-edvai.s3.amazonaws.com)... 3.5.29.248, 52.217.115.153, 52.216.204.139, ...\n",
            "Connecting to data-engineer-edvai.s3.amazonaws.com (data-engineer-edvai.s3.amazonaws.com)|3.5.29.248|:443... connected.\n",
            "HTTP request sent, awaiting response... 200 OK\n",
            "Length: 32322556 (31M) [text/csv]\n",
            "Saving to: ‘2021-informe-ministerio.csv’\n",
            "\n",
            "2021-informe-minist 100%[===================>]  30.82M  8.82MB/s    in 3.5s    \n",
            "\n",
            "2023-05-25 18:05:21 (8.82 MB/s) - ‘2021-informe-ministerio.csv’ saved [32322556/32322556]\n",
            "\n",
            "--2023-05-25 18:05:21--  https://data-engineer-edvai.s3.amazonaws.com/202206-informe-ministerio.csv\n",
            "Resolving data-engineer-edvai.s3.amazonaws.com (data-engineer-edvai.s3.amazonaws.com)... 52.216.42.97, 52.217.106.212, 52.217.32.12, ...\n",
            "Connecting to data-engineer-edvai.s3.amazonaws.com (data-engineer-edvai.s3.amazonaws.com)|52.216.42.97|:443... connected.\n",
            "HTTP request sent, awaiting response... 200 OK\n",
            "Length: 22833520 (22M) [text/csv]\n",
            "Saving to: ‘202206-informe-ministerio.csv’\n",
            "\n",
            "202206-informe-mini 100%[===================>]  21.78M  8.11MB/s    in 2.7s    \n",
            "\n",
            "2023-05-25 18:05:24 (8.11 MB/s) - ‘202206-informe-ministerio.csv’ saved [22833520/22833520]\n",
            "\n",
            "--2023-05-25 18:05:24--  https://data-engineer-edvai.s3.amazonaws.com/aeropuertos_detalle.csv\n",
            "Resolving data-engineer-edvai.s3.amazonaws.com (data-engineer-edvai.s3.amazonaws.com)... 52.217.116.249, 52.217.163.217, 52.216.41.41, ...\n",
            "Connecting to data-engineer-edvai.s3.amazonaws.com (data-engineer-edvai.s3.amazonaws.com)|52.217.116.249|:443... connected.\n",
            "HTTP request sent, awaiting response... 200 OK\n",
            "Length: 136007 (133K) [text/csv]\n",
            "Saving to: ‘aeropuertos_detalle.csv’\n",
            "\n",
            "aeropuertos_detalle 100%[===================>] 132.82K   231KB/s    in 0.6s    \n",
            "\n",
            "2023-05-25 18:05:26 (231 KB/s) - ‘aeropuertos_detalle.csv’ saved [136007/136007]\n",
            "\n"
          ]
        }
      ]
    },
    {
      "cell_type": "code",
      "source": [
        "df_2021 = pd.read_csv(\"/content/2021-informe-ministerio.csv\", sep=';')"
      ],
      "metadata": {
        "id": "p89yFMjwAlfJ"
      },
      "execution_count": 6,
      "outputs": []
    },
    {
      "cell_type": "code",
      "source": [
        "df_2022 = pd.read_csv(\"/content/202206-informe-ministerio.csv\", sep=';')"
      ],
      "metadata": {
        "colab": {
          "base_uri": "https://localhost:8080/"
        },
        "id": "mwAeVbWXA_-v",
        "outputId": "824d6277-91a2-4b07-95bc-ae67d65c29ae"
      },
      "execution_count": 7,
      "outputs": [
        {
          "output_type": "stream",
          "name": "stderr",
          "text": [
            "<ipython-input-7-bcad1b5984a1>:1: DtypeWarning: Columns (9) have mixed types. Specify dtype option on import or set low_memory=False.\n",
            "  df_2022 = pd.read_csv(\"/content/202206-informe-ministerio.csv\", sep=';')\n"
          ]
        }
      ]
    },
    {
      "cell_type": "code",
      "source": [
        "df_aeropuertos = pd.read_csv(\"/content/aeropuertos_detalle.csv\", sep=';')"
      ],
      "metadata": {
        "id": "Y3UX0l2tBLrE"
      },
      "execution_count": 8,
      "outputs": []
    },
    {
      "cell_type": "markdown",
      "source": [
        "### EDA"
      ],
      "metadata": {
        "id": "HV0hQ0HlD1dH"
      }
    },
    {
      "cell_type": "code",
      "source": [
        "df_2021"
      ],
      "metadata": {
        "colab": {
          "base_uri": "https://localhost:8080/",
          "height": 467
        },
        "id": "xoRoH71fBV-6",
        "outputId": "9e3650d8-8456-429e-ffe2-eb5ef08a00fe"
      },
      "execution_count": 9,
      "outputs": [
        {
          "output_type": "execute_result",
          "data": {
            "text/plain": [
              "             Fecha Hora UTC     Clase de Vuelo (todos los vuelos)  \\\n",
              "0       01/01/2021    00:02  Vuelo Privado con Matrícula Nacional   \n",
              "1       01/01/2021    00:24                               Regular   \n",
              "2       01/01/2021    00:26                               Regular   \n",
              "3       01/01/2021    00:29                               Regular   \n",
              "4       01/01/2021    00:37                               Regular   \n",
              "...            ...      ...                                   ...   \n",
              "328131  31/12/2021    23:44                               Regular   \n",
              "328132  31/12/2021    23:45                               Regular   \n",
              "328133  31/12/2021    23:48                               Regular   \n",
              "328134  31/12/2021    23:55                               Regular   \n",
              "328135  31/12/2021    23:58                               Regular   \n",
              "\n",
              "       Clasificación Vuelo Tipo de Movimiento Aeropuerto Origen / Destino  \\\n",
              "0                Domestico           Despegue        PAR              ROS   \n",
              "1                Domestico         Aterrizaje        EZE              GRA   \n",
              "2                Domestico         Aterrizaje        EZE              ECA   \n",
              "3                Domestico         Aterrizaje        EZE              SAL   \n",
              "4                Domestico         Aterrizaje        EZE              TUC   \n",
              "...                    ...                ...        ...              ...   \n",
              "328131           Domestico         Aterrizaje        JUJ              AER   \n",
              "328132           Domestico           Despegue        AER              CBA   \n",
              "328133           Domestico           Despegue        ROS              AER   \n",
              "328134       Internacional         Aterrizaje        EZE             SCEL   \n",
              "328135           Domestico           Despegue        BAR              AER   \n",
              "\n",
              "                   Aerolinea Nombre          Aeronave  Pasajeros Calidad dato  \n",
              "0                                 0      PA-PA-28-181          0   DEFINITIVO  \n",
              "1          AEROLINEAS ARGENTINAS SA       BO-B737-8MB         70   DEFINITIVO  \n",
              "2          AEROLINEAS ARGENTINAS SA        BO-737-800         70   DEFINITIVO  \n",
              "3          AEROLINEAS ARGENTINAS SA      BO-B-737-76N         12   DEFINITIVO  \n",
              "4          AEROLINEAS ARGENTINAS SA  EMB-ERJ190100IGW         26   DEFINITIVO  \n",
              "...                             ...               ...        ...          ...  \n",
              "328131  FB LÍNEAS AÉREAS - FLYBONDI        BO-737-8Q8         96   DEFINITIVO  \n",
              "328132  FB LÍNEAS AÉREAS - FLYBONDI        BO-737-8Q8         88   DEFINITIVO  \n",
              "328133     AEROLINEAS ARGENTINAS SA        BO-737-800         10   DEFINITIVO  \n",
              "328134             SKY AIRLINE S.A.                 0        137   DEFINITIVO  \n",
              "328135     AEROLINEAS ARGENTINAS SA        BO-737-800         11   DEFINITIVO  \n",
              "\n",
              "[328136 rows x 11 columns]"
            ],
            "text/html": [
              "\n",
              "  <div id=\"df-38831ae9-ca8e-43d8-9e49-f8eea8edd776\">\n",
              "    <div class=\"colab-df-container\">\n",
              "      <div>\n",
              "<style scoped>\n",
              "    .dataframe tbody tr th:only-of-type {\n",
              "        vertical-align: middle;\n",
              "    }\n",
              "\n",
              "    .dataframe tbody tr th {\n",
              "        vertical-align: top;\n",
              "    }\n",
              "\n",
              "    .dataframe thead th {\n",
              "        text-align: right;\n",
              "    }\n",
              "</style>\n",
              "<table border=\"1\" class=\"dataframe\">\n",
              "  <thead>\n",
              "    <tr style=\"text-align: right;\">\n",
              "      <th></th>\n",
              "      <th>Fecha</th>\n",
              "      <th>Hora UTC</th>\n",
              "      <th>Clase de Vuelo (todos los vuelos)</th>\n",
              "      <th>Clasificación Vuelo</th>\n",
              "      <th>Tipo de Movimiento</th>\n",
              "      <th>Aeropuerto</th>\n",
              "      <th>Origen / Destino</th>\n",
              "      <th>Aerolinea Nombre</th>\n",
              "      <th>Aeronave</th>\n",
              "      <th>Pasajeros</th>\n",
              "      <th>Calidad dato</th>\n",
              "    </tr>\n",
              "  </thead>\n",
              "  <tbody>\n",
              "    <tr>\n",
              "      <th>0</th>\n",
              "      <td>01/01/2021</td>\n",
              "      <td>00:02</td>\n",
              "      <td>Vuelo Privado con Matrícula Nacional</td>\n",
              "      <td>Domestico</td>\n",
              "      <td>Despegue</td>\n",
              "      <td>PAR</td>\n",
              "      <td>ROS</td>\n",
              "      <td>0</td>\n",
              "      <td>PA-PA-28-181</td>\n",
              "      <td>0</td>\n",
              "      <td>DEFINITIVO</td>\n",
              "    </tr>\n",
              "    <tr>\n",
              "      <th>1</th>\n",
              "      <td>01/01/2021</td>\n",
              "      <td>00:24</td>\n",
              "      <td>Regular</td>\n",
              "      <td>Domestico</td>\n",
              "      <td>Aterrizaje</td>\n",
              "      <td>EZE</td>\n",
              "      <td>GRA</td>\n",
              "      <td>AEROLINEAS ARGENTINAS SA</td>\n",
              "      <td>BO-B737-8MB</td>\n",
              "      <td>70</td>\n",
              "      <td>DEFINITIVO</td>\n",
              "    </tr>\n",
              "    <tr>\n",
              "      <th>2</th>\n",
              "      <td>01/01/2021</td>\n",
              "      <td>00:26</td>\n",
              "      <td>Regular</td>\n",
              "      <td>Domestico</td>\n",
              "      <td>Aterrizaje</td>\n",
              "      <td>EZE</td>\n",
              "      <td>ECA</td>\n",
              "      <td>AEROLINEAS ARGENTINAS SA</td>\n",
              "      <td>BO-737-800</td>\n",
              "      <td>70</td>\n",
              "      <td>DEFINITIVO</td>\n",
              "    </tr>\n",
              "    <tr>\n",
              "      <th>3</th>\n",
              "      <td>01/01/2021</td>\n",
              "      <td>00:29</td>\n",
              "      <td>Regular</td>\n",
              "      <td>Domestico</td>\n",
              "      <td>Aterrizaje</td>\n",
              "      <td>EZE</td>\n",
              "      <td>SAL</td>\n",
              "      <td>AEROLINEAS ARGENTINAS SA</td>\n",
              "      <td>BO-B-737-76N</td>\n",
              "      <td>12</td>\n",
              "      <td>DEFINITIVO</td>\n",
              "    </tr>\n",
              "    <tr>\n",
              "      <th>4</th>\n",
              "      <td>01/01/2021</td>\n",
              "      <td>00:37</td>\n",
              "      <td>Regular</td>\n",
              "      <td>Domestico</td>\n",
              "      <td>Aterrizaje</td>\n",
              "      <td>EZE</td>\n",
              "      <td>TUC</td>\n",
              "      <td>AEROLINEAS ARGENTINAS SA</td>\n",
              "      <td>EMB-ERJ190100IGW</td>\n",
              "      <td>26</td>\n",
              "      <td>DEFINITIVO</td>\n",
              "    </tr>\n",
              "    <tr>\n",
              "      <th>...</th>\n",
              "      <td>...</td>\n",
              "      <td>...</td>\n",
              "      <td>...</td>\n",
              "      <td>...</td>\n",
              "      <td>...</td>\n",
              "      <td>...</td>\n",
              "      <td>...</td>\n",
              "      <td>...</td>\n",
              "      <td>...</td>\n",
              "      <td>...</td>\n",
              "      <td>...</td>\n",
              "    </tr>\n",
              "    <tr>\n",
              "      <th>328131</th>\n",
              "      <td>31/12/2021</td>\n",
              "      <td>23:44</td>\n",
              "      <td>Regular</td>\n",
              "      <td>Domestico</td>\n",
              "      <td>Aterrizaje</td>\n",
              "      <td>JUJ</td>\n",
              "      <td>AER</td>\n",
              "      <td>FB LÍNEAS AÉREAS - FLYBONDI</td>\n",
              "      <td>BO-737-8Q8</td>\n",
              "      <td>96</td>\n",
              "      <td>DEFINITIVO</td>\n",
              "    </tr>\n",
              "    <tr>\n",
              "      <th>328132</th>\n",
              "      <td>31/12/2021</td>\n",
              "      <td>23:45</td>\n",
              "      <td>Regular</td>\n",
              "      <td>Domestico</td>\n",
              "      <td>Despegue</td>\n",
              "      <td>AER</td>\n",
              "      <td>CBA</td>\n",
              "      <td>FB LÍNEAS AÉREAS - FLYBONDI</td>\n",
              "      <td>BO-737-8Q8</td>\n",
              "      <td>88</td>\n",
              "      <td>DEFINITIVO</td>\n",
              "    </tr>\n",
              "    <tr>\n",
              "      <th>328133</th>\n",
              "      <td>31/12/2021</td>\n",
              "      <td>23:48</td>\n",
              "      <td>Regular</td>\n",
              "      <td>Domestico</td>\n",
              "      <td>Despegue</td>\n",
              "      <td>ROS</td>\n",
              "      <td>AER</td>\n",
              "      <td>AEROLINEAS ARGENTINAS SA</td>\n",
              "      <td>BO-737-800</td>\n",
              "      <td>10</td>\n",
              "      <td>DEFINITIVO</td>\n",
              "    </tr>\n",
              "    <tr>\n",
              "      <th>328134</th>\n",
              "      <td>31/12/2021</td>\n",
              "      <td>23:55</td>\n",
              "      <td>Regular</td>\n",
              "      <td>Internacional</td>\n",
              "      <td>Aterrizaje</td>\n",
              "      <td>EZE</td>\n",
              "      <td>SCEL</td>\n",
              "      <td>SKY AIRLINE S.A.</td>\n",
              "      <td>0</td>\n",
              "      <td>137</td>\n",
              "      <td>DEFINITIVO</td>\n",
              "    </tr>\n",
              "    <tr>\n",
              "      <th>328135</th>\n",
              "      <td>31/12/2021</td>\n",
              "      <td>23:58</td>\n",
              "      <td>Regular</td>\n",
              "      <td>Domestico</td>\n",
              "      <td>Despegue</td>\n",
              "      <td>BAR</td>\n",
              "      <td>AER</td>\n",
              "      <td>AEROLINEAS ARGENTINAS SA</td>\n",
              "      <td>BO-737-800</td>\n",
              "      <td>11</td>\n",
              "      <td>DEFINITIVO</td>\n",
              "    </tr>\n",
              "  </tbody>\n",
              "</table>\n",
              "<p>328136 rows × 11 columns</p>\n",
              "</div>\n",
              "      <button class=\"colab-df-convert\" onclick=\"convertToInteractive('df-38831ae9-ca8e-43d8-9e49-f8eea8edd776')\"\n",
              "              title=\"Convert this dataframe to an interactive table.\"\n",
              "              style=\"display:none;\">\n",
              "        \n",
              "  <svg xmlns=\"http://www.w3.org/2000/svg\" height=\"24px\"viewBox=\"0 0 24 24\"\n",
              "       width=\"24px\">\n",
              "    <path d=\"M0 0h24v24H0V0z\" fill=\"none\"/>\n",
              "    <path d=\"M18.56 5.44l.94 2.06.94-2.06 2.06-.94-2.06-.94-.94-2.06-.94 2.06-2.06.94zm-11 1L8.5 8.5l.94-2.06 2.06-.94-2.06-.94L8.5 2.5l-.94 2.06-2.06.94zm10 10l.94 2.06.94-2.06 2.06-.94-2.06-.94-.94-2.06-.94 2.06-2.06.94z\"/><path d=\"M17.41 7.96l-1.37-1.37c-.4-.4-.92-.59-1.43-.59-.52 0-1.04.2-1.43.59L10.3 9.45l-7.72 7.72c-.78.78-.78 2.05 0 2.83L4 21.41c.39.39.9.59 1.41.59.51 0 1.02-.2 1.41-.59l7.78-7.78 2.81-2.81c.8-.78.8-2.07 0-2.86zM5.41 20L4 18.59l7.72-7.72 1.47 1.35L5.41 20z\"/>\n",
              "  </svg>\n",
              "      </button>\n",
              "      \n",
              "  <style>\n",
              "    .colab-df-container {\n",
              "      display:flex;\n",
              "      flex-wrap:wrap;\n",
              "      gap: 12px;\n",
              "    }\n",
              "\n",
              "    .colab-df-convert {\n",
              "      background-color: #E8F0FE;\n",
              "      border: none;\n",
              "      border-radius: 50%;\n",
              "      cursor: pointer;\n",
              "      display: none;\n",
              "      fill: #1967D2;\n",
              "      height: 32px;\n",
              "      padding: 0 0 0 0;\n",
              "      width: 32px;\n",
              "    }\n",
              "\n",
              "    .colab-df-convert:hover {\n",
              "      background-color: #E2EBFA;\n",
              "      box-shadow: 0px 1px 2px rgba(60, 64, 67, 0.3), 0px 1px 3px 1px rgba(60, 64, 67, 0.15);\n",
              "      fill: #174EA6;\n",
              "    }\n",
              "\n",
              "    [theme=dark] .colab-df-convert {\n",
              "      background-color: #3B4455;\n",
              "      fill: #D2E3FC;\n",
              "    }\n",
              "\n",
              "    [theme=dark] .colab-df-convert:hover {\n",
              "      background-color: #434B5C;\n",
              "      box-shadow: 0px 1px 3px 1px rgba(0, 0, 0, 0.15);\n",
              "      filter: drop-shadow(0px 1px 2px rgba(0, 0, 0, 0.3));\n",
              "      fill: #FFFFFF;\n",
              "    }\n",
              "  </style>\n",
              "\n",
              "      <script>\n",
              "        const buttonEl =\n",
              "          document.querySelector('#df-38831ae9-ca8e-43d8-9e49-f8eea8edd776 button.colab-df-convert');\n",
              "        buttonEl.style.display =\n",
              "          google.colab.kernel.accessAllowed ? 'block' : 'none';\n",
              "\n",
              "        async function convertToInteractive(key) {\n",
              "          const element = document.querySelector('#df-38831ae9-ca8e-43d8-9e49-f8eea8edd776');\n",
              "          const dataTable =\n",
              "            await google.colab.kernel.invokeFunction('convertToInteractive',\n",
              "                                                     [key], {});\n",
              "          if (!dataTable) return;\n",
              "\n",
              "          const docLinkHtml = 'Like what you see? Visit the ' +\n",
              "            '<a target=\"_blank\" href=https://colab.research.google.com/notebooks/data_table.ipynb>data table notebook</a>'\n",
              "            + ' to learn more about interactive tables.';\n",
              "          element.innerHTML = '';\n",
              "          dataTable['output_type'] = 'display_data';\n",
              "          await google.colab.output.renderOutput(dataTable, element);\n",
              "          const docLink = document.createElement('div');\n",
              "          docLink.innerHTML = docLinkHtml;\n",
              "          element.appendChild(docLink);\n",
              "        }\n",
              "      </script>\n",
              "    </div>\n",
              "  </div>\n",
              "  "
            ]
          },
          "metadata": {},
          "execution_count": 9
        }
      ]
    },
    {
      "cell_type": "code",
      "source": [
        "df_2021.info()"
      ],
      "metadata": {
        "id": "AkS3J3W1lmRy",
        "outputId": "65adf29f-d26e-4fff-bb13-f38448b874f4",
        "colab": {
          "base_uri": "https://localhost:8080/"
        }
      },
      "execution_count": 10,
      "outputs": [
        {
          "output_type": "stream",
          "name": "stdout",
          "text": [
            "<class 'pandas.core.frame.DataFrame'>\n",
            "RangeIndex: 328136 entries, 0 to 328135\n",
            "Data columns (total 11 columns):\n",
            " #   Column                             Non-Null Count   Dtype \n",
            "---  ------                             --------------   ----- \n",
            " 0   Fecha                              328136 non-null  object\n",
            " 1   Hora UTC                           328136 non-null  object\n",
            " 2   Clase de Vuelo (todos los vuelos)  328136 non-null  object\n",
            " 3   Clasificación Vuelo                328136 non-null  object\n",
            " 4   Tipo de Movimiento                 328136 non-null  object\n",
            " 5   Aeropuerto                         328136 non-null  object\n",
            " 6   Origen / Destino                   328136 non-null  object\n",
            " 7   Aerolinea Nombre                   328136 non-null  object\n",
            " 8   Aeronave                           328136 non-null  object\n",
            " 9   Pasajeros                          328136 non-null  int64 \n",
            " 10  Calidad dato                       328136 non-null  object\n",
            "dtypes: int64(1), object(10)\n",
            "memory usage: 27.5+ MB\n"
          ]
        }
      ]
    },
    {
      "cell_type": "code",
      "source": [
        "# Validamos si hay valores nulos en pasajeros\n",
        "df_2021[df_2021['Pasajeros'].isna()] \n"
      ],
      "metadata": {
        "id": "DutEu1K6ECO1",
        "outputId": "bb3c1469-5845-4b97-961c-3623a8d545d5",
        "colab": {
          "base_uri": "https://localhost:8080/",
          "height": 49
        }
      },
      "execution_count": 11,
      "outputs": [
        {
          "output_type": "execute_result",
          "data": {
            "text/plain": [
              "Empty DataFrame\n",
              "Columns: [Fecha, Hora UTC, Clase de Vuelo (todos los vuelos), Clasificación Vuelo, Tipo de Movimiento, Aeropuerto, Origen / Destino, Aerolinea Nombre, Aeronave, Pasajeros, Calidad dato]\n",
              "Index: []"
            ],
            "text/html": [
              "\n",
              "  <div id=\"df-817da65b-ee0e-4fc5-aa98-14ec69432fcf\">\n",
              "    <div class=\"colab-df-container\">\n",
              "      <div>\n",
              "<style scoped>\n",
              "    .dataframe tbody tr th:only-of-type {\n",
              "        vertical-align: middle;\n",
              "    }\n",
              "\n",
              "    .dataframe tbody tr th {\n",
              "        vertical-align: top;\n",
              "    }\n",
              "\n",
              "    .dataframe thead th {\n",
              "        text-align: right;\n",
              "    }\n",
              "</style>\n",
              "<table border=\"1\" class=\"dataframe\">\n",
              "  <thead>\n",
              "    <tr style=\"text-align: right;\">\n",
              "      <th></th>\n",
              "      <th>Fecha</th>\n",
              "      <th>Hora UTC</th>\n",
              "      <th>Clase de Vuelo (todos los vuelos)</th>\n",
              "      <th>Clasificación Vuelo</th>\n",
              "      <th>Tipo de Movimiento</th>\n",
              "      <th>Aeropuerto</th>\n",
              "      <th>Origen / Destino</th>\n",
              "      <th>Aerolinea Nombre</th>\n",
              "      <th>Aeronave</th>\n",
              "      <th>Pasajeros</th>\n",
              "      <th>Calidad dato</th>\n",
              "    </tr>\n",
              "  </thead>\n",
              "  <tbody>\n",
              "  </tbody>\n",
              "</table>\n",
              "</div>\n",
              "      <button class=\"colab-df-convert\" onclick=\"convertToInteractive('df-817da65b-ee0e-4fc5-aa98-14ec69432fcf')\"\n",
              "              title=\"Convert this dataframe to an interactive table.\"\n",
              "              style=\"display:none;\">\n",
              "        \n",
              "  <svg xmlns=\"http://www.w3.org/2000/svg\" height=\"24px\"viewBox=\"0 0 24 24\"\n",
              "       width=\"24px\">\n",
              "    <path d=\"M0 0h24v24H0V0z\" fill=\"none\"/>\n",
              "    <path d=\"M18.56 5.44l.94 2.06.94-2.06 2.06-.94-2.06-.94-.94-2.06-.94 2.06-2.06.94zm-11 1L8.5 8.5l.94-2.06 2.06-.94-2.06-.94L8.5 2.5l-.94 2.06-2.06.94zm10 10l.94 2.06.94-2.06 2.06-.94-2.06-.94-.94-2.06-.94 2.06-2.06.94z\"/><path d=\"M17.41 7.96l-1.37-1.37c-.4-.4-.92-.59-1.43-.59-.52 0-1.04.2-1.43.59L10.3 9.45l-7.72 7.72c-.78.78-.78 2.05 0 2.83L4 21.41c.39.39.9.59 1.41.59.51 0 1.02-.2 1.41-.59l7.78-7.78 2.81-2.81c.8-.78.8-2.07 0-2.86zM5.41 20L4 18.59l7.72-7.72 1.47 1.35L5.41 20z\"/>\n",
              "  </svg>\n",
              "      </button>\n",
              "      \n",
              "  <style>\n",
              "    .colab-df-container {\n",
              "      display:flex;\n",
              "      flex-wrap:wrap;\n",
              "      gap: 12px;\n",
              "    }\n",
              "\n",
              "    .colab-df-convert {\n",
              "      background-color: #E8F0FE;\n",
              "      border: none;\n",
              "      border-radius: 50%;\n",
              "      cursor: pointer;\n",
              "      display: none;\n",
              "      fill: #1967D2;\n",
              "      height: 32px;\n",
              "      padding: 0 0 0 0;\n",
              "      width: 32px;\n",
              "    }\n",
              "\n",
              "    .colab-df-convert:hover {\n",
              "      background-color: #E2EBFA;\n",
              "      box-shadow: 0px 1px 2px rgba(60, 64, 67, 0.3), 0px 1px 3px 1px rgba(60, 64, 67, 0.15);\n",
              "      fill: #174EA6;\n",
              "    }\n",
              "\n",
              "    [theme=dark] .colab-df-convert {\n",
              "      background-color: #3B4455;\n",
              "      fill: #D2E3FC;\n",
              "    }\n",
              "\n",
              "    [theme=dark] .colab-df-convert:hover {\n",
              "      background-color: #434B5C;\n",
              "      box-shadow: 0px 1px 3px 1px rgba(0, 0, 0, 0.15);\n",
              "      filter: drop-shadow(0px 1px 2px rgba(0, 0, 0, 0.3));\n",
              "      fill: #FFFFFF;\n",
              "    }\n",
              "  </style>\n",
              "\n",
              "      <script>\n",
              "        const buttonEl =\n",
              "          document.querySelector('#df-817da65b-ee0e-4fc5-aa98-14ec69432fcf button.colab-df-convert');\n",
              "        buttonEl.style.display =\n",
              "          google.colab.kernel.accessAllowed ? 'block' : 'none';\n",
              "\n",
              "        async function convertToInteractive(key) {\n",
              "          const element = document.querySelector('#df-817da65b-ee0e-4fc5-aa98-14ec69432fcf');\n",
              "          const dataTable =\n",
              "            await google.colab.kernel.invokeFunction('convertToInteractive',\n",
              "                                                     [key], {});\n",
              "          if (!dataTable) return;\n",
              "\n",
              "          const docLinkHtml = 'Like what you see? Visit the ' +\n",
              "            '<a target=\"_blank\" href=https://colab.research.google.com/notebooks/data_table.ipynb>data table notebook</a>'\n",
              "            + ' to learn more about interactive tables.';\n",
              "          element.innerHTML = '';\n",
              "          dataTable['output_type'] = 'display_data';\n",
              "          await google.colab.output.renderOutput(dataTable, element);\n",
              "          const docLink = document.createElement('div');\n",
              "          docLink.innerHTML = docLinkHtml;\n",
              "          element.appendChild(docLink);\n",
              "        }\n",
              "      </script>\n",
              "    </div>\n",
              "  </div>\n",
              "  "
            ]
          },
          "metadata": {},
          "execution_count": 11
        }
      ]
    },
    {
      "cell_type": "code",
      "source": [
        "df_2022"
      ],
      "metadata": {
        "colab": {
          "base_uri": "https://localhost:8080/",
          "height": 467
        },
        "id": "mAB_4P8rGvMG",
        "outputId": "b1a664ac-dd42-4d0c-ea09-bda121f969e7"
      },
      "execution_count": 12,
      "outputs": [
        {
          "output_type": "execute_result",
          "data": {
            "text/plain": [
              "             Fecha Hora UTC Clase de Vuelo (todos los vuelos)  \\\n",
              "0       01/01/2022    00:01                           Regular   \n",
              "1       01/01/2022    00:05                           Regular   \n",
              "2       01/01/2022    00:05                           Regular   \n",
              "3       01/01/2022    00:09                           Regular   \n",
              "4       01/01/2022    00:09                           Regular   \n",
              "...            ...      ...                               ...   \n",
              "222922  30/06/2022    23:59                           Regular   \n",
              "222923  30/06/2022    16:26                           Regular   \n",
              "222924  30/06/2022    13:08                           Regular   \n",
              "222925  30/06/2022    01:33                           Regular   \n",
              "222926  30/06/2022    21:26                           Regular   \n",
              "\n",
              "       Clasificación Vuelo Tipo de Movimiento Aeropuerto Origen / Destino  \\\n",
              "0                Doméstico         Aterrizaje        AER              ECA   \n",
              "1                Doméstico         Aterrizaje        AER              SAL   \n",
              "2                Doméstico           Despegue        IGU              AER   \n",
              "3                Doméstico         Aterrizaje        AER              GAL   \n",
              "4            Internacional           Despegue        EZE             KDFW   \n",
              "...                    ...                ...        ...              ...   \n",
              "222922           Doméstico           Despegue        DOZ              AER   \n",
              "222923           Doméstico           Despegue        VIE              BAR   \n",
              "222924           Doméstico         Aterrizaje        VIE              AER   \n",
              "222925           Doméstico           Despegue        LAR              AER   \n",
              "222926           Doméstico         Aterrizaje        LAR              AER   \n",
              "\n",
              "                Aerolinea Nombre          Aeronave Pasajeros Calidad dato  \n",
              "0       AEROLINEAS ARGENTINAS SA        BO-737-8SH        69   DEFINITIVO  \n",
              "1       AEROLINEAS ARGENTINAS SA         BO-B737-8        65   DEFINITIVO  \n",
              "2         JETSMART AIRLINES S.A.      AIB-A320-232        41   DEFINITIVO  \n",
              "3       AEROLINEAS ARGENTINAS SA       BO-B737-81D        73   DEFINITIVO  \n",
              "4         AMERICAN AIRLINES INC.                 0       261   DEFINITIVO  \n",
              "...                          ...               ...       ...          ...  \n",
              "222922  AEROLINEAS ARGENTINAS SA       BO-B737-8SH      83,5   PROVISORIO  \n",
              "222923  AEROLINEAS ARGENTINAS SA  EMB-ERJ190100IGW      33,5   PROVISORIO  \n",
              "222924  AEROLINEAS ARGENTINAS SA  EMB-ERJ190100IGW      45,5   PROVISORIO  \n",
              "222925  AEROLINEAS ARGENTINAS SA  EMB-ERJ190100IGW      47,5   PROVISORIO  \n",
              "222926  AEROLINEAS ARGENTINAS SA  EMB-ERJ190100IGW      48,5   PROVISORIO  \n",
              "\n",
              "[222927 rows x 11 columns]"
            ],
            "text/html": [
              "\n",
              "  <div id=\"df-a41b80e8-a3fc-40a5-b273-71f9e98d3bfb\">\n",
              "    <div class=\"colab-df-container\">\n",
              "      <div>\n",
              "<style scoped>\n",
              "    .dataframe tbody tr th:only-of-type {\n",
              "        vertical-align: middle;\n",
              "    }\n",
              "\n",
              "    .dataframe tbody tr th {\n",
              "        vertical-align: top;\n",
              "    }\n",
              "\n",
              "    .dataframe thead th {\n",
              "        text-align: right;\n",
              "    }\n",
              "</style>\n",
              "<table border=\"1\" class=\"dataframe\">\n",
              "  <thead>\n",
              "    <tr style=\"text-align: right;\">\n",
              "      <th></th>\n",
              "      <th>Fecha</th>\n",
              "      <th>Hora UTC</th>\n",
              "      <th>Clase de Vuelo (todos los vuelos)</th>\n",
              "      <th>Clasificación Vuelo</th>\n",
              "      <th>Tipo de Movimiento</th>\n",
              "      <th>Aeropuerto</th>\n",
              "      <th>Origen / Destino</th>\n",
              "      <th>Aerolinea Nombre</th>\n",
              "      <th>Aeronave</th>\n",
              "      <th>Pasajeros</th>\n",
              "      <th>Calidad dato</th>\n",
              "    </tr>\n",
              "  </thead>\n",
              "  <tbody>\n",
              "    <tr>\n",
              "      <th>0</th>\n",
              "      <td>01/01/2022</td>\n",
              "      <td>00:01</td>\n",
              "      <td>Regular</td>\n",
              "      <td>Doméstico</td>\n",
              "      <td>Aterrizaje</td>\n",
              "      <td>AER</td>\n",
              "      <td>ECA</td>\n",
              "      <td>AEROLINEAS ARGENTINAS SA</td>\n",
              "      <td>BO-737-8SH</td>\n",
              "      <td>69</td>\n",
              "      <td>DEFINITIVO</td>\n",
              "    </tr>\n",
              "    <tr>\n",
              "      <th>1</th>\n",
              "      <td>01/01/2022</td>\n",
              "      <td>00:05</td>\n",
              "      <td>Regular</td>\n",
              "      <td>Doméstico</td>\n",
              "      <td>Aterrizaje</td>\n",
              "      <td>AER</td>\n",
              "      <td>SAL</td>\n",
              "      <td>AEROLINEAS ARGENTINAS SA</td>\n",
              "      <td>BO-B737-8</td>\n",
              "      <td>65</td>\n",
              "      <td>DEFINITIVO</td>\n",
              "    </tr>\n",
              "    <tr>\n",
              "      <th>2</th>\n",
              "      <td>01/01/2022</td>\n",
              "      <td>00:05</td>\n",
              "      <td>Regular</td>\n",
              "      <td>Doméstico</td>\n",
              "      <td>Despegue</td>\n",
              "      <td>IGU</td>\n",
              "      <td>AER</td>\n",
              "      <td>JETSMART AIRLINES S.A.</td>\n",
              "      <td>AIB-A320-232</td>\n",
              "      <td>41</td>\n",
              "      <td>DEFINITIVO</td>\n",
              "    </tr>\n",
              "    <tr>\n",
              "      <th>3</th>\n",
              "      <td>01/01/2022</td>\n",
              "      <td>00:09</td>\n",
              "      <td>Regular</td>\n",
              "      <td>Doméstico</td>\n",
              "      <td>Aterrizaje</td>\n",
              "      <td>AER</td>\n",
              "      <td>GAL</td>\n",
              "      <td>AEROLINEAS ARGENTINAS SA</td>\n",
              "      <td>BO-B737-81D</td>\n",
              "      <td>73</td>\n",
              "      <td>DEFINITIVO</td>\n",
              "    </tr>\n",
              "    <tr>\n",
              "      <th>4</th>\n",
              "      <td>01/01/2022</td>\n",
              "      <td>00:09</td>\n",
              "      <td>Regular</td>\n",
              "      <td>Internacional</td>\n",
              "      <td>Despegue</td>\n",
              "      <td>EZE</td>\n",
              "      <td>KDFW</td>\n",
              "      <td>AMERICAN AIRLINES INC.</td>\n",
              "      <td>0</td>\n",
              "      <td>261</td>\n",
              "      <td>DEFINITIVO</td>\n",
              "    </tr>\n",
              "    <tr>\n",
              "      <th>...</th>\n",
              "      <td>...</td>\n",
              "      <td>...</td>\n",
              "      <td>...</td>\n",
              "      <td>...</td>\n",
              "      <td>...</td>\n",
              "      <td>...</td>\n",
              "      <td>...</td>\n",
              "      <td>...</td>\n",
              "      <td>...</td>\n",
              "      <td>...</td>\n",
              "      <td>...</td>\n",
              "    </tr>\n",
              "    <tr>\n",
              "      <th>222922</th>\n",
              "      <td>30/06/2022</td>\n",
              "      <td>23:59</td>\n",
              "      <td>Regular</td>\n",
              "      <td>Doméstico</td>\n",
              "      <td>Despegue</td>\n",
              "      <td>DOZ</td>\n",
              "      <td>AER</td>\n",
              "      <td>AEROLINEAS ARGENTINAS SA</td>\n",
              "      <td>BO-B737-8SH</td>\n",
              "      <td>83,5</td>\n",
              "      <td>PROVISORIO</td>\n",
              "    </tr>\n",
              "    <tr>\n",
              "      <th>222923</th>\n",
              "      <td>30/06/2022</td>\n",
              "      <td>16:26</td>\n",
              "      <td>Regular</td>\n",
              "      <td>Doméstico</td>\n",
              "      <td>Despegue</td>\n",
              "      <td>VIE</td>\n",
              "      <td>BAR</td>\n",
              "      <td>AEROLINEAS ARGENTINAS SA</td>\n",
              "      <td>EMB-ERJ190100IGW</td>\n",
              "      <td>33,5</td>\n",
              "      <td>PROVISORIO</td>\n",
              "    </tr>\n",
              "    <tr>\n",
              "      <th>222924</th>\n",
              "      <td>30/06/2022</td>\n",
              "      <td>13:08</td>\n",
              "      <td>Regular</td>\n",
              "      <td>Doméstico</td>\n",
              "      <td>Aterrizaje</td>\n",
              "      <td>VIE</td>\n",
              "      <td>AER</td>\n",
              "      <td>AEROLINEAS ARGENTINAS SA</td>\n",
              "      <td>EMB-ERJ190100IGW</td>\n",
              "      <td>45,5</td>\n",
              "      <td>PROVISORIO</td>\n",
              "    </tr>\n",
              "    <tr>\n",
              "      <th>222925</th>\n",
              "      <td>30/06/2022</td>\n",
              "      <td>01:33</td>\n",
              "      <td>Regular</td>\n",
              "      <td>Doméstico</td>\n",
              "      <td>Despegue</td>\n",
              "      <td>LAR</td>\n",
              "      <td>AER</td>\n",
              "      <td>AEROLINEAS ARGENTINAS SA</td>\n",
              "      <td>EMB-ERJ190100IGW</td>\n",
              "      <td>47,5</td>\n",
              "      <td>PROVISORIO</td>\n",
              "    </tr>\n",
              "    <tr>\n",
              "      <th>222926</th>\n",
              "      <td>30/06/2022</td>\n",
              "      <td>21:26</td>\n",
              "      <td>Regular</td>\n",
              "      <td>Doméstico</td>\n",
              "      <td>Aterrizaje</td>\n",
              "      <td>LAR</td>\n",
              "      <td>AER</td>\n",
              "      <td>AEROLINEAS ARGENTINAS SA</td>\n",
              "      <td>EMB-ERJ190100IGW</td>\n",
              "      <td>48,5</td>\n",
              "      <td>PROVISORIO</td>\n",
              "    </tr>\n",
              "  </tbody>\n",
              "</table>\n",
              "<p>222927 rows × 11 columns</p>\n",
              "</div>\n",
              "      <button class=\"colab-df-convert\" onclick=\"convertToInteractive('df-a41b80e8-a3fc-40a5-b273-71f9e98d3bfb')\"\n",
              "              title=\"Convert this dataframe to an interactive table.\"\n",
              "              style=\"display:none;\">\n",
              "        \n",
              "  <svg xmlns=\"http://www.w3.org/2000/svg\" height=\"24px\"viewBox=\"0 0 24 24\"\n",
              "       width=\"24px\">\n",
              "    <path d=\"M0 0h24v24H0V0z\" fill=\"none\"/>\n",
              "    <path d=\"M18.56 5.44l.94 2.06.94-2.06 2.06-.94-2.06-.94-.94-2.06-.94 2.06-2.06.94zm-11 1L8.5 8.5l.94-2.06 2.06-.94-2.06-.94L8.5 2.5l-.94 2.06-2.06.94zm10 10l.94 2.06.94-2.06 2.06-.94-2.06-.94-.94-2.06-.94 2.06-2.06.94z\"/><path d=\"M17.41 7.96l-1.37-1.37c-.4-.4-.92-.59-1.43-.59-.52 0-1.04.2-1.43.59L10.3 9.45l-7.72 7.72c-.78.78-.78 2.05 0 2.83L4 21.41c.39.39.9.59 1.41.59.51 0 1.02-.2 1.41-.59l7.78-7.78 2.81-2.81c.8-.78.8-2.07 0-2.86zM5.41 20L4 18.59l7.72-7.72 1.47 1.35L5.41 20z\"/>\n",
              "  </svg>\n",
              "      </button>\n",
              "      \n",
              "  <style>\n",
              "    .colab-df-container {\n",
              "      display:flex;\n",
              "      flex-wrap:wrap;\n",
              "      gap: 12px;\n",
              "    }\n",
              "\n",
              "    .colab-df-convert {\n",
              "      background-color: #E8F0FE;\n",
              "      border: none;\n",
              "      border-radius: 50%;\n",
              "      cursor: pointer;\n",
              "      display: none;\n",
              "      fill: #1967D2;\n",
              "      height: 32px;\n",
              "      padding: 0 0 0 0;\n",
              "      width: 32px;\n",
              "    }\n",
              "\n",
              "    .colab-df-convert:hover {\n",
              "      background-color: #E2EBFA;\n",
              "      box-shadow: 0px 1px 2px rgba(60, 64, 67, 0.3), 0px 1px 3px 1px rgba(60, 64, 67, 0.15);\n",
              "      fill: #174EA6;\n",
              "    }\n",
              "\n",
              "    [theme=dark] .colab-df-convert {\n",
              "      background-color: #3B4455;\n",
              "      fill: #D2E3FC;\n",
              "    }\n",
              "\n",
              "    [theme=dark] .colab-df-convert:hover {\n",
              "      background-color: #434B5C;\n",
              "      box-shadow: 0px 1px 3px 1px rgba(0, 0, 0, 0.15);\n",
              "      filter: drop-shadow(0px 1px 2px rgba(0, 0, 0, 0.3));\n",
              "      fill: #FFFFFF;\n",
              "    }\n",
              "  </style>\n",
              "\n",
              "      <script>\n",
              "        const buttonEl =\n",
              "          document.querySelector('#df-a41b80e8-a3fc-40a5-b273-71f9e98d3bfb button.colab-df-convert');\n",
              "        buttonEl.style.display =\n",
              "          google.colab.kernel.accessAllowed ? 'block' : 'none';\n",
              "\n",
              "        async function convertToInteractive(key) {\n",
              "          const element = document.querySelector('#df-a41b80e8-a3fc-40a5-b273-71f9e98d3bfb');\n",
              "          const dataTable =\n",
              "            await google.colab.kernel.invokeFunction('convertToInteractive',\n",
              "                                                     [key], {});\n",
              "          if (!dataTable) return;\n",
              "\n",
              "          const docLinkHtml = 'Like what you see? Visit the ' +\n",
              "            '<a target=\"_blank\" href=https://colab.research.google.com/notebooks/data_table.ipynb>data table notebook</a>'\n",
              "            + ' to learn more about interactive tables.';\n",
              "          element.innerHTML = '';\n",
              "          dataTable['output_type'] = 'display_data';\n",
              "          await google.colab.output.renderOutput(dataTable, element);\n",
              "          const docLink = document.createElement('div');\n",
              "          docLink.innerHTML = docLinkHtml;\n",
              "          element.appendChild(docLink);\n",
              "        }\n",
              "      </script>\n",
              "    </div>\n",
              "  </div>\n",
              "  "
            ]
          },
          "metadata": {},
          "execution_count": 12
        }
      ]
    },
    {
      "cell_type": "code",
      "source": [
        "# Validamos si hay valores nulos en pasajeros\n",
        "df_2022[df_2022['Pasajeros'].isna()] \n"
      ],
      "metadata": {
        "colab": {
          "base_uri": "https://localhost:8080/",
          "height": 49
        },
        "id": "JGrDaHIKHmXZ",
        "outputId": "65e5f8d4-ae2a-4da6-cacd-1bd77c5713a0"
      },
      "execution_count": 13,
      "outputs": [
        {
          "output_type": "execute_result",
          "data": {
            "text/plain": [
              "Empty DataFrame\n",
              "Columns: [Fecha, Hora UTC, Clase de Vuelo (todos los vuelos), Clasificación Vuelo, Tipo de Movimiento, Aeropuerto, Origen / Destino, Aerolinea Nombre, Aeronave, Pasajeros, Calidad dato]\n",
              "Index: []"
            ],
            "text/html": [
              "\n",
              "  <div id=\"df-a1448cb8-075a-4600-8ffc-a3d137b8b183\">\n",
              "    <div class=\"colab-df-container\">\n",
              "      <div>\n",
              "<style scoped>\n",
              "    .dataframe tbody tr th:only-of-type {\n",
              "        vertical-align: middle;\n",
              "    }\n",
              "\n",
              "    .dataframe tbody tr th {\n",
              "        vertical-align: top;\n",
              "    }\n",
              "\n",
              "    .dataframe thead th {\n",
              "        text-align: right;\n",
              "    }\n",
              "</style>\n",
              "<table border=\"1\" class=\"dataframe\">\n",
              "  <thead>\n",
              "    <tr style=\"text-align: right;\">\n",
              "      <th></th>\n",
              "      <th>Fecha</th>\n",
              "      <th>Hora UTC</th>\n",
              "      <th>Clase de Vuelo (todos los vuelos)</th>\n",
              "      <th>Clasificación Vuelo</th>\n",
              "      <th>Tipo de Movimiento</th>\n",
              "      <th>Aeropuerto</th>\n",
              "      <th>Origen / Destino</th>\n",
              "      <th>Aerolinea Nombre</th>\n",
              "      <th>Aeronave</th>\n",
              "      <th>Pasajeros</th>\n",
              "      <th>Calidad dato</th>\n",
              "    </tr>\n",
              "  </thead>\n",
              "  <tbody>\n",
              "  </tbody>\n",
              "</table>\n",
              "</div>\n",
              "      <button class=\"colab-df-convert\" onclick=\"convertToInteractive('df-a1448cb8-075a-4600-8ffc-a3d137b8b183')\"\n",
              "              title=\"Convert this dataframe to an interactive table.\"\n",
              "              style=\"display:none;\">\n",
              "        \n",
              "  <svg xmlns=\"http://www.w3.org/2000/svg\" height=\"24px\"viewBox=\"0 0 24 24\"\n",
              "       width=\"24px\">\n",
              "    <path d=\"M0 0h24v24H0V0z\" fill=\"none\"/>\n",
              "    <path d=\"M18.56 5.44l.94 2.06.94-2.06 2.06-.94-2.06-.94-.94-2.06-.94 2.06-2.06.94zm-11 1L8.5 8.5l.94-2.06 2.06-.94-2.06-.94L8.5 2.5l-.94 2.06-2.06.94zm10 10l.94 2.06.94-2.06 2.06-.94-2.06-.94-.94-2.06-.94 2.06-2.06.94z\"/><path d=\"M17.41 7.96l-1.37-1.37c-.4-.4-.92-.59-1.43-.59-.52 0-1.04.2-1.43.59L10.3 9.45l-7.72 7.72c-.78.78-.78 2.05 0 2.83L4 21.41c.39.39.9.59 1.41.59.51 0 1.02-.2 1.41-.59l7.78-7.78 2.81-2.81c.8-.78.8-2.07 0-2.86zM5.41 20L4 18.59l7.72-7.72 1.47 1.35L5.41 20z\"/>\n",
              "  </svg>\n",
              "      </button>\n",
              "      \n",
              "  <style>\n",
              "    .colab-df-container {\n",
              "      display:flex;\n",
              "      flex-wrap:wrap;\n",
              "      gap: 12px;\n",
              "    }\n",
              "\n",
              "    .colab-df-convert {\n",
              "      background-color: #E8F0FE;\n",
              "      border: none;\n",
              "      border-radius: 50%;\n",
              "      cursor: pointer;\n",
              "      display: none;\n",
              "      fill: #1967D2;\n",
              "      height: 32px;\n",
              "      padding: 0 0 0 0;\n",
              "      width: 32px;\n",
              "    }\n",
              "\n",
              "    .colab-df-convert:hover {\n",
              "      background-color: #E2EBFA;\n",
              "      box-shadow: 0px 1px 2px rgba(60, 64, 67, 0.3), 0px 1px 3px 1px rgba(60, 64, 67, 0.15);\n",
              "      fill: #174EA6;\n",
              "    }\n",
              "\n",
              "    [theme=dark] .colab-df-convert {\n",
              "      background-color: #3B4455;\n",
              "      fill: #D2E3FC;\n",
              "    }\n",
              "\n",
              "    [theme=dark] .colab-df-convert:hover {\n",
              "      background-color: #434B5C;\n",
              "      box-shadow: 0px 1px 3px 1px rgba(0, 0, 0, 0.15);\n",
              "      filter: drop-shadow(0px 1px 2px rgba(0, 0, 0, 0.3));\n",
              "      fill: #FFFFFF;\n",
              "    }\n",
              "  </style>\n",
              "\n",
              "      <script>\n",
              "        const buttonEl =\n",
              "          document.querySelector('#df-a1448cb8-075a-4600-8ffc-a3d137b8b183 button.colab-df-convert');\n",
              "        buttonEl.style.display =\n",
              "          google.colab.kernel.accessAllowed ? 'block' : 'none';\n",
              "\n",
              "        async function convertToInteractive(key) {\n",
              "          const element = document.querySelector('#df-a1448cb8-075a-4600-8ffc-a3d137b8b183');\n",
              "          const dataTable =\n",
              "            await google.colab.kernel.invokeFunction('convertToInteractive',\n",
              "                                                     [key], {});\n",
              "          if (!dataTable) return;\n",
              "\n",
              "          const docLinkHtml = 'Like what you see? Visit the ' +\n",
              "            '<a target=\"_blank\" href=https://colab.research.google.com/notebooks/data_table.ipynb>data table notebook</a>'\n",
              "            + ' to learn more about interactive tables.';\n",
              "          element.innerHTML = '';\n",
              "          dataTable['output_type'] = 'display_data';\n",
              "          await google.colab.output.renderOutput(dataTable, element);\n",
              "          const docLink = document.createElement('div');\n",
              "          docLink.innerHTML = docLinkHtml;\n",
              "          element.appendChild(docLink);\n",
              "        }\n",
              "      </script>\n",
              "    </div>\n",
              "  </div>\n",
              "  "
            ]
          },
          "metadata": {},
          "execution_count": 13
        }
      ]
    },
    {
      "cell_type": "code",
      "source": [
        "df_aeropuertos"
      ],
      "metadata": {
        "id": "t3i-peJ9H1Pe",
        "outputId": "fbcdccf4-3323-41f3-d691-682116dd6921",
        "colab": {
          "base_uri": "https://localhost:8080/",
          "height": 661
        }
      },
      "execution_count": 14,
      "outputs": [
        {
          "output_type": "execute_result",
          "data": {
            "text/plain": [
              "    local  oaci iata       tipo                       denominacion  \\\n",
              "0     ACB   NaN  NaN  Aeródromo       CORONEL BOGADO/AGROSERVICIOS   \n",
              "1     ACH   NaN  NaN  Aeródromo                       GENERAL ACHA   \n",
              "2     ACM   NaN  NaN  Aeródromo            ARRECIFES/LA CURA MALAL   \n",
              "3     ADO  SAWD  PUD  Aeródromo                     PUERTO DESEADO   \n",
              "4     ADT   NaN  NaN  Aeródromo  BANDERA/AGROSERVICIOS DOÑA TERESA   \n",
              "..    ...   ...  ...        ...                                ...   \n",
              "688   YOS  SAZH  OYO  Aeródromo                       TRES ARROYOS   \n",
              "689   YPY   NaN  NaN  Aeródromo                             YAPEYÚ   \n",
              "690   ZAP  SAHZ  APZ  Aeródromo                             ZAPALA   \n",
              "691   ZLM   NaN  NaN  Aeródromo               BELL VILLE/LA ZULEMA   \n",
              "692   ZUL  SAZA  NaN  Aeródromo                               AZUL   \n",
              "\n",
              "                coordenadas    latitud   longitud    elev uom_elev  ...  \\\n",
              "0    33°16'20\"S  60°34'14\"W -60.570660 -33.272260    44.0   Metros  ...   \n",
              "1    37°24' 6\"S  64°36'49\"W -64.613510 -37.401640   277.0   Metros  ...   \n",
              "2    34° 4'33\"S  60° 8'30\"W -60.141700 -34.075740    37.0   Metros  ...   \n",
              "3    47°44' 6\"S  65°54'15\"W -65.904100 -47.735110    82.0   Metros  ...   \n",
              "4    28°51'19\"S  62°15'53\"W -62.264620 -28.855410    75.0   Metros  ...   \n",
              "..                      ...        ...        ...     ...      ...  ...   \n",
              "688  38°23' 8\"S  60°19'39\"W -60.327500 -38.385556   122.0   Metros  ...   \n",
              "689  29°21'32\"S  56°47'45\"W -56.795730 -29.358770    53.0   Metros  ...   \n",
              "690  38°58'33\"S  70° 6'48\"W -70.113464 -38.975886  1048.0   Metros  ...   \n",
              "691  32°29'23\"S  62°40'17\"W -62.671389 -32.489722   129.0   Metros  ...   \n",
              "692  36°50'12\"S  59°52'51\"W -59.880800 -36.836750   146.0   Metros  ...   \n",
              "\n",
              "    condicion    control region   fir      uso   trafico sna concesionado  \\\n",
              "0     PRIVADO  NOCONTROL   RACE  SAEF  AEROAPP  Nacional  NO           NO   \n",
              "1     PUBLICO  NOCONTROL   RACE  SAEF    CIVIL  Nacional  NO           NO   \n",
              "2     PRIVADO  NOCONTROL   RACE  SAEF    CIVIL  Nacional  NO           NO   \n",
              "3     PUBLICO    AERADIO   RASU  SAVF    CIVIL  Nacional  NO           NO   \n",
              "4     PRIVADO  NOCONTROL   RANO  SACF  AEROAPP  Nacional  NO           NO   \n",
              "..        ...        ...    ...   ...      ...       ...  ..          ...   \n",
              "688   PUBLICO  NOCONTROL   RACE  SAEF      NaN  Nacional  NO           NO   \n",
              "689   PRIVADO  NOCONTROL   RANE  SARR      NaN  Nacional  NO           NO   \n",
              "690   PUBLICO  NOCONTROL   RACE  SAEF      NaN  Nacional  NO           NO   \n",
              "691   PRIVADO  NOCONTROL   RANO  SACF  AEROAPP  Nacional  NO           NO   \n",
              "692   PUBLICO  NOCONTROL   RACE  SAEF    CIVIL  Nacional  NO           NO   \n",
              "\n",
              "               provincia inhab  \n",
              "0               SANTA FÉ    NO  \n",
              "1               LA PAMPA    NO  \n",
              "2           BUENOS AIRES    NO  \n",
              "3             SANTA CRUZ    NO  \n",
              "4    SANTIAGO DEL ESTERO    NO  \n",
              "..                   ...   ...  \n",
              "688         BUENOS AIRES    NO  \n",
              "689           CORRIENTES    NO  \n",
              "690              NEUQUÉN    NO  \n",
              "691              CÓRDOBA    NO  \n",
              "692         BUENOS AIRES    NO  \n",
              "\n",
              "[693 rows x 23 columns]"
            ],
            "text/html": [
              "\n",
              "  <div id=\"df-870738ea-ced7-47a1-8d74-27f1b9cac9eb\">\n",
              "    <div class=\"colab-df-container\">\n",
              "      <div>\n",
              "<style scoped>\n",
              "    .dataframe tbody tr th:only-of-type {\n",
              "        vertical-align: middle;\n",
              "    }\n",
              "\n",
              "    .dataframe tbody tr th {\n",
              "        vertical-align: top;\n",
              "    }\n",
              "\n",
              "    .dataframe thead th {\n",
              "        text-align: right;\n",
              "    }\n",
              "</style>\n",
              "<table border=\"1\" class=\"dataframe\">\n",
              "  <thead>\n",
              "    <tr style=\"text-align: right;\">\n",
              "      <th></th>\n",
              "      <th>local</th>\n",
              "      <th>oaci</th>\n",
              "      <th>iata</th>\n",
              "      <th>tipo</th>\n",
              "      <th>denominacion</th>\n",
              "      <th>coordenadas</th>\n",
              "      <th>latitud</th>\n",
              "      <th>longitud</th>\n",
              "      <th>elev</th>\n",
              "      <th>uom_elev</th>\n",
              "      <th>...</th>\n",
              "      <th>condicion</th>\n",
              "      <th>control</th>\n",
              "      <th>region</th>\n",
              "      <th>fir</th>\n",
              "      <th>uso</th>\n",
              "      <th>trafico</th>\n",
              "      <th>sna</th>\n",
              "      <th>concesionado</th>\n",
              "      <th>provincia</th>\n",
              "      <th>inhab</th>\n",
              "    </tr>\n",
              "  </thead>\n",
              "  <tbody>\n",
              "    <tr>\n",
              "      <th>0</th>\n",
              "      <td>ACB</td>\n",
              "      <td>NaN</td>\n",
              "      <td>NaN</td>\n",
              "      <td>Aeródromo</td>\n",
              "      <td>CORONEL BOGADO/AGROSERVICIOS</td>\n",
              "      <td>33°16'20\"S  60°34'14\"W</td>\n",
              "      <td>-60.570660</td>\n",
              "      <td>-33.272260</td>\n",
              "      <td>44.0</td>\n",
              "      <td>Metros</td>\n",
              "      <td>...</td>\n",
              "      <td>PRIVADO</td>\n",
              "      <td>NOCONTROL</td>\n",
              "      <td>RACE</td>\n",
              "      <td>SAEF</td>\n",
              "      <td>AEROAPP</td>\n",
              "      <td>Nacional</td>\n",
              "      <td>NO</td>\n",
              "      <td>NO</td>\n",
              "      <td>SANTA FÉ</td>\n",
              "      <td>NO</td>\n",
              "    </tr>\n",
              "    <tr>\n",
              "      <th>1</th>\n",
              "      <td>ACH</td>\n",
              "      <td>NaN</td>\n",
              "      <td>NaN</td>\n",
              "      <td>Aeródromo</td>\n",
              "      <td>GENERAL ACHA</td>\n",
              "      <td>37°24' 6\"S  64°36'49\"W</td>\n",
              "      <td>-64.613510</td>\n",
              "      <td>-37.401640</td>\n",
              "      <td>277.0</td>\n",
              "      <td>Metros</td>\n",
              "      <td>...</td>\n",
              "      <td>PUBLICO</td>\n",
              "      <td>NOCONTROL</td>\n",
              "      <td>RACE</td>\n",
              "      <td>SAEF</td>\n",
              "      <td>CIVIL</td>\n",
              "      <td>Nacional</td>\n",
              "      <td>NO</td>\n",
              "      <td>NO</td>\n",
              "      <td>LA PAMPA</td>\n",
              "      <td>NO</td>\n",
              "    </tr>\n",
              "    <tr>\n",
              "      <th>2</th>\n",
              "      <td>ACM</td>\n",
              "      <td>NaN</td>\n",
              "      <td>NaN</td>\n",
              "      <td>Aeródromo</td>\n",
              "      <td>ARRECIFES/LA CURA MALAL</td>\n",
              "      <td>34° 4'33\"S  60° 8'30\"W</td>\n",
              "      <td>-60.141700</td>\n",
              "      <td>-34.075740</td>\n",
              "      <td>37.0</td>\n",
              "      <td>Metros</td>\n",
              "      <td>...</td>\n",
              "      <td>PRIVADO</td>\n",
              "      <td>NOCONTROL</td>\n",
              "      <td>RACE</td>\n",
              "      <td>SAEF</td>\n",
              "      <td>CIVIL</td>\n",
              "      <td>Nacional</td>\n",
              "      <td>NO</td>\n",
              "      <td>NO</td>\n",
              "      <td>BUENOS AIRES</td>\n",
              "      <td>NO</td>\n",
              "    </tr>\n",
              "    <tr>\n",
              "      <th>3</th>\n",
              "      <td>ADO</td>\n",
              "      <td>SAWD</td>\n",
              "      <td>PUD</td>\n",
              "      <td>Aeródromo</td>\n",
              "      <td>PUERTO DESEADO</td>\n",
              "      <td>47°44' 6\"S  65°54'15\"W</td>\n",
              "      <td>-65.904100</td>\n",
              "      <td>-47.735110</td>\n",
              "      <td>82.0</td>\n",
              "      <td>Metros</td>\n",
              "      <td>...</td>\n",
              "      <td>PUBLICO</td>\n",
              "      <td>AERADIO</td>\n",
              "      <td>RASU</td>\n",
              "      <td>SAVF</td>\n",
              "      <td>CIVIL</td>\n",
              "      <td>Nacional</td>\n",
              "      <td>NO</td>\n",
              "      <td>NO</td>\n",
              "      <td>SANTA CRUZ</td>\n",
              "      <td>NO</td>\n",
              "    </tr>\n",
              "    <tr>\n",
              "      <th>4</th>\n",
              "      <td>ADT</td>\n",
              "      <td>NaN</td>\n",
              "      <td>NaN</td>\n",
              "      <td>Aeródromo</td>\n",
              "      <td>BANDERA/AGROSERVICIOS DOÑA TERESA</td>\n",
              "      <td>28°51'19\"S  62°15'53\"W</td>\n",
              "      <td>-62.264620</td>\n",
              "      <td>-28.855410</td>\n",
              "      <td>75.0</td>\n",
              "      <td>Metros</td>\n",
              "      <td>...</td>\n",
              "      <td>PRIVADO</td>\n",
              "      <td>NOCONTROL</td>\n",
              "      <td>RANO</td>\n",
              "      <td>SACF</td>\n",
              "      <td>AEROAPP</td>\n",
              "      <td>Nacional</td>\n",
              "      <td>NO</td>\n",
              "      <td>NO</td>\n",
              "      <td>SANTIAGO DEL ESTERO</td>\n",
              "      <td>NO</td>\n",
              "    </tr>\n",
              "    <tr>\n",
              "      <th>...</th>\n",
              "      <td>...</td>\n",
              "      <td>...</td>\n",
              "      <td>...</td>\n",
              "      <td>...</td>\n",
              "      <td>...</td>\n",
              "      <td>...</td>\n",
              "      <td>...</td>\n",
              "      <td>...</td>\n",
              "      <td>...</td>\n",
              "      <td>...</td>\n",
              "      <td>...</td>\n",
              "      <td>...</td>\n",
              "      <td>...</td>\n",
              "      <td>...</td>\n",
              "      <td>...</td>\n",
              "      <td>...</td>\n",
              "      <td>...</td>\n",
              "      <td>...</td>\n",
              "      <td>...</td>\n",
              "      <td>...</td>\n",
              "      <td>...</td>\n",
              "    </tr>\n",
              "    <tr>\n",
              "      <th>688</th>\n",
              "      <td>YOS</td>\n",
              "      <td>SAZH</td>\n",
              "      <td>OYO</td>\n",
              "      <td>Aeródromo</td>\n",
              "      <td>TRES ARROYOS</td>\n",
              "      <td>38°23' 8\"S  60°19'39\"W</td>\n",
              "      <td>-60.327500</td>\n",
              "      <td>-38.385556</td>\n",
              "      <td>122.0</td>\n",
              "      <td>Metros</td>\n",
              "      <td>...</td>\n",
              "      <td>PUBLICO</td>\n",
              "      <td>NOCONTROL</td>\n",
              "      <td>RACE</td>\n",
              "      <td>SAEF</td>\n",
              "      <td>NaN</td>\n",
              "      <td>Nacional</td>\n",
              "      <td>NO</td>\n",
              "      <td>NO</td>\n",
              "      <td>BUENOS AIRES</td>\n",
              "      <td>NO</td>\n",
              "    </tr>\n",
              "    <tr>\n",
              "      <th>689</th>\n",
              "      <td>YPY</td>\n",
              "      <td>NaN</td>\n",
              "      <td>NaN</td>\n",
              "      <td>Aeródromo</td>\n",
              "      <td>YAPEYÚ</td>\n",
              "      <td>29°21'32\"S  56°47'45\"W</td>\n",
              "      <td>-56.795730</td>\n",
              "      <td>-29.358770</td>\n",
              "      <td>53.0</td>\n",
              "      <td>Metros</td>\n",
              "      <td>...</td>\n",
              "      <td>PRIVADO</td>\n",
              "      <td>NOCONTROL</td>\n",
              "      <td>RANE</td>\n",
              "      <td>SARR</td>\n",
              "      <td>NaN</td>\n",
              "      <td>Nacional</td>\n",
              "      <td>NO</td>\n",
              "      <td>NO</td>\n",
              "      <td>CORRIENTES</td>\n",
              "      <td>NO</td>\n",
              "    </tr>\n",
              "    <tr>\n",
              "      <th>690</th>\n",
              "      <td>ZAP</td>\n",
              "      <td>SAHZ</td>\n",
              "      <td>APZ</td>\n",
              "      <td>Aeródromo</td>\n",
              "      <td>ZAPALA</td>\n",
              "      <td>38°58'33\"S  70° 6'48\"W</td>\n",
              "      <td>-70.113464</td>\n",
              "      <td>-38.975886</td>\n",
              "      <td>1048.0</td>\n",
              "      <td>Metros</td>\n",
              "      <td>...</td>\n",
              "      <td>PUBLICO</td>\n",
              "      <td>NOCONTROL</td>\n",
              "      <td>RACE</td>\n",
              "      <td>SAEF</td>\n",
              "      <td>NaN</td>\n",
              "      <td>Nacional</td>\n",
              "      <td>NO</td>\n",
              "      <td>NO</td>\n",
              "      <td>NEUQUÉN</td>\n",
              "      <td>NO</td>\n",
              "    </tr>\n",
              "    <tr>\n",
              "      <th>691</th>\n",
              "      <td>ZLM</td>\n",
              "      <td>NaN</td>\n",
              "      <td>NaN</td>\n",
              "      <td>Aeródromo</td>\n",
              "      <td>BELL VILLE/LA ZULEMA</td>\n",
              "      <td>32°29'23\"S  62°40'17\"W</td>\n",
              "      <td>-62.671389</td>\n",
              "      <td>-32.489722</td>\n",
              "      <td>129.0</td>\n",
              "      <td>Metros</td>\n",
              "      <td>...</td>\n",
              "      <td>PRIVADO</td>\n",
              "      <td>NOCONTROL</td>\n",
              "      <td>RANO</td>\n",
              "      <td>SACF</td>\n",
              "      <td>AEROAPP</td>\n",
              "      <td>Nacional</td>\n",
              "      <td>NO</td>\n",
              "      <td>NO</td>\n",
              "      <td>CÓRDOBA</td>\n",
              "      <td>NO</td>\n",
              "    </tr>\n",
              "    <tr>\n",
              "      <th>692</th>\n",
              "      <td>ZUL</td>\n",
              "      <td>SAZA</td>\n",
              "      <td>NaN</td>\n",
              "      <td>Aeródromo</td>\n",
              "      <td>AZUL</td>\n",
              "      <td>36°50'12\"S  59°52'51\"W</td>\n",
              "      <td>-59.880800</td>\n",
              "      <td>-36.836750</td>\n",
              "      <td>146.0</td>\n",
              "      <td>Metros</td>\n",
              "      <td>...</td>\n",
              "      <td>PUBLICO</td>\n",
              "      <td>NOCONTROL</td>\n",
              "      <td>RACE</td>\n",
              "      <td>SAEF</td>\n",
              "      <td>CIVIL</td>\n",
              "      <td>Nacional</td>\n",
              "      <td>NO</td>\n",
              "      <td>NO</td>\n",
              "      <td>BUENOS AIRES</td>\n",
              "      <td>NO</td>\n",
              "    </tr>\n",
              "  </tbody>\n",
              "</table>\n",
              "<p>693 rows × 23 columns</p>\n",
              "</div>\n",
              "      <button class=\"colab-df-convert\" onclick=\"convertToInteractive('df-870738ea-ced7-47a1-8d74-27f1b9cac9eb')\"\n",
              "              title=\"Convert this dataframe to an interactive table.\"\n",
              "              style=\"display:none;\">\n",
              "        \n",
              "  <svg xmlns=\"http://www.w3.org/2000/svg\" height=\"24px\"viewBox=\"0 0 24 24\"\n",
              "       width=\"24px\">\n",
              "    <path d=\"M0 0h24v24H0V0z\" fill=\"none\"/>\n",
              "    <path d=\"M18.56 5.44l.94 2.06.94-2.06 2.06-.94-2.06-.94-.94-2.06-.94 2.06-2.06.94zm-11 1L8.5 8.5l.94-2.06 2.06-.94-2.06-.94L8.5 2.5l-.94 2.06-2.06.94zm10 10l.94 2.06.94-2.06 2.06-.94-2.06-.94-.94-2.06-.94 2.06-2.06.94z\"/><path d=\"M17.41 7.96l-1.37-1.37c-.4-.4-.92-.59-1.43-.59-.52 0-1.04.2-1.43.59L10.3 9.45l-7.72 7.72c-.78.78-.78 2.05 0 2.83L4 21.41c.39.39.9.59 1.41.59.51 0 1.02-.2 1.41-.59l7.78-7.78 2.81-2.81c.8-.78.8-2.07 0-2.86zM5.41 20L4 18.59l7.72-7.72 1.47 1.35L5.41 20z\"/>\n",
              "  </svg>\n",
              "      </button>\n",
              "      \n",
              "  <style>\n",
              "    .colab-df-container {\n",
              "      display:flex;\n",
              "      flex-wrap:wrap;\n",
              "      gap: 12px;\n",
              "    }\n",
              "\n",
              "    .colab-df-convert {\n",
              "      background-color: #E8F0FE;\n",
              "      border: none;\n",
              "      border-radius: 50%;\n",
              "      cursor: pointer;\n",
              "      display: none;\n",
              "      fill: #1967D2;\n",
              "      height: 32px;\n",
              "      padding: 0 0 0 0;\n",
              "      width: 32px;\n",
              "    }\n",
              "\n",
              "    .colab-df-convert:hover {\n",
              "      background-color: #E2EBFA;\n",
              "      box-shadow: 0px 1px 2px rgba(60, 64, 67, 0.3), 0px 1px 3px 1px rgba(60, 64, 67, 0.15);\n",
              "      fill: #174EA6;\n",
              "    }\n",
              "\n",
              "    [theme=dark] .colab-df-convert {\n",
              "      background-color: #3B4455;\n",
              "      fill: #D2E3FC;\n",
              "    }\n",
              "\n",
              "    [theme=dark] .colab-df-convert:hover {\n",
              "      background-color: #434B5C;\n",
              "      box-shadow: 0px 1px 3px 1px rgba(0, 0, 0, 0.15);\n",
              "      filter: drop-shadow(0px 1px 2px rgba(0, 0, 0, 0.3));\n",
              "      fill: #FFFFFF;\n",
              "    }\n",
              "  </style>\n",
              "\n",
              "      <script>\n",
              "        const buttonEl =\n",
              "          document.querySelector('#df-870738ea-ced7-47a1-8d74-27f1b9cac9eb button.colab-df-convert');\n",
              "        buttonEl.style.display =\n",
              "          google.colab.kernel.accessAllowed ? 'block' : 'none';\n",
              "\n",
              "        async function convertToInteractive(key) {\n",
              "          const element = document.querySelector('#df-870738ea-ced7-47a1-8d74-27f1b9cac9eb');\n",
              "          const dataTable =\n",
              "            await google.colab.kernel.invokeFunction('convertToInteractive',\n",
              "                                                     [key], {});\n",
              "          if (!dataTable) return;\n",
              "\n",
              "          const docLinkHtml = 'Like what you see? Visit the ' +\n",
              "            '<a target=\"_blank\" href=https://colab.research.google.com/notebooks/data_table.ipynb>data table notebook</a>'\n",
              "            + ' to learn more about interactive tables.';\n",
              "          element.innerHTML = '';\n",
              "          dataTable['output_type'] = 'display_data';\n",
              "          await google.colab.output.renderOutput(dataTable, element);\n",
              "          const docLink = document.createElement('div');\n",
              "          docLink.innerHTML = docLinkHtml;\n",
              "          element.appendChild(docLink);\n",
              "        }\n",
              "      </script>\n",
              "    </div>\n",
              "  </div>\n",
              "  "
            ]
          },
          "metadata": {},
          "execution_count": 14
        }
      ]
    },
    {
      "cell_type": "code",
      "source": [
        "df_aeropuertos.info()"
      ],
      "metadata": {
        "id": "zNdvzs0mm2bU",
        "outputId": "dbc725cd-5d42-4b74-ddfd-bc7bc8297baa",
        "colab": {
          "base_uri": "https://localhost:8080/"
        }
      },
      "execution_count": 15,
      "outputs": [
        {
          "output_type": "stream",
          "name": "stdout",
          "text": [
            "<class 'pandas.core.frame.DataFrame'>\n",
            "RangeIndex: 693 entries, 0 to 692\n",
            "Data columns (total 23 columns):\n",
            " #   Column         Non-Null Count  Dtype  \n",
            "---  ------         --------------  -----  \n",
            " 0   local          693 non-null    object \n",
            " 1   oaci           124 non-null    object \n",
            " 2   iata           90 non-null     object \n",
            " 3   tipo           693 non-null    object \n",
            " 4   denominacion   693 non-null    object \n",
            " 5   coordenadas    693 non-null    object \n",
            " 6   latitud        693 non-null    float64\n",
            " 7   longitud       693 non-null    float64\n",
            " 8   elev           693 non-null    float64\n",
            " 9   uom_elev       693 non-null    object \n",
            " 10  ref            683 non-null    object \n",
            " 11  distancia_ref  688 non-null    float64\n",
            " 12  direccion_ref  679 non-null    object \n",
            " 13  condicion      693 non-null    object \n",
            " 14  control        693 non-null    object \n",
            " 15  region         693 non-null    object \n",
            " 16  fir            693 non-null    object \n",
            " 17  uso            470 non-null    object \n",
            " 18  trafico        693 non-null    object \n",
            " 19  sna            693 non-null    object \n",
            " 20  concesionado   693 non-null    object \n",
            " 21  provincia      693 non-null    object \n",
            " 22  inhab          693 non-null    object \n",
            "dtypes: float64(4), object(19)\n",
            "memory usage: 124.6+ KB\n"
          ]
        }
      ]
    },
    {
      "cell_type": "code",
      "source": [
        "# Validamos si hay valores nulos en distancia_ref\n",
        "df_aeropuertos[df_aeropuertos['distancia_ref'].isna()] "
      ],
      "metadata": {
        "id": "82ep3tUjkg0D",
        "outputId": "191da66a-f8a5-4656-9069-8f3bb26fdccf",
        "colab": {
          "base_uri": "https://localhost:8080/",
          "height": 557
        }
      },
      "execution_count": 16,
      "outputs": [
        {
          "output_type": "execute_result",
          "data": {
            "text/plain": [
              "    local  oaci iata        tipo  \\\n",
              "266   HET   NaN  NaN  Helipuerto   \n",
              "299   HMG   NaN  NaN  Helipuerto   \n",
              "307   HNH   NaN  NaN  Helipuerto   \n",
              "341   HSW   NaN  NaN  Helipuerto   \n",
              "439   MBI  SAWB  NaN   Aeródromo   \n",
              "\n",
              "                                          denominacion  \\\n",
              "266  SANTIAGO DEL ESTERO/HELIPUERTO EDIFICIO TRIBUN...   \n",
              "299                      BUENOS AIRES / MADERO HARBOUR   \n",
              "307               HELIPLATAFORMA NOBLE HOUSTON COLBERT   \n",
              "341                      HELIPLATAFORMA SWIBER PJW3000   \n",
              "439                              VICECOMODORO MARAMBIO   \n",
              "\n",
              "                coordenadas    latitud   longitud   elev uom_elev  ...  \\\n",
              "266  27°46'53\"S  64°15'54\"W -64.265127 -27.781396  195.0   Metros  ...   \n",
              "299  34°37'16\"S  58°21'39\"W -58.360928 -34.620978   78.8   Metros  ...   \n",
              "307  53° 5'54\"S  67°13'13\"W -67.220278 -53.098333   63.5   Metros  ...   \n",
              "341  53° 4'35\"S  67°57'50\"W -67.964004 -53.076495   36.0   Metros  ...   \n",
              "439  64°14'21\"S  56°37'51\"W -56.630850 -64.239130  209.5   Metros  ...   \n",
              "\n",
              "    condicion    control region   fir    uso   trafico sna concesionado  \\\n",
              "266   PRIVADO  NOCONTROL   RANO  SACF    NaN  Nacional  NO           NO   \n",
              "299   PRIVADO  NOCONTROL   RACE  SAEF  CIVIL  Nacional  NO           NO   \n",
              "307   PRIVADO  NOCONTROL   RASU  SAVF    NaN  Nacional  NO           NO   \n",
              "341   PRIVADO  NOCONTROL   RASU  SAVF    NaN  Nacional  NO           NO   \n",
              "439   PUBLICO    CONTROL   RASU  SAVF    MIL  Nacional  NO           NO   \n",
              "\n",
              "                                             provincia inhab  \n",
              "266                                SANTIAGO DEL ESTERO    NO  \n",
              "299                    CIUDAD AUTÓNOMA DE BUENOS AIRES    NO  \n",
              "307  TIERRA DEL FUEGO ANTÁRTIDA E ISLAS DEL ATLÁNTI...    NO  \n",
              "341  TIERRA DEL FUEGO ANTÁRTIDA E ISLAS DEL ATLÁNTI...    NO  \n",
              "439  TIERRA DEL FUEGO ANTÁRTIDA E ISLAS DEL ATLÁNTI...    NO  \n",
              "\n",
              "[5 rows x 23 columns]"
            ],
            "text/html": [
              "\n",
              "  <div id=\"df-87ea3551-ad17-4ed8-a558-e6bfd06d1380\">\n",
              "    <div class=\"colab-df-container\">\n",
              "      <div>\n",
              "<style scoped>\n",
              "    .dataframe tbody tr th:only-of-type {\n",
              "        vertical-align: middle;\n",
              "    }\n",
              "\n",
              "    .dataframe tbody tr th {\n",
              "        vertical-align: top;\n",
              "    }\n",
              "\n",
              "    .dataframe thead th {\n",
              "        text-align: right;\n",
              "    }\n",
              "</style>\n",
              "<table border=\"1\" class=\"dataframe\">\n",
              "  <thead>\n",
              "    <tr style=\"text-align: right;\">\n",
              "      <th></th>\n",
              "      <th>local</th>\n",
              "      <th>oaci</th>\n",
              "      <th>iata</th>\n",
              "      <th>tipo</th>\n",
              "      <th>denominacion</th>\n",
              "      <th>coordenadas</th>\n",
              "      <th>latitud</th>\n",
              "      <th>longitud</th>\n",
              "      <th>elev</th>\n",
              "      <th>uom_elev</th>\n",
              "      <th>...</th>\n",
              "      <th>condicion</th>\n",
              "      <th>control</th>\n",
              "      <th>region</th>\n",
              "      <th>fir</th>\n",
              "      <th>uso</th>\n",
              "      <th>trafico</th>\n",
              "      <th>sna</th>\n",
              "      <th>concesionado</th>\n",
              "      <th>provincia</th>\n",
              "      <th>inhab</th>\n",
              "    </tr>\n",
              "  </thead>\n",
              "  <tbody>\n",
              "    <tr>\n",
              "      <th>266</th>\n",
              "      <td>HET</td>\n",
              "      <td>NaN</td>\n",
              "      <td>NaN</td>\n",
              "      <td>Helipuerto</td>\n",
              "      <td>SANTIAGO DEL ESTERO/HELIPUERTO EDIFICIO TRIBUN...</td>\n",
              "      <td>27°46'53\"S  64°15'54\"W</td>\n",
              "      <td>-64.265127</td>\n",
              "      <td>-27.781396</td>\n",
              "      <td>195.0</td>\n",
              "      <td>Metros</td>\n",
              "      <td>...</td>\n",
              "      <td>PRIVADO</td>\n",
              "      <td>NOCONTROL</td>\n",
              "      <td>RANO</td>\n",
              "      <td>SACF</td>\n",
              "      <td>NaN</td>\n",
              "      <td>Nacional</td>\n",
              "      <td>NO</td>\n",
              "      <td>NO</td>\n",
              "      <td>SANTIAGO DEL ESTERO</td>\n",
              "      <td>NO</td>\n",
              "    </tr>\n",
              "    <tr>\n",
              "      <th>299</th>\n",
              "      <td>HMG</td>\n",
              "      <td>NaN</td>\n",
              "      <td>NaN</td>\n",
              "      <td>Helipuerto</td>\n",
              "      <td>BUENOS AIRES / MADERO HARBOUR</td>\n",
              "      <td>34°37'16\"S  58°21'39\"W</td>\n",
              "      <td>-58.360928</td>\n",
              "      <td>-34.620978</td>\n",
              "      <td>78.8</td>\n",
              "      <td>Metros</td>\n",
              "      <td>...</td>\n",
              "      <td>PRIVADO</td>\n",
              "      <td>NOCONTROL</td>\n",
              "      <td>RACE</td>\n",
              "      <td>SAEF</td>\n",
              "      <td>CIVIL</td>\n",
              "      <td>Nacional</td>\n",
              "      <td>NO</td>\n",
              "      <td>NO</td>\n",
              "      <td>CIUDAD AUTÓNOMA DE BUENOS AIRES</td>\n",
              "      <td>NO</td>\n",
              "    </tr>\n",
              "    <tr>\n",
              "      <th>307</th>\n",
              "      <td>HNH</td>\n",
              "      <td>NaN</td>\n",
              "      <td>NaN</td>\n",
              "      <td>Helipuerto</td>\n",
              "      <td>HELIPLATAFORMA NOBLE HOUSTON COLBERT</td>\n",
              "      <td>53° 5'54\"S  67°13'13\"W</td>\n",
              "      <td>-67.220278</td>\n",
              "      <td>-53.098333</td>\n",
              "      <td>63.5</td>\n",
              "      <td>Metros</td>\n",
              "      <td>...</td>\n",
              "      <td>PRIVADO</td>\n",
              "      <td>NOCONTROL</td>\n",
              "      <td>RASU</td>\n",
              "      <td>SAVF</td>\n",
              "      <td>NaN</td>\n",
              "      <td>Nacional</td>\n",
              "      <td>NO</td>\n",
              "      <td>NO</td>\n",
              "      <td>TIERRA DEL FUEGO ANTÁRTIDA E ISLAS DEL ATLÁNTI...</td>\n",
              "      <td>NO</td>\n",
              "    </tr>\n",
              "    <tr>\n",
              "      <th>341</th>\n",
              "      <td>HSW</td>\n",
              "      <td>NaN</td>\n",
              "      <td>NaN</td>\n",
              "      <td>Helipuerto</td>\n",
              "      <td>HELIPLATAFORMA SWIBER PJW3000</td>\n",
              "      <td>53° 4'35\"S  67°57'50\"W</td>\n",
              "      <td>-67.964004</td>\n",
              "      <td>-53.076495</td>\n",
              "      <td>36.0</td>\n",
              "      <td>Metros</td>\n",
              "      <td>...</td>\n",
              "      <td>PRIVADO</td>\n",
              "      <td>NOCONTROL</td>\n",
              "      <td>RASU</td>\n",
              "      <td>SAVF</td>\n",
              "      <td>NaN</td>\n",
              "      <td>Nacional</td>\n",
              "      <td>NO</td>\n",
              "      <td>NO</td>\n",
              "      <td>TIERRA DEL FUEGO ANTÁRTIDA E ISLAS DEL ATLÁNTI...</td>\n",
              "      <td>NO</td>\n",
              "    </tr>\n",
              "    <tr>\n",
              "      <th>439</th>\n",
              "      <td>MBI</td>\n",
              "      <td>SAWB</td>\n",
              "      <td>NaN</td>\n",
              "      <td>Aeródromo</td>\n",
              "      <td>VICECOMODORO MARAMBIO</td>\n",
              "      <td>64°14'21\"S  56°37'51\"W</td>\n",
              "      <td>-56.630850</td>\n",
              "      <td>-64.239130</td>\n",
              "      <td>209.5</td>\n",
              "      <td>Metros</td>\n",
              "      <td>...</td>\n",
              "      <td>PUBLICO</td>\n",
              "      <td>CONTROL</td>\n",
              "      <td>RASU</td>\n",
              "      <td>SAVF</td>\n",
              "      <td>MIL</td>\n",
              "      <td>Nacional</td>\n",
              "      <td>NO</td>\n",
              "      <td>NO</td>\n",
              "      <td>TIERRA DEL FUEGO ANTÁRTIDA E ISLAS DEL ATLÁNTI...</td>\n",
              "      <td>NO</td>\n",
              "    </tr>\n",
              "  </tbody>\n",
              "</table>\n",
              "<p>5 rows × 23 columns</p>\n",
              "</div>\n",
              "      <button class=\"colab-df-convert\" onclick=\"convertToInteractive('df-87ea3551-ad17-4ed8-a558-e6bfd06d1380')\"\n",
              "              title=\"Convert this dataframe to an interactive table.\"\n",
              "              style=\"display:none;\">\n",
              "        \n",
              "  <svg xmlns=\"http://www.w3.org/2000/svg\" height=\"24px\"viewBox=\"0 0 24 24\"\n",
              "       width=\"24px\">\n",
              "    <path d=\"M0 0h24v24H0V0z\" fill=\"none\"/>\n",
              "    <path d=\"M18.56 5.44l.94 2.06.94-2.06 2.06-.94-2.06-.94-.94-2.06-.94 2.06-2.06.94zm-11 1L8.5 8.5l.94-2.06 2.06-.94-2.06-.94L8.5 2.5l-.94 2.06-2.06.94zm10 10l.94 2.06.94-2.06 2.06-.94-2.06-.94-.94-2.06-.94 2.06-2.06.94z\"/><path d=\"M17.41 7.96l-1.37-1.37c-.4-.4-.92-.59-1.43-.59-.52 0-1.04.2-1.43.59L10.3 9.45l-7.72 7.72c-.78.78-.78 2.05 0 2.83L4 21.41c.39.39.9.59 1.41.59.51 0 1.02-.2 1.41-.59l7.78-7.78 2.81-2.81c.8-.78.8-2.07 0-2.86zM5.41 20L4 18.59l7.72-7.72 1.47 1.35L5.41 20z\"/>\n",
              "  </svg>\n",
              "      </button>\n",
              "      \n",
              "  <style>\n",
              "    .colab-df-container {\n",
              "      display:flex;\n",
              "      flex-wrap:wrap;\n",
              "      gap: 12px;\n",
              "    }\n",
              "\n",
              "    .colab-df-convert {\n",
              "      background-color: #E8F0FE;\n",
              "      border: none;\n",
              "      border-radius: 50%;\n",
              "      cursor: pointer;\n",
              "      display: none;\n",
              "      fill: #1967D2;\n",
              "      height: 32px;\n",
              "      padding: 0 0 0 0;\n",
              "      width: 32px;\n",
              "    }\n",
              "\n",
              "    .colab-df-convert:hover {\n",
              "      background-color: #E2EBFA;\n",
              "      box-shadow: 0px 1px 2px rgba(60, 64, 67, 0.3), 0px 1px 3px 1px rgba(60, 64, 67, 0.15);\n",
              "      fill: #174EA6;\n",
              "    }\n",
              "\n",
              "    [theme=dark] .colab-df-convert {\n",
              "      background-color: #3B4455;\n",
              "      fill: #D2E3FC;\n",
              "    }\n",
              "\n",
              "    [theme=dark] .colab-df-convert:hover {\n",
              "      background-color: #434B5C;\n",
              "      box-shadow: 0px 1px 3px 1px rgba(0, 0, 0, 0.15);\n",
              "      filter: drop-shadow(0px 1px 2px rgba(0, 0, 0, 0.3));\n",
              "      fill: #FFFFFF;\n",
              "    }\n",
              "  </style>\n",
              "\n",
              "      <script>\n",
              "        const buttonEl =\n",
              "          document.querySelector('#df-87ea3551-ad17-4ed8-a558-e6bfd06d1380 button.colab-df-convert');\n",
              "        buttonEl.style.display =\n",
              "          google.colab.kernel.accessAllowed ? 'block' : 'none';\n",
              "\n",
              "        async function convertToInteractive(key) {\n",
              "          const element = document.querySelector('#df-87ea3551-ad17-4ed8-a558-e6bfd06d1380');\n",
              "          const dataTable =\n",
              "            await google.colab.kernel.invokeFunction('convertToInteractive',\n",
              "                                                     [key], {});\n",
              "          if (!dataTable) return;\n",
              "\n",
              "          const docLinkHtml = 'Like what you see? Visit the ' +\n",
              "            '<a target=\"_blank\" href=https://colab.research.google.com/notebooks/data_table.ipynb>data table notebook</a>'\n",
              "            + ' to learn more about interactive tables.';\n",
              "          element.innerHTML = '';\n",
              "          dataTable['output_type'] = 'display_data';\n",
              "          await google.colab.output.renderOutput(dataTable, element);\n",
              "          const docLink = document.createElement('div');\n",
              "          docLink.innerHTML = docLinkHtml;\n",
              "          element.appendChild(docLink);\n",
              "        }\n",
              "      </script>\n",
              "    </div>\n",
              "  </div>\n",
              "  "
            ]
          },
          "metadata": {},
          "execution_count": 16
        }
      ]
    },
    {
      "cell_type": "code",
      "source": [
        "provincias = df_aeropuertos['provincia'].unique()\n",
        "provincias"
      ],
      "metadata": {
        "id": "jCql7zjWFy_U",
        "outputId": "2b280b8a-ed0c-4be5-e72b-ce4f20c95b59",
        "colab": {
          "base_uri": "https://localhost:8080/"
        }
      },
      "execution_count": 21,
      "outputs": [
        {
          "output_type": "execute_result",
          "data": {
            "text/plain": [
              "array(['SANTA FÉ', 'LA PAMPA', 'BUENOS AIRES', 'SANTA CRUZ',\n",
              "       'SANTIAGO DEL ESTERO', 'CIUDAD AUTÓNOMA DE BUENOS AIRES',\n",
              "       'NEUQUÉN', 'CÓRDOBA', 'SAN JUAN', 'RÍO NEGRO', 'ENTRE RÍOS',\n",
              "       'CATAMARCA', 'MISIONES', 'CHUBUT', 'CORRIENTES', 'SALTA',\n",
              "       'TUCUMÁN', 'SAN LUIS', 'CHACO', 'JUJUY', 'MENDOZA',\n",
              "       'TIERRA DEL FUEGO ANTÁRTIDA E ISLAS DEL ATLÁNTICO SUR', 'FORMOSA',\n",
              "       'LA RIOJA'], dtype=object)"
            ]
          },
          "metadata": {},
          "execution_count": 21
        }
      ]
    },
    {
      "cell_type": "markdown",
      "source": [
        "### SPARK\n",
        "\n"
      ],
      "metadata": {
        "id": "gmthkqjM60fQ"
      }
    },
    {
      "cell_type": "markdown",
      "source": [
        "#### Transformaciones dataframes vuelos"
      ],
      "metadata": {
        "id": "6kX9hX3J_v38"
      }
    },
    {
      "cell_type": "code",
      "source": [
        "schema = StructType([\n",
        "            StructField(\"Fecha\", StringType(), True),\n",
        "            StructField(\"horaUTC\", StringType(), True),\n",
        "            StructField(\"clase_de_vuelo\", StringType(), True),\n",
        "            StructField(\"clasificacion_de_vuelo\", StringType(), True),\n",
        "            StructField(\"tipo_de_movimiento\", StringType(), True),\n",
        "            StructField(\"aeropuerto\", StringType(), True),\n",
        "            StructField(\"origen_destino\", StringType(), True),\n",
        "            StructField(\"aerolinea_nombre\", StringType(), True),\n",
        "            StructField(\"aeronave\", StringType(), True),\n",
        "            StructField(\"pasajeros\", IntegerType(), True)\n",
        "])"
      ],
      "metadata": {
        "id": "VmSkkwXVOLkR"
      },
      "execution_count": 22,
      "outputs": []
    },
    {
      "cell_type": "code",
      "source": [
        "# Con esta alternativa los tipos de datos se importan de forma adecuada (siempre verificar!)\n",
        "spk_2021 = spark.read.csv(\"/content/2021-informe-ministerio.csv\", sep=';', schema=schema, header=True).withColumn(\"fecha\", to_date(\"Fecha\",\"dd/MM/yyyy\"))"
      ],
      "metadata": {
        "id": "fzQ2y9OE7TpC"
      },
      "execution_count": 23,
      "outputs": []
    },
    {
      "cell_type": "code",
      "source": [
        "spk_2021"
      ],
      "metadata": {
        "colab": {
          "base_uri": "https://localhost:8080/"
        },
        "id": "PrwI4dFKWKSb",
        "outputId": "c72ff3be-0a50-48db-d631-3ccc8e478544"
      },
      "execution_count": 24,
      "outputs": [
        {
          "output_type": "execute_result",
          "data": {
            "text/plain": [
              "DataFrame[fecha: date, horaUTC: string, clase_de_vuelo: string, clasificacion_de_vuelo: string, tipo_de_movimiento: string, aeropuerto: string, origen_destino: string, aerolinea_nombre: string, aeronave: string, pasajeros: int]"
            ]
          },
          "metadata": {},
          "execution_count": 24
        }
      ]
    },
    {
      "cell_type": "code",
      "source": [
        "spk_2021.show(5)"
      ],
      "metadata": {
        "id": "FGgscMVq_tMm",
        "outputId": "39972ac6-6652-4b2f-da7b-954e415109ec",
        "colab": {
          "base_uri": "https://localhost:8080/"
        }
      },
      "execution_count": 25,
      "outputs": [
        {
          "output_type": "stream",
          "name": "stdout",
          "text": [
            "+----------+-------+--------------------+----------------------+------------------+----------+--------------+--------------------+----------------+---------+\n",
            "|     fecha|horaUTC|      clase_de_vuelo|clasificacion_de_vuelo|tipo_de_movimiento|aeropuerto|origen_destino|    aerolinea_nombre|        aeronave|pasajeros|\n",
            "+----------+-------+--------------------+----------------------+------------------+----------+--------------+--------------------+----------------+---------+\n",
            "|2021-01-01|  00:02|Vuelo Privado con...|             Domestico|          Despegue|       PAR|           ROS|                   0|    PA-PA-28-181|        0|\n",
            "|2021-01-01|  00:24|             Regular|             Domestico|        Aterrizaje|       EZE|           GRA|AEROLINEAS ARGENT...|     BO-B737-8MB|       70|\n",
            "|2021-01-01|  00:26|             Regular|             Domestico|        Aterrizaje|       EZE|           ECA|AEROLINEAS ARGENT...|      BO-737-800|       70|\n",
            "|2021-01-01|  00:29|             Regular|             Domestico|        Aterrizaje|       EZE|           SAL|AEROLINEAS ARGENT...|    BO-B-737-76N|       12|\n",
            "|2021-01-01|  00:37|             Regular|             Domestico|        Aterrizaje|       EZE|           TUC|AEROLINEAS ARGENT...|EMB-ERJ190100IGW|       26|\n",
            "+----------+-------+--------------------+----------------------+------------------+----------+--------------+--------------------+----------------+---------+\n",
            "only showing top 5 rows\n",
            "\n"
          ]
        }
      ]
    },
    {
      "cell_type": "code",
      "source": [
        "spk_2021.tail(5)"
      ],
      "metadata": {
        "id": "ornD84EwlPIi",
        "outputId": "94dcd10a-35ca-4de2-cfb5-0f017375f0a2",
        "colab": {
          "base_uri": "https://localhost:8080/"
        }
      },
      "execution_count": 26,
      "outputs": [
        {
          "output_type": "execute_result",
          "data": {
            "text/plain": [
              "[Row(fecha=datetime.date(2021, 12, 31), horaUTC='23:44', clase_de_vuelo='Regular', clasificacion_de_vuelo='Domestico', tipo_de_movimiento='Aterrizaje', aeropuerto='JUJ', origen_destino='AER', aerolinea_nombre='FB LÍNEAS AÉREAS - FLYBONDI', aeronave='BO-737-8Q8', pasajeros=96),\n",
              " Row(fecha=datetime.date(2021, 12, 31), horaUTC='23:45', clase_de_vuelo='Regular', clasificacion_de_vuelo='Domestico', tipo_de_movimiento='Despegue', aeropuerto='AER', origen_destino='CBA', aerolinea_nombre='FB LÍNEAS AÉREAS - FLYBONDI', aeronave='BO-737-8Q8', pasajeros=88),\n",
              " Row(fecha=datetime.date(2021, 12, 31), horaUTC='23:48', clase_de_vuelo='Regular', clasificacion_de_vuelo='Domestico', tipo_de_movimiento='Despegue', aeropuerto='ROS', origen_destino='AER', aerolinea_nombre='AEROLINEAS ARGENTINAS SA', aeronave='BO-737-800', pasajeros=10),\n",
              " Row(fecha=datetime.date(2021, 12, 31), horaUTC='23:55', clase_de_vuelo='Regular', clasificacion_de_vuelo='Internacional', tipo_de_movimiento='Aterrizaje', aeropuerto='EZE', origen_destino='SCEL', aerolinea_nombre='SKY AIRLINE S.A.', aeronave='0', pasajeros=137),\n",
              " Row(fecha=datetime.date(2021, 12, 31), horaUTC='23:58', clase_de_vuelo='Regular', clasificacion_de_vuelo='Domestico', tipo_de_movimiento='Despegue', aeropuerto='BAR', origen_destino='AER', aerolinea_nombre='AEROLINEAS ARGENTINAS SA', aeronave='BO-737-800', pasajeros=11)]"
            ]
          },
          "metadata": {},
          "execution_count": 26
        }
      ]
    },
    {
      "cell_type": "code",
      "source": [
        "# Validar si hay valores nulos y reemplazarlos por cero\n",
        "spk_2021 = spk_2021.withColumn('pasajeros', when(col('pasajeros').isNull(), 0).otherwise(col('pasajeros')))\n"
      ],
      "metadata": {
        "id": "ALA_ij-t9KoC"
      },
      "execution_count": 27,
      "outputs": []
    },
    {
      "cell_type": "code",
      "source": [
        "spk_2022 = spark.read.csv(\"/content/202206-informe-ministerio.csv\", sep=';', schema=schema, header=True).withColumn(\"fecha\", to_date(\"Fecha\",\"dd/MM/yyyy\"))"
      ],
      "metadata": {
        "id": "Yr2kOEmO8Iri"
      },
      "execution_count": 28,
      "outputs": []
    },
    {
      "cell_type": "code",
      "source": [
        "spk_2022.show(5)"
      ],
      "metadata": {
        "id": "vBT9fn4J9eih",
        "outputId": "96d430b7-339a-4952-f4a4-a42c4972ef61",
        "colab": {
          "base_uri": "https://localhost:8080/"
        }
      },
      "execution_count": 29,
      "outputs": [
        {
          "output_type": "stream",
          "name": "stdout",
          "text": [
            "+----------+-------+--------------+----------------------+------------------+----------+--------------+--------------------+------------+---------+\n",
            "|     fecha|horaUTC|clase_de_vuelo|clasificacion_de_vuelo|tipo_de_movimiento|aeropuerto|origen_destino|    aerolinea_nombre|    aeronave|pasajeros|\n",
            "+----------+-------+--------------+----------------------+------------------+----------+--------------+--------------------+------------+---------+\n",
            "|2022-01-01|  00:01|       Regular|             Doméstico|        Aterrizaje|       AER|           ECA|AEROLINEAS ARGENT...|  BO-737-8SH|       69|\n",
            "|2022-01-01|  00:05|       Regular|             Doméstico|        Aterrizaje|       AER|           SAL|AEROLINEAS ARGENT...|   BO-B737-8|       65|\n",
            "|2022-01-01|  00:05|       Regular|             Doméstico|          Despegue|       IGU|           AER|JETSMART AIRLINES...|AIB-A320-232|       41|\n",
            "|2022-01-01|  00:09|       Regular|             Doméstico|        Aterrizaje|       AER|           GAL|AEROLINEAS ARGENT...| BO-B737-81D|       73|\n",
            "|2022-01-01|  00:09|       Regular|         Internacional|          Despegue|       EZE|          KDFW|AMERICAN AIRLINES...|           0|      261|\n",
            "+----------+-------+--------------+----------------------+------------------+----------+--------------+--------------------+------------+---------+\n",
            "only showing top 5 rows\n",
            "\n"
          ]
        }
      ]
    },
    {
      "cell_type": "code",
      "source": [
        "spk_2022.tail(5)"
      ],
      "metadata": {
        "id": "UEbMbwCUlXaE",
        "outputId": "0cf98309-0163-4a25-888b-379279820ae7",
        "colab": {
          "base_uri": "https://localhost:8080/"
        }
      },
      "execution_count": 30,
      "outputs": [
        {
          "output_type": "execute_result",
          "data": {
            "text/plain": [
              "[Row(fecha=datetime.date(2022, 6, 30), horaUTC='23:59', clase_de_vuelo='Regular', clasificacion_de_vuelo='Doméstico', tipo_de_movimiento='Despegue', aeropuerto='DOZ', origen_destino='AER', aerolinea_nombre='AEROLINEAS ARGENTINAS SA', aeronave='BO-B737-8SH', pasajeros=None),\n",
              " Row(fecha=datetime.date(2022, 6, 30), horaUTC='16:26', clase_de_vuelo='Regular', clasificacion_de_vuelo='Doméstico', tipo_de_movimiento='Despegue', aeropuerto='VIE', origen_destino='BAR', aerolinea_nombre='AEROLINEAS ARGENTINAS SA', aeronave='EMB-ERJ190100IGW', pasajeros=None),\n",
              " Row(fecha=datetime.date(2022, 6, 30), horaUTC='13:08', clase_de_vuelo='Regular', clasificacion_de_vuelo='Doméstico', tipo_de_movimiento='Aterrizaje', aeropuerto='VIE', origen_destino='AER', aerolinea_nombre='AEROLINEAS ARGENTINAS SA', aeronave='EMB-ERJ190100IGW', pasajeros=None),\n",
              " Row(fecha=datetime.date(2022, 6, 30), horaUTC='01:33', clase_de_vuelo='Regular', clasificacion_de_vuelo='Doméstico', tipo_de_movimiento='Despegue', aeropuerto='LAR', origen_destino='AER', aerolinea_nombre='AEROLINEAS ARGENTINAS SA', aeronave='EMB-ERJ190100IGW', pasajeros=None),\n",
              " Row(fecha=datetime.date(2022, 6, 30), horaUTC='21:26', clase_de_vuelo='Regular', clasificacion_de_vuelo='Doméstico', tipo_de_movimiento='Aterrizaje', aeropuerto='LAR', origen_destino='AER', aerolinea_nombre='AEROLINEAS ARGENTINAS SA', aeronave='EMB-ERJ190100IGW', pasajeros=None)]"
            ]
          },
          "metadata": {},
          "execution_count": 30
        }
      ]
    },
    {
      "cell_type": "code",
      "source": [
        "# Validar si hay valores nulos y reemplazarlos por cero\n",
        "spk_2022 = spk_2022.withColumn('pasajeros', when(col('pasajeros').isNull(), 0).otherwise(col('pasajeros')))"
      ],
      "metadata": {
        "id": "AM6RISNG9p_e"
      },
      "execution_count": 31,
      "outputs": []
    },
    {
      "cell_type": "markdown",
      "source": [
        "#### Transformaciones dataframe aeropuerto"
      ],
      "metadata": {
        "id": "7v_kY2wzyyWJ"
      }
    },
    {
      "cell_type": "code",
      "source": [
        "schema2 = StructType([\n",
        "            StructField(\"aeropuerto\", StringType(), True),\n",
        "            StructField(\"oac\", StringType(), True),\n",
        "            StructField(\"iata\", StringType(), True),\n",
        "            StructField(\"tipo\", StringType(), True),\n",
        "            StructField(\"denominacion\", StringType(), True),\n",
        "            StructField(\"coordenadas\", StringType(), True),\n",
        "            StructField(\"latitud\", StringType(), True),\n",
        "            StructField(\"longitud\", StringType(), True),\n",
        "            StructField(\"elev\", FloatType(), True),\n",
        "            StructField(\"uom_elev\", StringType(), True),\n",
        "            StructField(\"ref\", StringType(), True),\n",
        "            StructField(\"distancia_ref\", FloatType(), True),\n",
        "            StructField(\"direccion_ref\", FloatType(), True),\n",
        "            StructField(\"condicion\", StringType(), True),\n",
        "            StructField(\"control\", StringType(), True),\n",
        "            StructField(\"region\", StringType(), True),\n",
        "            StructField(\"fir\", StringType(), True),\n",
        "            StructField(\"uso\", StringType(), True),\n",
        "            StructField(\"trafico\", StringType(), True),\n",
        "            StructField(\"sna\", StringType(), True),\n",
        "            StructField(\"concesionado\", StringType(), True),\n",
        "            StructField(\"provincia\", StringType(), True),\n",
        "            StructField(\"inhab\", StringType(), True)\n",
        "])"
      ],
      "metadata": {
        "id": "6iamLEL2yyWP"
      },
      "execution_count": 143,
      "outputs": []
    },
    {
      "cell_type": "code",
      "source": [
        "spk_aeropuertos = spark.read.csv(\"/content/aeropuertos_detalle.csv\", sep=';', schema=schema2, header=True)"
      ],
      "metadata": {
        "id": "CEc10INryyWP"
      },
      "execution_count": 144,
      "outputs": []
    },
    {
      "cell_type": "code",
      "source": [
        "spk_aeropuertos.show(5)"
      ],
      "metadata": {
        "outputId": "8e4de42f-4b15-4a47-d1c1-e34fc88657ef",
        "colab": {
          "base_uri": "https://localhost:8080/"
        },
        "id": "pvlJpj7fyyWP"
      },
      "execution_count": 145,
      "outputs": [
        {
          "output_type": "stream",
          "name": "stdout",
          "text": [
            "+----------+----+----+---------+--------------------+--------------------+------------+------------+-----+--------+--------------+-------------+-------------+---------+---------+------+----+-------+--------+---+------------+-------------------+-----+\n",
            "|aeropuerto| oac|iata|     tipo|        denominacion|         coordenadas|     latitud|    longitud| elev|uom_elev|           ref|distancia_ref|direccion_ref|condicion|  control|region| fir|    uso| trafico|sna|concesionado|          provincia|inhab|\n",
            "+----------+----+----+---------+--------------------+--------------------+------------+------------+-----+--------+--------------+-------------+-------------+---------+---------+------+----+-------+--------+---+------------+-------------------+-----+\n",
            "|       ACB|null|null|Aeródromo|CORONEL BOGADO/AG...|\"33°16'20\"\"S  60°...|-60.57066000|-33.27226000| 44.0|  Metros|Coronel Bogado|          6.0|         null|  PRIVADO|NOCONTROL|  RACE|SAEF|AEROAPP|Nacional| NO|          NO|           SANTA FÉ|   NO|\n",
            "|       ACH|null|null|Aeródromo|        GENERAL ACHA|\"37°24' 6\"\"S  64°...|-64.61351000|-37.40164000|277.0|  Metros|  General Acha|          3.0|         null|  PUBLICO|NOCONTROL|  RACE|SAEF|  CIVIL|Nacional| NO|          NO|           LA PAMPA|   NO|\n",
            "|       ACM|null|null|Aeródromo|ARRECIFES/LA CURA...|\"34° 4'33\"\"S  60°...|-60.14170000|-34.07574000| 37.0|  Metros|     Arrecifes|          4.0|         null|  PRIVADO|NOCONTROL|  RACE|SAEF|  CIVIL|Nacional| NO|          NO|       BUENOS AIRES|   NO|\n",
            "|       ADO|SAWD| PUD|Aeródromo|      PUERTO DESEADO|\"47°44' 6\"\"S  65°...|-65.90410000|-47.73511000| 82.0|  Metros|Puerto Deseado|          2.0|         null|  PUBLICO|  AERADIO|  RASU|SAVF|  CIVIL|Nacional| NO|          NO|         SANTA CRUZ|   NO|\n",
            "|       ADT|null|null|Aeródromo|BANDERA/AGROSERVI...|\"28°51'19\"\"S  62°...|-62.26462000|-28.85541000| 75.0|  Metros|       Bandera|          4.0|         null|  PRIVADO|NOCONTROL|  RANO|SACF|AEROAPP|Nacional| NO|          NO|SANTIAGO DEL ESTERO|   NO|\n",
            "+----------+----+----+---------+--------------------+--------------------+------------+------------+-----+--------+--------------+-------------+-------------+---------+---------+------+----+-------+--------+---+------------+-------------------+-----+\n",
            "only showing top 5 rows\n",
            "\n"
          ]
        }
      ]
    },
    {
      "cell_type": "markdown",
      "source": [
        "### Union vuelos 2021-2022"
      ],
      "metadata": {
        "id": "4QfsqPfry21B"
      }
    },
    {
      "cell_type": "code",
      "source": [
        "spk_vuelos = spk_2021.union(spk_2022)"
      ],
      "metadata": {
        "id": "NrPlv0QP9hXN"
      },
      "execution_count": 35,
      "outputs": []
    },
    {
      "cell_type": "code",
      "source": [
        "spk_vuelos.show(5)"
      ],
      "metadata": {
        "id": "BD3Og9ts_bdJ",
        "outputId": "dd1532aa-5b45-4915-ca5e-109e83961279",
        "colab": {
          "base_uri": "https://localhost:8080/"
        }
      },
      "execution_count": 36,
      "outputs": [
        {
          "output_type": "stream",
          "name": "stdout",
          "text": [
            "+----------+-------+--------------------+----------------------+------------------+----------+--------------+--------------------+----------------+---------+\n",
            "|     fecha|horaUTC|      clase_de_vuelo|clasificacion_de_vuelo|tipo_de_movimiento|aeropuerto|origen_destino|    aerolinea_nombre|        aeronave|pasajeros|\n",
            "+----------+-------+--------------------+----------------------+------------------+----------+--------------+--------------------+----------------+---------+\n",
            "|2021-01-01|  00:02|Vuelo Privado con...|             Domestico|          Despegue|       PAR|           ROS|                   0|    PA-PA-28-181|        0|\n",
            "|2021-01-01|  00:24|             Regular|             Domestico|        Aterrizaje|       EZE|           GRA|AEROLINEAS ARGENT...|     BO-B737-8MB|       70|\n",
            "|2021-01-01|  00:26|             Regular|             Domestico|        Aterrizaje|       EZE|           ECA|AEROLINEAS ARGENT...|      BO-737-800|       70|\n",
            "|2021-01-01|  00:29|             Regular|             Domestico|        Aterrizaje|       EZE|           SAL|AEROLINEAS ARGENT...|    BO-B-737-76N|       12|\n",
            "|2021-01-01|  00:37|             Regular|             Domestico|        Aterrizaje|       EZE|           TUC|AEROLINEAS ARGENT...|EMB-ERJ190100IGW|       26|\n",
            "+----------+-------+--------------------+----------------------+------------------+----------+--------------+--------------------+----------------+---------+\n",
            "only showing top 5 rows\n",
            "\n"
          ]
        }
      ]
    },
    {
      "cell_type": "markdown",
      "source": [
        "Vuelos totales, nacionales e internacionales"
      ],
      "metadata": {
        "id": "GxHw51X699DY"
      }
    },
    {
      "cell_type": "code",
      "source": [
        "spk_vuelos.count()"
      ],
      "metadata": {
        "id": "XrtS1deNCCtL",
        "outputId": "e5bcc685-98cb-4f9f-936d-fb9b5b072c75",
        "colab": {
          "base_uri": "https://localhost:8080/"
        }
      },
      "execution_count": 37,
      "outputs": [
        {
          "output_type": "execute_result",
          "data": {
            "text/plain": [
              "551063"
            ]
          },
          "metadata": {},
          "execution_count": 37
        }
      ]
    },
    {
      "cell_type": "markdown",
      "source": [
        "Vuelos domesticos"
      ],
      "metadata": {
        "id": "Qr0YNXBo-N3x"
      }
    },
    {
      "cell_type": "code",
      "source": [
        "spk_vuelos_nacionales = spk_vuelos.filter((spk_vuelos['clasificacion_de_vuelo'] == 'Doméstico') | (spk_vuelos['clasificacion_de_vuelo'] == 'Domestico') )"
      ],
      "metadata": {
        "id": "Ndig-QGVAzqC"
      },
      "execution_count": 38,
      "outputs": []
    },
    {
      "cell_type": "code",
      "source": [
        "spk_vuelos_nacionales.count()"
      ],
      "metadata": {
        "id": "WybRauFmBk1N",
        "outputId": "3ee78af8-2880-4d2d-ada7-f95606ef26fe",
        "colab": {
          "base_uri": "https://localhost:8080/"
        }
      },
      "execution_count": 39,
      "outputs": [
        {
          "output_type": "execute_result",
          "data": {
            "text/plain": [
              "483122"
            ]
          },
          "metadata": {},
          "execution_count": 39
        }
      ]
    },
    {
      "cell_type": "markdown",
      "source": [
        "### Extras\n"
      ],
      "metadata": {
        "id": "pY8nVbdtMale"
      }
    },
    {
      "cell_type": "code",
      "source": [
        "# primer semestre 2021\n",
        "spk_vuelos_nacionales.filter((spk_vuelos_nacionales[\"fecha\"] >= '2021-01-01') & (spk_vuelos_nacionales[\"fecha\"] <= '2021-06-30')).count()"
      ],
      "metadata": {
        "id": "-EgDFNZJMc3G",
        "outputId": "bec36769-9900-433f-9c75-ca6f3149becb",
        "colab": {
          "base_uri": "https://localhost:8080/"
        }
      },
      "execution_count": 42,
      "outputs": [
        {
          "output_type": "execute_result",
          "data": {
            "text/plain": [
              "123717"
            ]
          },
          "metadata": {},
          "execution_count": 42
        }
      ]
    },
    {
      "cell_type": "code",
      "source": [
        "# segundo semestre 2021\n",
        "spk_vuelos_nacionales.filter((spk_vuelos_nacionales[\"fecha\"] > '2021-06-30') & (spk_vuelos_nacionales[\"fecha\"] <= '2021-12-31')).count()"
      ],
      "metadata": {
        "id": "dFxGZX9KP4u6",
        "outputId": "d1233613-aebb-4abe-89e3-f906725567ea",
        "colab": {
          "base_uri": "https://localhost:8080/"
        }
      },
      "execution_count": 45,
      "outputs": [
        {
          "output_type": "execute_result",
          "data": {
            "text/plain": [
              "169352"
            ]
          },
          "metadata": {},
          "execution_count": 45
        }
      ]
    },
    {
      "cell_type": "code",
      "source": [
        "# primer semestre 2022\n",
        "spk_vuelos_nacionales.filter((spk_vuelos_nacionales[\"fecha\"] >= '2022-01-01')).count()"
      ],
      "metadata": {
        "id": "CgQHBw2QQHrv",
        "outputId": "3df8d763-6b23-4b7c-9f5f-138f897b24d5",
        "colab": {
          "base_uri": "https://localhost:8080/"
        }
      },
      "execution_count": 44,
      "outputs": [
        {
          "output_type": "execute_result",
          "data": {
            "text/plain": [
              "190053"
            ]
          },
          "metadata": {},
          "execution_count": 44
        }
      ]
    },
    {
      "cell_type": "markdown",
      "source": [
        "### Vuelos por rangos semestales de aerolineas argentinas"
      ],
      "metadata": {
        "id": "OGoQOicuR2db"
      }
    },
    {
      "cell_type": "code",
      "source": [
        "# primer semestre 2021\n",
        "spk_vuelos_nacionales.filter((spk_vuelos_nacionales[\"fecha\"] >= '2021-01-01') & (spk_vuelos_nacionales[\"fecha\"] <= '2021-06-30') & (spk_vuelos_nacionales[\"aerolinea_nombre\"]==\"AEROLINEAS ARGENTINAS SA\")).count()\n"
      ],
      "metadata": {
        "id": "I5txLdp5SA4t",
        "outputId": "5da9e488-829e-4f5f-e17f-b560a736b63d",
        "colab": {
          "base_uri": "https://localhost:8080/"
        }
      },
      "execution_count": 53,
      "outputs": [
        {
          "output_type": "execute_result",
          "data": {
            "text/plain": [
              "30073"
            ]
          },
          "metadata": {},
          "execution_count": 53
        }
      ]
    },
    {
      "cell_type": "code",
      "source": [
        "# segundo semestre 2021\n",
        "spk_vuelos_nacionales.filter((spk_vuelos_nacionales[\"fecha\"] > '2021-06-30') & (spk_vuelos_nacionales[\"fecha\"] <= '2021-12-31') & (spk_vuelos_nacionales[\"aerolinea_nombre\"]==\"AEROLINEAS ARGENTINAS SA\")).count()\n"
      ],
      "metadata": {
        "id": "qURVmgJdShr-",
        "outputId": "826a7355-57f0-4610-b545-08ee5e187768",
        "colab": {
          "base_uri": "https://localhost:8080/"
        }
      },
      "execution_count": 54,
      "outputs": [
        {
          "output_type": "execute_result",
          "data": {
            "text/plain": [
              "47324"
            ]
          },
          "metadata": {},
          "execution_count": 54
        }
      ]
    },
    {
      "cell_type": "code",
      "source": [
        "# primer semestre 2022\n",
        "spk_vuelos_nacionales.filter((spk_vuelos_nacionales[\"fecha\"] >= '2022-01-01') & (spk_vuelos_nacionales[\"aerolinea_nombre\"]==\"AEROLINEAS ARGENTINAS SA\")).count()\n"
      ],
      "metadata": {
        "id": "Zxlir8aSShZi",
        "outputId": "3e4f5071-3b58-4c45-de59-a3428552cc3f",
        "colab": {
          "base_uri": "https://localhost:8080/"
        }
      },
      "execution_count": 55,
      "outputs": [
        {
          "output_type": "execute_result",
          "data": {
            "text/plain": [
              "70107"
            ]
          },
          "metadata": {},
          "execution_count": 55
        }
      ]
    },
    {
      "cell_type": "markdown",
      "source": [
        "6. Determinar la cantidad de vuelos entre las fechas 01/12/2021 y 31/01/2022"
      ],
      "metadata": {
        "id": "0Vj0Kgh8CeI_"
      }
    },
    {
      "cell_type": "code",
      "source": [
        "vuelos_nacionales_filtro = spk_vuelos_nacionales.filter((spk_vuelos_nacionales[\"fecha\"] >= '2021-12-01') & (spk_vuelos_nacionales[\"fecha\"] <= '2022-01-31'))"
      ],
      "metadata": {
        "id": "9GiLPeWNCaAG"
      },
      "execution_count": 46,
      "outputs": []
    },
    {
      "cell_type": "code",
      "source": [
        "vuelos_nacionales_filtro.count()"
      ],
      "metadata": {
        "id": "K0B3C2azDwfv",
        "outputId": "228e3c73-31c9-40af-edf6-8932964c49e3",
        "colab": {
          "base_uri": "https://localhost:8080/"
        }
      },
      "execution_count": 47,
      "outputs": [
        {
          "output_type": "execute_result",
          "data": {
            "text/plain": [
              "57984"
            ]
          },
          "metadata": {},
          "execution_count": 47
        }
      ]
    },
    {
      "cell_type": "markdown",
      "source": [
        "7. Cantidad de pasajeros que viajaron en Aerolíneas Argentinas entre el 01/01/2021 y 30/06/2022"
      ],
      "metadata": {
        "id": "OsjvGbNYEAUU"
      }
    },
    {
      "cell_type": "code",
      "source": [
        "pasajeros_aerolineasargentinas = spk_vuelos_nacionales.filter((spk_vuelos_nacionales[\"aerolinea_nombre\"] == \"AEROLINEAS ARGENTINAS SA\") & (spk_vuelos_nacionales[\"fecha\"] >= '2021-01-01') & (spk_vuelos_nacionales[\"fecha\"] <= '2022-06-30'))"
      ],
      "metadata": {
        "id": "TXYTMAb4ED_V"
      },
      "execution_count": 49,
      "outputs": []
    },
    {
      "cell_type": "code",
      "source": [
        "total_pasajeros = pasajeros_aerolineasargentinas.agg(sum(\"pasajeros\")).collect()[0][0]"
      ],
      "metadata": {
        "id": "Hz4-dkLTFYwM"
      },
      "execution_count": 50,
      "outputs": []
    },
    {
      "cell_type": "code",
      "source": [
        "total_pasajeros"
      ],
      "metadata": {
        "id": "84kKNDGcF6jq",
        "outputId": "abd3c25f-e634-4a21-f659-938c91924fc9",
        "colab": {
          "base_uri": "https://localhost:8080/"
        }
      },
      "execution_count": 52,
      "outputs": [
        {
          "output_type": "execute_result",
          "data": {
            "text/plain": [
              "7484860"
            ]
          },
          "metadata": {},
          "execution_count": 52
        }
      ]
    },
    {
      "cell_type": "markdown",
      "source": [
        "8. Mostrar fecha, hora, código aeropuerto salida, ciudad de salida, código de aeropuerto de arribo, ciudad de arribo, y cantidad de pasajeros de cada vuelo, entre el 01/01/2022 y el 30/06/2022 ordenados por fecha de manera descendiente. \n"
      ],
      "metadata": {
        "id": "0OqyFNr0GEuA"
      }
    },
    {
      "cell_type": "code",
      "source": [
        "spk_vuelos_nacionales.createOrReplaceTempView(\"vuelos_horarios\")"
      ],
      "metadata": {
        "id": "g77KKVsIGLeA"
      },
      "execution_count": 51,
      "outputs": []
    },
    {
      "cell_type": "code",
      "source": [
        "spk_aeropuertos.createOrReplaceTempView(\"aeropuertos\")"
      ],
      "metadata": {
        "id": "DD_sh8gq09qU"
      },
      "execution_count": 146,
      "outputs": []
    },
    {
      "cell_type": "code",
      "source": [
        "consulta_sql = \"\"\"\n",
        "SELECT vh.fecha, vh.horaUTC, vh.aeropuerto AS codigo_salida, a1.denominacion AS ciudad_salida, vh.origen_destino AS codigo_arribo, a2.denominacion AS ciudad_arribo, vh.pasajeros\n",
        "FROM vuelos_horarios vh\n",
        "JOIN aeropuertos a1 ON vh.aeropuerto = a1.aeropuerto\n",
        "JOIN aeropuertos a2 ON vh.origen_destino = a2.aeropuerto\n",
        "WHERE vh.fecha >= '2022-01-01'\n",
        "ORDER BY vh.fecha DESC\n",
        "\"\"\""
      ],
      "metadata": {
        "id": "IFKpo1280YlF"
      },
      "execution_count": 124,
      "outputs": []
    },
    {
      "cell_type": "code",
      "source": [
        "vuelos_ordenados = spark.sql(consulta_sql)"
      ],
      "metadata": {
        "id": "b3IKXbMeILTs"
      },
      "execution_count": 125,
      "outputs": []
    },
    {
      "cell_type": "code",
      "source": [
        "vuelos_ordenados.show(5)"
      ],
      "metadata": {
        "id": "BG8Aooy3IK0W",
        "outputId": "a0b6c56a-1412-4d2a-e985-33146c4eb8f0",
        "colab": {
          "base_uri": "https://localhost:8080/"
        }
      },
      "execution_count": 126,
      "outputs": [
        {
          "output_type": "stream",
          "name": "stdout",
          "text": [
            "+----------+-------+-------------+--------------------+-------------+--------------------+---------+\n",
            "|     fecha|horaUTC|codigo_salida|       ciudad_salida|codigo_arribo|       ciudad_arribo|pasajeros|\n",
            "+----------+-------+-------------+--------------------+-------------+--------------------+---------+\n",
            "|2022-06-30|  00:02|          BAR|SAN CARLOS DE BAR...|          AER|BUENOS AIRES/AERO...|        0|\n",
            "|2022-06-30|  00:12|          JUJ|JUJUY/GOBERNADOR ...|          EZE|EZEIZA/MINISTRO P...|        0|\n",
            "|2022-06-30|  00:07|          FDO|        SAN FERNANDO|          CBA|CÓRDOBA/ING. AER....|        0|\n",
            "|2022-06-30|  00:08|          ROS|ROSARIO/ISLAS MAL...|          FMA|CÓRDOBA/CAPITÁN D...|       48|\n",
            "|2022-06-30|  00:09|          FDO|        SAN FERNANDO|          FDO|        SAN FERNANDO|        0|\n",
            "+----------+-------+-------------+--------------------+-------------+--------------------+---------+\n",
            "only showing top 5 rows\n",
            "\n"
          ]
        }
      ]
    },
    {
      "cell_type": "markdown",
      "source": [
        "9. Cuáles son las 10 aerolíneas que más pasajeros llevaron entre el 01/01/2021 y el\n",
        "30/06/2022 exceptuando aquellas aerolíneas que no tengan nombre?"
      ],
      "metadata": {
        "id": "VS_--3jW8eAf"
      }
    },
    {
      "cell_type": "code",
      "source": [
        "consulta_sql_2 = \"\"\"\n",
        "SELECT CASE\n",
        "  WHEN aerolinea_nombre = 'L.A.D.E.' OR aerolinea_nombre = 'LADE' THEN 'LADE'\n",
        "  WHEN aerolinea_nombre = 'FUERZA AEREA ARGENTINA' OR aerolinea_nombre = 'FUERZA AEREA ARGENTINA (FAA)' THEN 'FUERZA AEREA ARGENTINA'\n",
        "  ELSE aerolinea_nombre \n",
        "  END AS aerolinea_nombre, SUM(pasajeros) AS total_pasajeros\n",
        "FROM vuelos_horarios \n",
        "WHERE aerolinea_nombre !='0' \n",
        "GROUP BY CASE\n",
        "  WHEN aerolinea_nombre = 'L.A.D.E.' OR aerolinea_nombre = 'LADE' THEN 'LADE'\n",
        "  WHEN aerolinea_nombre = 'FUERZA AEREA ARGENTINA' OR aerolinea_nombre = 'FUERZA AEREA ARGENTINA (FAA)' THEN 'FUERZA AEREA ARGENTINA'\n",
        "  ELSE aerolinea_nombre \n",
        "  END\n",
        "ORDER BY total_pasajeros DESC, aerolinea_nombre ASC\n",
        "\"\"\"\n",
        "aerolineas_ordenado = spark.sql(consulta_sql_2)\n",
        "aerolineas_ordenado.show(10)"
      ],
      "metadata": {
        "id": "Ka9nBSClVKdX",
        "outputId": "6e420f8e-00fb-40f3-a219-f8b11960117a",
        "colab": {
          "base_uri": "https://localhost:8080/"
        }
      },
      "execution_count": 100,
      "outputs": [
        {
          "output_type": "stream",
          "name": "stdout",
          "text": [
            "+--------------------+---------------+\n",
            "|    aerolinea_nombre|total_pasajeros|\n",
            "+--------------------+---------------+\n",
            "|AEROLINEAS ARGENT...|        7484860|\n",
            "|JETSMART AIRLINES...|        1511650|\n",
            "|FB LÍNEAS AÉREAS ...|        1482473|\n",
            "|   AMERICAN JET S.A.|          25789|\n",
            "|                LADE|          18969|\n",
            "|FUERZA AEREA ARGE...|           6993|\n",
            "|       BAIRES FLY SA|           4960|\n",
            "|   FLYING AMERICA SA|           2839|\n",
            "|AERORUTAS S.A. DE...|           1610|\n",
            "|  EJERCITO ARGENTINO|           1215|\n",
            "+--------------------+---------------+\n",
            "only showing top 10 rows\n",
            "\n"
          ]
        }
      ]
    },
    {
      "cell_type": "markdown",
      "source": [
        "10. Cuáles son las 10 aeronaves más utilizadas entre el 01/01/2021 y el 30/06/22 que despegaron desde la Ciudad autónoma de Buenos Aires o de Buenos Aires, exceptuando aquellas aeronaves que no cuentan con nombre?\n"
      ],
      "metadata": {
        "id": "QnWY1RmtMIIP"
      }
    },
    {
      "cell_type": "code",
      "source": [
        "consulta_sql_3 = \"\"\"\n",
        "SELECT vh.aeronave, COUNT(*) AS total_vuelos\n",
        "FROM vuelos_horarios AS vh\n",
        "JOIN aeropuertos AS a1 ON vh.aeropuerto = a1.aeropuerto\n",
        "WHERE (a1.provincia = 'BUENOS AIRES' OR a1.provincia = 'CIUDAD AUTÓNOMA DE BUENOS AIRES' ) AND vh.aeronave !='0' AND vh.tipo_de_movimiento = 'Despegue'\n",
        "GROUP BY vh.aeronave\n",
        "ORDER BY total_vuelos DESC\n",
        "\"\"\"\n",
        "aeronaves_ordenado = spark.sql(consulta_sql_3)\n",
        "aeronaves_ordenado.show(10)"
      ],
      "metadata": {
        "id": "AhRGOWkHiGpr",
        "outputId": "2b2ab13f-8d24-422b-e280-7ed3777df766",
        "colab": {
          "base_uri": "https://localhost:8080/"
        }
      },
      "execution_count": 150,
      "outputs": [
        {
          "output_type": "stream",
          "name": "stdout",
          "text": [
            "+----------------+------------+\n",
            "|        aeronave|total_vuelos|\n",
            "+----------------+------------+\n",
            "|EMB-ERJ190100IGW|       12470|\n",
            "|        CE-150-L|        8117|\n",
            "|          CE-152|        7980|\n",
            "|        CE-150-M|        6081|\n",
            "|    AIB-A320-232|        5345|\n",
            "|      BO-737-800|        4537|\n",
            "|        CE-150-J|        3012|\n",
            "|        CE-150-G|        2871|\n",
            "|     BO-B737-800|        2736|\n",
            "|    PA-PA-28-181|        2456|\n",
            "+----------------+------------+\n",
            "only showing top 10 rows\n",
            "\n"
          ]
        }
      ]
    },
    {
      "cell_type": "code",
      "source": [
        "consulta_sql_3 = \"\"\"\n",
        "SELECT vh.aeronave , COUNT(vh.aeronave) AS total\n",
        "FROM (SELECT vh.aeropuerto AS aeropuerto_salida,\n",
        "             a1.provincia AS provincia_salida,\n",
        "             vh.aeronave \n",
        "      FROM vuelos_horarios AS vh\n",
        "      INNER JOIN aeropuertos AS a1 ON vh.aeropuerto = a1.aeropuerto\n",
        "      INNER JOIN aeropuertos AS a2 ON vh.origen_destino = a2.aeropuerto\n",
        "      WHERE vh.tipo_de_movimiento = 'Despegue') as t\n",
        "WHERE t.aeronave != '0' AND (t.provincia_salida = 'BUENOS AIRES' or t.provincia_salida = 'CIUDAD AUTÓNOMA DE BUENOS AIRES')\n",
        "GROUP BY t.aeronave\n",
        "ORDER BY total DESC\n",
        "LIMIT 10;\n",
        "\"\"\"\n",
        "aeronaves_ordenado = spark.sql(consulta_sql_3)\n",
        "aeronaves_ordenado.show(10)"
      ],
      "metadata": {
        "id": "U3jIpTCbYpq7",
        "outputId": "7dd457e1-1efa-4722-e7a5-fa42ed3a80e0",
        "colab": {
          "base_uri": "https://localhost:8080/",
          "height": 1000
        }
      },
      "execution_count": 154,
      "outputs": [
        {
          "output_type": "error",
          "ename": "AnalysisException",
          "evalue": "ignored",
          "traceback": [
            "\u001b[0;31m---------------------------------------------------------------------------\u001b[0m",
            "\u001b[0;31mAnalysisException\u001b[0m                         Traceback (most recent call last)",
            "\u001b[0;32m<ipython-input-154-2c1bbab9b75c>\u001b[0m in \u001b[0;36m<cell line: 15>\u001b[0;34m()\u001b[0m\n\u001b[1;32m     13\u001b[0m \u001b[0mLIMIT\u001b[0m \u001b[0;36m10\u001b[0m\u001b[0;34m;\u001b[0m\u001b[0;34m\u001b[0m\u001b[0;34m\u001b[0m\u001b[0m\n\u001b[1;32m     14\u001b[0m \"\"\"\n\u001b[0;32m---> 15\u001b[0;31m \u001b[0maeronaves_ordenado\u001b[0m \u001b[0;34m=\u001b[0m \u001b[0mspark\u001b[0m\u001b[0;34m.\u001b[0m\u001b[0msql\u001b[0m\u001b[0;34m(\u001b[0m\u001b[0mconsulta_sql_3\u001b[0m\u001b[0;34m)\u001b[0m\u001b[0;34m\u001b[0m\u001b[0;34m\u001b[0m\u001b[0m\n\u001b[0m\u001b[1;32m     16\u001b[0m \u001b[0maeronaves_ordenado\u001b[0m\u001b[0;34m.\u001b[0m\u001b[0mshow\u001b[0m\u001b[0;34m(\u001b[0m\u001b[0;36m10\u001b[0m\u001b[0;34m)\u001b[0m\u001b[0;34m\u001b[0m\u001b[0;34m\u001b[0m\u001b[0m\n",
            "\u001b[0;32m/usr/local/lib/python3.10/dist-packages/pyspark/sql/session.py\u001b[0m in \u001b[0;36msql\u001b[0;34m(self, sqlQuery, args, **kwargs)\u001b[0m\n\u001b[1;32m   1438\u001b[0m         \u001b[0;32mtry\u001b[0m\u001b[0;34m:\u001b[0m\u001b[0;34m\u001b[0m\u001b[0;34m\u001b[0m\u001b[0m\n\u001b[1;32m   1439\u001b[0m             \u001b[0mlitArgs\u001b[0m \u001b[0;34m=\u001b[0m \u001b[0;34m{\u001b[0m\u001b[0mk\u001b[0m\u001b[0;34m:\u001b[0m \u001b[0m_to_java_column\u001b[0m\u001b[0;34m(\u001b[0m\u001b[0mlit\u001b[0m\u001b[0;34m(\u001b[0m\u001b[0mv\u001b[0m\u001b[0;34m)\u001b[0m\u001b[0;34m)\u001b[0m \u001b[0;32mfor\u001b[0m \u001b[0mk\u001b[0m\u001b[0;34m,\u001b[0m \u001b[0mv\u001b[0m \u001b[0;32min\u001b[0m \u001b[0;34m(\u001b[0m\u001b[0margs\u001b[0m \u001b[0;32mor\u001b[0m \u001b[0;34m{\u001b[0m\u001b[0;34m}\u001b[0m\u001b[0;34m)\u001b[0m\u001b[0;34m.\u001b[0m\u001b[0mitems\u001b[0m\u001b[0;34m(\u001b[0m\u001b[0;34m)\u001b[0m\u001b[0;34m}\u001b[0m\u001b[0;34m\u001b[0m\u001b[0;34m\u001b[0m\u001b[0m\n\u001b[0;32m-> 1440\u001b[0;31m             \u001b[0;32mreturn\u001b[0m \u001b[0mDataFrame\u001b[0m\u001b[0;34m(\u001b[0m\u001b[0mself\u001b[0m\u001b[0;34m.\u001b[0m\u001b[0m_jsparkSession\u001b[0m\u001b[0;34m.\u001b[0m\u001b[0msql\u001b[0m\u001b[0;34m(\u001b[0m\u001b[0msqlQuery\u001b[0m\u001b[0;34m,\u001b[0m \u001b[0mlitArgs\u001b[0m\u001b[0;34m)\u001b[0m\u001b[0;34m,\u001b[0m \u001b[0mself\u001b[0m\u001b[0;34m)\u001b[0m\u001b[0;34m\u001b[0m\u001b[0;34m\u001b[0m\u001b[0m\n\u001b[0m\u001b[1;32m   1441\u001b[0m         \u001b[0;32mfinally\u001b[0m\u001b[0;34m:\u001b[0m\u001b[0;34m\u001b[0m\u001b[0;34m\u001b[0m\u001b[0m\n\u001b[1;32m   1442\u001b[0m             \u001b[0;32mif\u001b[0m \u001b[0mlen\u001b[0m\u001b[0;34m(\u001b[0m\u001b[0mkwargs\u001b[0m\u001b[0;34m)\u001b[0m \u001b[0;34m>\u001b[0m \u001b[0;36m0\u001b[0m\u001b[0;34m:\u001b[0m\u001b[0;34m\u001b[0m\u001b[0;34m\u001b[0m\u001b[0m\n",
            "\u001b[0;32m/usr/local/lib/python3.10/dist-packages/py4j/java_gateway.py\u001b[0m in \u001b[0;36m__call__\u001b[0;34m(self, *args)\u001b[0m\n\u001b[1;32m   1320\u001b[0m \u001b[0;34m\u001b[0m\u001b[0m\n\u001b[1;32m   1321\u001b[0m         \u001b[0manswer\u001b[0m \u001b[0;34m=\u001b[0m \u001b[0mself\u001b[0m\u001b[0;34m.\u001b[0m\u001b[0mgateway_client\u001b[0m\u001b[0;34m.\u001b[0m\u001b[0msend_command\u001b[0m\u001b[0;34m(\u001b[0m\u001b[0mcommand\u001b[0m\u001b[0;34m)\u001b[0m\u001b[0;34m\u001b[0m\u001b[0;34m\u001b[0m\u001b[0m\n\u001b[0;32m-> 1322\u001b[0;31m         return_value = get_return_value(\n\u001b[0m\u001b[1;32m   1323\u001b[0m             answer, self.gateway_client, self.target_id, self.name)\n\u001b[1;32m   1324\u001b[0m \u001b[0;34m\u001b[0m\u001b[0m\n",
            "\u001b[0;32m/usr/local/lib/python3.10/dist-packages/pyspark/errors/exceptions/captured.py\u001b[0m in \u001b[0;36mdeco\u001b[0;34m(*a, **kw)\u001b[0m\n\u001b[1;32m    173\u001b[0m                 \u001b[0;31m# Hide where the exception came from that shows a non-Pythonic\u001b[0m\u001b[0;34m\u001b[0m\u001b[0;34m\u001b[0m\u001b[0m\n\u001b[1;32m    174\u001b[0m                 \u001b[0;31m# JVM exception message.\u001b[0m\u001b[0;34m\u001b[0m\u001b[0;34m\u001b[0m\u001b[0m\n\u001b[0;32m--> 175\u001b[0;31m                 \u001b[0;32mraise\u001b[0m \u001b[0mconverted\u001b[0m \u001b[0;32mfrom\u001b[0m \u001b[0;32mNone\u001b[0m\u001b[0;34m\u001b[0m\u001b[0;34m\u001b[0m\u001b[0m\n\u001b[0m\u001b[1;32m    176\u001b[0m             \u001b[0;32melse\u001b[0m\u001b[0;34m:\u001b[0m\u001b[0;34m\u001b[0m\u001b[0;34m\u001b[0m\u001b[0m\n\u001b[1;32m    177\u001b[0m                 \u001b[0;32mraise\u001b[0m\u001b[0;34m\u001b[0m\u001b[0;34m\u001b[0m\u001b[0m\n",
            "\u001b[0;31mAnalysisException\u001b[0m: [UNRESOLVED_COLUMN.WITH_SUGGESTION] A column or function parameter with name `vh`.`aeronave` cannot be resolved. Did you mean one of the following? [`t`.`aeronave`, `t`.`aeropuerto_salida`, `t`.`provincia_salida`].; line 2 pos 7;\n'GlobalLimit 10\n+- 'LocalLimit 10\n   +- 'Sort ['total DESC NULLS LAST], true\n      +- 'Aggregate [aeronave#8], ['vh.aeronave, 'COUNT('vh.aeronave) AS total#2570]\n         +- Filter (NOT (aeronave#8 = 0) AND ((provincia_salida#2569 = BUENOS AIRES) OR (provincia_salida#2569 = CIUDAD AUTÓNOMA DE BUENOS AIRES)))\n            +- SubqueryAlias t\n               +- Project [aeropuerto#5 AS aeropuerto_salida#2568, provincia#2062 AS provincia_salida#2569, aeronave#8]\n                  +- Filter (tipo_de_movimiento#4 = Despegue)\n                     +- Join Inner, (origen_destino#6 = aeropuerto#2571)\n                        :- Join Inner, (aeropuerto#5 = aeropuerto#2041)\n                        :  :- SubqueryAlias vh\n                        :  :  +- SubqueryAlias vuelos_horarios\n                        :  :     +- View (`vuelos_horarios`, [fecha#20,horaUTC#1,clase_de_vuelo#2,clasificacion_de_vuelo#3,tipo_de_movimiento#4,aeropuerto#5,origen_destino#6,aerolinea_nombre#7,aeronave#8,pasajeros#93])\n                        :  :        +- Filter ((clasificacion_de_vuelo#3 = Doméstico) OR (clasificacion_de_vuelo#3 = Domestico))\n                        :  :           +- Union false, false\n                        :  :              :- Project [to_date(Fecha#0, Some(dd/MM/yyyy), Some(Etc/UTC)) AS fecha#20, horaUTC#1, clase_de_vuelo#2, clasificacion_de_vuelo#3, tipo_de_movimiento#4, aeropuerto#5, origen_destino#6, aerolinea_nombre#7, aeronave#8, CASE WHEN isnull(pasajeros#9) THEN 0 ELSE pasajeros#9 END AS pasajeros#93]\n                        :  :              :  +- Relation [Fecha#0,horaUTC#1,clase_de_vuelo#2,clasificacion_de_vuelo#3,tipo_de_movimiento#4,aeropuerto#5,origen_destino#6,aerolinea_nombre#7,aeronave#8,pasajeros#9] csv\n                        :  :              +- Project [to_date(Fecha#104, Some(dd/MM/yyyy), Some(Etc/UTC)) AS fecha#124, horaUTC#105, clase_de_vuelo#106, clasificacion_de_vuelo#107, tipo_de_movimiento#108, aeropuerto#109, origen_destino#110, aerolinea_nombre#111, aeronave#112, CASE WHEN isnull(pasajeros#113) THEN 0 ELSE pasajeros#113 END AS pasajeros#197]\n                        :  :                 +- Relation [Fecha#104,horaUTC#105,clase_de_vuelo#106,clasificacion_de_vuelo#107,tipo_de_movimiento#108,aeropuerto#109,origen_destino#110,aerolinea_nombre#111,aeronave#112,pasajeros#113] csv\n                        :  +- SubqueryAlias a1\n                        :     +- SubqueryAlias aeropuertos\n                        :        +- View (`aeropuertos`, [aeropuerto#2041,oac#2042,iata#2043,tipo#2044,denominacion#2045,coordenadas#2046,latitud#2047,longitud#2048,elev#2049,uom_elev#2050,ref#2051,distancia_ref#2052,direccion_ref#2053,condicion#2054,control#2055,region#2056,fir#2057,uso#2058,trafico#2059,sna#2060,concesionado#2061,provincia#2062,inhab#2063])\n                        :           +- Relation [aeropuerto#2041,oac#2042,iata#2043,tipo#2044,denominacion#2045,coordenadas#2046,latitud#2047,longitud#2048,elev#2049,uom_elev#2050,ref#2051,distancia_ref#2052,direccion_ref#2053,condicion#2054,control#2055,region#2056,fir#2057,uso#2058,trafico#2059,sna#2060,concesionado#2061,provincia#2062,inhab#2063] csv\n                        +- SubqueryAlias a2\n                           +- SubqueryAlias aeropuertos\n                              +- View (`aeropuertos`, [aeropuerto#2571,oac#2572,iata#2573,tipo#2574,denominacion#2575,coordenadas#2576,latitud#2577,longitud#2578,elev#2579,uom_elev#2580,ref#2581,distancia_ref#2582,direccion_ref#2583,condicion#2584,control#2585,region#2586,fir#2587,uso#2588,trafico#2589,sna#2590,concesionado#2591,provincia#2592,inhab#2593])\n                                 +- Relation [aeropuerto#2571,oac#2572,iata#2573,tipo#2574,denominacion#2575,coordenadas#2576,latitud#2577,longitud#2578,elev#2579,uom_elev#2580,ref#2581,distancia_ref#2582,direccion_ref#2583,condicion#2584,control#2585,region#2586,fir#2587,uso#2588,trafico#2589,sna#2590,concesionado#2591,provincia#2592,inhab#2593] csv\n"
          ]
        }
      ]
    },
    {
      "cell_type": "code",
      "source": [
        "consulta_sql_3 = \"\"\"\n",
        "SELECT t.aeronave , COUNT(t.aeronave) AS total\n",
        "FROM (SELECT vh.aeropuerto AS aeropuerto_salida,\n",
        "             a1.provincia AS provincia_salida,\n",
        "             vh.aeronave \n",
        "      FROM vuelos_horarios AS vh\n",
        "      INNER JOIN aeropuertos AS a1 ON vh.aeropuerto = a1.aeropuerto\n",
        "      INNER JOIN aeropuertos AS a2 ON vh.origen_destino = a2.aeropuerto\n",
        "      WHERE vh.tipo_de_movimiento = 'Despegue'\n",
        "    UNION ALL \n",
        "      SELECT vh.origen_destino AS aeropuerto_salida, \n",
        "             a2.provincia AS provincia_salida,\n",
        "             vh.aeronave \n",
        "      FROM vuelos_horarios AS vh\n",
        "      INNER JOIN aeropuertos AS a1 ON vh.aeropuerto = a1.aeropuerto\n",
        "      INNER JOIN aeropuertos AS a2 ON vh.origen_destino  = a2.aeropuerto\n",
        "      WHERE vh.tipo_de_movimiento = 'Aterrizaje') as t\n",
        "WHERE t.aeronave != '0' AND (t.provincia_salida = 'BUENOS AIRES' or t.provincia_salida = 'CIUDAD AUTÓNOMA DE BUENOS AIRES')\n",
        "GROUP BY t.aeronave\n",
        "ORDER BY total DESC\n",
        "LIMIT 10;\n",
        "\"\"\"\n",
        "aeronaves_ordenado = spark.sql(consulta_sql_3)\n",
        "aeronaves_ordenado.show(10)"
      ],
      "metadata": {
        "id": "mduq7YOvMEFm",
        "outputId": "33871563-a1a6-4b03-cede-e4e66aa6ef14",
        "colab": {
          "base_uri": "https://localhost:8080/"
        }
      },
      "execution_count": 156,
      "outputs": [
        {
          "output_type": "stream",
          "name": "stdout",
          "text": [
            "+----------------+-----+\n",
            "|        aeronave|total|\n",
            "+----------------+-----+\n",
            "|EMB-ERJ190100IGW|24358|\n",
            "|        CE-150-L|16017|\n",
            "|          CE-152|15828|\n",
            "|        CE-150-M|12004|\n",
            "|    AIB-A320-232|10652|\n",
            "|      BO-737-800| 8958|\n",
            "|        CE-150-J| 5958|\n",
            "|        CE-150-G| 5645|\n",
            "|     BO-B737-800| 5416|\n",
            "|    PA-PA-28-181| 4880|\n",
            "+----------------+-----+\n",
            "\n"
          ]
        }
      ]
    },
    {
      "cell_type": "markdown",
      "source": [
        "# Ejercicio 2"
      ],
      "metadata": {
        "id": "F6gmwxmUyIYN"
      }
    },
    {
      "cell_type": "code",
      "source": [
        "!wget https://data-engineer-edvai.s3.amazonaws.com/CarRentalData.csv"
      ],
      "metadata": {
        "id": "BtL2i6rnF9R2",
        "colab": {
          "base_uri": "https://localhost:8080/"
        },
        "outputId": "4ca274ce-a469-433c-d3be-e654b3652646"
      },
      "execution_count": null,
      "outputs": [
        {
          "output_type": "stream",
          "name": "stdout",
          "text": [
            "--2023-05-24 19:36:06--  https://data-engineer-edvai.s3.amazonaws.com/CarRentalData.csv\n",
            "Resolving data-engineer-edvai.s3.amazonaws.com (data-engineer-edvai.s3.amazonaws.com)... 3.5.8.117, 3.5.8.187, 52.216.110.83, ...\n",
            "Connecting to data-engineer-edvai.s3.amazonaws.com (data-engineer-edvai.s3.amazonaws.com)|3.5.8.117|:443... connected.\n",
            "HTTP request sent, awaiting response... 200 OK\n",
            "Length: 533157 (521K) [text/csv]\n",
            "Saving to: ‘CarRentalData.csv’\n",
            "\n",
            "CarRentalData.csv   100%[===================>] 520.66K  1.68MB/s    in 0.3s    \n",
            "\n",
            "2023-05-24 19:36:07 (1.68 MB/s) - ‘CarRentalData.csv’ saved [533157/533157]\n",
            "\n"
          ]
        }
      ]
    },
    {
      "cell_type": "code",
      "source": [
        "!wget -O /content/geo.csv 'https://public.opendatasoft.com/api/explore/v2.1/catalog/datasets/georef-united-states-of-america-state/exports/csv?lang=en&timezone=America%2FArgentina%2FBuenos_Aires&use_labels=true&delimiter=%3B'\n"
      ],
      "metadata": {
        "colab": {
          "base_uri": "https://localhost:8080/"
        },
        "id": "o9Ymkk2lyU9o",
        "outputId": "258dca27-2568-4835-bf2b-45cfafecab98"
      },
      "execution_count": null,
      "outputs": [
        {
          "output_type": "stream",
          "name": "stdout",
          "text": [
            "--2023-05-24 19:36:10--  https://public.opendatasoft.com/api/explore/v2.1/catalog/datasets/georef-united-states-of-america-state/exports/csv?lang=en&timezone=America%2FArgentina%2FBuenos_Aires&use_labels=true&delimiter=%3B\n",
            "Resolving public.opendatasoft.com (public.opendatasoft.com)... 34.248.20.69, 34.249.199.226\n",
            "Connecting to public.opendatasoft.com (public.opendatasoft.com)|34.248.20.69|:443... connected.\n",
            "HTTP request sent, awaiting response... 200 OK\n",
            "Length: unspecified [text/csv]\n",
            "Saving to: ‘/content/geo.csv’\n",
            "\n",
            "/content/geo.csv        [    <=>             ]   3.22M  3.72MB/s    in 0.9s    \n",
            "\n",
            "2023-05-24 19:36:12 (3.72 MB/s) - ‘/content/geo.csv’ saved [3380726]\n",
            "\n"
          ]
        }
      ]
    },
    {
      "cell_type": "code",
      "source": [
        "df_rental = pd.read_csv(\"/content/CarRentalData.csv\", sep=',')"
      ],
      "metadata": {
        "id": "_r52IA9NzAIx"
      },
      "execution_count": null,
      "outputs": []
    },
    {
      "cell_type": "code",
      "source": [
        "df_rental"
      ],
      "metadata": {
        "colab": {
          "base_uri": "https://localhost:8080/",
          "height": 487
        },
        "id": "NnrlUnHg1ns-",
        "outputId": "ca73e2dd-6fd0-4e92-9e95-c77713413906"
      },
      "execution_count": null,
      "outputs": [
        {
          "output_type": "execute_result",
          "data": {
            "text/plain": [
              "      fuelType  rating  renterTripsTaken  reviewCount location.city  \\\n",
              "0     ELECTRIC    5.00                13           12       Seattle   \n",
              "1     ELECTRIC    5.00                 2            1       Tijeras   \n",
              "2       HYBRID    4.92                28           24   Albuquerque   \n",
              "3     GASOLINE    5.00                21           20   Albuquerque   \n",
              "4     GASOLINE    5.00                 3            1   Albuquerque   \n",
              "...        ...     ...               ...          ...           ...   \n",
              "5846  GASOLINE    5.00                32           27      Honolulu   \n",
              "5847    HYBRID    5.00                17           16          Aiea   \n",
              "5848  GASOLINE    4.94                18           17        Kailua   \n",
              "5849  GASOLINE     NaN                 1            0       Waipahu   \n",
              "5850  GASOLINE    5.00                16           14        Kailua   \n",
              "\n",
              "     location.country  location.latitude  location.longitude location.state  \\\n",
              "0                  US          47.449107         -122.308841             WA   \n",
              "1                  US          35.111060         -106.276551             NM   \n",
              "2                  US          35.127163         -106.566681             NM   \n",
              "3                  US          35.149726         -106.711425             NM   \n",
              "4                  US          35.208659         -106.601008             NM   \n",
              "...               ...                ...                 ...            ...   \n",
              "5846               US          21.292950         -157.836856             HI   \n",
              "5847               US          21.375507         -157.914919             HI   \n",
              "5848               US          21.378719         -157.727816             HI   \n",
              "5849               US          21.376105         -158.020237             HI   \n",
              "5850               US          21.378040         -157.730000             HI   \n",
              "\n",
              "      owner.id  rate.daily vehicle.make vehicle.model vehicle.type  \\\n",
              "0     12847615         135        Tesla       Model X          suv   \n",
              "1     15621242         190        Tesla       Model X          suv   \n",
              "2     10199256          35       Toyota         Prius          car   \n",
              "3      9365496          75         Ford       Mustang          car   \n",
              "4      3553565          47     Chrysler       Sebring          car   \n",
              "...        ...         ...          ...           ...          ...   \n",
              "5846   9794111          33    Chevrolet         Cruze          car   \n",
              "5847   2754690          49        Lexus       HS 250h          car   \n",
              "5848  11313508          35        smart        fortwo          car   \n",
              "5849   4209883          77          GMC        Savana          van   \n",
              "5850  11313508          35        smart        fortwo          car   \n",
              "\n",
              "      vehicle.year  \n",
              "0             2019  \n",
              "1             2018  \n",
              "2             2012  \n",
              "3             2018  \n",
              "4             2010  \n",
              "...            ...  \n",
              "5846          2017  \n",
              "5847          2010  \n",
              "5848          2013  \n",
              "5849          2015  \n",
              "5850          2013  \n",
              "\n",
              "[5851 rows x 15 columns]"
            ],
            "text/html": [
              "\n",
              "  <div id=\"df-4d1c50da-cfe1-4b47-85e8-11dba148d354\">\n",
              "    <div class=\"colab-df-container\">\n",
              "      <div>\n",
              "<style scoped>\n",
              "    .dataframe tbody tr th:only-of-type {\n",
              "        vertical-align: middle;\n",
              "    }\n",
              "\n",
              "    .dataframe tbody tr th {\n",
              "        vertical-align: top;\n",
              "    }\n",
              "\n",
              "    .dataframe thead th {\n",
              "        text-align: right;\n",
              "    }\n",
              "</style>\n",
              "<table border=\"1\" class=\"dataframe\">\n",
              "  <thead>\n",
              "    <tr style=\"text-align: right;\">\n",
              "      <th></th>\n",
              "      <th>fuelType</th>\n",
              "      <th>rating</th>\n",
              "      <th>renterTripsTaken</th>\n",
              "      <th>reviewCount</th>\n",
              "      <th>location.city</th>\n",
              "      <th>location.country</th>\n",
              "      <th>location.latitude</th>\n",
              "      <th>location.longitude</th>\n",
              "      <th>location.state</th>\n",
              "      <th>owner.id</th>\n",
              "      <th>rate.daily</th>\n",
              "      <th>vehicle.make</th>\n",
              "      <th>vehicle.model</th>\n",
              "      <th>vehicle.type</th>\n",
              "      <th>vehicle.year</th>\n",
              "    </tr>\n",
              "  </thead>\n",
              "  <tbody>\n",
              "    <tr>\n",
              "      <th>0</th>\n",
              "      <td>ELECTRIC</td>\n",
              "      <td>5.00</td>\n",
              "      <td>13</td>\n",
              "      <td>12</td>\n",
              "      <td>Seattle</td>\n",
              "      <td>US</td>\n",
              "      <td>47.449107</td>\n",
              "      <td>-122.308841</td>\n",
              "      <td>WA</td>\n",
              "      <td>12847615</td>\n",
              "      <td>135</td>\n",
              "      <td>Tesla</td>\n",
              "      <td>Model X</td>\n",
              "      <td>suv</td>\n",
              "      <td>2019</td>\n",
              "    </tr>\n",
              "    <tr>\n",
              "      <th>1</th>\n",
              "      <td>ELECTRIC</td>\n",
              "      <td>5.00</td>\n",
              "      <td>2</td>\n",
              "      <td>1</td>\n",
              "      <td>Tijeras</td>\n",
              "      <td>US</td>\n",
              "      <td>35.111060</td>\n",
              "      <td>-106.276551</td>\n",
              "      <td>NM</td>\n",
              "      <td>15621242</td>\n",
              "      <td>190</td>\n",
              "      <td>Tesla</td>\n",
              "      <td>Model X</td>\n",
              "      <td>suv</td>\n",
              "      <td>2018</td>\n",
              "    </tr>\n",
              "    <tr>\n",
              "      <th>2</th>\n",
              "      <td>HYBRID</td>\n",
              "      <td>4.92</td>\n",
              "      <td>28</td>\n",
              "      <td>24</td>\n",
              "      <td>Albuquerque</td>\n",
              "      <td>US</td>\n",
              "      <td>35.127163</td>\n",
              "      <td>-106.566681</td>\n",
              "      <td>NM</td>\n",
              "      <td>10199256</td>\n",
              "      <td>35</td>\n",
              "      <td>Toyota</td>\n",
              "      <td>Prius</td>\n",
              "      <td>car</td>\n",
              "      <td>2012</td>\n",
              "    </tr>\n",
              "    <tr>\n",
              "      <th>3</th>\n",
              "      <td>GASOLINE</td>\n",
              "      <td>5.00</td>\n",
              "      <td>21</td>\n",
              "      <td>20</td>\n",
              "      <td>Albuquerque</td>\n",
              "      <td>US</td>\n",
              "      <td>35.149726</td>\n",
              "      <td>-106.711425</td>\n",
              "      <td>NM</td>\n",
              "      <td>9365496</td>\n",
              "      <td>75</td>\n",
              "      <td>Ford</td>\n",
              "      <td>Mustang</td>\n",
              "      <td>car</td>\n",
              "      <td>2018</td>\n",
              "    </tr>\n",
              "    <tr>\n",
              "      <th>4</th>\n",
              "      <td>GASOLINE</td>\n",
              "      <td>5.00</td>\n",
              "      <td>3</td>\n",
              "      <td>1</td>\n",
              "      <td>Albuquerque</td>\n",
              "      <td>US</td>\n",
              "      <td>35.208659</td>\n",
              "      <td>-106.601008</td>\n",
              "      <td>NM</td>\n",
              "      <td>3553565</td>\n",
              "      <td>47</td>\n",
              "      <td>Chrysler</td>\n",
              "      <td>Sebring</td>\n",
              "      <td>car</td>\n",
              "      <td>2010</td>\n",
              "    </tr>\n",
              "    <tr>\n",
              "      <th>...</th>\n",
              "      <td>...</td>\n",
              "      <td>...</td>\n",
              "      <td>...</td>\n",
              "      <td>...</td>\n",
              "      <td>...</td>\n",
              "      <td>...</td>\n",
              "      <td>...</td>\n",
              "      <td>...</td>\n",
              "      <td>...</td>\n",
              "      <td>...</td>\n",
              "      <td>...</td>\n",
              "      <td>...</td>\n",
              "      <td>...</td>\n",
              "      <td>...</td>\n",
              "      <td>...</td>\n",
              "    </tr>\n",
              "    <tr>\n",
              "      <th>5846</th>\n",
              "      <td>GASOLINE</td>\n",
              "      <td>5.00</td>\n",
              "      <td>32</td>\n",
              "      <td>27</td>\n",
              "      <td>Honolulu</td>\n",
              "      <td>US</td>\n",
              "      <td>21.292950</td>\n",
              "      <td>-157.836856</td>\n",
              "      <td>HI</td>\n",
              "      <td>9794111</td>\n",
              "      <td>33</td>\n",
              "      <td>Chevrolet</td>\n",
              "      <td>Cruze</td>\n",
              "      <td>car</td>\n",
              "      <td>2017</td>\n",
              "    </tr>\n",
              "    <tr>\n",
              "      <th>5847</th>\n",
              "      <td>HYBRID</td>\n",
              "      <td>5.00</td>\n",
              "      <td>17</td>\n",
              "      <td>16</td>\n",
              "      <td>Aiea</td>\n",
              "      <td>US</td>\n",
              "      <td>21.375507</td>\n",
              "      <td>-157.914919</td>\n",
              "      <td>HI</td>\n",
              "      <td>2754690</td>\n",
              "      <td>49</td>\n",
              "      <td>Lexus</td>\n",
              "      <td>HS 250h</td>\n",
              "      <td>car</td>\n",
              "      <td>2010</td>\n",
              "    </tr>\n",
              "    <tr>\n",
              "      <th>5848</th>\n",
              "      <td>GASOLINE</td>\n",
              "      <td>4.94</td>\n",
              "      <td>18</td>\n",
              "      <td>17</td>\n",
              "      <td>Kailua</td>\n",
              "      <td>US</td>\n",
              "      <td>21.378719</td>\n",
              "      <td>-157.727816</td>\n",
              "      <td>HI</td>\n",
              "      <td>11313508</td>\n",
              "      <td>35</td>\n",
              "      <td>smart</td>\n",
              "      <td>fortwo</td>\n",
              "      <td>car</td>\n",
              "      <td>2013</td>\n",
              "    </tr>\n",
              "    <tr>\n",
              "      <th>5849</th>\n",
              "      <td>GASOLINE</td>\n",
              "      <td>NaN</td>\n",
              "      <td>1</td>\n",
              "      <td>0</td>\n",
              "      <td>Waipahu</td>\n",
              "      <td>US</td>\n",
              "      <td>21.376105</td>\n",
              "      <td>-158.020237</td>\n",
              "      <td>HI</td>\n",
              "      <td>4209883</td>\n",
              "      <td>77</td>\n",
              "      <td>GMC</td>\n",
              "      <td>Savana</td>\n",
              "      <td>van</td>\n",
              "      <td>2015</td>\n",
              "    </tr>\n",
              "    <tr>\n",
              "      <th>5850</th>\n",
              "      <td>GASOLINE</td>\n",
              "      <td>5.00</td>\n",
              "      <td>16</td>\n",
              "      <td>14</td>\n",
              "      <td>Kailua</td>\n",
              "      <td>US</td>\n",
              "      <td>21.378040</td>\n",
              "      <td>-157.730000</td>\n",
              "      <td>HI</td>\n",
              "      <td>11313508</td>\n",
              "      <td>35</td>\n",
              "      <td>smart</td>\n",
              "      <td>fortwo</td>\n",
              "      <td>car</td>\n",
              "      <td>2013</td>\n",
              "    </tr>\n",
              "  </tbody>\n",
              "</table>\n",
              "<p>5851 rows × 15 columns</p>\n",
              "</div>\n",
              "      <button class=\"colab-df-convert\" onclick=\"convertToInteractive('df-4d1c50da-cfe1-4b47-85e8-11dba148d354')\"\n",
              "              title=\"Convert this dataframe to an interactive table.\"\n",
              "              style=\"display:none;\">\n",
              "        \n",
              "  <svg xmlns=\"http://www.w3.org/2000/svg\" height=\"24px\"viewBox=\"0 0 24 24\"\n",
              "       width=\"24px\">\n",
              "    <path d=\"M0 0h24v24H0V0z\" fill=\"none\"/>\n",
              "    <path d=\"M18.56 5.44l.94 2.06.94-2.06 2.06-.94-2.06-.94-.94-2.06-.94 2.06-2.06.94zm-11 1L8.5 8.5l.94-2.06 2.06-.94-2.06-.94L8.5 2.5l-.94 2.06-2.06.94zm10 10l.94 2.06.94-2.06 2.06-.94-2.06-.94-.94-2.06-.94 2.06-2.06.94z\"/><path d=\"M17.41 7.96l-1.37-1.37c-.4-.4-.92-.59-1.43-.59-.52 0-1.04.2-1.43.59L10.3 9.45l-7.72 7.72c-.78.78-.78 2.05 0 2.83L4 21.41c.39.39.9.59 1.41.59.51 0 1.02-.2 1.41-.59l7.78-7.78 2.81-2.81c.8-.78.8-2.07 0-2.86zM5.41 20L4 18.59l7.72-7.72 1.47 1.35L5.41 20z\"/>\n",
              "  </svg>\n",
              "      </button>\n",
              "      \n",
              "  <style>\n",
              "    .colab-df-container {\n",
              "      display:flex;\n",
              "      flex-wrap:wrap;\n",
              "      gap: 12px;\n",
              "    }\n",
              "\n",
              "    .colab-df-convert {\n",
              "      background-color: #E8F0FE;\n",
              "      border: none;\n",
              "      border-radius: 50%;\n",
              "      cursor: pointer;\n",
              "      display: none;\n",
              "      fill: #1967D2;\n",
              "      height: 32px;\n",
              "      padding: 0 0 0 0;\n",
              "      width: 32px;\n",
              "    }\n",
              "\n",
              "    .colab-df-convert:hover {\n",
              "      background-color: #E2EBFA;\n",
              "      box-shadow: 0px 1px 2px rgba(60, 64, 67, 0.3), 0px 1px 3px 1px rgba(60, 64, 67, 0.15);\n",
              "      fill: #174EA6;\n",
              "    }\n",
              "\n",
              "    [theme=dark] .colab-df-convert {\n",
              "      background-color: #3B4455;\n",
              "      fill: #D2E3FC;\n",
              "    }\n",
              "\n",
              "    [theme=dark] .colab-df-convert:hover {\n",
              "      background-color: #434B5C;\n",
              "      box-shadow: 0px 1px 3px 1px rgba(0, 0, 0, 0.15);\n",
              "      filter: drop-shadow(0px 1px 2px rgba(0, 0, 0, 0.3));\n",
              "      fill: #FFFFFF;\n",
              "    }\n",
              "  </style>\n",
              "\n",
              "      <script>\n",
              "        const buttonEl =\n",
              "          document.querySelector('#df-4d1c50da-cfe1-4b47-85e8-11dba148d354 button.colab-df-convert');\n",
              "        buttonEl.style.display =\n",
              "          google.colab.kernel.accessAllowed ? 'block' : 'none';\n",
              "\n",
              "        async function convertToInteractive(key) {\n",
              "          const element = document.querySelector('#df-4d1c50da-cfe1-4b47-85e8-11dba148d354');\n",
              "          const dataTable =\n",
              "            await google.colab.kernel.invokeFunction('convertToInteractive',\n",
              "                                                     [key], {});\n",
              "          if (!dataTable) return;\n",
              "\n",
              "          const docLinkHtml = 'Like what you see? Visit the ' +\n",
              "            '<a target=\"_blank\" href=https://colab.research.google.com/notebooks/data_table.ipynb>data table notebook</a>'\n",
              "            + ' to learn more about interactive tables.';\n",
              "          element.innerHTML = '';\n",
              "          dataTable['output_type'] = 'display_data';\n",
              "          await google.colab.output.renderOutput(dataTable, element);\n",
              "          const docLink = document.createElement('div');\n",
              "          docLink.innerHTML = docLinkHtml;\n",
              "          element.appendChild(docLink);\n",
              "        }\n",
              "      </script>\n",
              "    </div>\n",
              "  </div>\n",
              "  "
            ]
          },
          "metadata": {},
          "execution_count": 13
        }
      ]
    },
    {
      "cell_type": "code",
      "source": [
        "df_rental.info()"
      ],
      "metadata": {
        "colab": {
          "base_uri": "https://localhost:8080/"
        },
        "id": "gRtmsvm5GBpd",
        "outputId": "2e4c8ad9-fd08-4ae9-c428-89f3a1cfe37c"
      },
      "execution_count": null,
      "outputs": [
        {
          "output_type": "stream",
          "name": "stdout",
          "text": [
            "<class 'pandas.core.frame.DataFrame'>\n",
            "RangeIndex: 5851 entries, 0 to 5850\n",
            "Data columns (total 15 columns):\n",
            " #   Column              Non-Null Count  Dtype  \n",
            "---  ------              --------------  -----  \n",
            " 0   fuelType            5776 non-null   object \n",
            " 1   rating              5350 non-null   float64\n",
            " 2   renterTripsTaken    5851 non-null   int64  \n",
            " 3   reviewCount         5851 non-null   int64  \n",
            " 4   location.city       5851 non-null   object \n",
            " 5   location.country    5851 non-null   object \n",
            " 6   location.latitude   5851 non-null   float64\n",
            " 7   location.longitude  5851 non-null   float64\n",
            " 8   location.state      5851 non-null   object \n",
            " 9   owner.id            5851 non-null   int64  \n",
            " 10  rate.daily          5851 non-null   int64  \n",
            " 11  vehicle.make        5851 non-null   object \n",
            " 12  vehicle.model       5851 non-null   object \n",
            " 13  vehicle.type        5851 non-null   object \n",
            " 14  vehicle.year        5851 non-null   int64  \n",
            "dtypes: float64(3), int64(5), object(7)\n",
            "memory usage: 685.8+ KB\n"
          ]
        }
      ]
    },
    {
      "cell_type": "code",
      "source": [
        "df_geo = pd.read_csv(\"/content/geo.csv\", sep=';', usecols=[4, 7])"
      ],
      "metadata": {
        "id": "WZSnPQ_m1pdi"
      },
      "execution_count": null,
      "outputs": []
    },
    {
      "cell_type": "code",
      "source": [
        "df_geo.head(5)"
      ],
      "metadata": {
        "colab": {
          "base_uri": "https://localhost:8080/",
          "height": 206
        },
        "id": "FiW1wAiR2NsC",
        "outputId": "db8d3e7e-e0bd-4b97-8192-9f9250f89d1a"
      },
      "execution_count": null,
      "outputs": [
        {
          "output_type": "execute_result",
          "data": {
            "text/plain": [
              "  Official Name State United States Postal Service state abbreviation\n",
              "0          Washington                                              WA\n",
              "1          New Mexico                                              NM\n",
              "2       Massachusetts                                              MA\n",
              "3                Utah                                              UT\n",
              "4            Arkansas                                              AR"
            ],
            "text/html": [
              "\n",
              "  <div id=\"df-2e059207-a2d4-4ccf-b36f-29549beba1c8\">\n",
              "    <div class=\"colab-df-container\">\n",
              "      <div>\n",
              "<style scoped>\n",
              "    .dataframe tbody tr th:only-of-type {\n",
              "        vertical-align: middle;\n",
              "    }\n",
              "\n",
              "    .dataframe tbody tr th {\n",
              "        vertical-align: top;\n",
              "    }\n",
              "\n",
              "    .dataframe thead th {\n",
              "        text-align: right;\n",
              "    }\n",
              "</style>\n",
              "<table border=\"1\" class=\"dataframe\">\n",
              "  <thead>\n",
              "    <tr style=\"text-align: right;\">\n",
              "      <th></th>\n",
              "      <th>Official Name State</th>\n",
              "      <th>United States Postal Service state abbreviation</th>\n",
              "    </tr>\n",
              "  </thead>\n",
              "  <tbody>\n",
              "    <tr>\n",
              "      <th>0</th>\n",
              "      <td>Washington</td>\n",
              "      <td>WA</td>\n",
              "    </tr>\n",
              "    <tr>\n",
              "      <th>1</th>\n",
              "      <td>New Mexico</td>\n",
              "      <td>NM</td>\n",
              "    </tr>\n",
              "    <tr>\n",
              "      <th>2</th>\n",
              "      <td>Massachusetts</td>\n",
              "      <td>MA</td>\n",
              "    </tr>\n",
              "    <tr>\n",
              "      <th>3</th>\n",
              "      <td>Utah</td>\n",
              "      <td>UT</td>\n",
              "    </tr>\n",
              "    <tr>\n",
              "      <th>4</th>\n",
              "      <td>Arkansas</td>\n",
              "      <td>AR</td>\n",
              "    </tr>\n",
              "  </tbody>\n",
              "</table>\n",
              "</div>\n",
              "      <button class=\"colab-df-convert\" onclick=\"convertToInteractive('df-2e059207-a2d4-4ccf-b36f-29549beba1c8')\"\n",
              "              title=\"Convert this dataframe to an interactive table.\"\n",
              "              style=\"display:none;\">\n",
              "        \n",
              "  <svg xmlns=\"http://www.w3.org/2000/svg\" height=\"24px\"viewBox=\"0 0 24 24\"\n",
              "       width=\"24px\">\n",
              "    <path d=\"M0 0h24v24H0V0z\" fill=\"none\"/>\n",
              "    <path d=\"M18.56 5.44l.94 2.06.94-2.06 2.06-.94-2.06-.94-.94-2.06-.94 2.06-2.06.94zm-11 1L8.5 8.5l.94-2.06 2.06-.94-2.06-.94L8.5 2.5l-.94 2.06-2.06.94zm10 10l.94 2.06.94-2.06 2.06-.94-2.06-.94-.94-2.06-.94 2.06-2.06.94z\"/><path d=\"M17.41 7.96l-1.37-1.37c-.4-.4-.92-.59-1.43-.59-.52 0-1.04.2-1.43.59L10.3 9.45l-7.72 7.72c-.78.78-.78 2.05 0 2.83L4 21.41c.39.39.9.59 1.41.59.51 0 1.02-.2 1.41-.59l7.78-7.78 2.81-2.81c.8-.78.8-2.07 0-2.86zM5.41 20L4 18.59l7.72-7.72 1.47 1.35L5.41 20z\"/>\n",
              "  </svg>\n",
              "      </button>\n",
              "      \n",
              "  <style>\n",
              "    .colab-df-container {\n",
              "      display:flex;\n",
              "      flex-wrap:wrap;\n",
              "      gap: 12px;\n",
              "    }\n",
              "\n",
              "    .colab-df-convert {\n",
              "      background-color: #E8F0FE;\n",
              "      border: none;\n",
              "      border-radius: 50%;\n",
              "      cursor: pointer;\n",
              "      display: none;\n",
              "      fill: #1967D2;\n",
              "      height: 32px;\n",
              "      padding: 0 0 0 0;\n",
              "      width: 32px;\n",
              "    }\n",
              "\n",
              "    .colab-df-convert:hover {\n",
              "      background-color: #E2EBFA;\n",
              "      box-shadow: 0px 1px 2px rgba(60, 64, 67, 0.3), 0px 1px 3px 1px rgba(60, 64, 67, 0.15);\n",
              "      fill: #174EA6;\n",
              "    }\n",
              "\n",
              "    [theme=dark] .colab-df-convert {\n",
              "      background-color: #3B4455;\n",
              "      fill: #D2E3FC;\n",
              "    }\n",
              "\n",
              "    [theme=dark] .colab-df-convert:hover {\n",
              "      background-color: #434B5C;\n",
              "      box-shadow: 0px 1px 3px 1px rgba(0, 0, 0, 0.15);\n",
              "      filter: drop-shadow(0px 1px 2px rgba(0, 0, 0, 0.3));\n",
              "      fill: #FFFFFF;\n",
              "    }\n",
              "  </style>\n",
              "\n",
              "      <script>\n",
              "        const buttonEl =\n",
              "          document.querySelector('#df-2e059207-a2d4-4ccf-b36f-29549beba1c8 button.colab-df-convert');\n",
              "        buttonEl.style.display =\n",
              "          google.colab.kernel.accessAllowed ? 'block' : 'none';\n",
              "\n",
              "        async function convertToInteractive(key) {\n",
              "          const element = document.querySelector('#df-2e059207-a2d4-4ccf-b36f-29549beba1c8');\n",
              "          const dataTable =\n",
              "            await google.colab.kernel.invokeFunction('convertToInteractive',\n",
              "                                                     [key], {});\n",
              "          if (!dataTable) return;\n",
              "\n",
              "          const docLinkHtml = 'Like what you see? Visit the ' +\n",
              "            '<a target=\"_blank\" href=https://colab.research.google.com/notebooks/data_table.ipynb>data table notebook</a>'\n",
              "            + ' to learn more about interactive tables.';\n",
              "          element.innerHTML = '';\n",
              "          dataTable['output_type'] = 'display_data';\n",
              "          await google.colab.output.renderOutput(dataTable, element);\n",
              "          const docLink = document.createElement('div');\n",
              "          docLink.innerHTML = docLinkHtml;\n",
              "          element.appendChild(docLink);\n",
              "        }\n",
              "      </script>\n",
              "    </div>\n",
              "  </div>\n",
              "  "
            ]
          },
          "metadata": {},
          "execution_count": 16
        }
      ]
    },
    {
      "cell_type": "markdown",
      "source": [
        "### SPARK"
      ],
      "metadata": {
        "id": "7OHIxgifHetP"
      }
    },
    {
      "cell_type": "markdown",
      "source": [
        "#### Transformaciones "
      ],
      "metadata": {
        "id": "3em799HUHl8B"
      }
    },
    {
      "cell_type": "code",
      "source": [
        "schema = StructType([\n",
        "            StructField(\"fuelType\", StringType(), True),\n",
        "            StructField(\"rating\", FloatType(), True),\n",
        "            StructField(\"renterTripsTaken\", IntegerType(), True),\n",
        "            StructField(\"reviewCount\", IntegerType(), True),\n",
        "            StructField(\"city\", StringType(), True),\n",
        "            StructField(\"aux1\", StringType(), True),\n",
        "            StructField(\"aux2\", StringType(), True),\n",
        "            StructField(\"aux3\", StringType(), True),\n",
        "            StructField(\"state_id\", StringType(), True),\n",
        "            StructField(\"owner_id\", IntegerType(), True),\n",
        "            StructField(\"rate_daily\", IntegerType(), True),\n",
        "            StructField(\"make\", StringType(), True),\n",
        "            StructField(\"model\", StringType(), True),\n",
        "            StructField(\"aux4\", StringType(), True),\n",
        "            StructField(\"year\", IntegerType(), True)\n",
        "])"
      ],
      "metadata": {
        "id": "k2J9JI_22Q-H"
      },
      "execution_count": null,
      "outputs": []
    },
    {
      "cell_type": "code",
      "source": [
        "spk_rental = spark.read.csv(\"/content/CarRentalData.csv\", sep=',', schema=schema, header=True).withColumn(\"rating\", round(\"rating\").cast(\"integer\")).withColumn(\"fuelType\", lower(col(\"fuelType\")))"
      ],
      "metadata": {
        "id": "JXRpAtuqIl6i"
      },
      "execution_count": null,
      "outputs": []
    },
    {
      "cell_type": "code",
      "source": [
        "spk_rental.show(5)"
      ],
      "metadata": {
        "colab": {
          "base_uri": "https://localhost:8080/"
        },
        "id": "jw62b1X-I-ps",
        "outputId": "4e062d7d-55a6-40bd-aa0e-3f49e3d699fa"
      },
      "execution_count": null,
      "outputs": [
        {
          "output_type": "stream",
          "name": "stdout",
          "text": [
            "+--------+------+----------------+-----------+-----------+----+---------+-----------+--------+--------+----------+--------+-------+----+----+\n",
            "|fuelType|rating|renterTripsTaken|reviewCount|       city|aux1|     aux2|       aux3|state_id|owner_id|rate_daily|    make|  model|aux4|year|\n",
            "+--------+------+----------------+-----------+-----------+----+---------+-----------+--------+--------+----------+--------+-------+----+----+\n",
            "|electric|     5|              13|         12|    Seattle|  US|47.449107|-122.308841|      WA|12847615|       135|   Tesla|Model X| suv|2019|\n",
            "|electric|     5|               2|          1|    Tijeras|  US| 35.11106|-106.276551|      NM|15621242|       190|   Tesla|Model X| suv|2018|\n",
            "|  hybrid|     5|              28|         24|Albuquerque|  US|35.127163|-106.566681|      NM|10199256|        35|  Toyota|  Prius| car|2012|\n",
            "|gasoline|     5|              21|         20|Albuquerque|  US|35.149726|-106.711425|      NM| 9365496|        75|    Ford|Mustang| car|2018|\n",
            "|gasoline|     5|               3|          1|Albuquerque|  US|35.208659|-106.601008|      NM| 3553565|        47|Chrysler|Sebring| car|2010|\n",
            "+--------+------+----------------+-----------+-----------+----+---------+-----------+--------+--------+----------+--------+-------+----+----+\n",
            "only showing top 5 rows\n",
            "\n"
          ]
        }
      ]
    },
    {
      "cell_type": "code",
      "source": [
        "spk_rental.printSchema()"
      ],
      "metadata": {
        "colab": {
          "base_uri": "https://localhost:8080/"
        },
        "id": "Qdrmzw_dJIYU",
        "outputId": "b46135fd-cefb-4ed2-ca80-23b13b46c173"
      },
      "execution_count": null,
      "outputs": [
        {
          "output_type": "stream",
          "name": "stdout",
          "text": [
            "root\n",
            " |-- fuelType: string (nullable = true)\n",
            " |-- rating: integer (nullable = true)\n",
            " |-- renterTripsTaken: integer (nullable = true)\n",
            " |-- reviewCount: integer (nullable = true)\n",
            " |-- city: string (nullable = true)\n",
            " |-- aux1: string (nullable = true)\n",
            " |-- aux2: string (nullable = true)\n",
            " |-- aux3: string (nullable = true)\n",
            " |-- state_id: string (nullable = true)\n",
            " |-- owner_id: integer (nullable = true)\n",
            " |-- rate_daily: integer (nullable = true)\n",
            " |-- make: string (nullable = true)\n",
            " |-- model: string (nullable = true)\n",
            " |-- aux4: string (nullable = true)\n",
            " |-- year: integer (nullable = true)\n",
            "\n"
          ]
        }
      ]
    },
    {
      "cell_type": "code",
      "source": [
        "spk_rental.count()"
      ],
      "metadata": {
        "colab": {
          "base_uri": "https://localhost:8080/"
        },
        "id": "hYfLG-K1RUwF",
        "outputId": "6e783303-d82b-4a45-d8e3-faf2b1cf2ac4"
      },
      "execution_count": null,
      "outputs": [
        {
          "output_type": "execute_result",
          "data": {
            "text/plain": [
              "5851"
            ]
          },
          "metadata": {},
          "execution_count": 21
        }
      ]
    },
    {
      "cell_type": "code",
      "source": [
        "spk_rental.createOrReplaceTempView(\"rental\")"
      ],
      "metadata": {
        "id": "aCX-56zrPM2b"
      },
      "execution_count": null,
      "outputs": []
    },
    {
      "cell_type": "code",
      "source": [
        "consulta_sql = \"\"\"\n",
        "SELECT * FROM rental\n",
        "WHERE state_id !='TX' AND rating IS NOT NULL\n",
        "\"\"\"\n",
        "spk_rental_validado = spark.sql(consulta_sql)\n",
        "spk_rental_validado.show(5)"
      ],
      "metadata": {
        "colab": {
          "base_uri": "https://localhost:8080/"
        },
        "id": "ndtYYWTXO-4t",
        "outputId": "c8cb5de2-7529-429b-8d7b-4ba779380559"
      },
      "execution_count": null,
      "outputs": [
        {
          "output_type": "stream",
          "name": "stdout",
          "text": [
            "+--------+------+----------------+-----------+-----------+----+---------+-----------+--------+--------+----------+--------+-------+----+----+\n",
            "|fuelType|rating|renterTripsTaken|reviewCount|       city|aux1|     aux2|       aux3|state_id|owner_id|rate_daily|    make|  model|aux4|year|\n",
            "+--------+------+----------------+-----------+-----------+----+---------+-----------+--------+--------+----------+--------+-------+----+----+\n",
            "|electric|     5|              13|         12|    Seattle|  US|47.449107|-122.308841|      WA|12847615|       135|   Tesla|Model X| suv|2019|\n",
            "|electric|     5|               2|          1|    Tijeras|  US| 35.11106|-106.276551|      NM|15621242|       190|   Tesla|Model X| suv|2018|\n",
            "|  hybrid|     5|              28|         24|Albuquerque|  US|35.127163|-106.566681|      NM|10199256|        35|  Toyota|  Prius| car|2012|\n",
            "|gasoline|     5|              21|         20|Albuquerque|  US|35.149726|-106.711425|      NM| 9365496|        75|    Ford|Mustang| car|2018|\n",
            "|gasoline|     5|               3|          1|Albuquerque|  US|35.208659|-106.601008|      NM| 3553565|        47|Chrysler|Sebring| car|2010|\n",
            "+--------+------+----------------+-----------+-----------+----+---------+-----------+--------+--------+----------+--------+-------+----+----+\n",
            "only showing top 5 rows\n",
            "\n"
          ]
        }
      ]
    },
    {
      "cell_type": "code",
      "source": [
        "spk_rental_validado.count()"
      ],
      "metadata": {
        "colab": {
          "base_uri": "https://localhost:8080/"
        },
        "id": "WGpbDVikOhC4",
        "outputId": "db82dcb9-5f1f-4481-c153-f5453b0d284f"
      },
      "execution_count": null,
      "outputs": [
        {
          "output_type": "execute_result",
          "data": {
            "text/plain": [
              "4905"
            ]
          },
          "metadata": {},
          "execution_count": 24
        }
      ]
    },
    {
      "cell_type": "markdown",
      "source": [
        "#------------------------------------------------"
      ],
      "metadata": {
        "id": "pi2LTWaKsn0e"
      }
    },
    {
      "cell_type": "code",
      "source": [
        "schema_geo = StructType([\n",
        "                StructField(\"Aux1\", StringType(), True),\n",
        "                StructField(\"Aux2\", StringType(), True),\n",
        "                StructField(\"Aux3\", IntegerType(), True),\n",
        "                StructField(\"Aux4\", IntegerType(), True),\n",
        "                StructField(\"state_name\", StringType(), True),\n",
        "                StructField(\"aux5\", StringType(), True),\n",
        "                StructField(\"aux6\", StringType(), True),\n",
        "                StructField(\"state_id\", StringType(), True),\n",
        "                StructField(\"aux7\", StringType(), True),\n",
        "                StructField(\"aux8\", IntegerType(), True)\n",
        "                \n",
        "])"
      ],
      "metadata": {
        "id": "GP6w4FtQvYyW"
      },
      "execution_count": null,
      "outputs": []
    },
    {
      "cell_type": "code",
      "source": [
        "spk_geo = spark.read.csv(\"/content/geo.csv\", sep=';', header=True, schema=schema_geo)"
      ],
      "metadata": {
        "id": "tePz7cr4QWDl"
      },
      "execution_count": null,
      "outputs": []
    },
    {
      "cell_type": "code",
      "source": [
        "spk_geo.show(5)"
      ],
      "metadata": {
        "colab": {
          "base_uri": "https://localhost:8080/"
        },
        "id": "707298Wntmrg",
        "outputId": "ab980189-2d45-413d-9289-7e41d2aaf576"
      },
      "execution_count": null,
      "outputs": [
        {
          "output_type": "stream",
          "name": "stdout",
          "text": [
            "+--------------------+--------------------+----+----+-------------+----+-----+--------+----+-------+\n",
            "|                Aux1|                Aux2|Aux3|Aux4|   state_name|aux5| aux6|state_id|aux7|   aux8|\n",
            "+--------------------+--------------------+----+----+-------------+----+-----+--------+----+-------+\n",
            "|47.41161380972456...|\"{\"\"coordinates\"\"...|2022|  53|   Washington| USA|state|      WA|null|1779804|\n",
            "|34.42129899531876...|\"{\"\"coordinates\"\"...|2022|  35|   New Mexico| USA|state|      NM|null| 897535|\n",
            "|42.16009070994133...|\"{\"\"coordinates\"\"...|2022|  25|Massachusetts| USA|state|      MA|null| 606926|\n",
            "|39.32376674216668...|\"{\"\"coordinates\"\"...|2022|  49|         Utah| USA|state|      UT|null|1455989|\n",
            "|34.89991914658269...|\"{\"\"coordinates\"\"...|2022|   5|     Arkansas| USA|state|      AR|null|  68085|\n",
            "+--------------------+--------------------+----+----+-------------+----+-----+--------+----+-------+\n",
            "only showing top 5 rows\n",
            "\n"
          ]
        }
      ]
    },
    {
      "cell_type": "code",
      "source": [
        "spk_geo.printSchema()"
      ],
      "metadata": {
        "colab": {
          "base_uri": "https://localhost:8080/"
        },
        "id": "q1Ql20HQtq08",
        "outputId": "ac0ae138-2808-4243-9ea7-f0a4b85f5f76"
      },
      "execution_count": null,
      "outputs": [
        {
          "output_type": "stream",
          "name": "stdout",
          "text": [
            "root\n",
            " |-- Aux1: string (nullable = true)\n",
            " |-- Aux2: string (nullable = true)\n",
            " |-- Aux3: integer (nullable = true)\n",
            " |-- Aux4: integer (nullable = true)\n",
            " |-- state_name: string (nullable = true)\n",
            " |-- aux5: string (nullable = true)\n",
            " |-- aux6: string (nullable = true)\n",
            " |-- state_id: string (nullable = true)\n",
            " |-- aux7: string (nullable = true)\n",
            " |-- aux8: integer (nullable = true)\n",
            "\n"
          ]
        }
      ]
    },
    {
      "cell_type": "markdown",
      "source": [
        "# ------------------------------------------------------"
      ],
      "metadata": {
        "id": "ahAMofxfuDKQ"
      }
    },
    {
      "cell_type": "code",
      "source": [
        "spk_rental_sinulos.createOrReplaceTempView(\"rental\")"
      ],
      "metadata": {
        "id": "SyoTmVdTusL3"
      },
      "execution_count": null,
      "outputs": []
    },
    {
      "cell_type": "code",
      "source": [
        "spk_geo.createOrReplaceTempView(\"geo\")"
      ],
      "metadata": {
        "id": "i5pHxIJ2u8-P"
      },
      "execution_count": null,
      "outputs": []
    },
    {
      "cell_type": "code",
      "source": [
        "consulta_sql_2 = \"\"\"\n",
        "SELECT r.fuelType, r.rating, r.renterTripsTaken, r.reviewCount, r.city, g.state_name, r.owner_id, r.rate_daily, r.make, r.model, r.year\n",
        "FROM rental AS r\n",
        "JOIN geo AS g ON g.state_id = r.state_id\n",
        "ORDER BY r.rating DESC\n",
        "\"\"\"\n",
        "spk_rental = spark.sql(consulta_sql_2)\n",
        "spk_rental.show(5)"
      ],
      "metadata": {
        "colab": {
          "base_uri": "https://localhost:8080/"
        },
        "id": "BWt_vnZ2t1ac",
        "outputId": "c23a2e37-721d-48a9-9d0e-b112b2ecbe0a"
      },
      "execution_count": null,
      "outputs": [
        {
          "output_type": "stream",
          "name": "stdout",
          "text": [
            "+--------+------+----------------+-----------+--------+----------+--------+----------+---------+----------------+----+\n",
            "|fuelType|rating|renterTripsTaken|reviewCount|    city|state_name|owner_id|rate_daily|     make|           model|year|\n",
            "+--------+------+----------------+-----------+--------+----------+--------+----------+---------+----------------+----+\n",
            "|  diesel|     5|               9|          8| Olympia|Washington| 6791294|        56|Chevrolet|Silverado 2500HD|2009|\n",
            "|gasoline|     5|               8|          7|  Auburn|Washington|13165859|       128|  Porsche|         Cayenne|2014|\n",
            "|gasoline|     5|              10|          7|Bellevue|Washington| 5103874|       150| Maserati|          Ghibli|2014|\n",
            "|gasoline|     5|               2|          1|  Auburn|Washington|13165859|        60|     Ford|            Edge|2019|\n",
            "|gasoline|     5|              49|         35|Puyallup|Washington| 3237150|        89|     Jeep|        Wrangler|2018|\n",
            "+--------+------+----------------+-----------+--------+----------+--------+----------+---------+----------------+----+\n",
            "only showing top 5 rows\n",
            "\n"
          ]
        }
      ]
    },
    {
      "cell_type": "code",
      "source": [
        "spk_rental.count()"
      ],
      "metadata": {
        "id": "KbONAr_PSXgs",
        "outputId": "a69f3428-bb8c-47fb-ec45-fcd3984254e2",
        "colab": {
          "base_uri": "https://localhost:8080/"
        }
      },
      "execution_count": null,
      "outputs": [
        {
          "output_type": "execute_result",
          "data": {
            "text/plain": [
              "4905"
            ]
          },
          "metadata": {},
          "execution_count": 32
        }
      ]
    },
    {
      "cell_type": "markdown",
      "source": [
        "#### Consultas DWH"
      ],
      "metadata": {
        "id": "MAHzZpsyAAId"
      }
    },
    {
      "cell_type": "markdown",
      "source": [
        "a.\tCantidad de alquileres de autos, teniendo en cuenta sólo los vehículos ecológicos\t(fuelType hibrido o eléctrico) y con un rating de al menos 4\n"
      ],
      "metadata": {
        "id": "q_dU_Q_LAEO5"
      }
    },
    {
      "cell_type": "code",
      "source": [
        "spk_rental.createOrReplaceTempView(\"rental\")"
      ],
      "metadata": {
        "id": "iITeKg6j_1XC"
      },
      "execution_count": null,
      "outputs": []
    },
    {
      "cell_type": "code",
      "source": [
        "consulta_dwh_a = \"\"\"\n",
        "SELECT count(*) AS total\n",
        "FROM rental\n",
        "WHERE fuelType = 'electric' OR fuelType = 'hybrid' AND rating >= 4\n",
        "\"\"\"\n",
        "spk_dwh_a = spark.sql(consulta_dwh_a)\n",
        "spk_dwh_a.show()"
      ],
      "metadata": {
        "colab": {
          "base_uri": "https://localhost:8080/"
        },
        "id": "2LXiy7yuAW_B",
        "outputId": "590266bf-9083-4f63-d9fb-2941ed85eade"
      },
      "execution_count": null,
      "outputs": [
        {
          "output_type": "stream",
          "name": "stdout",
          "text": [
            "+-----+\n",
            "|total|\n",
            "+-----+\n",
            "|  771|\n",
            "+-----+\n",
            "\n"
          ]
        }
      ]
    },
    {
      "cell_type": "markdown",
      "source": [
        "b. Los 5 estados con menor cantidad de alquileres (crear visualización)"
      ],
      "metadata": {
        "id": "85f-ETl8Bc51"
      }
    },
    {
      "cell_type": "code",
      "source": [
        "consulta_dwh_b = \"\"\"\n",
        "SELECT state_name, COUNT(make, model) AS total\n",
        "FROM rental\n",
        "GROUP BY state_name\n",
        "ORDER BY total ASC\n",
        "LIMIT 5\n",
        "\"\"\"\n",
        "spk_dwh_b = spark.sql(consulta_dwh_b)\n",
        "spk_dwh_b.show()"
      ],
      "metadata": {
        "colab": {
          "base_uri": "https://localhost:8080/"
        },
        "id": "v2m-hNn1BRMt",
        "outputId": "e8a2fddf-b303-4971-ca30-4ad39c5dc4df"
      },
      "execution_count": null,
      "outputs": [
        {
          "output_type": "stream",
          "name": "stdout",
          "text": [
            "+-------------+-----+\n",
            "|   state_name|total|\n",
            "+-------------+-----+\n",
            "|      Montana|    1|\n",
            "|West Virginia|    3|\n",
            "|New Hampshire|    3|\n",
            "|     Delaware|    4|\n",
            "|     Arkansas|    4|\n",
            "+-------------+-----+\n",
            "\n"
          ]
        }
      ]
    },
    {
      "cell_type": "markdown",
      "source": [
        "c.\tLos 10 modelos (junto con su marca) de autos más rentados (crear visualización)"
      ],
      "metadata": {
        "id": "t9paiVgQDtGc"
      }
    },
    {
      "cell_type": "code",
      "source": [
        "consulta_dwh_c = \"\"\"\n",
        "SELECT make, model, COUNT(make, model) AS total\n",
        "FROM rental\n",
        "GROUP BY make, model\n",
        "ORDER BY total DESC\n",
        "LIMIT 10\n",
        "\"\"\"\n",
        "spk_dwh_c = spark.sql(consulta_dwh_c)\n",
        "spk_dwh_c.show()"
      ],
      "metadata": {
        "colab": {
          "base_uri": "https://localhost:8080/"
        },
        "id": "7ZGfC5B0CNrx",
        "outputId": "9097936e-3db5-48eb-ebbc-8581a34baa5a"
      },
      "execution_count": null,
      "outputs": [
        {
          "output_type": "stream",
          "name": "stdout",
          "text": [
            "+-------------+--------+-----+\n",
            "|         make|   model|total|\n",
            "+-------------+--------+-----+\n",
            "|        Tesla| Model 3|  288|\n",
            "|         Ford| Mustang|  136|\n",
            "|        Tesla| Model S|  122|\n",
            "|         Jeep|Wrangler|  108|\n",
            "|        Tesla| Model X|  103|\n",
            "|Mercedes-Benz| C-Class|   78|\n",
            "|       Toyota| Corolla|   78|\n",
            "|          BMW|3 Series|   76|\n",
            "|    Chevrolet|Corvette|   68|\n",
            "|    Chevrolet|  Camaro|   61|\n",
            "+-------------+--------+-----+\n",
            "\n"
          ]
        }
      ]
    },
    {
      "cell_type": "markdown",
      "source": [
        "d.\tPor año, cuántos alquileres se hicieron, teniendo en cuenta desde 2010 a 2015"
      ],
      "metadata": {
        "id": "-DhTrldoEW7j"
      }
    },
    {
      "cell_type": "code",
      "source": [
        "consulta_dwh_d = \"\"\"\n",
        "SELECT year, COUNT(year) AS total\n",
        "FROM rental\n",
        "WHERE year BETWEEN '2010' AND '2015'\n",
        "GROUP BY year\n",
        "ORDER BY total DESC\n",
        "\"\"\"\n",
        "spk_dwh_d = spark.sql(consulta_dwh_d)\n",
        "spk_dwh_d.show()"
      ],
      "metadata": {
        "colab": {
          "base_uri": "https://localhost:8080/"
        },
        "id": "JbykhqvsEHs0",
        "outputId": "da213469-895d-409a-93a3-6a561d9c0b6c"
      },
      "execution_count": null,
      "outputs": [
        {
          "output_type": "stream",
          "name": "stdout",
          "text": [
            "+----+-----+\n",
            "|year|total|\n",
            "+----+-----+\n",
            "|2015|  532|\n",
            "|2014|  382|\n",
            "|2013|  305|\n",
            "|2012|  225|\n",
            "|2011|  200|\n",
            "|2010|  144|\n",
            "+----+-----+\n",
            "\n"
          ]
        }
      ]
    },
    {
      "cell_type": "markdown",
      "source": [
        "e.\tLas 5 ciudades con más alquileres de vehículos ecológicos (fuelType hibrido o electrico)"
      ],
      "metadata": {
        "id": "ngfFZbe_E9px"
      }
    },
    {
      "cell_type": "code",
      "source": [
        "consulta_dwh_e = \"\"\"\n",
        "SELECT state_name, COUNT(*) AS total\n",
        "FROM rental\n",
        "WHERE fuelType = 'electric' OR fuelType = 'hybrid'\n",
        "GROUP BY state_name\n",
        "ORDER BY total DESC\n",
        "LIMIT 5\n",
        "\"\"\"\n",
        "spk_dwh_e = spark.sql(consulta_dwh_e)\n",
        "spk_dwh_e.show()"
      ],
      "metadata": {
        "colab": {
          "base_uri": "https://localhost:8080/"
        },
        "id": "hmTIBFMOE4jh",
        "outputId": "f48246d3-b252-4e48-b59c-5e798ef220c7"
      },
      "execution_count": null,
      "outputs": [
        {
          "output_type": "stream",
          "name": "stdout",
          "text": [
            "+----------+-----+\n",
            "|state_name|total|\n",
            "+----------+-----+\n",
            "|California|  201|\n",
            "|   Florida|   77|\n",
            "|    Nevada|   44|\n",
            "|New Jersey|   41|\n",
            "|   Arizona|   33|\n",
            "+----------+-----+\n",
            "\n"
          ]
        }
      ]
    },
    {
      "cell_type": "markdown",
      "source": [
        "f.\tEl promedio de reviews, segmentando por tipo de combustible"
      ],
      "metadata": {
        "id": "dg2PvvKvFjsF"
      }
    },
    {
      "cell_type": "code",
      "source": [
        "consulta_dwh_f = \"\"\"\n",
        "SELECT fuelType, round(AVG(reviewCount)) AS promedio\n",
        "FROM rental\n",
        "GROUP BY fuelType\n",
        "ORDER BY promedio DESC\n",
        "LIMIT 5\n",
        "\"\"\"\n",
        "spk_dwh_f = spark.sql(consulta_dwh_f)\n",
        "spk_dwh_f.show()"
      ],
      "metadata": {
        "colab": {
          "base_uri": "https://localhost:8080/"
        },
        "id": "-KyWQ0dwFd7-",
        "outputId": "97aa3e9b-70c3-436f-cf98-b1a86ba41df5"
      },
      "execution_count": null,
      "outputs": [
        {
          "output_type": "stream",
          "name": "stdout",
          "text": [
            "+--------+--------+\n",
            "|fuelType|promedio|\n",
            "+--------+--------+\n",
            "|  hybrid|    35.0|\n",
            "|gasoline|    32.0|\n",
            "|electric|    28.0|\n",
            "|    null|    21.0|\n",
            "|  diesel|    18.0|\n",
            "+--------+--------+\n",
            "\n"
          ]
        }
      ]
    },
    {
      "cell_type": "code",
      "source": [
        "consulta_dwh_g = \"\"\"\n",
        "SELECT count(*)\n",
        "FROM rental\n",
        "WHERE fuelType IS NULL\n",
        "\"\"\"\n",
        "spk_dwh_g = spark.sql(consulta_dwh_g)\n",
        "spk_dwh_g.show()"
      ],
      "metadata": {
        "colab": {
          "base_uri": "https://localhost:8080/"
        },
        "id": "rBF7Wrg1GAOz",
        "outputId": "002dc6d7-1268-465a-944d-30d24545cbf0"
      },
      "execution_count": null,
      "outputs": [
        {
          "output_type": "stream",
          "name": "stdout",
          "text": [
            "+--------+\n",
            "|count(1)|\n",
            "+--------+\n",
            "|      61|\n",
            "+--------+\n",
            "\n"
          ]
        }
      ]
    },
    {
      "cell_type": "code",
      "source": [],
      "metadata": {
        "id": "C-LAdMETHb4Y"
      },
      "execution_count": null,
      "outputs": []
    }
  ]
}