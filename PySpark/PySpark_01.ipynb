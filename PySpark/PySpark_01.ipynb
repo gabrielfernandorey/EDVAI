{
  "nbformat": 4,
  "nbformat_minor": 0,
  "metadata": {
    "colab": {
      "provenance": [],
      "authorship_tag": "ABX9TyNDQwMIDGAo2/4Dz6ksg2D6",
      "include_colab_link": true
    },
    "kernelspec": {
      "name": "python3",
      "display_name": "Python 3"
    },
    "language_info": {
      "name": "python"
    }
  },
  "cells": [
    {
      "cell_type": "markdown",
      "metadata": {
        "id": "view-in-github",
        "colab_type": "text"
      },
      "source": [
        "<a href=\"https://colab.research.google.com/github/gabrielfernandorey/EDVAI/blob/main/PySpark/PySpark_01.ipynb\" target=\"_parent\"><img src=\"https://colab.research.google.com/assets/colab-badge.svg\" alt=\"Open In Colab\"/></a>"
      ]
    },
    {
      "cell_type": "markdown",
      "source": [
        "# PySpark"
      ],
      "metadata": {
        "id": "oEi-fQEruZwC"
      }
    },
    {
      "cell_type": "markdown",
      "source": [
        "### Instalación y carga de Pyspark"
      ],
      "metadata": {
        "id": "RAb-HoncufBG"
      }
    },
    {
      "cell_type": "code",
      "execution_count": 1,
      "metadata": {
        "colab": {
          "base_uri": "https://localhost:8080/"
        },
        "id": "yLHCz25guPhi",
        "outputId": "f770f7a1-9766-4373-d42c-4c9e94d49415"
      },
      "outputs": [
        {
          "output_type": "stream",
          "name": "stdout",
          "text": [
            "Looking in indexes: https://pypi.org/simple, https://us-python.pkg.dev/colab-wheels/public/simple/\n",
            "Collecting pyspark\n",
            "  Downloading pyspark-3.4.0.tar.gz (310.8 MB)\n",
            "\u001b[2K     \u001b[90m━━━━━━━━━━━━━━━━━━━━━━━━━━━━━━━━━━━━━━━\u001b[0m \u001b[32m310.8/310.8 MB\u001b[0m \u001b[31m4.5 MB/s\u001b[0m eta \u001b[36m0:00:00\u001b[0m\n",
            "\u001b[?25h  Preparing metadata (setup.py) ... \u001b[?25l\u001b[?25hdone\n",
            "Requirement already satisfied: py4j==0.10.9.7 in /usr/local/lib/python3.9/dist-packages (from pyspark) (0.10.9.7)\n",
            "Building wheels for collected packages: pyspark\n",
            "  Building wheel for pyspark (setup.py) ... \u001b[?25l\u001b[?25hdone\n",
            "  Created wheel for pyspark: filename=pyspark-3.4.0-py2.py3-none-any.whl size=311317145 sha256=a9461b83b1960e8ee24bbce11b50f2e9a14ced2463da3b80cb0c8c8ff80a13bd\n",
            "  Stored in directory: /root/.cache/pip/wheels/9f/34/a4/159aa12d0a510d5ff7c8f0220abbea42e5d81ecf588c4fd884\n",
            "Successfully built pyspark\n",
            "Installing collected packages: pyspark\n",
            "Successfully installed pyspark-3.4.0\n"
          ]
        }
      ],
      "source": [
        "!pip install pyspark"
      ]
    },
    {
      "cell_type": "code",
      "source": [
        "from pyspark.sql import SparkSession"
      ],
      "metadata": {
        "id": "OxYbGIUDujGu"
      },
      "execution_count": 2,
      "outputs": []
    },
    {
      "cell_type": "code",
      "source": [
        "spark = SparkSession.builder.appName('test_pyspark').getOrCreate()"
      ],
      "metadata": {
        "id": "bPXjeEj7usAm"
      },
      "execution_count": 3,
      "outputs": []
    },
    {
      "cell_type": "markdown",
      "source": [
        "### Librerías necesarias"
      ],
      "metadata": {
        "id": "sZp8-N6eu9pI"
      }
    },
    {
      "cell_type": "code",
      "source": [
        "from pyspark.sql.types import StringType, BooleanType, FloatType, IntegerType, DoubleType, DateType\n",
        "import pyspark.sql.functions as F\n",
        "from pyspark.sql.functions import sum, col, desc, asc, count, countDistinct, round, max, min, avg\n",
        "from pyspark.sql.functions import to_timestamp,date_format\n",
        "from pyspark.sql.window import Window\n",
        "\n",
        "from pyspark.ml import Transformer\n",
        "from pyspark.ml.param.shared import HasInputCol, HasOutputCol, HasInputCols, HasOutputCols, Param, Params, TypeConverters\n",
        "from pyspark import keyword_only\n",
        "from pyspark.ml import Pipeline, PipelineModel\n",
        "from pyspark.ml import Model\n",
        "from pyspark.ml import Estimator\n",
        "\n",
        "from datetime import datetime\n",
        "import numpy as np"
      ],
      "metadata": {
        "id": "M1YNnp6Cu5Rk"
      },
      "execution_count": 4,
      "outputs": []
    },
    {
      "cell_type": "markdown",
      "source": [
        "### Importamos datos"
      ],
      "metadata": {
        "id": "Pw2j9WwvvuiT"
      }
    },
    {
      "cell_type": "code",
      "source": [
        "!wget https://data-engineer-edvai.s3.amazonaws.com/yellow_tripdata_2021-01.csv"
      ],
      "metadata": {
        "id": "gLOW3Dncro0h",
        "outputId": "0a40a1ec-849f-4dbc-85bf-6a0c4f7cf9bc",
        "colab": {
          "base_uri": "https://localhost:8080/"
        }
      },
      "execution_count": 5,
      "outputs": [
        {
          "output_type": "stream",
          "name": "stdout",
          "text": [
            "--2023-04-17 12:50:28--  https://data-engineer-edvai.s3.amazonaws.com/yellow_tripdata_2021-01.csv\n",
            "Resolving data-engineer-edvai.s3.amazonaws.com (data-engineer-edvai.s3.amazonaws.com)... 54.231.204.9, 3.5.11.119, 54.231.172.49, ...\n",
            "Connecting to data-engineer-edvai.s3.amazonaws.com (data-engineer-edvai.s3.amazonaws.com)|54.231.204.9|:443... connected.\n",
            "HTTP request sent, awaiting response... 200 OK\n",
            "Length: 125981363 (120M) [text/csv]\n",
            "Saving to: ‘yellow_tripdata_2021-01.csv’\n",
            "\n",
            "yellow_tripdata_202 100%[===================>] 120.14M  30.8MB/s    in 4.5s    \n",
            "\n",
            "2023-04-17 12:50:33 (26.7 MB/s) - ‘yellow_tripdata_2021-01.csv’ saved [125981363/125981363]\n",
            "\n"
          ]
        }
      ]
    },
    {
      "cell_type": "code",
      "source": [
        "# Con esta alternativa algunos tipos de datos no se importan de forma adecuada\n",
        "# df = spark.read.option(\"header\",\"true\").csv(\"*.csv\")"
      ],
      "metadata": {
        "id": "ot4Z25IXvpVi"
      },
      "execution_count": null,
      "outputs": []
    },
    {
      "cell_type": "code",
      "source": [
        "# Con esta alternativa los tipos de datos se importan de forma adecuada (siempre verificar!)\n",
        "df = spark.read.option(\"header\",\"true\").option(\"inferSchema\", \"true\") .csv(\"*.csv\")"
      ],
      "metadata": {
        "id": "eWd_P1u04lTu"
      },
      "execution_count": 6,
      "outputs": []
    },
    {
      "cell_type": "code",
      "source": [
        "df.printSchema()"
      ],
      "metadata": {
        "id": "Phpx_gWjy0HN",
        "outputId": "643cbadd-7e62-4f03-835b-8c1f3d975a2f",
        "colab": {
          "base_uri": "https://localhost:8080/"
        }
      },
      "execution_count": 7,
      "outputs": [
        {
          "output_type": "stream",
          "name": "stdout",
          "text": [
            "root\n",
            " |-- VendorID: integer (nullable = true)\n",
            " |-- tpep_pickup_datetime: timestamp (nullable = true)\n",
            " |-- tpep_dropoff_datetime: timestamp (nullable = true)\n",
            " |-- passenger_count: integer (nullable = true)\n",
            " |-- trip_distance: double (nullable = true)\n",
            " |-- RatecodeID: integer (nullable = true)\n",
            " |-- store_and_fwd_flag: string (nullable = true)\n",
            " |-- PULocationID: integer (nullable = true)\n",
            " |-- DOLocationID: integer (nullable = true)\n",
            " |-- payment_type: integer (nullable = true)\n",
            " |-- fare_amount: double (nullable = true)\n",
            " |-- extra: double (nullable = true)\n",
            " |-- mta_tax: double (nullable = true)\n",
            " |-- tip_amount: double (nullable = true)\n",
            " |-- tolls_amount: double (nullable = true)\n",
            " |-- improvement_surcharge: double (nullable = true)\n",
            " |-- total_amount: double (nullable = true)\n",
            " |-- congestion_surcharge: double (nullable = true)\n",
            "\n"
          ]
        }
      ]
    },
    {
      "cell_type": "code",
      "source": [
        "df.show(10)"
      ],
      "metadata": {
        "colab": {
          "base_uri": "https://localhost:8080/"
        },
        "id": "qFktEdm-wTYt",
        "outputId": "665300c3-4870-4a10-b691-5a6cd09bc14a"
      },
      "execution_count": 8,
      "outputs": [
        {
          "output_type": "stream",
          "name": "stdout",
          "text": [
            "+--------+--------------------+---------------------+---------------+-------------+----------+------------------+------------+------------+------------+-----------+-----+-------+----------+------------+---------------------+------------+--------------------+\n",
            "|VendorID|tpep_pickup_datetime|tpep_dropoff_datetime|passenger_count|trip_distance|RatecodeID|store_and_fwd_flag|PULocationID|DOLocationID|payment_type|fare_amount|extra|mta_tax|tip_amount|tolls_amount|improvement_surcharge|total_amount|congestion_surcharge|\n",
            "+--------+--------------------+---------------------+---------------+-------------+----------+------------------+------------+------------+------------+-----------+-----+-------+----------+------------+---------------------+------------+--------------------+\n",
            "|       1| 2021-01-01 00:30:10|  2021-01-01 00:36:12|              1|          2.1|         1|                 N|         142|          43|           2|        8.0|  3.0|    0.5|       0.0|         0.0|                  0.3|        11.8|                 2.5|\n",
            "|       1| 2021-01-01 00:51:20|  2021-01-01 00:52:19|              1|          0.2|         1|                 N|         238|         151|           2|        3.0|  0.5|    0.5|       0.0|         0.0|                  0.3|         4.3|                 0.0|\n",
            "|       1| 2021-01-01 00:43:30|  2021-01-01 01:11:06|              1|         14.7|         1|                 N|         132|         165|           1|       42.0|  0.5|    0.5|      8.65|         0.0|                  0.3|       51.95|                 0.0|\n",
            "|       1| 2021-01-01 00:15:48|  2021-01-01 00:31:01|              0|         10.6|         1|                 N|         138|         132|           1|       29.0|  0.5|    0.5|      6.05|         0.0|                  0.3|       36.35|                 0.0|\n",
            "|       2| 2021-01-01 00:31:49|  2021-01-01 00:48:21|              1|         4.94|         1|                 N|          68|          33|           1|       16.5|  0.5|    0.5|      4.06|         0.0|                  0.3|       24.36|                 2.5|\n",
            "|       1| 2021-01-01 00:16:29|  2021-01-01 00:24:30|              1|          1.6|         1|                 N|         224|          68|           1|        8.0|  3.0|    0.5|      2.35|         0.0|                  0.3|       14.15|                 2.5|\n",
            "|       1| 2021-01-01 00:00:28|  2021-01-01 00:17:28|              1|          4.1|         1|                 N|          95|         157|           2|       16.0|  0.5|    0.5|       0.0|         0.0|                  0.3|        17.3|                 0.0|\n",
            "|       1| 2021-01-01 00:12:29|  2021-01-01 00:30:34|              1|          5.7|         1|                 N|          90|          40|           2|       18.0|  3.0|    0.5|       0.0|         0.0|                  0.3|        21.8|                 2.5|\n",
            "|       1| 2021-01-01 00:39:16|  2021-01-01 01:00:13|              1|          9.1|         1|                 N|          97|         129|           4|       27.5|  0.5|    0.5|       0.0|         0.0|                  0.3|        28.8|                 0.0|\n",
            "|       1| 2021-01-01 00:26:12|  2021-01-01 00:39:46|              2|          2.7|         1|                 N|         263|         142|           1|       12.0|  3.0|    0.5|      3.15|         0.0|                  0.3|       18.95|                 2.5|\n",
            "+--------+--------------------+---------------------+---------------+-------------+----------+------------------+------------+------------+------------+-----------+-----+-------+----------+------------+---------------------+------------+--------------------+\n",
            "only showing top 10 rows\n",
            "\n"
          ]
        }
      ]
    },
    {
      "cell_type": "markdown",
      "source": [
        "### Insertar en la tabla payments (VendorID, tpep_pickup_datetetime, payment_type, total_amount) Solamente los pagos con tarjeta de crédito"
      ],
      "metadata": {
        "id": "9ZK8KNh3w9j8"
      }
    },
    {
      "cell_type": "code",
      "source": [
        "# Creamos vista\n",
        "df.createOrReplaceTempView(\"yellow_tripdata\")"
      ],
      "metadata": {
        "id": "zRX6N9lKxIUB"
      },
      "execution_count": 9,
      "outputs": []
    },
    {
      "cell_type": "code",
      "source": [
        "df_5 = spark.sql(\"select VendorId, cast(tpep_pickup_datetime as date), cast(payment_type as int), total_amount from yellow_tripdata where payment_type = 1\")"
      ],
      "metadata": {
        "id": "TTnw0XzyxhfJ"
      },
      "execution_count": 10,
      "outputs": []
    },
    {
      "cell_type": "code",
      "source": [
        "df_5.show(10)"
      ],
      "metadata": {
        "colab": {
          "base_uri": "https://localhost:8080/"
        },
        "id": "Op8PLPkDE1dY",
        "outputId": "ccec3220-dde9-4f3c-a228-5100a66c9e0e"
      },
      "execution_count": null,
      "outputs": [
        {
          "output_type": "stream",
          "name": "stdout",
          "text": [
            "+--------+--------------------+------------+------------+\n",
            "|VendorId|tpep_pickup_datetime|payment_type|total_amount|\n",
            "+--------+--------------------+------------+------------+\n",
            "|       1|          2021-01-01|           1|       51.95|\n",
            "|       1|          2021-01-01|           1|       36.35|\n",
            "|       2|          2021-01-01|           1|       24.36|\n",
            "|       1|          2021-01-01|           1|       14.15|\n",
            "|       1|          2021-01-01|           1|       18.95|\n",
            "|       2|          2021-01-01|           1|        24.3|\n",
            "|       2|          2021-01-01|           1|       10.79|\n",
            "|       2|          2021-01-01|           1|       14.16|\n",
            "|       2|          2021-01-01|           1|        10.3|\n",
            "|       2|          2021-01-01|           1|       12.09|\n",
            "+--------+--------------------+------------+------------+\n",
            "only showing top 10 rows\n",
            "\n"
          ]
        }
      ]
    },
    {
      "cell_type": "markdown",
      "source": [
        "### Insertar en la tabla passengers (tpep_pickup_datetetime, passenger_count, total_amount) los registros cuya cantidad de pasajeros sea mayor a 2 y el total del viaje cueste más de 8 dólares."
      ],
      "metadata": {
        "id": "4cX43Y-oLz6c"
      }
    },
    {
      "cell_type": "code",
      "source": [
        "df_6 = spark.sql(\"select cast(tpep_pickup_datetime as date) as tpep_pickup_date , passenger_count, total_amount from yellow_tripdata where passenger_count >2 and total_amount > 8\")"
      ],
      "metadata": {
        "id": "sdAS6fjGL2v7"
      },
      "execution_count": 11,
      "outputs": []
    },
    {
      "cell_type": "code",
      "source": [
        "df_6.show(10)"
      ],
      "metadata": {
        "colab": {
          "base_uri": "https://localhost:8080/"
        },
        "id": "5mWImGDQN9QY",
        "outputId": "0477e9f6-6de7-4b17-8136-518f2fb61a03"
      },
      "execution_count": 12,
      "outputs": [
        {
          "output_type": "stream",
          "name": "stdout",
          "text": [
            "+----------------+---------------+------------+\n",
            "|tpep_pickup_date|passenger_count|total_amount|\n",
            "+----------------+---------------+------------+\n",
            "|      2021-01-01|              3|        24.3|\n",
            "|      2021-01-01|              5|       14.16|\n",
            "|      2021-01-01|              5|         8.3|\n",
            "|      2021-01-01|              3|         9.3|\n",
            "|      2021-01-01|              4|        18.3|\n",
            "|      2021-01-01|              4|        13.3|\n",
            "|      2021-01-01|              3|        40.3|\n",
            "|      2021-01-01|              5|        14.8|\n",
            "|      2021-01-01|              3|       18.59|\n",
            "|      2021-01-01|              3|       13.56|\n",
            "+----------------+---------------+------------+\n",
            "only showing top 10 rows\n",
            "\n"
          ]
        }
      ]
    },
    {
      "cell_type": "markdown",
      "source": [
        "Los valores son aproximados pero no exactos al resultado real"
      ],
      "metadata": {
        "id": "o0WOXzy1W8gQ"
      }
    },
    {
      "cell_type": "markdown",
      "source": [
        "### Insertar en la tabla tolls (tpep_pickup_datetetime, passenger_count, tolls_amount, total_amount) los registros que tengan pago de peajes mayores a 0.1 y cantidad de pasajeros mayores a 1."
      ],
      "metadata": {
        "id": "xvZ8GhcvXHMD"
      }
    },
    {
      "cell_type": "code",
      "source": [
        "df_7 = spark.sql(\"select cast(tpep_pickup_datetime as date) as tpep_pickup_date, passenger_count, tolls_amount, total_amount from yellow_tripdata where tolls_amount > 0.1 and passenger_count > 1 \")"
      ],
      "metadata": {
        "id": "0O-lD4tzOAE-"
      },
      "execution_count": 13,
      "outputs": []
    },
    {
      "cell_type": "code",
      "source": [
        "df_7.show(10)"
      ],
      "metadata": {
        "colab": {
          "base_uri": "https://localhost:8080/"
        },
        "id": "d4TPNeSlX06b",
        "outputId": "ffe0d4ca-a138-4787-cb0b-e36edc121bf1"
      },
      "execution_count": 14,
      "outputs": [
        {
          "output_type": "stream",
          "name": "stdout",
          "text": [
            "+----------------+---------------+------------+------------+\n",
            "|tpep_pickup_date|passenger_count|tolls_amount|total_amount|\n",
            "+----------------+---------------+------------+------------+\n",
            "|      2021-01-01|              2|        6.12|       33.92|\n",
            "|      2021-01-01|              2|        6.12|       59.42|\n",
            "|      2021-01-01|              2|        6.12|       35.92|\n",
            "|      2021-01-01|              6|        6.12|        40.1|\n",
            "|      2021-01-01|              3|        6.12|        54.0|\n",
            "|      2021-01-01|              2|         2.8|        34.1|\n",
            "|      2021-01-01|              4|        6.12|       61.42|\n",
            "|      2021-01-01|              4|        6.12|       51.42|\n",
            "|      2021-01-01|              2|       11.75|       12.05|\n",
            "|      2021-01-01|              6|        6.12|       71.42|\n",
            "+----------------+---------------+------------+------------+\n",
            "only showing top 10 rows\n",
            "\n"
          ]
        }
      ]
    },
    {
      "cell_type": "markdown",
      "source": [
        "### Insertar en la tabla congestion (tpep_pickup_datetetime, passenger_count, congestion_surcharge, total_amount) los registros que hayan tenido congestión en los viajes en la fecha 2021-01-18"
      ],
      "metadata": {
        "id": "MJaf7Da_YW1w"
      }
    },
    {
      "cell_type": "code",
      "source": [
        "df_8 = spark.sql(\"select cast(tpep_pickup_datetime as date) as tpep_pickup_date, passenger_count, congestion_surcharge, total_amount from yellow_tripdata where cast(tpep_pickup_datetime as date) = '2021-01-18' and cast(congestion_surcharge as float) != 0 \")"
      ],
      "metadata": {
        "id": "GDswU_JYX3WS"
      },
      "execution_count": 15,
      "outputs": []
    },
    {
      "cell_type": "code",
      "source": [
        "df_8.show()"
      ],
      "metadata": {
        "colab": {
          "base_uri": "https://localhost:8080/"
        },
        "id": "_YwXc86sY90o",
        "outputId": "4429d327-4832-483d-eac6-b0508fbc9960"
      },
      "execution_count": 16,
      "outputs": [
        {
          "output_type": "stream",
          "name": "stdout",
          "text": [
            "+----------------+---------------+--------------------+------------+\n",
            "|tpep_pickup_date|passenger_count|congestion_surcharge|total_amount|\n",
            "+----------------+---------------+--------------------+------------+\n",
            "|      2021-01-18|              1|                 2.5|        10.8|\n",
            "|      2021-01-18|              1|                 2.5|       16.56|\n",
            "|      2021-01-18|              1|                 2.5|       11.16|\n",
            "|      2021-01-18|              1|                 2.5|        11.3|\n",
            "|      2021-01-18|              1|                 2.5|       21.23|\n",
            "|      2021-01-18|              1|                 2.5|       12.96|\n",
            "|      2021-01-18|              1|                 2.5|       13.87|\n",
            "|      2021-01-18|              1|                 2.5|        14.8|\n",
            "|      2021-01-18|              1|                 2.5|       14.14|\n",
            "|      2021-01-18|              1|                 2.5|        20.8|\n",
            "|      2021-01-18|              1|                 2.5|       25.87|\n",
            "|      2021-01-18|              1|                 2.5|       11.76|\n",
            "|      2021-01-18|              1|                 2.5|        11.8|\n",
            "|      2021-01-18|              1|                 2.5|       17.94|\n",
            "|      2021-01-18|              1|                 2.5|       19.56|\n",
            "|      2021-01-18|              1|                 2.5|        14.3|\n",
            "|      2021-01-18|              1|                 2.5|       24.36|\n",
            "|      2021-01-18|              1|                 2.5|         7.3|\n",
            "|      2021-01-18|              1|                 2.5|       10.38|\n",
            "|      2021-01-18|              1|                 2.5|        69.9|\n",
            "+----------------+---------------+--------------------+------------+\n",
            "only showing top 20 rows\n",
            "\n"
          ]
        }
      ]
    },
    {
      "cell_type": "markdown",
      "source": [
        "### Insertar en la tabla distance (tpep_pickup_datetetime, passenger_count, trip_distance, total_amount) los registros de la fecha 2020-12-31 que hayan tenido solamente un pasajero (passenger_count = 1) y hayan recorrido más de 15 millas (trip_distance)."
      ],
      "metadata": {
        "id": "6mRar6_PbSrW"
      }
    },
    {
      "cell_type": "code",
      "source": [
        "df_9 = spark.sql(\"select cast(tpep_pickup_datetime as date) as tpep_pickup_date, passenger_count, trip_distance, total_amount from yellow_tripdata where cast(tpep_pickup_datetime as date) = '2020-12-31' and passenger_count = 1 and trip_distance > 15 \")"
      ],
      "metadata": {
        "id": "h0R6RCpx4JJx"
      },
      "execution_count": 19,
      "outputs": []
    },
    {
      "cell_type": "code",
      "source": [
        "df_9.show()"
      ],
      "metadata": {
        "id": "uAdrr5iYb3xz",
        "outputId": "10eded80-39fd-4774-8571-eaad6c32482d",
        "colab": {
          "base_uri": "https://localhost:8080/"
        }
      },
      "execution_count": 20,
      "outputs": [
        {
          "output_type": "stream",
          "name": "stdout",
          "text": [
            "+----------------+---------------+-------------+------------+\n",
            "|tpep_pickup_date|passenger_count|trip_distance|total_amount|\n",
            "+----------------+---------------+-------------+------------+\n",
            "|      2020-12-31|              1|        17.96|        53.3|\n",
            "+----------------+---------------+-------------+------------+\n",
            "\n"
          ]
        }
      ]
    },
    {
      "cell_type": "code",
      "source": [],
      "metadata": {
        "id": "gIYeWnUhb7ZS"
      },
      "execution_count": null,
      "outputs": []
    }
  ]
}