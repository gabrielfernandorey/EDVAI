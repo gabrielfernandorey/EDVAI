{
  "nbformat": 4,
  "nbformat_minor": 0,
  "metadata": {
    "colab": {
      "provenance": [],
      "authorship_tag": "ABX9TyPwLtNyBFS1JUvkZ30RnRrT",
      "include_colab_link": true
    },
    "kernelspec": {
      "name": "python3",
      "display_name": "Python 3"
    },
    "language_info": {
      "name": "python"
    }
  },
  "cells": [
    {
      "cell_type": "markdown",
      "metadata": {
        "id": "view-in-github",
        "colab_type": "text"
      },
      "source": [
        "<a href=\"https://colab.research.google.com/github/gabrielfernandorey/EDVAI/blob/main/PySpark/PySpark_00.ipynb\" target=\"_parent\"><img src=\"https://colab.research.google.com/assets/colab-badge.svg\" alt=\"Open In Colab\"/></a>"
      ]
    },
    {
      "cell_type": "markdown",
      "source": [
        "# PySpark"
      ],
      "metadata": {
        "id": "oEi-fQEruZwC"
      }
    },
    {
      "cell_type": "markdown",
      "source": [
        "### Instalación y carga de Pyspark"
      ],
      "metadata": {
        "id": "RAb-HoncufBG"
      }
    },
    {
      "cell_type": "code",
      "execution_count": 1,
      "metadata": {
        "colab": {
          "base_uri": "https://localhost:8080/"
        },
        "id": "yLHCz25guPhi",
        "outputId": "43a6b3d1-1b0c-4fdb-9363-c0f207d15898"
      },
      "outputs": [
        {
          "output_type": "stream",
          "name": "stdout",
          "text": [
            "Looking in indexes: https://pypi.org/simple, https://us-python.pkg.dev/colab-wheels/public/simple/\n",
            "Collecting pyspark\n",
            "  Downloading pyspark-3.3.2.tar.gz (281.4 MB)\n",
            "\u001b[2K     \u001b[90m━━━━━━━━━━━━━━━━━━━━━━━━━━━━━━━━━━━━━━━\u001b[0m \u001b[32m281.4/281.4 MB\u001b[0m \u001b[31m3.0 MB/s\u001b[0m eta \u001b[36m0:00:00\u001b[0m\n",
            "\u001b[?25h  Preparing metadata (setup.py) ... \u001b[?25l\u001b[?25hdone\n",
            "Collecting py4j==0.10.9.5\n",
            "  Downloading py4j-0.10.9.5-py2.py3-none-any.whl (199 kB)\n",
            "\u001b[2K     \u001b[90m━━━━━━━━━━━━━━━━━━━━━━━━━━━━━━━━━━━━━━\u001b[0m \u001b[32m199.7/199.7 kB\u001b[0m \u001b[31m10.0 MB/s\u001b[0m eta \u001b[36m0:00:00\u001b[0m\n",
            "\u001b[?25hBuilding wheels for collected packages: pyspark\n",
            "  Building wheel for pyspark (setup.py) ... \u001b[?25l\u001b[?25hdone\n",
            "  Created wheel for pyspark: filename=pyspark-3.3.2-py2.py3-none-any.whl size=281824028 sha256=b8d4703ceb7ed225ec35440f2c4ed5c212f8eea2e02ad3b2deef1abaacf7d70c\n",
            "  Stored in directory: /root/.cache/pip/wheels/6c/e3/9b/0525ce8a69478916513509d43693511463c6468db0de237c86\n",
            "Successfully built pyspark\n",
            "Installing collected packages: py4j, pyspark\n",
            "  Attempting uninstall: py4j\n",
            "    Found existing installation: py4j 0.10.9.7\n",
            "    Uninstalling py4j-0.10.9.7:\n",
            "      Successfully uninstalled py4j-0.10.9.7\n",
            "Successfully installed py4j-0.10.9.5 pyspark-3.3.2\n"
          ]
        }
      ],
      "source": [
        "!pip install pyspark"
      ]
    },
    {
      "cell_type": "code",
      "source": [
        "from pyspark.sql import SparkSession"
      ],
      "metadata": {
        "id": "OxYbGIUDujGu"
      },
      "execution_count": 2,
      "outputs": []
    },
    {
      "cell_type": "code",
      "source": [
        "spark = SparkSession.builder.appName('test_pyspark').getOrCreate()"
      ],
      "metadata": {
        "id": "bPXjeEj7usAm"
      },
      "execution_count": 3,
      "outputs": []
    },
    {
      "cell_type": "markdown",
      "source": [
        "### Librerías necesarias"
      ],
      "metadata": {
        "id": "sZp8-N6eu9pI"
      }
    },
    {
      "cell_type": "code",
      "source": [
        "from pyspark.sql.types import StringType, BooleanType, FloatType, IntegerType, DoubleType, DateType\n",
        "import pyspark.sql.functions as F\n",
        "from pyspark.sql.functions import sum, col, desc, asc, count, countDistinct, round, max, min, avg\n",
        "from pyspark.sql.functions import to_timestamp,date_format\n",
        "from pyspark.sql.window import Window\n",
        "\n",
        "from pyspark.ml import Transformer\n",
        "from pyspark.ml.param.shared import HasInputCol, HasOutputCol, HasInputCols, HasOutputCols, Param, Params, TypeConverters\n",
        "from pyspark import keyword_only\n",
        "from pyspark.ml import Pipeline, PipelineModel\n",
        "from pyspark.ml import Model\n",
        "from pyspark.ml import Estimator\n",
        "\n",
        "from datetime import datetime\n",
        "import numpy as np"
      ],
      "metadata": {
        "id": "M1YNnp6Cu5Rk"
      },
      "execution_count": 4,
      "outputs": []
    },
    {
      "cell_type": "markdown",
      "source": [
        "### Importamos datos"
      ],
      "metadata": {
        "id": "Pw2j9WwvvuiT"
      }
    },
    {
      "cell_type": "code",
      "source": [
        "!wget https://data-engineer-edvai.s3.amazonaws.com/yellow_tripdata_2021-01.parquet"
      ],
      "metadata": {
        "colab": {
          "base_uri": "https://localhost:8080/"
        },
        "id": "GAdMXn1hvEh9",
        "outputId": "c2b31f96-c31c-4dcc-f1b1-8ffcc9c73a16"
      },
      "execution_count": 5,
      "outputs": [
        {
          "output_type": "stream",
          "name": "stdout",
          "text": [
            "--2023-04-13 15:30:53--  https://data-engineer-edvai.s3.amazonaws.com/yellow_tripdata_2021-01.parquet\n",
            "Resolving data-engineer-edvai.s3.amazonaws.com (data-engineer-edvai.s3.amazonaws.com)... 52.216.213.41, 54.231.138.97, 52.217.48.36, ...\n",
            "Connecting to data-engineer-edvai.s3.amazonaws.com (data-engineer-edvai.s3.amazonaws.com)|52.216.213.41|:443... connected.\n",
            "HTTP request sent, awaiting response... 200 OK\n",
            "Length: 21686067 (21M) [application/x-www-form-urlencoded]\n",
            "Saving to: ‘yellow_tripdata_2021-01.parquet’\n",
            "\n",
            "yellow_tripdata_202 100%[===================>]  20.68M  31.7MB/s    in 0.7s    \n",
            "\n",
            "2023-04-13 15:30:54 (31.7 MB/s) - ‘yellow_tripdata_2021-01.parquet’ saved [21686067/21686067]\n",
            "\n"
          ]
        }
      ]
    },
    {
      "cell_type": "code",
      "source": [
        "df = spark.read.option(\"header\",\"true\").parquet(\"*.parquet\")"
      ],
      "metadata": {
        "id": "ot4Z25IXvpVi"
      },
      "execution_count": 6,
      "outputs": []
    },
    {
      "cell_type": "code",
      "source": [
        "df.printSchema()"
      ],
      "metadata": {
        "colab": {
          "base_uri": "https://localhost:8080/"
        },
        "id": "o-aG_ZgXwoiE",
        "outputId": "65eddcbc-346f-4033-9848-6417ad41e821"
      },
      "execution_count": 8,
      "outputs": [
        {
          "output_type": "stream",
          "name": "stdout",
          "text": [
            "root\n",
            " |-- VendorID: long (nullable = true)\n",
            " |-- tpep_pickup_datetime: timestamp (nullable = true)\n",
            " |-- tpep_dropoff_datetime: timestamp (nullable = true)\n",
            " |-- passenger_count: double (nullable = true)\n",
            " |-- trip_distance: double (nullable = true)\n",
            " |-- RatecodeID: double (nullable = true)\n",
            " |-- store_and_fwd_flag: string (nullable = true)\n",
            " |-- PULocationID: long (nullable = true)\n",
            " |-- DOLocationID: long (nullable = true)\n",
            " |-- payment_type: long (nullable = true)\n",
            " |-- fare_amount: double (nullable = true)\n",
            " |-- extra: double (nullable = true)\n",
            " |-- mta_tax: double (nullable = true)\n",
            " |-- tip_amount: double (nullable = true)\n",
            " |-- tolls_amount: double (nullable = true)\n",
            " |-- improvement_surcharge: double (nullable = true)\n",
            " |-- total_amount: double (nullable = true)\n",
            " |-- congestion_surcharge: double (nullable = true)\n",
            " |-- airport_fee: double (nullable = true)\n",
            "\n"
          ]
        }
      ]
    },
    {
      "cell_type": "code",
      "source": [
        "df.show(10)"
      ],
      "metadata": {
        "colab": {
          "base_uri": "https://localhost:8080/"
        },
        "id": "qFktEdm-wTYt",
        "outputId": "0715d8c1-05f9-4666-972f-6bd4ba298e14"
      },
      "execution_count": 9,
      "outputs": [
        {
          "output_type": "stream",
          "name": "stdout",
          "text": [
            "+--------+--------------------+---------------------+---------------+-------------+----------+------------------+------------+------------+------------+-----------+-----+-------+----------+------------+---------------------+------------+--------------------+-----------+\n",
            "|VendorID|tpep_pickup_datetime|tpep_dropoff_datetime|passenger_count|trip_distance|RatecodeID|store_and_fwd_flag|PULocationID|DOLocationID|payment_type|fare_amount|extra|mta_tax|tip_amount|tolls_amount|improvement_surcharge|total_amount|congestion_surcharge|airport_fee|\n",
            "+--------+--------------------+---------------------+---------------+-------------+----------+------------------+------------+------------+------------+-----------+-----+-------+----------+------------+---------------------+------------+--------------------+-----------+\n",
            "|       1| 2021-01-01 00:30:10|  2021-01-01 00:36:12|            1.0|          2.1|       1.0|                 N|         142|          43|           2|        8.0|  3.0|    0.5|       0.0|         0.0|                  0.3|        11.8|                 2.5|       null|\n",
            "|       1| 2021-01-01 00:51:20|  2021-01-01 00:52:19|            1.0|          0.2|       1.0|                 N|         238|         151|           2|        3.0|  0.5|    0.5|       0.0|         0.0|                  0.3|         4.3|                 0.0|       null|\n",
            "|       1| 2021-01-01 00:43:30|  2021-01-01 01:11:06|            1.0|         14.7|       1.0|                 N|         132|         165|           1|       42.0|  0.5|    0.5|      8.65|         0.0|                  0.3|       51.95|                 0.0|       null|\n",
            "|       1| 2021-01-01 00:15:48|  2021-01-01 00:31:01|            0.0|         10.6|       1.0|                 N|         138|         132|           1|       29.0|  0.5|    0.5|      6.05|         0.0|                  0.3|       36.35|                 0.0|       null|\n",
            "|       2| 2021-01-01 00:31:49|  2021-01-01 00:48:21|            1.0|         4.94|       1.0|                 N|          68|          33|           1|       16.5|  0.5|    0.5|      4.06|         0.0|                  0.3|       24.36|                 2.5|       null|\n",
            "|       1| 2021-01-01 00:16:29|  2021-01-01 00:24:30|            1.0|          1.6|       1.0|                 N|         224|          68|           1|        8.0|  3.0|    0.5|      2.35|         0.0|                  0.3|       14.15|                 2.5|       null|\n",
            "|       1| 2021-01-01 00:00:28|  2021-01-01 00:17:28|            1.0|          4.1|       1.0|                 N|          95|         157|           2|       16.0|  0.5|    0.5|       0.0|         0.0|                  0.3|        17.3|                 0.0|       null|\n",
            "|       1| 2021-01-01 00:12:29|  2021-01-01 00:30:34|            1.0|          5.7|       1.0|                 N|          90|          40|           2|       18.0|  3.0|    0.5|       0.0|         0.0|                  0.3|        21.8|                 2.5|       null|\n",
            "|       1| 2021-01-01 00:39:16|  2021-01-01 01:00:13|            1.0|          9.1|       1.0|                 N|          97|         129|           4|       27.5|  0.5|    0.5|       0.0|         0.0|                  0.3|        28.8|                 0.0|       null|\n",
            "|       1| 2021-01-01 00:26:12|  2021-01-01 00:39:46|            2.0|          2.7|       1.0|                 N|         263|         142|           1|       12.0|  3.0|    0.5|      3.15|         0.0|                  0.3|       18.95|                 2.5|       null|\n",
            "+--------+--------------------+---------------------+---------------+-------------+----------+------------------+------------+------------+------------+-----------+-----+-------+----------+------------+---------------------+------------+--------------------+-----------+\n",
            "only showing top 10 rows\n",
            "\n"
          ]
        }
      ]
    },
    {
      "cell_type": "markdown",
      "source": [
        "### Mostrar los resultados siguientes\n",
        "##### a. VendorId Integer\n",
        "##### b. Tpep_pickup_datetime date\n",
        "##### c. Total_amount double\n",
        "##### d. Donde el total (total_amount sea menor a 10 dólares)"
      ],
      "metadata": {
        "id": "9ZK8KNh3w9j8"
      }
    },
    {
      "cell_type": "code",
      "source": [
        "# Creamos vista\n",
        "df.createOrReplaceTempView(\"yellow_tripdata\")"
      ],
      "metadata": {
        "id": "zRX6N9lKxIUB"
      },
      "execution_count": 10,
      "outputs": []
    },
    {
      "cell_type": "code",
      "source": [
        "df_31 = spark.sql(\"select VendorId, tpep_pickup_datetime, total_amount from yellow_tripdata where total_amount < 10\")"
      ],
      "metadata": {
        "id": "TTnw0XzyxhfJ"
      },
      "execution_count": 11,
      "outputs": []
    },
    {
      "cell_type": "code",
      "source": [
        "df_31.show(10)"
      ],
      "metadata": {
        "colab": {
          "base_uri": "https://localhost:8080/"
        },
        "id": "Op8PLPkDE1dY",
        "outputId": "fe9d189d-5b1e-4f73-fb33-68ea56e5d42a"
      },
      "execution_count": 12,
      "outputs": [
        {
          "output_type": "stream",
          "name": "stdout",
          "text": [
            "+--------+--------------------+------------+\n",
            "|VendorId|tpep_pickup_datetime|total_amount|\n",
            "+--------+--------------------+------------+\n",
            "|       1| 2021-01-01 00:51:20|         4.3|\n",
            "|       2| 2021-01-01 00:42:11|         8.3|\n",
            "|       2| 2021-01-01 00:04:21|        9.96|\n",
            "|       2| 2021-01-01 00:43:41|         9.3|\n",
            "|       2| 2021-01-01 00:36:08|         5.8|\n",
            "|       1| 2021-01-01 00:03:13|         0.0|\n",
            "|       1| 2021-01-01 00:30:32|         9.3|\n",
            "|       2| 2021-01-01 00:16:19|         9.8|\n",
            "|       2| 2021-01-01 00:57:26|         8.8|\n",
            "|       2| 2021-01-01 00:33:33|        9.96|\n",
            "+--------+--------------------+------------+\n",
            "only showing top 10 rows\n",
            "\n"
          ]
        }
      ]
    },
    {
      "cell_type": "markdown",
      "source": [
        "### Mostrar los 10 días que más se recaudó dinero (tpep_pickup_datetime, total amount)"
      ],
      "metadata": {
        "id": "4cX43Y-oLz6c"
      }
    },
    {
      "cell_type": "code",
      "source": [
        "df_32 = spark.sql(\"select cast(tpep_pickup_datetime as date) as tpep_pickup_date , sum(total_amount) as TOTAL from yellow_tripdata group by tpep_pickup_date order by TOTAL Desc\")"
      ],
      "metadata": {
        "id": "sdAS6fjGL2v7"
      },
      "execution_count": 13,
      "outputs": []
    },
    {
      "cell_type": "code",
      "source": [
        "df_32.show(10)"
      ],
      "metadata": {
        "colab": {
          "base_uri": "https://localhost:8080/"
        },
        "id": "5mWImGDQN9QY",
        "outputId": "28b35012-ae62-477e-c5d4-bd5689f61500"
      },
      "execution_count": 14,
      "outputs": [
        {
          "output_type": "stream",
          "name": "stdout",
          "text": [
            "+----------------+-----------------+\n",
            "|tpep_pickup_date|            TOTAL|\n",
            "+----------------+-----------------+\n",
            "|      2021-01-28|959114.4900002397|\n",
            "|      2021-01-22|933129.1800002002|\n",
            "|      2021-01-29|929731.0600002115|\n",
            "|      2021-01-21| 929307.270000204|\n",
            "|      2021-01-14|925183.8200001806|\n",
            "|      2021-01-15|924665.2000001943|\n",
            "|      2021-01-27|894418.6400001668|\n",
            "|      2021-01-19|889278.4600001582|\n",
            "|      2021-01-07|886008.2300001475|\n",
            "|      2021-01-13|873117.0800001248|\n",
            "+----------------+-----------------+\n",
            "only showing top 10 rows\n",
            "\n"
          ]
        }
      ]
    },
    {
      "cell_type": "markdown",
      "source": [
        "Los valores son aproximados pero no exactos al resultado real"
      ],
      "metadata": {
        "id": "o0WOXzy1W8gQ"
      }
    },
    {
      "cell_type": "markdown",
      "source": [
        "### Mostrar los 10 viajes que menos dinero recaudó en viajes mayores a 10 millas (trip_distance, total_amount)"
      ],
      "metadata": {
        "id": "xvZ8GhcvXHMD"
      }
    },
    {
      "cell_type": "code",
      "source": [
        "df_33 = spark.sql(\"select trip_distance, total_amount from yellow_tripdata where trip_distance > 10 order by total_amount\")"
      ],
      "metadata": {
        "id": "0O-lD4tzOAE-"
      },
      "execution_count": 15,
      "outputs": []
    },
    {
      "cell_type": "code",
      "source": [
        "df_33.show(10)"
      ],
      "metadata": {
        "colab": {
          "base_uri": "https://localhost:8080/"
        },
        "id": "d4TPNeSlX06b",
        "outputId": "37571c0e-c84b-4a84-c29f-92b16c30d778"
      },
      "execution_count": 16,
      "outputs": [
        {
          "output_type": "stream",
          "name": "stdout",
          "text": [
            "+-------------+------------+\n",
            "|trip_distance|total_amount|\n",
            "+-------------+------------+\n",
            "|        12.68|      -252.3|\n",
            "|        34.35|     -176.42|\n",
            "|        14.75|      -152.8|\n",
            "|        33.96|     -127.92|\n",
            "|         29.1|      -119.3|\n",
            "|        26.94|      -111.3|\n",
            "|        20.08|      -107.8|\n",
            "|        19.55|      -102.8|\n",
            "|        19.16|      -90.55|\n",
            "|        25.83|      -88.54|\n",
            "+-------------+------------+\n",
            "only showing top 10 rows\n",
            "\n"
          ]
        }
      ]
    },
    {
      "cell_type": "markdown",
      "source": [
        "### Mostrar los viajes de más de dos pasajeros que hayan pagado con tarjeta de  crédito (mostrar solo las columnas trip_distance y tpep_pickup_datetime)"
      ],
      "metadata": {
        "id": "MJaf7Da_YW1w"
      }
    },
    {
      "cell_type": "code",
      "source": [
        "df_34 = spark.sql(\"select trip_distance, cast(tpep_pickup_datetime as date) as tpep_pickup_date from yellow_tripdata where passenger_count >= 2 and payment_type==1\")"
      ],
      "metadata": {
        "id": "GDswU_JYX3WS"
      },
      "execution_count": 17,
      "outputs": []
    },
    {
      "cell_type": "code",
      "source": [
        "df_34.show()"
      ],
      "metadata": {
        "colab": {
          "base_uri": "https://localhost:8080/"
        },
        "id": "_YwXc86sY90o",
        "outputId": "9225eb08-1462-4465-85cb-daafbb62c527"
      },
      "execution_count": null,
      "outputs": [
        {
          "output_type": "stream",
          "name": "stdout",
          "text": [
            "+-------------+----------------+\n",
            "|trip_distance|tpep_pickup_date|\n",
            "+-------------+----------------+\n",
            "|          2.7|      2021-01-01|\n",
            "|         6.11|      2021-01-01|\n",
            "|         1.21|      2021-01-01|\n",
            "|          1.7|      2021-01-01|\n",
            "|         1.16|      2021-01-01|\n",
            "|         3.15|      2021-01-01|\n",
            "|         0.64|      2021-01-01|\n",
            "|        10.74|      2021-01-01|\n",
            "|         2.01|      2021-01-01|\n",
            "|         3.45|      2021-01-01|\n",
            "|         2.85|      2021-01-01|\n",
            "|         1.68|      2021-01-01|\n",
            "|         0.77|      2021-01-01|\n",
            "|         0.52|      2021-01-01|\n",
            "|          0.4|      2021-01-01|\n",
            "|         1.05|      2021-01-01|\n",
            "|         5.85|      2021-01-01|\n",
            "|          3.7|      2021-01-01|\n",
            "|        16.54|      2021-01-01|\n",
            "|          4.0|      2021-01-01|\n",
            "+-------------+----------------+\n",
            "only showing top 20 rows\n",
            "\n"
          ]
        }
      ]
    },
    {
      "cell_type": "markdown",
      "source": [
        "No coincide con los resultados reales"
      ],
      "metadata": {
        "id": "mLIu0LwlaFE9"
      }
    },
    {
      "cell_type": "markdown",
      "source": [
        "### Mostrar los 7 viajes con mayor propina en distancias mayores a 10 millas (mostrar campos tpep_pickup_datetime, trip_distance, passenger_count, tip_amount)"
      ],
      "metadata": {
        "id": "5TZUCDMnaOlE"
      }
    },
    {
      "cell_type": "code",
      "source": [
        "df_35 = spark.sql(\"select trip_distance, cast(tpep_pickup_datetime as date) as tpep_pickup_date, passenger_count, tip_amount from yellow_tripdata where trip_distance >= 10 order by tip_amount Desc\")"
      ],
      "metadata": {
        "id": "TgKXiLWBZAV2"
      },
      "execution_count": 18,
      "outputs": []
    },
    {
      "cell_type": "code",
      "source": [
        "df_35.show(7)"
      ],
      "metadata": {
        "colab": {
          "base_uri": "https://localhost:8080/"
        },
        "id": "S9d3ADGzah1a",
        "outputId": "3971bd34-8b7a-4349-90bd-afd4da6b23ef"
      },
      "execution_count": 19,
      "outputs": [
        {
          "output_type": "stream",
          "name": "stdout",
          "text": [
            "+-------------+----------------+---------------+----------+\n",
            "|trip_distance|tpep_pickup_date|passenger_count|tip_amount|\n",
            "+-------------+----------------+---------------+----------+\n",
            "|        427.7|      2021-01-20|            1.0|   1140.44|\n",
            "|        267.7|      2021-01-03|            1.0|     369.4|\n",
            "|        326.1|      2021-01-12|            0.0|    192.61|\n",
            "|        260.5|      2021-01-19|            1.0|    149.03|\n",
            "|         11.1|      2021-01-31|            0.0|     100.0|\n",
            "|        14.86|      2021-01-01|            2.0|      99.0|\n",
            "|         13.0|      2021-01-18|            0.0|      90.0|\n",
            "+-------------+----------------+---------------+----------+\n",
            "only showing top 7 rows\n",
            "\n"
          ]
        }
      ]
    },
    {
      "cell_type": "markdown",
      "source": [
        "### Mostrar para cada uno de los valores de RateCodeID, el monto total y el monto promedio. Excluir los viajes en donde RateCodeID es ‘Group Ride’"
      ],
      "metadata": {
        "id": "2ocWFit2bS_x"
      }
    },
    {
      "cell_type": "code",
      "source": [
        "df_36 = spark.sql(\"select RatecodeID, sum(total_amount) as TOTAL, avg(total_amount) as AVERAGE from yellow_tripdata where RatecodeID != 6 group by RatecodeID \")"
      ],
      "metadata": {
        "id": "r3EvGfgtamCx"
      },
      "execution_count": 20,
      "outputs": []
    },
    {
      "cell_type": "code",
      "source": [
        "df_36.show(7)"
      ],
      "metadata": {
        "colab": {
          "base_uri": "https://localhost:8080/"
        },
        "id": "uXIlQdEtcXoj",
        "outputId": "ff3f8048-0bd2-4555-afdc-8b8c16b57065"
      },
      "execution_count": 21,
      "outputs": [
        {
          "output_type": "stream",
          "name": "stdout",
          "text": [
            "+----------+--------------------+------------------+\n",
            "|RatecodeID|               TOTAL|           AVERAGE|\n",
            "+----------+--------------------+------------------+\n",
            "|       1.0|1.9496468430212937E7|15.606626116946773|\n",
            "|       4.0|   90039.93000000082| 74.90842762063296|\n",
            "|       3.0|   67363.26000000043| 78.69539719626219|\n",
            "|       2.0|   973635.4700000732| 65.52937609369182|\n",
            "|      99.0|  1748.0699999999997| 48.55749999999999|\n",
            "|       5.0|  255075.08999999086|48.939963545662096|\n",
            "+----------+--------------------+------------------+\n",
            "\n"
          ]
        }
      ]
    },
    {
      "cell_type": "code",
      "source": [],
      "metadata": {
        "id": "O2RvuU_idqr3"
      },
      "execution_count": null,
      "outputs": []
    }
  ]
}