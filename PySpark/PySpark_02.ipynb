{
  "nbformat": 4,
  "nbformat_minor": 0,
  "metadata": {
    "colab": {
      "provenance": [],
      "authorship_tag": "ABX9TyPneKhiQGGboAq2P2vWoh3n",
      "include_colab_link": true
    },
    "kernelspec": {
      "name": "python3",
      "display_name": "Python 3"
    },
    "language_info": {
      "name": "python"
    }
  },
  "cells": [
    {
      "cell_type": "markdown",
      "metadata": {
        "id": "view-in-github",
        "colab_type": "text"
      },
      "source": [
        "<a href=\"https://colab.research.google.com/github/gabrielfernandorey/EDVAI/blob/main/PySpark/PySpark_02.ipynb\" target=\"_parent\"><img src=\"https://colab.research.google.com/assets/colab-badge.svg\" alt=\"Open In Colab\"/></a>"
      ]
    },
    {
      "cell_type": "markdown",
      "source": [
        "# PySpark - Ejercicios clase 8"
      ],
      "metadata": {
        "id": "oEi-fQEruZwC"
      }
    },
    {
      "cell_type": "markdown",
      "source": [
        "### Instalación y carga de Pyspark"
      ],
      "metadata": {
        "id": "RAb-HoncufBG"
      }
    },
    {
      "cell_type": "code",
      "execution_count": 1,
      "metadata": {
        "colab": {
          "base_uri": "https://localhost:8080/"
        },
        "id": "yLHCz25guPhi",
        "outputId": "4e0727be-f18b-4fd5-bee4-e379dd27d0c6"
      },
      "outputs": [
        {
          "output_type": "stream",
          "name": "stdout",
          "text": [
            "Looking in indexes: https://pypi.org/simple, https://us-python.pkg.dev/colab-wheels/public/simple/\n",
            "Collecting pyspark\n",
            "  Downloading pyspark-3.4.0.tar.gz (310.8 MB)\n",
            "\u001b[2K     \u001b[90m━━━━━━━━━━━━━━━━━━━━━━━━━━━━━━━━━━━━━━━\u001b[0m \u001b[32m310.8/310.8 MB\u001b[0m \u001b[31m3.7 MB/s\u001b[0m eta \u001b[36m0:00:00\u001b[0m\n",
            "\u001b[?25h  Preparing metadata (setup.py) ... \u001b[?25l\u001b[?25hdone\n",
            "Requirement already satisfied: py4j==0.10.9.7 in /usr/local/lib/python3.10/dist-packages (from pyspark) (0.10.9.7)\n",
            "Building wheels for collected packages: pyspark\n",
            "  Building wheel for pyspark (setup.py) ... \u001b[?25l\u001b[?25hdone\n",
            "  Created wheel for pyspark: filename=pyspark-3.4.0-py2.py3-none-any.whl size=311317145 sha256=f934f92639664563b06b8eca3ecd6fa33f665da9fcf9ccc51d70d94d1463bb71\n",
            "  Stored in directory: /root/.cache/pip/wheels/7b/1b/4b/3363a1d04368e7ff0d408e57ff57966fcdf00583774e761327\n",
            "Successfully built pyspark\n",
            "Installing collected packages: pyspark\n",
            "Successfully installed pyspark-3.4.0\n"
          ]
        }
      ],
      "source": [
        "!pip install pyspark"
      ]
    },
    {
      "cell_type": "code",
      "source": [
        "from pyspark.sql import SparkSession"
      ],
      "metadata": {
        "id": "OxYbGIUDujGu"
      },
      "execution_count": 2,
      "outputs": []
    },
    {
      "cell_type": "code",
      "source": [
        "spark = SparkSession.builder.appName('test_pyspark').getOrCreate()"
      ],
      "metadata": {
        "id": "bPXjeEj7usAm"
      },
      "execution_count": 3,
      "outputs": []
    },
    {
      "cell_type": "markdown",
      "source": [
        "### Librerías necesarias"
      ],
      "metadata": {
        "id": "sZp8-N6eu9pI"
      }
    },
    {
      "cell_type": "code",
      "source": [
        "from pyspark.sql.types import StringType, BooleanType, FloatType, IntegerType, DoubleType, DateType\n",
        "import pyspark.sql.functions as F\n",
        "from pyspark.sql.functions import sum, col, desc, asc, count, countDistinct, round, max, min, avg\n",
        "from pyspark.sql.functions import to_timestamp,date_format\n",
        "from pyspark.sql.window import Window\n",
        "\n",
        "from pyspark.ml import Transformer\n",
        "from pyspark.ml.param.shared import HasInputCol, HasOutputCol, HasInputCols, HasOutputCols, Param, Params, TypeConverters\n",
        "from pyspark import keyword_only\n",
        "from pyspark.ml import Pipeline, PipelineModel\n",
        "from pyspark.ml import Model\n",
        "from pyspark.ml import Estimator\n",
        "\n",
        "from datetime import datetime\n",
        "import numpy as np"
      ],
      "metadata": {
        "id": "M1YNnp6Cu5Rk"
      },
      "execution_count": 4,
      "outputs": []
    },
    {
      "cell_type": "markdown",
      "source": [
        "### Importamos datos"
      ],
      "metadata": {
        "id": "Pw2j9WwvvuiT"
      }
    },
    {
      "cell_type": "code",
      "source": [
        "!wget https://data-engineer-edvai.s3.amazonaws.com/f1/results.csv"
      ],
      "metadata": {
        "id": "gLOW3Dncro0h",
        "outputId": "2ff15a9f-f0bd-4d26-8c9d-07942b48b817",
        "colab": {
          "base_uri": "https://localhost:8080/"
        }
      },
      "execution_count": 5,
      "outputs": [
        {
          "output_type": "stream",
          "name": "stdout",
          "text": [
            "--2023-05-06 20:31:07--  https://data-engineer-edvai.s3.amazonaws.com/f1/results.csv\n",
            "Resolving data-engineer-edvai.s3.amazonaws.com (data-engineer-edvai.s3.amazonaws.com)... 52.216.76.28, 3.5.8.196, 52.217.142.57, ...\n",
            "Connecting to data-engineer-edvai.s3.amazonaws.com (data-engineer-edvai.s3.amazonaws.com)|52.216.76.28|:443... connected.\n",
            "HTTP request sent, awaiting response... 200 OK\n",
            "Length: 1633624 (1.6M) [text/csv]\n",
            "Saving to: ‘results.csv’\n",
            "\n",
            "results.csv         100%[===================>]   1.56M  1.42MB/s    in 1.1s    \n",
            "\n",
            "2023-05-06 20:31:09 (1.42 MB/s) - ‘results.csv’ saved [1633624/1633624]\n",
            "\n"
          ]
        }
      ]
    },
    {
      "cell_type": "code",
      "source": [
        "!wget https://data-engineer-edvai.s3.amazonaws.com/f1/drivers.csv"
      ],
      "metadata": {
        "id": "S8PJS1ISjPyi",
        "outputId": "66472780-ae8a-40b7-bbac-5189f8d7d10b",
        "colab": {
          "base_uri": "https://localhost:8080/"
        }
      },
      "execution_count": 6,
      "outputs": [
        {
          "output_type": "stream",
          "name": "stdout",
          "text": [
            "--2023-05-06 20:31:09--  https://data-engineer-edvai.s3.amazonaws.com/f1/drivers.csv\n",
            "Resolving data-engineer-edvai.s3.amazonaws.com (data-engineer-edvai.s3.amazonaws.com)... 52.216.76.28, 3.5.8.196, 52.217.142.57, ...\n",
            "Connecting to data-engineer-edvai.s3.amazonaws.com (data-engineer-edvai.s3.amazonaws.com)|52.216.76.28|:443... connected.\n",
            "HTTP request sent, awaiting response... 200 OK\n",
            "Length: 93568 (91K) [text/csv]\n",
            "Saving to: ‘drivers.csv’\n",
            "\n",
            "drivers.csv         100%[===================>]  91.38K   249KB/s    in 0.4s    \n",
            "\n",
            "2023-05-06 20:31:11 (249 KB/s) - ‘drivers.csv’ saved [93568/93568]\n",
            "\n"
          ]
        }
      ]
    },
    {
      "cell_type": "code",
      "source": [
        "!wget https://data-engineer-edvai.s3.amazonaws.com/f1/constructors.csv"
      ],
      "metadata": {
        "id": "oBSpTGQAjT6j",
        "outputId": "7a0c4ea1-bc70-44eb-92e0-c8108b7db0d0",
        "colab": {
          "base_uri": "https://localhost:8080/"
        }
      },
      "execution_count": 7,
      "outputs": [
        {
          "output_type": "stream",
          "name": "stdout",
          "text": [
            "--2023-05-06 20:31:11--  https://data-engineer-edvai.s3.amazonaws.com/f1/constructors.csv\n",
            "Resolving data-engineer-edvai.s3.amazonaws.com (data-engineer-edvai.s3.amazonaws.com)... 52.216.76.28, 3.5.8.196, 52.217.142.57, ...\n",
            "Connecting to data-engineer-edvai.s3.amazonaws.com (data-engineer-edvai.s3.amazonaws.com)|52.216.76.28|:443... connected.\n",
            "HTTP request sent, awaiting response... 200 OK\n",
            "Length: 17384 (17K) [text/csv]\n",
            "Saving to: ‘constructors.csv’\n",
            "\n",
            "constructors.csv    100%[===================>]  16.98K  --.-KB/s    in 0s      \n",
            "\n",
            "2023-05-06 20:31:11 (38.6 MB/s) - ‘constructors.csv’ saved [17384/17384]\n",
            "\n"
          ]
        }
      ]
    },
    {
      "cell_type": "code",
      "source": [
        "# Con esta alternativa algunos tipos de datos no se importan de forma adecuada\n",
        "# df = spark.read.option(\"header\",\"true\").csv(\"*.csv\")"
      ],
      "metadata": {
        "id": "ot4Z25IXvpVi"
      },
      "execution_count": null,
      "outputs": []
    },
    {
      "cell_type": "code",
      "source": [
        "# Con esta alternativa los tipos de datos se importan de forma adecuada (siempre verificar!)\n",
        "df_results = spark.read.option(\"header\",\"true\").option(\"inferSchema\", \"true\") .csv(\"results.csv\")"
      ],
      "metadata": {
        "id": "eWd_P1u04lTu"
      },
      "execution_count": 8,
      "outputs": []
    },
    {
      "cell_type": "code",
      "source": [
        "df_drivers = spark.read.option(\"header\",\"true\").option(\"inferSchema\", \"true\") .csv(\"drivers.csv\")"
      ],
      "metadata": {
        "id": "3Qq9qJyUjfVi"
      },
      "execution_count": 9,
      "outputs": []
    },
    {
      "cell_type": "code",
      "source": [
        "df_constructors = spark.read.option(\"header\",\"true\").option(\"inferSchema\", \"true\") .csv(\"constructors.csv\")"
      ],
      "metadata": {
        "id": "PCFMk37ljmaP"
      },
      "execution_count": 10,
      "outputs": []
    },
    {
      "cell_type": "markdown",
      "source": [
        "### Visualizamos schema"
      ],
      "metadata": {
        "id": "goN8SfWUj0hY"
      }
    },
    {
      "cell_type": "code",
      "source": [
        "df_results.printSchema()"
      ],
      "metadata": {
        "id": "Phpx_gWjy0HN",
        "outputId": "03612a41-52e1-44e6-d9d8-988a6ec9a150",
        "colab": {
          "base_uri": "https://localhost:8080/"
        }
      },
      "execution_count": 11,
      "outputs": [
        {
          "output_type": "stream",
          "name": "stdout",
          "text": [
            "root\n",
            " |-- resultId: integer (nullable = true)\n",
            " |-- raceId: integer (nullable = true)\n",
            " |-- driverId: integer (nullable = true)\n",
            " |-- constructorId: integer (nullable = true)\n",
            " |-- number: string (nullable = true)\n",
            " |-- grid: integer (nullable = true)\n",
            " |-- position: string (nullable = true)\n",
            " |-- positionText: string (nullable = true)\n",
            " |-- positionOrder: integer (nullable = true)\n",
            " |-- points: double (nullable = true)\n",
            " |-- laps: integer (nullable = true)\n",
            " |-- time: string (nullable = true)\n",
            " |-- milliseconds: string (nullable = true)\n",
            " |-- fastestLap: string (nullable = true)\n",
            " |-- rank: string (nullable = true)\n",
            " |-- fastestLapTime: string (nullable = true)\n",
            " |-- fastestLapSpeed: string (nullable = true)\n",
            " |-- statusId: integer (nullable = true)\n",
            "\n"
          ]
        }
      ]
    },
    {
      "cell_type": "code",
      "source": [
        "df_results.show(5)"
      ],
      "metadata": {
        "colab": {
          "base_uri": "https://localhost:8080/"
        },
        "id": "qFktEdm-wTYt",
        "outputId": "dd3a3540-0ab1-4101-a1a9-474a59bef7dc"
      },
      "execution_count": 12,
      "outputs": [
        {
          "output_type": "stream",
          "name": "stdout",
          "text": [
            "+--------+------+--------+-------------+------+----+--------+------------+-------------+------+----+-----------+------------+----------+----+--------------+---------------+--------+\n",
            "|resultId|raceId|driverId|constructorId|number|grid|position|positionText|positionOrder|points|laps|       time|milliseconds|fastestLap|rank|fastestLapTime|fastestLapSpeed|statusId|\n",
            "+--------+------+--------+-------------+------+----+--------+------------+-------------+------+----+-----------+------------+----------+----+--------------+---------------+--------+\n",
            "|       1|    18|       1|            1|    22|   1|       1|           1|            1|  10.0|  58|1:34:50.616|     5690616|        39|   2|      1:27.452|        218.300|       1|\n",
            "|       2|    18|       2|            2|     3|   5|       2|           2|            2|   8.0|  58|     +5.478|     5696094|        41|   3|      1:27.739|        217.586|       1|\n",
            "|       3|    18|       3|            3|     7|   7|       3|           3|            3|   6.0|  58|     +8.163|     5698779|        41|   5|      1:28.090|        216.719|       1|\n",
            "|       4|    18|       4|            4|     5|  11|       4|           4|            4|   5.0|  58|    +17.181|     5707797|        58|   7|      1:28.603|        215.464|       1|\n",
            "|       5|    18|       5|            1|    23|   3|       5|           5|            5|   4.0|  58|    +18.014|     5708630|        43|   1|      1:27.418|        218.385|       1|\n",
            "+--------+------+--------+-------------+------+----+--------+------------+-------------+------+----+-----------+------------+----------+----+--------------+---------------+--------+\n",
            "only showing top 5 rows\n",
            "\n"
          ]
        }
      ]
    },
    {
      "cell_type": "code",
      "source": [
        "df_drivers.printSchema()"
      ],
      "metadata": {
        "id": "uC-1pnRkj79R",
        "outputId": "d2eff28d-aae0-45e7-a701-866d8d331ba7",
        "colab": {
          "base_uri": "https://localhost:8080/"
        }
      },
      "execution_count": 13,
      "outputs": [
        {
          "output_type": "stream",
          "name": "stdout",
          "text": [
            "root\n",
            " |-- driverId: integer (nullable = true)\n",
            " |-- driverRef: string (nullable = true)\n",
            " |-- number: string (nullable = true)\n",
            " |-- code: string (nullable = true)\n",
            " |-- forename: string (nullable = true)\n",
            " |-- surname: string (nullable = true)\n",
            " |-- dob: date (nullable = true)\n",
            " |-- nationality: string (nullable = true)\n",
            " |-- url: string (nullable = true)\n",
            "\n"
          ]
        }
      ]
    },
    {
      "cell_type": "code",
      "source": [
        "df_drivers.show(5)"
      ],
      "metadata": {
        "id": "0_WQ_2OqkLAe",
        "outputId": "4be998d7-1ba1-4e42-9bae-41c9a79c80da",
        "colab": {
          "base_uri": "https://localhost:8080/"
        }
      },
      "execution_count": 14,
      "outputs": [
        {
          "output_type": "stream",
          "name": "stdout",
          "text": [
            "+--------+----------+------+----+--------+----------+----------+-----------+--------------------+\n",
            "|driverId| driverRef|number|code|forename|   surname|       dob|nationality|                 url|\n",
            "+--------+----------+------+----+--------+----------+----------+-----------+--------------------+\n",
            "|       1|  hamilton|    44| HAM|   Lewis|  Hamilton|1985-01-07|    British|http://en.wikiped...|\n",
            "|       2|  heidfeld|    \\N| HEI|    Nick|  Heidfeld|1977-05-10|     German|http://en.wikiped...|\n",
            "|       3|   rosberg|     6| ROS|    Nico|   Rosberg|1985-06-27|     German|http://en.wikiped...|\n",
            "|       4|    alonso|    14| ALO|Fernando|    Alonso|1981-07-29|    Spanish|http://en.wikiped...|\n",
            "|       5|kovalainen|    \\N| KOV|  Heikki|Kovalainen|1981-10-19|    Finnish|http://en.wikiped...|\n",
            "+--------+----------+------+----+--------+----------+----------+-----------+--------------------+\n",
            "only showing top 5 rows\n",
            "\n"
          ]
        }
      ]
    },
    {
      "cell_type": "code",
      "source": [
        "df_constructors.printSchema()"
      ],
      "metadata": {
        "id": "yWE8b8Nij_wK",
        "outputId": "f00156b5-0938-46c0-b517-45f21fde7085",
        "colab": {
          "base_uri": "https://localhost:8080/"
        }
      },
      "execution_count": 15,
      "outputs": [
        {
          "output_type": "stream",
          "name": "stdout",
          "text": [
            "root\n",
            " |-- constructorId: integer (nullable = true)\n",
            " |-- constructorRef: string (nullable = true)\n",
            " |-- name: string (nullable = true)\n",
            " |-- nationality: string (nullable = true)\n",
            " |-- url: string (nullable = true)\n",
            "\n"
          ]
        }
      ]
    },
    {
      "cell_type": "code",
      "source": [
        "df_constructors.show(5)"
      ],
      "metadata": {
        "id": "U1cqHJLokSzr",
        "outputId": "32f44b5c-6c86-4af2-f497-40dbfc704884",
        "colab": {
          "base_uri": "https://localhost:8080/"
        }
      },
      "execution_count": 16,
      "outputs": [
        {
          "output_type": "stream",
          "name": "stdout",
          "text": [
            "+-------------+--------------+----------+-----------+--------------------+\n",
            "|constructorId|constructorRef|      name|nationality|                 url|\n",
            "+-------------+--------------+----------+-----------+--------------------+\n",
            "|            1|       mclaren|   McLaren|    British|http://en.wikiped...|\n",
            "|            2|    bmw_sauber|BMW Sauber|     German|http://en.wikiped...|\n",
            "|            3|      williams|  Williams|    British|http://en.wikiped...|\n",
            "|            4|       renault|   Renault|     French|http://en.wikiped...|\n",
            "|            5|    toro_rosso|Toro Rosso|    Italian|http://en.wikiped...|\n",
            "+-------------+--------------+----------+-----------+--------------------+\n",
            "only showing top 5 rows\n",
            "\n"
          ]
        }
      ]
    },
    {
      "cell_type": "markdown",
      "source": [
        "### Insertar en la tabla driver_results los corredores con mayor cantidad de puntos en la historia."
      ],
      "metadata": {
        "id": "9ZK8KNh3w9j8"
      }
    },
    {
      "cell_type": "code",
      "source": [
        "# Creamos vista\n",
        "df_results.createOrReplaceTempView(\"vista_results\")\n",
        "df_drivers.createOrReplaceTempView(\"vista_drivers\")"
      ],
      "metadata": {
        "id": "zRX6N9lKxIUB"
      },
      "execution_count": 17,
      "outputs": []
    },
    {
      "cell_type": "code",
      "source": [
        "query = \"\"\"SELECT vista_results.driverId, vista_drivers.driverRef, SUM(vista_results.points) as total\n",
        "           FROM vista_results \n",
        "           JOIN vista_drivers ON vista_results.driverId = vista_drivers.driverId\n",
        "           GROUP BY vista_results.driverId, vista_drivers.driverRef\n",
        "           ORDER BY total DESC \"\"\"\n",
        "\n",
        "df_pilotos = spark.sql(query)"
      ],
      "metadata": {
        "id": "S8ClQa2e0Q50"
      },
      "execution_count": 49,
      "outputs": []
    },
    {
      "cell_type": "code",
      "source": [
        "df_pilotos.show()"
      ],
      "metadata": {
        "id": "Lr7OZsO5yc2S",
        "outputId": "9903008b-286a-4703-acfb-5d685f18f0e9",
        "colab": {
          "base_uri": "https://localhost:8080/"
        }
      },
      "execution_count": 50,
      "outputs": [
        {
          "output_type": "stream",
          "name": "stdout",
          "text": [
            "+--------+------------------+------+\n",
            "|driverId|         driverRef| total|\n",
            "+--------+------------------+------+\n",
            "|       1|          hamilton|4308.5|\n",
            "|      20|            vettel|3077.0|\n",
            "|       4|            alonso|2021.0|\n",
            "|       8|         raikkonen|1873.0|\n",
            "|     830|    max_verstappen|1792.5|\n",
            "|     822|            bottas|1775.0|\n",
            "|       3|           rosberg|1594.5|\n",
            "|      30|michael_schumacher|1566.0|\n",
            "|     817|         ricciardo|1289.0|\n",
            "|      18|            button|1235.0|\n",
            "|      13|             massa|1167.0|\n",
            "|     815|             perez|1059.0|\n",
            "|      17|            webber|1047.5|\n",
            "|     117|             prost| 798.5|\n",
            "|     844|           leclerc| 724.0|\n",
            "|     832|             sainz| 680.5|\n",
            "|      22|       barrichello| 658.0|\n",
            "|     102|             senna| 614.0|\n",
            "|      14|         coulthard| 535.0|\n",
            "|     807|        hulkenberg| 521.0|\n",
            "+--------+------------------+------+\n",
            "only showing top 20 rows\n",
            "\n"
          ]
        }
      ]
    },
    {
      "cell_type": "markdown",
      "source": [
        "### Insertar en la tabla constructor_result quienes obtuvieron más puntos en el Spanish Grand Prix en el año 1991"
      ],
      "metadata": {
        "id": "q_bdIM799CV8"
      }
    },
    {
      "cell_type": "code",
      "source": [
        "# Creamos vista\n",
        "df_constructors.createOrReplaceTempView(\"vista_team\")"
      ],
      "metadata": {
        "id": "IPvAoMw37o3p"
      },
      "execution_count": 57,
      "outputs": []
    },
    {
      "cell_type": "code",
      "source": [
        "query = \"\"\"SELECT vista_results.constructorId, vista_team.constructorRef, SUM(vista_results.points) as total\n",
        "           FROM vista_results \n",
        "           JOIN vista_team ON vista_results.constructorId = vista_team.constructorId\n",
        "           GROUP BY vista_results.constructorId, vista_team.constructorRef\n",
        "           ORDER BY total DESC \"\"\"\n",
        "\n",
        "df_SGP = spark.sql(query)"
      ],
      "metadata": {
        "id": "AgNmouBj9QUz"
      },
      "execution_count": 58,
      "outputs": []
    },
    {
      "cell_type": "code",
      "source": [
        "df_SGP.show(30)"
      ],
      "metadata": {
        "id": "bq4D685i-ZpW",
        "outputId": "641603b9-14db-44e1-d390-d48e4c7f34eb",
        "colab": {
          "base_uri": "https://localhost:8080/"
        }
      },
      "execution_count": 61,
      "outputs": [
        {
          "output_type": "stream",
          "name": "stdout",
          "text": [
            "+-------------+--------------+-----------------+\n",
            "|constructorId|constructorRef|            total|\n",
            "+-------------+--------------+-----------------+\n",
            "|            6|       ferrari|          9924.27|\n",
            "|          131|      mercedes|6726.639999999999|\n",
            "|            1|       mclaren|           6085.5|\n",
            "|            9|      red_bull|           6027.0|\n",
            "|            3|      williams|           3593.0|\n",
            "|            4|       renault|           1777.0|\n",
            "|           10|   force_india|           1098.0|\n",
            "|           32|    team_lotus|            995.0|\n",
            "|           22|      benetton|            861.5|\n",
            "|           25|       tyrrell|            711.0|\n",
            "|          208|      lotus_f1|            706.0|\n",
            "|           34|       brabham|            631.0|\n",
            "|           15|        sauber|            557.0|\n",
            "|           66|           brm|            537.5|\n",
            "|            5|    toro_rosso|            500.0|\n",
            "|           27|        ligier|            388.0|\n",
            "|           51|          alfa|            341.0|\n",
            "|          170| cooper-climax|            336.5|\n",
            "|          105|      maserati|           313.14|\n",
            "|            2|    bmw_sauber|            308.0|\n",
            "|           17|        jordan|            291.0|\n",
            "|          211|  racing_point|            283.0|\n",
            "|          172|  lotus-climax|            281.0|\n",
            "|            7|        toyota|            278.5|\n",
            "|          213|    alphatauri|            276.0|\n",
            "|          214|        alpine|            251.0|\n",
            "|          210|          haas|            231.0|\n",
            "|           16|           bar|            227.0|\n",
            "|          180|    lotus-ford|            209.0|\n",
            "|          191| brabham-repco|            175.0|\n",
            "+-------------+--------------+-----------------+\n",
            "only showing top 30 rows\n",
            "\n"
          ]
        }
      ]
    },
    {
      "cell_type": "code",
      "source": [],
      "metadata": {
        "id": "En93GiM4AqBx"
      },
      "execution_count": null,
      "outputs": []
    }
  ]
}