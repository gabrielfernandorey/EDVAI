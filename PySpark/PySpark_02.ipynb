{
  "nbformat": 4,
  "nbformat_minor": 0,
  "metadata": {
    "colab": {
      "provenance": [],
      "authorship_tag": "ABX9TyO9ZRCBtnvJvTissC0zWXSd",
      "include_colab_link": true
    },
    "kernelspec": {
      "name": "python3",
      "display_name": "Python 3"
    },
    "language_info": {
      "name": "python"
    }
  },
  "cells": [
    {
      "cell_type": "markdown",
      "metadata": {
        "id": "view-in-github",
        "colab_type": "text"
      },
      "source": [
        "<a href=\"https://colab.research.google.com/github/gabrielfernandorey/EDVAI/blob/main/PySpark/PySpark_02.ipynb\" target=\"_parent\"><img src=\"https://colab.research.google.com/assets/colab-badge.svg\" alt=\"Open In Colab\"/></a>"
      ]
    },
    {
      "cell_type": "markdown",
      "source": [
        "# PySpark - Ejercicios clase 8"
      ],
      "metadata": {
        "id": "oEi-fQEruZwC"
      }
    },
    {
      "cell_type": "markdown",
      "source": [
        "### Instalación y carga de Pyspark"
      ],
      "metadata": {
        "id": "RAb-HoncufBG"
      }
    },
    {
      "cell_type": "code",
      "execution_count": 1,
      "metadata": {
        "colab": {
          "base_uri": "https://localhost:8080/"
        },
        "id": "yLHCz25guPhi",
        "outputId": "53ed30ab-fb91-4c76-beb4-7956945584ab"
      },
      "outputs": [
        {
          "output_type": "stream",
          "name": "stdout",
          "text": [
            "Looking in indexes: https://pypi.org/simple, https://us-python.pkg.dev/colab-wheels/public/simple/\n",
            "Collecting pyspark\n",
            "  Downloading pyspark-3.4.0.tar.gz (310.8 MB)\n",
            "\u001b[2K     \u001b[90m━━━━━━━━━━━━━━━━━━━━━━━━━━━━━━━━━━━━━━━\u001b[0m \u001b[32m310.8/310.8 MB\u001b[0m \u001b[31m4.0 MB/s\u001b[0m eta \u001b[36m0:00:00\u001b[0m\n",
            "\u001b[?25h  Preparing metadata (setup.py) ... \u001b[?25l\u001b[?25hdone\n",
            "Requirement already satisfied: py4j==0.10.9.7 in /usr/local/lib/python3.10/dist-packages (from pyspark) (0.10.9.7)\n",
            "Building wheels for collected packages: pyspark\n",
            "  Building wheel for pyspark (setup.py) ... \u001b[?25l\u001b[?25hdone\n",
            "  Created wheel for pyspark: filename=pyspark-3.4.0-py2.py3-none-any.whl size=311317130 sha256=c477ee1af74f033150d0c2a8e22f74db5fe0a200d42ee68b0ac808ee6c609a1a\n",
            "  Stored in directory: /root/.cache/pip/wheels/7b/1b/4b/3363a1d04368e7ff0d408e57ff57966fcdf00583774e761327\n",
            "Successfully built pyspark\n",
            "Installing collected packages: pyspark\n",
            "Successfully installed pyspark-3.4.0\n"
          ]
        }
      ],
      "source": [
        "!pip install pyspark"
      ]
    },
    {
      "cell_type": "code",
      "source": [
        "from pyspark.sql import SparkSession"
      ],
      "metadata": {
        "id": "OxYbGIUDujGu"
      },
      "execution_count": 2,
      "outputs": []
    },
    {
      "cell_type": "code",
      "source": [
        "spark = SparkSession.builder.appName('test_pyspark').getOrCreate()"
      ],
      "metadata": {
        "id": "bPXjeEj7usAm"
      },
      "execution_count": 3,
      "outputs": []
    },
    {
      "cell_type": "markdown",
      "source": [
        "### Librerías necesarias"
      ],
      "metadata": {
        "id": "sZp8-N6eu9pI"
      }
    },
    {
      "cell_type": "code",
      "source": [
        "from pyspark.sql.types import StringType, BooleanType, FloatType, IntegerType, DoubleType, DateType\n",
        "import pyspark.sql.functions as F\n",
        "from pyspark.sql.functions import sum, col, desc, asc, count, countDistinct, round, max, min, avg\n",
        "from pyspark.sql.functions import to_timestamp,date_format\n",
        "from pyspark.sql.window import Window\n",
        "\n",
        "from pyspark.ml import Transformer\n",
        "from pyspark.ml.param.shared import HasInputCol, HasOutputCol, HasInputCols, HasOutputCols, Param, Params, TypeConverters\n",
        "from pyspark import keyword_only\n",
        "from pyspark.ml import Pipeline, PipelineModel\n",
        "from pyspark.ml import Model\n",
        "from pyspark.ml import Estimator\n",
        "\n",
        "from datetime import datetime\n",
        "import numpy as np"
      ],
      "metadata": {
        "id": "M1YNnp6Cu5Rk"
      },
      "execution_count": 4,
      "outputs": []
    },
    {
      "cell_type": "markdown",
      "source": [
        "### Importamos datos"
      ],
      "metadata": {
        "id": "Pw2j9WwvvuiT"
      }
    },
    {
      "cell_type": "code",
      "source": [
        "!wget https://data-engineer-edvai.s3.amazonaws.com/f1/results.csv"
      ],
      "metadata": {
        "id": "gLOW3Dncro0h",
        "outputId": "26688bdd-e1b8-4e9b-b6a5-b883aeb0ac21",
        "colab": {
          "base_uri": "https://localhost:8080/"
        }
      },
      "execution_count": 5,
      "outputs": [
        {
          "output_type": "stream",
          "name": "stdout",
          "text": [
            "--2023-05-09 23:57:57--  https://data-engineer-edvai.s3.amazonaws.com/f1/results.csv\n",
            "Resolving data-engineer-edvai.s3.amazonaws.com (data-engineer-edvai.s3.amazonaws.com)... 3.5.10.1, 54.231.228.41, 54.231.50.75, ...\n",
            "Connecting to data-engineer-edvai.s3.amazonaws.com (data-engineer-edvai.s3.amazonaws.com)|3.5.10.1|:443... connected.\n",
            "HTTP request sent, awaiting response... 200 OK\n",
            "Length: 1633624 (1.6M) [text/csv]\n",
            "Saving to: ‘results.csv’\n",
            "\n",
            "results.csv         100%[===================>]   1.56M  9.60MB/s    in 0.2s    \n",
            "\n",
            "2023-05-09 23:57:58 (9.60 MB/s) - ‘results.csv’ saved [1633624/1633624]\n",
            "\n"
          ]
        }
      ]
    },
    {
      "cell_type": "code",
      "source": [
        "!wget https://data-engineer-edvai.s3.amazonaws.com/f1/drivers.csv"
      ],
      "metadata": {
        "id": "S8PJS1ISjPyi",
        "outputId": "c27644ad-8dba-4f7d-cdc6-0aa3b197f677",
        "colab": {
          "base_uri": "https://localhost:8080/"
        }
      },
      "execution_count": 6,
      "outputs": [
        {
          "output_type": "stream",
          "name": "stdout",
          "text": [
            "--2023-05-09 23:57:58--  https://data-engineer-edvai.s3.amazonaws.com/f1/drivers.csv\n",
            "Resolving data-engineer-edvai.s3.amazonaws.com (data-engineer-edvai.s3.amazonaws.com)... 3.5.10.1, 54.231.228.41, 54.231.50.75, ...\n",
            "Connecting to data-engineer-edvai.s3.amazonaws.com (data-engineer-edvai.s3.amazonaws.com)|3.5.10.1|:443... connected.\n",
            "HTTP request sent, awaiting response... 200 OK\n",
            "Length: 93568 (91K) [text/csv]\n",
            "Saving to: ‘drivers.csv’\n",
            "\n",
            "\rdrivers.csv           0%[                    ]       0  --.-KB/s               \rdrivers.csv         100%[===================>]  91.38K  --.-KB/s    in 0.06s   \n",
            "\n",
            "2023-05-09 23:57:58 (1.55 MB/s) - ‘drivers.csv’ saved [93568/93568]\n",
            "\n"
          ]
        }
      ]
    },
    {
      "cell_type": "code",
      "source": [
        "!wget https://data-engineer-edvai.s3.amazonaws.com/f1/constructors.csv"
      ],
      "metadata": {
        "id": "oBSpTGQAjT6j",
        "outputId": "604bdc7a-26b7-4da7-ae78-08522a7a0eea",
        "colab": {
          "base_uri": "https://localhost:8080/"
        }
      },
      "execution_count": 7,
      "outputs": [
        {
          "output_type": "stream",
          "name": "stdout",
          "text": [
            "--2023-05-09 23:57:58--  https://data-engineer-edvai.s3.amazonaws.com/f1/constructors.csv\n",
            "Resolving data-engineer-edvai.s3.amazonaws.com (data-engineer-edvai.s3.amazonaws.com)... 3.5.10.1, 54.231.228.41, 54.231.50.75, ...\n",
            "Connecting to data-engineer-edvai.s3.amazonaws.com (data-engineer-edvai.s3.amazonaws.com)|3.5.10.1|:443... connected.\n",
            "HTTP request sent, awaiting response... 200 OK\n",
            "Length: 17384 (17K) [text/csv]\n",
            "Saving to: ‘constructors.csv’\n",
            "\n",
            "\rconstructors.csv      0%[                    ]       0  --.-KB/s               \rconstructors.csv    100%[===================>]  16.98K  --.-KB/s    in 0.001s  \n",
            "\n",
            "2023-05-09 23:57:58 (28.1 MB/s) - ‘constructors.csv’ saved [17384/17384]\n",
            "\n"
          ]
        }
      ]
    },
    {
      "cell_type": "code",
      "source": [
        "# Con esta alternativa algunos tipos de datos no se importan de forma adecuada\n",
        "# df = spark.read.option(\"header\",\"true\").csv(\"*.csv\")"
      ],
      "metadata": {
        "id": "ot4Z25IXvpVi"
      },
      "execution_count": null,
      "outputs": []
    },
    {
      "cell_type": "code",
      "source": [
        "# Con esta alternativa los tipos de datos se importan de forma adecuada (siempre verificar!)\n",
        "spk_results = spark.read.option(\"header\",\"true\").option(\"inferSchema\", \"true\") .csv(\"results.csv\")"
      ],
      "metadata": {
        "id": "eWd_P1u04lTu"
      },
      "execution_count": 17,
      "outputs": []
    },
    {
      "cell_type": "code",
      "source": [
        "spk_drivers = spark.read.option(\"header\",\"true\").option(\"inferSchema\", \"true\") .csv(\"drivers.csv\")"
      ],
      "metadata": {
        "id": "3Qq9qJyUjfVi"
      },
      "execution_count": 18,
      "outputs": []
    },
    {
      "cell_type": "code",
      "source": [
        "spk_constructors = spark.read.option(\"header\",\"true\").option(\"inferSchema\", \"true\") .csv(\"constructors.csv\")"
      ],
      "metadata": {
        "id": "PCFMk37ljmaP"
      },
      "execution_count": 19,
      "outputs": []
    },
    {
      "cell_type": "code",
      "source": [
        "import pandas as pd\n",
        "df_results = pd.read_csv(\"/content/results.csv\")"
      ],
      "metadata": {
        "id": "Z_0Szwsd8968"
      },
      "execution_count": 20,
      "outputs": []
    },
    {
      "cell_type": "code",
      "source": [
        "df_results"
      ],
      "metadata": {
        "id": "jJD4daNB9os1",
        "outputId": "3a6a368a-de3e-48b6-be20-9e1841893c0c",
        "colab": {
          "base_uri": "https://localhost:8080/",
          "height": 423
        }
      },
      "execution_count": 15,
      "outputs": [
        {
          "output_type": "execute_result",
          "data": {
            "text/plain": [
              "       resultId  raceId  driverId  constructorId number  grid position  \\\n",
              "0             1      18         1              1     22     1        1   \n",
              "1             2      18         2              2      3     5        2   \n",
              "2             3      18         3              3      7     7        3   \n",
              "3             4      18         4              4      5    11        4   \n",
              "4             5      18         5              1     23     3        5   \n",
              "...         ...     ...       ...            ...    ...   ...      ...   \n",
              "25655     25661    1086       825            210     20    13       16   \n",
              "25656     25662    1086       848              3     23    17       17   \n",
              "25657     25663    1086       849              3      6    19       18   \n",
              "25658     25664    1086       852            213     22    16       19   \n",
              "25659     25665    1086       822             51     77     8       20   \n",
              "\n",
              "      positionText  positionOrder  points  laps         time milliseconds  \\\n",
              "0                1              1    10.0    58  1:34:50.616      5690616   \n",
              "1                2              2     8.0    58       +5.478      5696094   \n",
              "2                3              3     6.0    58       +8.163      5698779   \n",
              "3                4              4     5.0    58      +17.181      5707797   \n",
              "4                5              5     4.0    58      +18.014      5708630   \n",
              "...            ...            ...     ...   ...          ...          ...   \n",
              "25655           16             16     0.0    69           \\N           \\N   \n",
              "25656           17             17     0.0    69           \\N           \\N   \n",
              "25657           18             18     0.0    69           \\N           \\N   \n",
              "25658           19             19     0.0    68           \\N           \\N   \n",
              "25659           20             20     0.0    65           \\N           \\N   \n",
              "\n",
              "      fastestLap rank fastestLapTime fastestLapSpeed  statusId  \n",
              "0             39    2       1:27.452         218.300         1  \n",
              "1             41    3       1:27.739         217.586         1  \n",
              "2             41    5       1:28.090         216.719         1  \n",
              "3             58    7       1:28.603         215.464         1  \n",
              "4             43    1       1:27.418         218.385         1  \n",
              "...          ...  ...            ...             ...       ...  \n",
              "25655         37   15       1:23.511         188.856        11  \n",
              "25656         43   12       1:23.047         189.911        11  \n",
              "25657         60    8       1:22.478         191.221        11  \n",
              "25658         58   16       1:23.538         188.795        12  \n",
              "25659         60   19       1:24.002         187.752       131  \n",
              "\n",
              "[25660 rows x 18 columns]"
            ],
            "text/html": [
              "\n",
              "  <div id=\"df-a2a21ef9-0756-4878-adb6-3e65635cb1d2\">\n",
              "    <div class=\"colab-df-container\">\n",
              "      <div>\n",
              "<style scoped>\n",
              "    .dataframe tbody tr th:only-of-type {\n",
              "        vertical-align: middle;\n",
              "    }\n",
              "\n",
              "    .dataframe tbody tr th {\n",
              "        vertical-align: top;\n",
              "    }\n",
              "\n",
              "    .dataframe thead th {\n",
              "        text-align: right;\n",
              "    }\n",
              "</style>\n",
              "<table border=\"1\" class=\"dataframe\">\n",
              "  <thead>\n",
              "    <tr style=\"text-align: right;\">\n",
              "      <th></th>\n",
              "      <th>resultId</th>\n",
              "      <th>raceId</th>\n",
              "      <th>driverId</th>\n",
              "      <th>constructorId</th>\n",
              "      <th>number</th>\n",
              "      <th>grid</th>\n",
              "      <th>position</th>\n",
              "      <th>positionText</th>\n",
              "      <th>positionOrder</th>\n",
              "      <th>points</th>\n",
              "      <th>laps</th>\n",
              "      <th>time</th>\n",
              "      <th>milliseconds</th>\n",
              "      <th>fastestLap</th>\n",
              "      <th>rank</th>\n",
              "      <th>fastestLapTime</th>\n",
              "      <th>fastestLapSpeed</th>\n",
              "      <th>statusId</th>\n",
              "    </tr>\n",
              "  </thead>\n",
              "  <tbody>\n",
              "    <tr>\n",
              "      <th>0</th>\n",
              "      <td>1</td>\n",
              "      <td>18</td>\n",
              "      <td>1</td>\n",
              "      <td>1</td>\n",
              "      <td>22</td>\n",
              "      <td>1</td>\n",
              "      <td>1</td>\n",
              "      <td>1</td>\n",
              "      <td>1</td>\n",
              "      <td>10.0</td>\n",
              "      <td>58</td>\n",
              "      <td>1:34:50.616</td>\n",
              "      <td>5690616</td>\n",
              "      <td>39</td>\n",
              "      <td>2</td>\n",
              "      <td>1:27.452</td>\n",
              "      <td>218.300</td>\n",
              "      <td>1</td>\n",
              "    </tr>\n",
              "    <tr>\n",
              "      <th>1</th>\n",
              "      <td>2</td>\n",
              "      <td>18</td>\n",
              "      <td>2</td>\n",
              "      <td>2</td>\n",
              "      <td>3</td>\n",
              "      <td>5</td>\n",
              "      <td>2</td>\n",
              "      <td>2</td>\n",
              "      <td>2</td>\n",
              "      <td>8.0</td>\n",
              "      <td>58</td>\n",
              "      <td>+5.478</td>\n",
              "      <td>5696094</td>\n",
              "      <td>41</td>\n",
              "      <td>3</td>\n",
              "      <td>1:27.739</td>\n",
              "      <td>217.586</td>\n",
              "      <td>1</td>\n",
              "    </tr>\n",
              "    <tr>\n",
              "      <th>2</th>\n",
              "      <td>3</td>\n",
              "      <td>18</td>\n",
              "      <td>3</td>\n",
              "      <td>3</td>\n",
              "      <td>7</td>\n",
              "      <td>7</td>\n",
              "      <td>3</td>\n",
              "      <td>3</td>\n",
              "      <td>3</td>\n",
              "      <td>6.0</td>\n",
              "      <td>58</td>\n",
              "      <td>+8.163</td>\n",
              "      <td>5698779</td>\n",
              "      <td>41</td>\n",
              "      <td>5</td>\n",
              "      <td>1:28.090</td>\n",
              "      <td>216.719</td>\n",
              "      <td>1</td>\n",
              "    </tr>\n",
              "    <tr>\n",
              "      <th>3</th>\n",
              "      <td>4</td>\n",
              "      <td>18</td>\n",
              "      <td>4</td>\n",
              "      <td>4</td>\n",
              "      <td>5</td>\n",
              "      <td>11</td>\n",
              "      <td>4</td>\n",
              "      <td>4</td>\n",
              "      <td>4</td>\n",
              "      <td>5.0</td>\n",
              "      <td>58</td>\n",
              "      <td>+17.181</td>\n",
              "      <td>5707797</td>\n",
              "      <td>58</td>\n",
              "      <td>7</td>\n",
              "      <td>1:28.603</td>\n",
              "      <td>215.464</td>\n",
              "      <td>1</td>\n",
              "    </tr>\n",
              "    <tr>\n",
              "      <th>4</th>\n",
              "      <td>5</td>\n",
              "      <td>18</td>\n",
              "      <td>5</td>\n",
              "      <td>1</td>\n",
              "      <td>23</td>\n",
              "      <td>3</td>\n",
              "      <td>5</td>\n",
              "      <td>5</td>\n",
              "      <td>5</td>\n",
              "      <td>4.0</td>\n",
              "      <td>58</td>\n",
              "      <td>+18.014</td>\n",
              "      <td>5708630</td>\n",
              "      <td>43</td>\n",
              "      <td>1</td>\n",
              "      <td>1:27.418</td>\n",
              "      <td>218.385</td>\n",
              "      <td>1</td>\n",
              "    </tr>\n",
              "    <tr>\n",
              "      <th>...</th>\n",
              "      <td>...</td>\n",
              "      <td>...</td>\n",
              "      <td>...</td>\n",
              "      <td>...</td>\n",
              "      <td>...</td>\n",
              "      <td>...</td>\n",
              "      <td>...</td>\n",
              "      <td>...</td>\n",
              "      <td>...</td>\n",
              "      <td>...</td>\n",
              "      <td>...</td>\n",
              "      <td>...</td>\n",
              "      <td>...</td>\n",
              "      <td>...</td>\n",
              "      <td>...</td>\n",
              "      <td>...</td>\n",
              "      <td>...</td>\n",
              "      <td>...</td>\n",
              "    </tr>\n",
              "    <tr>\n",
              "      <th>25655</th>\n",
              "      <td>25661</td>\n",
              "      <td>1086</td>\n",
              "      <td>825</td>\n",
              "      <td>210</td>\n",
              "      <td>20</td>\n",
              "      <td>13</td>\n",
              "      <td>16</td>\n",
              "      <td>16</td>\n",
              "      <td>16</td>\n",
              "      <td>0.0</td>\n",
              "      <td>69</td>\n",
              "      <td>\\N</td>\n",
              "      <td>\\N</td>\n",
              "      <td>37</td>\n",
              "      <td>15</td>\n",
              "      <td>1:23.511</td>\n",
              "      <td>188.856</td>\n",
              "      <td>11</td>\n",
              "    </tr>\n",
              "    <tr>\n",
              "      <th>25656</th>\n",
              "      <td>25662</td>\n",
              "      <td>1086</td>\n",
              "      <td>848</td>\n",
              "      <td>3</td>\n",
              "      <td>23</td>\n",
              "      <td>17</td>\n",
              "      <td>17</td>\n",
              "      <td>17</td>\n",
              "      <td>17</td>\n",
              "      <td>0.0</td>\n",
              "      <td>69</td>\n",
              "      <td>\\N</td>\n",
              "      <td>\\N</td>\n",
              "      <td>43</td>\n",
              "      <td>12</td>\n",
              "      <td>1:23.047</td>\n",
              "      <td>189.911</td>\n",
              "      <td>11</td>\n",
              "    </tr>\n",
              "    <tr>\n",
              "      <th>25657</th>\n",
              "      <td>25663</td>\n",
              "      <td>1086</td>\n",
              "      <td>849</td>\n",
              "      <td>3</td>\n",
              "      <td>6</td>\n",
              "      <td>19</td>\n",
              "      <td>18</td>\n",
              "      <td>18</td>\n",
              "      <td>18</td>\n",
              "      <td>0.0</td>\n",
              "      <td>69</td>\n",
              "      <td>\\N</td>\n",
              "      <td>\\N</td>\n",
              "      <td>60</td>\n",
              "      <td>8</td>\n",
              "      <td>1:22.478</td>\n",
              "      <td>191.221</td>\n",
              "      <td>11</td>\n",
              "    </tr>\n",
              "    <tr>\n",
              "      <th>25658</th>\n",
              "      <td>25664</td>\n",
              "      <td>1086</td>\n",
              "      <td>852</td>\n",
              "      <td>213</td>\n",
              "      <td>22</td>\n",
              "      <td>16</td>\n",
              "      <td>19</td>\n",
              "      <td>19</td>\n",
              "      <td>19</td>\n",
              "      <td>0.0</td>\n",
              "      <td>68</td>\n",
              "      <td>\\N</td>\n",
              "      <td>\\N</td>\n",
              "      <td>58</td>\n",
              "      <td>16</td>\n",
              "      <td>1:23.538</td>\n",
              "      <td>188.795</td>\n",
              "      <td>12</td>\n",
              "    </tr>\n",
              "    <tr>\n",
              "      <th>25659</th>\n",
              "      <td>25665</td>\n",
              "      <td>1086</td>\n",
              "      <td>822</td>\n",
              "      <td>51</td>\n",
              "      <td>77</td>\n",
              "      <td>8</td>\n",
              "      <td>20</td>\n",
              "      <td>20</td>\n",
              "      <td>20</td>\n",
              "      <td>0.0</td>\n",
              "      <td>65</td>\n",
              "      <td>\\N</td>\n",
              "      <td>\\N</td>\n",
              "      <td>60</td>\n",
              "      <td>19</td>\n",
              "      <td>1:24.002</td>\n",
              "      <td>187.752</td>\n",
              "      <td>131</td>\n",
              "    </tr>\n",
              "  </tbody>\n",
              "</table>\n",
              "<p>25660 rows × 18 columns</p>\n",
              "</div>\n",
              "      <button class=\"colab-df-convert\" onclick=\"convertToInteractive('df-a2a21ef9-0756-4878-adb6-3e65635cb1d2')\"\n",
              "              title=\"Convert this dataframe to an interactive table.\"\n",
              "              style=\"display:none;\">\n",
              "        \n",
              "  <svg xmlns=\"http://www.w3.org/2000/svg\" height=\"24px\"viewBox=\"0 0 24 24\"\n",
              "       width=\"24px\">\n",
              "    <path d=\"M0 0h24v24H0V0z\" fill=\"none\"/>\n",
              "    <path d=\"M18.56 5.44l.94 2.06.94-2.06 2.06-.94-2.06-.94-.94-2.06-.94 2.06-2.06.94zm-11 1L8.5 8.5l.94-2.06 2.06-.94-2.06-.94L8.5 2.5l-.94 2.06-2.06.94zm10 10l.94 2.06.94-2.06 2.06-.94-2.06-.94-.94-2.06-.94 2.06-2.06.94z\"/><path d=\"M17.41 7.96l-1.37-1.37c-.4-.4-.92-.59-1.43-.59-.52 0-1.04.2-1.43.59L10.3 9.45l-7.72 7.72c-.78.78-.78 2.05 0 2.83L4 21.41c.39.39.9.59 1.41.59.51 0 1.02-.2 1.41-.59l7.78-7.78 2.81-2.81c.8-.78.8-2.07 0-2.86zM5.41 20L4 18.59l7.72-7.72 1.47 1.35L5.41 20z\"/>\n",
              "  </svg>\n",
              "      </button>\n",
              "      \n",
              "  <style>\n",
              "    .colab-df-container {\n",
              "      display:flex;\n",
              "      flex-wrap:wrap;\n",
              "      gap: 12px;\n",
              "    }\n",
              "\n",
              "    .colab-df-convert {\n",
              "      background-color: #E8F0FE;\n",
              "      border: none;\n",
              "      border-radius: 50%;\n",
              "      cursor: pointer;\n",
              "      display: none;\n",
              "      fill: #1967D2;\n",
              "      height: 32px;\n",
              "      padding: 0 0 0 0;\n",
              "      width: 32px;\n",
              "    }\n",
              "\n",
              "    .colab-df-convert:hover {\n",
              "      background-color: #E2EBFA;\n",
              "      box-shadow: 0px 1px 2px rgba(60, 64, 67, 0.3), 0px 1px 3px 1px rgba(60, 64, 67, 0.15);\n",
              "      fill: #174EA6;\n",
              "    }\n",
              "\n",
              "    [theme=dark] .colab-df-convert {\n",
              "      background-color: #3B4455;\n",
              "      fill: #D2E3FC;\n",
              "    }\n",
              "\n",
              "    [theme=dark] .colab-df-convert:hover {\n",
              "      background-color: #434B5C;\n",
              "      box-shadow: 0px 1px 3px 1px rgba(0, 0, 0, 0.15);\n",
              "      filter: drop-shadow(0px 1px 2px rgba(0, 0, 0, 0.3));\n",
              "      fill: #FFFFFF;\n",
              "    }\n",
              "  </style>\n",
              "\n",
              "      <script>\n",
              "        const buttonEl =\n",
              "          document.querySelector('#df-a2a21ef9-0756-4878-adb6-3e65635cb1d2 button.colab-df-convert');\n",
              "        buttonEl.style.display =\n",
              "          google.colab.kernel.accessAllowed ? 'block' : 'none';\n",
              "\n",
              "        async function convertToInteractive(key) {\n",
              "          const element = document.querySelector('#df-a2a21ef9-0756-4878-adb6-3e65635cb1d2');\n",
              "          const dataTable =\n",
              "            await google.colab.kernel.invokeFunction('convertToInteractive',\n",
              "                                                     [key], {});\n",
              "          if (!dataTable) return;\n",
              "\n",
              "          const docLinkHtml = 'Like what you see? Visit the ' +\n",
              "            '<a target=\"_blank\" href=https://colab.research.google.com/notebooks/data_table.ipynb>data table notebook</a>'\n",
              "            + ' to learn more about interactive tables.';\n",
              "          element.innerHTML = '';\n",
              "          dataTable['output_type'] = 'display_data';\n",
              "          await google.colab.output.renderOutput(dataTable, element);\n",
              "          const docLink = document.createElement('div');\n",
              "          docLink.innerHTML = docLinkHtml;\n",
              "          element.appendChild(docLink);\n",
              "        }\n",
              "      </script>\n",
              "    </div>\n",
              "  </div>\n",
              "  "
            ]
          },
          "metadata": {},
          "execution_count": 15
        }
      ]
    },
    {
      "cell_type": "markdown",
      "source": [
        "### Visualizamos schema"
      ],
      "metadata": {
        "id": "goN8SfWUj0hY"
      }
    },
    {
      "cell_type": "code",
      "source": [
        "spk_results.printSchema()"
      ],
      "metadata": {
        "id": "Phpx_gWjy0HN",
        "outputId": "7c749648-e5da-41de-f7ca-45c0be11ed86",
        "colab": {
          "base_uri": "https://localhost:8080/"
        }
      },
      "execution_count": 21,
      "outputs": [
        {
          "output_type": "stream",
          "name": "stdout",
          "text": [
            "root\n",
            " |-- resultId: integer (nullable = true)\n",
            " |-- raceId: integer (nullable = true)\n",
            " |-- driverId: integer (nullable = true)\n",
            " |-- constructorId: integer (nullable = true)\n",
            " |-- number: string (nullable = true)\n",
            " |-- grid: integer (nullable = true)\n",
            " |-- position: string (nullable = true)\n",
            " |-- positionText: string (nullable = true)\n",
            " |-- positionOrder: integer (nullable = true)\n",
            " |-- points: double (nullable = true)\n",
            " |-- laps: integer (nullable = true)\n",
            " |-- time: string (nullable = true)\n",
            " |-- milliseconds: string (nullable = true)\n",
            " |-- fastestLap: string (nullable = true)\n",
            " |-- rank: string (nullable = true)\n",
            " |-- fastestLapTime: string (nullable = true)\n",
            " |-- fastestLapSpeed: string (nullable = true)\n",
            " |-- statusId: integer (nullable = true)\n",
            "\n"
          ]
        }
      ]
    },
    {
      "cell_type": "code",
      "source": [
        "spk_results.show(5)"
      ],
      "metadata": {
        "colab": {
          "base_uri": "https://localhost:8080/"
        },
        "id": "qFktEdm-wTYt",
        "outputId": "7fd37bce-a807-41b3-edf5-8aff8a7865d7"
      },
      "execution_count": 22,
      "outputs": [
        {
          "output_type": "stream",
          "name": "stdout",
          "text": [
            "+--------+------+--------+-------------+------+----+--------+------------+-------------+------+----+-----------+------------+----------+----+--------------+---------------+--------+\n",
            "|resultId|raceId|driverId|constructorId|number|grid|position|positionText|positionOrder|points|laps|       time|milliseconds|fastestLap|rank|fastestLapTime|fastestLapSpeed|statusId|\n",
            "+--------+------+--------+-------------+------+----+--------+------------+-------------+------+----+-----------+------------+----------+----+--------------+---------------+--------+\n",
            "|       1|    18|       1|            1|    22|   1|       1|           1|            1|  10.0|  58|1:34:50.616|     5690616|        39|   2|      1:27.452|        218.300|       1|\n",
            "|       2|    18|       2|            2|     3|   5|       2|           2|            2|   8.0|  58|     +5.478|     5696094|        41|   3|      1:27.739|        217.586|       1|\n",
            "|       3|    18|       3|            3|     7|   7|       3|           3|            3|   6.0|  58|     +8.163|     5698779|        41|   5|      1:28.090|        216.719|       1|\n",
            "|       4|    18|       4|            4|     5|  11|       4|           4|            4|   5.0|  58|    +17.181|     5707797|        58|   7|      1:28.603|        215.464|       1|\n",
            "|       5|    18|       5|            1|    23|   3|       5|           5|            5|   4.0|  58|    +18.014|     5708630|        43|   1|      1:27.418|        218.385|       1|\n",
            "+--------+------+--------+-------------+------+----+--------+------------+-------------+------+----+-----------+------------+----------+----+--------------+---------------+--------+\n",
            "only showing top 5 rows\n",
            "\n"
          ]
        }
      ]
    },
    {
      "cell_type": "code",
      "source": [
        "spk_drivers.printSchema()"
      ],
      "metadata": {
        "id": "uC-1pnRkj79R",
        "outputId": "5aebafb7-5434-47b0-e83c-8ac424fa0577",
        "colab": {
          "base_uri": "https://localhost:8080/"
        }
      },
      "execution_count": 23,
      "outputs": [
        {
          "output_type": "stream",
          "name": "stdout",
          "text": [
            "root\n",
            " |-- driverId: integer (nullable = true)\n",
            " |-- driverRef: string (nullable = true)\n",
            " |-- number: string (nullable = true)\n",
            " |-- code: string (nullable = true)\n",
            " |-- forename: string (nullable = true)\n",
            " |-- surname: string (nullable = true)\n",
            " |-- dob: date (nullable = true)\n",
            " |-- nationality: string (nullable = true)\n",
            " |-- url: string (nullable = true)\n",
            "\n"
          ]
        }
      ]
    },
    {
      "cell_type": "code",
      "source": [
        "spk_drivers.show(5)"
      ],
      "metadata": {
        "id": "0_WQ_2OqkLAe",
        "outputId": "3dfd2335-2a6e-4ea3-d5a4-e51b0fda8271",
        "colab": {
          "base_uri": "https://localhost:8080/"
        }
      },
      "execution_count": 24,
      "outputs": [
        {
          "output_type": "stream",
          "name": "stdout",
          "text": [
            "+--------+----------+------+----+--------+----------+----------+-----------+--------------------+\n",
            "|driverId| driverRef|number|code|forename|   surname|       dob|nationality|                 url|\n",
            "+--------+----------+------+----+--------+----------+----------+-----------+--------------------+\n",
            "|       1|  hamilton|    44| HAM|   Lewis|  Hamilton|1985-01-07|    British|http://en.wikiped...|\n",
            "|       2|  heidfeld|    \\N| HEI|    Nick|  Heidfeld|1977-05-10|     German|http://en.wikiped...|\n",
            "|       3|   rosberg|     6| ROS|    Nico|   Rosberg|1985-06-27|     German|http://en.wikiped...|\n",
            "|       4|    alonso|    14| ALO|Fernando|    Alonso|1981-07-29|    Spanish|http://en.wikiped...|\n",
            "|       5|kovalainen|    \\N| KOV|  Heikki|Kovalainen|1981-10-19|    Finnish|http://en.wikiped...|\n",
            "+--------+----------+------+----+--------+----------+----------+-----------+--------------------+\n",
            "only showing top 5 rows\n",
            "\n"
          ]
        }
      ]
    },
    {
      "cell_type": "code",
      "source": [
        "spk_constructors.printSchema()"
      ],
      "metadata": {
        "id": "yWE8b8Nij_wK",
        "outputId": "3c0ad5d4-c00f-4daf-d690-57a12771646f",
        "colab": {
          "base_uri": "https://localhost:8080/"
        }
      },
      "execution_count": 25,
      "outputs": [
        {
          "output_type": "stream",
          "name": "stdout",
          "text": [
            "root\n",
            " |-- constructorId: integer (nullable = true)\n",
            " |-- constructorRef: string (nullable = true)\n",
            " |-- name: string (nullable = true)\n",
            " |-- nationality: string (nullable = true)\n",
            " |-- url: string (nullable = true)\n",
            "\n"
          ]
        }
      ]
    },
    {
      "cell_type": "code",
      "source": [
        "spk_constructors.show(5)"
      ],
      "metadata": {
        "id": "U1cqHJLokSzr",
        "outputId": "5759ce7b-5cc1-4f7f-b43b-42f9597f0051",
        "colab": {
          "base_uri": "https://localhost:8080/"
        }
      },
      "execution_count": 26,
      "outputs": [
        {
          "output_type": "stream",
          "name": "stdout",
          "text": [
            "+-------------+--------------+----------+-----------+--------------------+\n",
            "|constructorId|constructorRef|      name|nationality|                 url|\n",
            "+-------------+--------------+----------+-----------+--------------------+\n",
            "|            1|       mclaren|   McLaren|    British|http://en.wikiped...|\n",
            "|            2|    bmw_sauber|BMW Sauber|     German|http://en.wikiped...|\n",
            "|            3|      williams|  Williams|    British|http://en.wikiped...|\n",
            "|            4|       renault|   Renault|     French|http://en.wikiped...|\n",
            "|            5|    toro_rosso|Toro Rosso|    Italian|http://en.wikiped...|\n",
            "+-------------+--------------+----------+-----------+--------------------+\n",
            "only showing top 5 rows\n",
            "\n"
          ]
        }
      ]
    },
    {
      "cell_type": "markdown",
      "source": [
        "### Insertar en la tabla driver_results los corredores con mayor cantidad de puntos en la historia."
      ],
      "metadata": {
        "id": "9ZK8KNh3w9j8"
      }
    },
    {
      "cell_type": "code",
      "source": [
        "# Creamos vista\n",
        "spk_results.createOrReplaceTempView(\"results\")\n",
        "spk_drivers.createOrReplaceTempView(\"drivers\")"
      ],
      "metadata": {
        "id": "zRX6N9lKxIUB"
      },
      "execution_count": 27,
      "outputs": []
    },
    {
      "cell_type": "code",
      "source": [
        "query = \"\"\"SELECT results.driverId, drivers.driverRef, SUM(results.points) as total\n",
        "           FROM results \n",
        "           JOIN drivers ON results.driverId = drivers.driverId\n",
        "           GROUP BY results.driverId, drivers.driverRef\n",
        "           ORDER BY total DESC \"\"\"\n",
        "\n",
        "df_pilotos = spark.sql(query)"
      ],
      "metadata": {
        "id": "S8ClQa2e0Q50"
      },
      "execution_count": 28,
      "outputs": []
    },
    {
      "cell_type": "code",
      "source": [
        "df_pilotos.show()"
      ],
      "metadata": {
        "id": "Lr7OZsO5yc2S",
        "outputId": "cb89d8da-9a76-489b-d7aa-be78d5ee4693",
        "colab": {
          "base_uri": "https://localhost:8080/"
        }
      },
      "execution_count": 29,
      "outputs": [
        {
          "output_type": "stream",
          "name": "stdout",
          "text": [
            "+--------+------------------+------+\n",
            "|driverId|         driverRef| total|\n",
            "+--------+------------------+------+\n",
            "|       1|          hamilton|4308.5|\n",
            "|      20|            vettel|3077.0|\n",
            "|       4|            alonso|2021.0|\n",
            "|       8|         raikkonen|1873.0|\n",
            "|     830|    max_verstappen|1792.5|\n",
            "|     822|            bottas|1775.0|\n",
            "|       3|           rosberg|1594.5|\n",
            "|      30|michael_schumacher|1566.0|\n",
            "|     817|         ricciardo|1289.0|\n",
            "|      18|            button|1235.0|\n",
            "|      13|             massa|1167.0|\n",
            "|     815|             perez|1059.0|\n",
            "|      17|            webber|1047.5|\n",
            "|     117|             prost| 798.5|\n",
            "|     844|           leclerc| 724.0|\n",
            "|     832|             sainz| 680.5|\n",
            "|      22|       barrichello| 658.0|\n",
            "|     102|             senna| 614.0|\n",
            "|      14|         coulthard| 535.0|\n",
            "|     807|        hulkenberg| 521.0|\n",
            "+--------+------------------+------+\n",
            "only showing top 20 rows\n",
            "\n"
          ]
        }
      ]
    },
    {
      "cell_type": "markdown",
      "source": [
        "### Insertar en la tabla constructor_result quienes obtuvieron más puntos en el Spanish Grand Prix en el año 1991"
      ],
      "metadata": {
        "id": "q_bdIM799CV8"
      }
    },
    {
      "cell_type": "code",
      "source": [
        "# Creamos vista\n",
        "spk_constructors.createOrReplaceTempView(\"team\")"
      ],
      "metadata": {
        "id": "IPvAoMw37o3p"
      },
      "execution_count": 30,
      "outputs": []
    },
    {
      "cell_type": "code",
      "source": [
        "query = \"\"\"SELECT results.constructorId, team.constructorRef, SUM(results.points) as total\n",
        "           FROM results \n",
        "           JOIN team ON results.constructorId = team.constructorId\n",
        "           WHERE results.raceId=318\n",
        "           GROUP BY results.constructorId, team.constructorRef\n",
        "           ORDER BY total DESC \"\"\"\n",
        "\n",
        "df_SGP = spark.sql(query)"
      ],
      "metadata": {
        "id": "AgNmouBj9QUz"
      },
      "execution_count": 33,
      "outputs": []
    },
    {
      "cell_type": "code",
      "source": [
        "df_SGP.show(30)"
      ],
      "metadata": {
        "id": "bq4D685i-ZpW",
        "outputId": "c475abff-48df-45cf-c3fc-01c137f1ad32",
        "colab": {
          "base_uri": "https://localhost:8080/"
        }
      },
      "execution_count": 34,
      "outputs": [
        {
          "output_type": "stream",
          "name": "stdout",
          "text": [
            "+-------------+--------------+-----+\n",
            "|constructorId|constructorRef|total|\n",
            "+-------------+--------------+-----+\n",
            "|            3|      williams| 14.0|\n",
            "|            6|       ferrari|  9.0|\n",
            "|            1|       mclaren|  2.0|\n",
            "|           22|      benetton|  1.0|\n",
            "|           36|     fondmetal|  0.0|\n",
            "|           29|      footwork|  0.0|\n",
            "|           32|    team_lotus|  0.0|\n",
            "|           34|       brabham|  0.0|\n",
            "|           35|       dallara|  0.0|\n",
            "|           17|        jordan|  0.0|\n",
            "|           40|         lambo|  0.0|\n",
            "|           39|           ags|  0.0|\n",
            "|           25|       tyrrell|  0.0|\n",
            "|           26|          lola|  0.0|\n",
            "|           27|        ligier|  0.0|\n",
            "|           41|        leyton|  0.0|\n",
            "|           18|       minardi|  0.0|\n",
            "+-------------+--------------+-----+\n",
            "\n"
          ]
        }
      ]
    },
    {
      "cell_type": "code",
      "source": [],
      "metadata": {
        "id": "En93GiM4AqBx"
      },
      "execution_count": null,
      "outputs": []
    }
  ]
}