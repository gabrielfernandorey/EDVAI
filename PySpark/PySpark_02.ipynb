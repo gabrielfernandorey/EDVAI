{
  "nbformat": 4,
  "nbformat_minor": 0,
  "metadata": {
    "colab": {
      "provenance": [],
      "authorship_tag": "ABX9TyNfgVxLYpprw0U79Rs6h1Gj",
      "include_colab_link": true
    },
    "kernelspec": {
      "name": "python3",
      "display_name": "Python 3"
    },
    "language_info": {
      "name": "python"
    }
  },
  "cells": [
    {
      "cell_type": "markdown",
      "metadata": {
        "id": "view-in-github",
        "colab_type": "text"
      },
      "source": [
        "<a href=\"https://colab.research.google.com/github/gabrielfernandorey/EDVAI/blob/main/PySpark/PySpark_02.ipynb\" target=\"_parent\"><img src=\"https://colab.research.google.com/assets/colab-badge.svg\" alt=\"Open In Colab\"/></a>"
      ]
    },
    {
      "cell_type": "markdown",
      "source": [
        "# PySpark"
      ],
      "metadata": {
        "id": "oEi-fQEruZwC"
      }
    },
    {
      "cell_type": "markdown",
      "source": [
        "### Instalación y carga de Pyspark"
      ],
      "metadata": {
        "id": "RAb-HoncufBG"
      }
    },
    {
      "cell_type": "code",
      "execution_count": 1,
      "metadata": {
        "colab": {
          "base_uri": "https://localhost:8080/"
        },
        "id": "yLHCz25guPhi",
        "outputId": "eb7457a5-6f47-4cb5-fe33-a310eb588ef2"
      },
      "outputs": [
        {
          "output_type": "stream",
          "name": "stdout",
          "text": [
            "Looking in indexes: https://pypi.org/simple, https://us-python.pkg.dev/colab-wheels/public/simple/\n",
            "Collecting pyspark\n",
            "  Downloading pyspark-3.4.0.tar.gz (310.8 MB)\n",
            "\u001b[2K     \u001b[90m━━━━━━━━━━━━━━━━━━━━━━━━━━━━━━━━━━━━━━━\u001b[0m \u001b[32m310.8/310.8 MB\u001b[0m \u001b[31m4.0 MB/s\u001b[0m eta \u001b[36m0:00:00\u001b[0m\n",
            "\u001b[?25h  Preparing metadata (setup.py) ... \u001b[?25l\u001b[?25hdone\n",
            "Requirement already satisfied: py4j==0.10.9.7 in /usr/local/lib/python3.10/dist-packages (from pyspark) (0.10.9.7)\n",
            "Building wheels for collected packages: pyspark\n",
            "  Building wheel for pyspark (setup.py) ... \u001b[?25l\u001b[?25hdone\n",
            "  Created wheel for pyspark: filename=pyspark-3.4.0-py2.py3-none-any.whl size=311317145 sha256=07a978b557063632b0b17d5c5bebb85a4cc29d003a3f2c0eac784803796da279\n",
            "  Stored in directory: /root/.cache/pip/wheels/7b/1b/4b/3363a1d04368e7ff0d408e57ff57966fcdf00583774e761327\n",
            "Successfully built pyspark\n",
            "Installing collected packages: pyspark\n",
            "Successfully installed pyspark-3.4.0\n"
          ]
        }
      ],
      "source": [
        "!pip install pyspark"
      ]
    },
    {
      "cell_type": "code",
      "source": [
        "from pyspark.sql import SparkSession"
      ],
      "metadata": {
        "id": "OxYbGIUDujGu"
      },
      "execution_count": 2,
      "outputs": []
    },
    {
      "cell_type": "code",
      "source": [
        "spark = SparkSession.builder.appName('test_pyspark').getOrCreate()"
      ],
      "metadata": {
        "id": "bPXjeEj7usAm"
      },
      "execution_count": 3,
      "outputs": []
    },
    {
      "cell_type": "markdown",
      "source": [
        "### Librerías necesarias"
      ],
      "metadata": {
        "id": "sZp8-N6eu9pI"
      }
    },
    {
      "cell_type": "code",
      "source": [
        "from pyspark.sql.types import StringType, BooleanType, FloatType, IntegerType, DoubleType, DateType\n",
        "import pyspark.sql.functions as F\n",
        "from pyspark.sql.functions import sum, col, desc, asc, count, countDistinct, round, max, min, avg\n",
        "from pyspark.sql.functions import to_timestamp,date_format\n",
        "from pyspark.sql.window import Window\n",
        "\n",
        "from pyspark.ml import Transformer\n",
        "from pyspark.ml.param.shared import HasInputCol, HasOutputCol, HasInputCols, HasOutputCols, Param, Params, TypeConverters\n",
        "from pyspark import keyword_only\n",
        "from pyspark.ml import Pipeline, PipelineModel\n",
        "from pyspark.ml import Model\n",
        "from pyspark.ml import Estimator\n",
        "\n",
        "from datetime import datetime\n",
        "import numpy as np"
      ],
      "metadata": {
        "id": "M1YNnp6Cu5Rk"
      },
      "execution_count": 4,
      "outputs": []
    },
    {
      "cell_type": "markdown",
      "source": [
        "### Importamos datos"
      ],
      "metadata": {
        "id": "Pw2j9WwvvuiT"
      }
    },
    {
      "cell_type": "code",
      "source": [
        "!wget https://data-engineer-edvai.s3.amazonaws.com/f1/results.csv"
      ],
      "metadata": {
        "id": "gLOW3Dncro0h",
        "outputId": "ea229eda-0da7-4846-e6f1-0e6f00a91510",
        "colab": {
          "base_uri": "https://localhost:8080/"
        }
      },
      "execution_count": 5,
      "outputs": [
        {
          "output_type": "stream",
          "name": "stdout",
          "text": [
            "--2023-05-03 21:38:02--  https://data-engineer-edvai.s3.amazonaws.com/f1/results.csv\n",
            "Resolving data-engineer-edvai.s3.amazonaws.com (data-engineer-edvai.s3.amazonaws.com)... 52.216.1.240, 52.216.177.147, 3.5.29.167, ...\n",
            "Connecting to data-engineer-edvai.s3.amazonaws.com (data-engineer-edvai.s3.amazonaws.com)|52.216.1.240|:443... connected.\n",
            "HTTP request sent, awaiting response... 200 OK\n",
            "Length: 1633624 (1.6M) [text/csv]\n",
            "Saving to: ‘results.csv’\n",
            "\n",
            "\rresults.csv           0%[                    ]       0  --.-KB/s               \rresults.csv         100%[===================>]   1.56M  --.-KB/s    in 0.02s   \n",
            "\n",
            "2023-05-03 21:38:03 (103 MB/s) - ‘results.csv’ saved [1633624/1633624]\n",
            "\n"
          ]
        }
      ]
    },
    {
      "cell_type": "code",
      "source": [
        "!wget https://data-engineer-edvai.s3.amazonaws.com/f1/drivers.csv"
      ],
      "metadata": {
        "id": "S8PJS1ISjPyi",
        "outputId": "84923de2-ffa8-4d1b-806b-656a4e8e4d6c",
        "colab": {
          "base_uri": "https://localhost:8080/"
        }
      },
      "execution_count": 6,
      "outputs": [
        {
          "output_type": "stream",
          "name": "stdout",
          "text": [
            "--2023-05-03 21:38:15--  https://data-engineer-edvai.s3.amazonaws.com/f1/drivers.csv\n",
            "Resolving data-engineer-edvai.s3.amazonaws.com (data-engineer-edvai.s3.amazonaws.com)... 52.216.217.201, 52.216.51.193, 52.217.123.17, ...\n",
            "Connecting to data-engineer-edvai.s3.amazonaws.com (data-engineer-edvai.s3.amazonaws.com)|52.216.217.201|:443... connected.\n",
            "HTTP request sent, awaiting response... 200 OK\n",
            "Length: 93568 (91K) [text/csv]\n",
            "Saving to: ‘drivers.csv’\n",
            "\n",
            "\rdrivers.csv           0%[                    ]       0  --.-KB/s               \rdrivers.csv         100%[===================>]  91.38K  --.-KB/s    in 0.005s  \n",
            "\n",
            "2023-05-03 21:38:15 (17.6 MB/s) - ‘drivers.csv’ saved [93568/93568]\n",
            "\n"
          ]
        }
      ]
    },
    {
      "cell_type": "code",
      "source": [
        "!wget https://data-engineer-edvai.s3.amazonaws.com/f1/constructors.csv"
      ],
      "metadata": {
        "id": "oBSpTGQAjT6j",
        "outputId": "5cfe0207-c955-4f2f-80b9-c025ca1c8562",
        "colab": {
          "base_uri": "https://localhost:8080/"
        }
      },
      "execution_count": 7,
      "outputs": [
        {
          "output_type": "stream",
          "name": "stdout",
          "text": [
            "--2023-05-03 21:38:31--  https://data-engineer-edvai.s3.amazonaws.com/f1/constructors.csv\n",
            "Resolving data-engineer-edvai.s3.amazonaws.com (data-engineer-edvai.s3.amazonaws.com)... 52.217.232.81, 52.217.16.68, 3.5.8.173, ...\n",
            "Connecting to data-engineer-edvai.s3.amazonaws.com (data-engineer-edvai.s3.amazonaws.com)|52.217.232.81|:443... connected.\n",
            "HTTP request sent, awaiting response... 200 OK\n",
            "Length: 17384 (17K) [text/csv]\n",
            "Saving to: ‘constructors.csv’\n",
            "\n",
            "\rconstructors.csv      0%[                    ]       0  --.-KB/s               \rconstructors.csv    100%[===================>]  16.98K  --.-KB/s    in 0s      \n",
            "\n",
            "2023-05-03 21:38:31 (35.2 MB/s) - ‘constructors.csv’ saved [17384/17384]\n",
            "\n"
          ]
        }
      ]
    },
    {
      "cell_type": "code",
      "source": [
        "# Con esta alternativa algunos tipos de datos no se importan de forma adecuada\n",
        "# df = spark.read.option(\"header\",\"true\").csv(\"*.csv\")"
      ],
      "metadata": {
        "id": "ot4Z25IXvpVi"
      },
      "execution_count": null,
      "outputs": []
    },
    {
      "cell_type": "code",
      "source": [
        "# Con esta alternativa los tipos de datos se importan de forma adecuada (siempre verificar!)\n",
        "df_results = spark.read.option(\"header\",\"true\").option(\"inferSchema\", \"true\") .csv(\"results.csv\")"
      ],
      "metadata": {
        "id": "eWd_P1u04lTu"
      },
      "execution_count": 8,
      "outputs": []
    },
    {
      "cell_type": "code",
      "source": [
        "df_drivers = spark.read.option(\"header\",\"true\").option(\"inferSchema\", \"true\") .csv(\"drivers.csv\")"
      ],
      "metadata": {
        "id": "3Qq9qJyUjfVi"
      },
      "execution_count": 9,
      "outputs": []
    },
    {
      "cell_type": "code",
      "source": [
        "df_constructors = spark.read.option(\"header\",\"true\").option(\"inferSchema\", \"true\") .csv(\"constructors.csv\")"
      ],
      "metadata": {
        "id": "PCFMk37ljmaP"
      },
      "execution_count": 10,
      "outputs": []
    },
    {
      "cell_type": "markdown",
      "source": [
        "### Visualizamos schema"
      ],
      "metadata": {
        "id": "goN8SfWUj0hY"
      }
    },
    {
      "cell_type": "code",
      "source": [
        "df_results.printSchema()"
      ],
      "metadata": {
        "id": "Phpx_gWjy0HN",
        "outputId": "aa05e7f3-09e0-44cd-af31-a235ac2faff5",
        "colab": {
          "base_uri": "https://localhost:8080/"
        }
      },
      "execution_count": 11,
      "outputs": [
        {
          "output_type": "stream",
          "name": "stdout",
          "text": [
            "root\n",
            " |-- resultId: integer (nullable = true)\n",
            " |-- raceId: integer (nullable = true)\n",
            " |-- driverId: integer (nullable = true)\n",
            " |-- constructorId: integer (nullable = true)\n",
            " |-- number: string (nullable = true)\n",
            " |-- grid: integer (nullable = true)\n",
            " |-- position: string (nullable = true)\n",
            " |-- positionText: string (nullable = true)\n",
            " |-- positionOrder: integer (nullable = true)\n",
            " |-- points: double (nullable = true)\n",
            " |-- laps: integer (nullable = true)\n",
            " |-- time: string (nullable = true)\n",
            " |-- milliseconds: string (nullable = true)\n",
            " |-- fastestLap: string (nullable = true)\n",
            " |-- rank: string (nullable = true)\n",
            " |-- fastestLapTime: string (nullable = true)\n",
            " |-- fastestLapSpeed: string (nullable = true)\n",
            " |-- statusId: integer (nullable = true)\n",
            "\n"
          ]
        }
      ]
    },
    {
      "cell_type": "code",
      "source": [
        "df_results.show(5)"
      ],
      "metadata": {
        "colab": {
          "base_uri": "https://localhost:8080/"
        },
        "id": "qFktEdm-wTYt",
        "outputId": "f8cbc6f8-9639-430e-eca5-38f368fd107d"
      },
      "execution_count": 14,
      "outputs": [
        {
          "output_type": "stream",
          "name": "stdout",
          "text": [
            "+--------+------+--------+-------------+------+----+--------+------------+-------------+------+----+-----------+------------+----------+----+--------------+---------------+--------+\n",
            "|resultId|raceId|driverId|constructorId|number|grid|position|positionText|positionOrder|points|laps|       time|milliseconds|fastestLap|rank|fastestLapTime|fastestLapSpeed|statusId|\n",
            "+--------+------+--------+-------------+------+----+--------+------------+-------------+------+----+-----------+------------+----------+----+--------------+---------------+--------+\n",
            "|       1|    18|       1|            1|    22|   1|       1|           1|            1|  10.0|  58|1:34:50.616|     5690616|        39|   2|      1:27.452|        218.300|       1|\n",
            "|       2|    18|       2|            2|     3|   5|       2|           2|            2|   8.0|  58|     +5.478|     5696094|        41|   3|      1:27.739|        217.586|       1|\n",
            "|       3|    18|       3|            3|     7|   7|       3|           3|            3|   6.0|  58|     +8.163|     5698779|        41|   5|      1:28.090|        216.719|       1|\n",
            "|       4|    18|       4|            4|     5|  11|       4|           4|            4|   5.0|  58|    +17.181|     5707797|        58|   7|      1:28.603|        215.464|       1|\n",
            "|       5|    18|       5|            1|    23|   3|       5|           5|            5|   4.0|  58|    +18.014|     5708630|        43|   1|      1:27.418|        218.385|       1|\n",
            "+--------+------+--------+-------------+------+----+--------+------------+-------------+------+----+-----------+------------+----------+----+--------------+---------------+--------+\n",
            "only showing top 5 rows\n",
            "\n"
          ]
        }
      ]
    },
    {
      "cell_type": "code",
      "source": [
        "df_drivers.printSchema()"
      ],
      "metadata": {
        "id": "uC-1pnRkj79R",
        "outputId": "a6d56fd8-1ee4-45d8-ca9a-80943cdbcc95",
        "colab": {
          "base_uri": "https://localhost:8080/"
        }
      },
      "execution_count": 12,
      "outputs": [
        {
          "output_type": "stream",
          "name": "stdout",
          "text": [
            "root\n",
            " |-- driverId: integer (nullable = true)\n",
            " |-- driverRef: string (nullable = true)\n",
            " |-- number: string (nullable = true)\n",
            " |-- code: string (nullable = true)\n",
            " |-- forename: string (nullable = true)\n",
            " |-- surname: string (nullable = true)\n",
            " |-- dob: date (nullable = true)\n",
            " |-- nationality: string (nullable = true)\n",
            " |-- url: string (nullable = true)\n",
            "\n"
          ]
        }
      ]
    },
    {
      "cell_type": "code",
      "source": [
        "df_drivers.show(5)"
      ],
      "metadata": {
        "id": "0_WQ_2OqkLAe",
        "outputId": "6af701e0-198f-489c-dedc-7aef67f318e5",
        "colab": {
          "base_uri": "https://localhost:8080/"
        }
      },
      "execution_count": 15,
      "outputs": [
        {
          "output_type": "stream",
          "name": "stdout",
          "text": [
            "+--------+----------+------+----+--------+----------+----------+-----------+--------------------+\n",
            "|driverId| driverRef|number|code|forename|   surname|       dob|nationality|                 url|\n",
            "+--------+----------+------+----+--------+----------+----------+-----------+--------------------+\n",
            "|       1|  hamilton|    44| HAM|   Lewis|  Hamilton|1985-01-07|    British|http://en.wikiped...|\n",
            "|       2|  heidfeld|    \\N| HEI|    Nick|  Heidfeld|1977-05-10|     German|http://en.wikiped...|\n",
            "|       3|   rosberg|     6| ROS|    Nico|   Rosberg|1985-06-27|     German|http://en.wikiped...|\n",
            "|       4|    alonso|    14| ALO|Fernando|    Alonso|1981-07-29|    Spanish|http://en.wikiped...|\n",
            "|       5|kovalainen|    \\N| KOV|  Heikki|Kovalainen|1981-10-19|    Finnish|http://en.wikiped...|\n",
            "+--------+----------+------+----+--------+----------+----------+-----------+--------------------+\n",
            "only showing top 5 rows\n",
            "\n"
          ]
        }
      ]
    },
    {
      "cell_type": "code",
      "source": [
        "df_constructors.printSchema()"
      ],
      "metadata": {
        "id": "yWE8b8Nij_wK",
        "outputId": "eed65111-b59f-41e9-bfbd-6f31ca3dd82f",
        "colab": {
          "base_uri": "https://localhost:8080/"
        }
      },
      "execution_count": 13,
      "outputs": [
        {
          "output_type": "stream",
          "name": "stdout",
          "text": [
            "root\n",
            " |-- constructorId: integer (nullable = true)\n",
            " |-- constructorRef: string (nullable = true)\n",
            " |-- name: string (nullable = true)\n",
            " |-- nationality: string (nullable = true)\n",
            " |-- url: string (nullable = true)\n",
            "\n"
          ]
        }
      ]
    },
    {
      "cell_type": "code",
      "source": [
        "df_constructors.show(5)"
      ],
      "metadata": {
        "id": "U1cqHJLokSzr",
        "outputId": "963dd8cf-0536-4c34-c5f7-c33ec043f3c9",
        "colab": {
          "base_uri": "https://localhost:8080/"
        }
      },
      "execution_count": 17,
      "outputs": [
        {
          "output_type": "stream",
          "name": "stdout",
          "text": [
            "+-------------+--------------+----------+-----------+--------------------+\n",
            "|constructorId|constructorRef|      name|nationality|                 url|\n",
            "+-------------+--------------+----------+-----------+--------------------+\n",
            "|            1|       mclaren|   McLaren|    British|http://en.wikiped...|\n",
            "|            2|    bmw_sauber|BMW Sauber|     German|http://en.wikiped...|\n",
            "|            3|      williams|  Williams|    British|http://en.wikiped...|\n",
            "|            4|       renault|   Renault|     French|http://en.wikiped...|\n",
            "|            5|    toro_rosso|Toro Rosso|    Italian|http://en.wikiped...|\n",
            "+-------------+--------------+----------+-----------+--------------------+\n",
            "only showing top 5 rows\n",
            "\n"
          ]
        }
      ]
    },
    {
      "cell_type": "markdown",
      "source": [
        "### insertar en la tabla driver_results los corredores con mayor cantidad de puntos en la historia."
      ],
      "metadata": {
        "id": "9ZK8KNh3w9j8"
      }
    },
    {
      "cell_type": "code",
      "source": [
        "# Creamos vista\n",
        "df_results.createOrReplaceTempView(\"vista_results\")"
      ],
      "metadata": {
        "id": "zRX6N9lKxIUB"
      },
      "execution_count": 18,
      "outputs": []
    },
    {
      "cell_type": "code",
      "source": [
        "df_a = spark.sql(\"select VendorId, cast(tpep_pickup_datetime as date), cast(payment_type as int), total_amount from yellow_tripdata where payment_type = 1\")"
      ],
      "metadata": {
        "id": "TTnw0XzyxhfJ"
      },
      "execution_count": null,
      "outputs": []
    },
    {
      "cell_type": "code",
      "source": [
        "df_5.show(10)"
      ],
      "metadata": {
        "colab": {
          "base_uri": "https://localhost:8080/"
        },
        "id": "Op8PLPkDE1dY",
        "outputId": "ccec3220-dde9-4f3c-a228-5100a66c9e0e"
      },
      "execution_count": null,
      "outputs": [
        {
          "output_type": "stream",
          "name": "stdout",
          "text": [
            "+--------+--------------------+------------+------------+\n",
            "|VendorId|tpep_pickup_datetime|payment_type|total_amount|\n",
            "+--------+--------------------+------------+------------+\n",
            "|       1|          2021-01-01|           1|       51.95|\n",
            "|       1|          2021-01-01|           1|       36.35|\n",
            "|       2|          2021-01-01|           1|       24.36|\n",
            "|       1|          2021-01-01|           1|       14.15|\n",
            "|       1|          2021-01-01|           1|       18.95|\n",
            "|       2|          2021-01-01|           1|        24.3|\n",
            "|       2|          2021-01-01|           1|       10.79|\n",
            "|       2|          2021-01-01|           1|       14.16|\n",
            "|       2|          2021-01-01|           1|        10.3|\n",
            "|       2|          2021-01-01|           1|       12.09|\n",
            "+--------+--------------------+------------+------------+\n",
            "only showing top 10 rows\n",
            "\n"
          ]
        }
      ]
    }
  ]
}