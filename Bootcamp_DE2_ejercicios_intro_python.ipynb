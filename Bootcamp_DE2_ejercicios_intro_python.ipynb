{
 "cells": [
  {
   "cell_type": "markdown",
   "metadata": {
    "id": "MXV4S8C-nM5B"
   },
   "source": [
    "\n",
    "<img src=\"https://i.ibb.co/PQjhtPK/Logo-Datos-Vivos.png\" width=\"400px\"> \n",
    "\n",
    "# Bootcamp Data Engineer\n",
    "\n",
    "\n",
    "\n",
    "Seguinos en las redes para mas contenido:\n",
    " [Instagram](https://www.instagram.com/escueladedatosvivos/) | [Linkedin](https://www.linkedin.com/company/escuela-de-datos-vivos/) | [Twitter](https://twitter.com/datos_vivos) \n",
    "\n",
    "Canal de [YouTube](https://www.youtube.com/c/Escueladedatosvivosai).\n",
    "\n",
    "<br>\n",
    "\n",
    "\n",
    "\n",
    "---"
   ]
  },
  {
   "cell_type": "markdown",
   "metadata": {
    "id": "wWCV60dznwXO"
   },
   "source": [
    "# Ejercicios introductorios a Python"
   ]
  },
  {
   "cell_type": "markdown",
   "metadata": {
    "id": "S-qa_fuvh2My"
   },
   "source": [
    "## 1) Importar datos y analisis inicial"
   ]
  },
  {
   "cell_type": "markdown",
   "metadata": {
    "id": "3UPqSHWrh5tC"
   },
   "source": [
    "1.a) Importar datos y verificar datatypes\n",
    "\n",
    "https://raw.githubusercontent.com/pablo14/datasets/main/star_wars/starwars.csv"
   ]
  },
  {
   "cell_type": "code",
   "execution_count": 1,
   "metadata": {
    "id": "7DoruLUkqjKn"
   },
   "outputs": [],
   "source": [
    "import pandas as pd"
   ]
  },
  {
   "cell_type": "code",
   "execution_count": 2,
   "metadata": {},
   "outputs": [],
   "source": [
    "filename = 'https://raw.githubusercontent.com/pablo14/datasets/main/star_wars/starwars.csv'\n",
    "df = pd.read_csv(filename)"
   ]
  },
  {
   "cell_type": "code",
   "execution_count": 3,
   "metadata": {},
   "outputs": [
    {
     "data": {
      "text/html": [
       "<div>\n",
       "<style scoped>\n",
       "    .dataframe tbody tr th:only-of-type {\n",
       "        vertical-align: middle;\n",
       "    }\n",
       "\n",
       "    .dataframe tbody tr th {\n",
       "        vertical-align: top;\n",
       "    }\n",
       "\n",
       "    .dataframe thead th {\n",
       "        text-align: right;\n",
       "    }\n",
       "</style>\n",
       "<table border=\"1\" class=\"dataframe\">\n",
       "  <thead>\n",
       "    <tr style=\"text-align: right;\">\n",
       "      <th></th>\n",
       "      <th>name</th>\n",
       "      <th>height</th>\n",
       "      <th>mass</th>\n",
       "      <th>hair_color</th>\n",
       "      <th>skin_color</th>\n",
       "      <th>eye_color</th>\n",
       "      <th>birth_year</th>\n",
       "      <th>sex</th>\n",
       "      <th>gender</th>\n",
       "      <th>homeworld</th>\n",
       "      <th>species</th>\n",
       "    </tr>\n",
       "  </thead>\n",
       "  <tbody>\n",
       "    <tr>\n",
       "      <th>0</th>\n",
       "      <td>Luke Skywalker</td>\n",
       "      <td>172.0</td>\n",
       "      <td>77.0</td>\n",
       "      <td>blond</td>\n",
       "      <td>fair</td>\n",
       "      <td>blue</td>\n",
       "      <td>19.0</td>\n",
       "      <td>male</td>\n",
       "      <td>masculine</td>\n",
       "      <td>Tatooine</td>\n",
       "      <td>Human</td>\n",
       "    </tr>\n",
       "    <tr>\n",
       "      <th>1</th>\n",
       "      <td>C-3PO</td>\n",
       "      <td>167.0</td>\n",
       "      <td>75.0</td>\n",
       "      <td>NaN</td>\n",
       "      <td>gold</td>\n",
       "      <td>yellow</td>\n",
       "      <td>112.0</td>\n",
       "      <td>none</td>\n",
       "      <td>masculine</td>\n",
       "      <td>Tatooine</td>\n",
       "      <td>Droid</td>\n",
       "    </tr>\n",
       "    <tr>\n",
       "      <th>2</th>\n",
       "      <td>R2-D2</td>\n",
       "      <td>96.0</td>\n",
       "      <td>32.0</td>\n",
       "      <td>NaN</td>\n",
       "      <td>white, blue</td>\n",
       "      <td>red</td>\n",
       "      <td>33.0</td>\n",
       "      <td>none</td>\n",
       "      <td>masculine</td>\n",
       "      <td>Naboo</td>\n",
       "      <td>Droid</td>\n",
       "    </tr>\n",
       "    <tr>\n",
       "      <th>3</th>\n",
       "      <td>Darth Vader</td>\n",
       "      <td>202.0</td>\n",
       "      <td>136.0</td>\n",
       "      <td>none</td>\n",
       "      <td>white</td>\n",
       "      <td>yellow</td>\n",
       "      <td>41.9</td>\n",
       "      <td>male</td>\n",
       "      <td>masculine</td>\n",
       "      <td>Tatooine</td>\n",
       "      <td>Human</td>\n",
       "    </tr>\n",
       "    <tr>\n",
       "      <th>4</th>\n",
       "      <td>Leia Organa</td>\n",
       "      <td>150.0</td>\n",
       "      <td>49.0</td>\n",
       "      <td>brown</td>\n",
       "      <td>light</td>\n",
       "      <td>brown</td>\n",
       "      <td>19.0</td>\n",
       "      <td>female</td>\n",
       "      <td>feminine</td>\n",
       "      <td>Alderaan</td>\n",
       "      <td>Human</td>\n",
       "    </tr>\n",
       "  </tbody>\n",
       "</table>\n",
       "</div>"
      ],
      "text/plain": [
       "             name  height   mass hair_color   skin_color eye_color  \\\n",
       "0  Luke Skywalker   172.0   77.0      blond         fair      blue   \n",
       "1           C-3PO   167.0   75.0        NaN         gold    yellow   \n",
       "2           R2-D2    96.0   32.0        NaN  white, blue       red   \n",
       "3     Darth Vader   202.0  136.0       none        white    yellow   \n",
       "4     Leia Organa   150.0   49.0      brown        light     brown   \n",
       "\n",
       "   birth_year     sex     gender homeworld species  \n",
       "0        19.0    male  masculine  Tatooine   Human  \n",
       "1       112.0    none  masculine  Tatooine   Droid  \n",
       "2        33.0    none  masculine     Naboo   Droid  \n",
       "3        41.9    male  masculine  Tatooine   Human  \n",
       "4        19.0  female   feminine  Alderaan   Human  "
      ]
     },
     "execution_count": 3,
     "metadata": {},
     "output_type": "execute_result"
    }
   ],
   "source": [
    "df.head()"
   ]
  },
  {
   "cell_type": "code",
   "execution_count": 4,
   "metadata": {},
   "outputs": [
    {
     "name": "stdout",
     "output_type": "stream",
     "text": [
      "<class 'pandas.core.frame.DataFrame'>\n",
      "RangeIndex: 87 entries, 0 to 86\n",
      "Data columns (total 11 columns):\n",
      " #   Column      Non-Null Count  Dtype  \n",
      "---  ------      --------------  -----  \n",
      " 0   name        87 non-null     object \n",
      " 1   height      81 non-null     float64\n",
      " 2   mass        59 non-null     float64\n",
      " 3   hair_color  82 non-null     object \n",
      " 4   skin_color  87 non-null     object \n",
      " 5   eye_color   87 non-null     object \n",
      " 6   birth_year  43 non-null     float64\n",
      " 7   sex         83 non-null     object \n",
      " 8   gender      83 non-null     object \n",
      " 9   homeworld   77 non-null     object \n",
      " 10  species     83 non-null     object \n",
      "dtypes: float64(3), object(8)\n",
      "memory usage: 7.6+ KB\n"
     ]
    }
   ],
   "source": [
    "df.info()"
   ]
  },
  {
   "cell_type": "markdown",
   "metadata": {
    "id": "NjAnw71JiNte"
   },
   "source": [
    "1.b) Con iloc, mostrar toda la columna name"
   ]
  },
  {
   "cell_type": "code",
   "execution_count": 5,
   "metadata": {
    "id": "udUivD7gqjiU"
   },
   "outputs": [
    {
     "data": {
      "text/plain": [
       "0     Luke Skywalker\n",
       "1              C-3PO\n",
       "2              R2-D2\n",
       "3        Darth Vader\n",
       "4        Leia Organa\n",
       "           ...      \n",
       "82               Rey\n",
       "83       Poe Dameron\n",
       "84               BB8\n",
       "85    Captain Phasma\n",
       "86     Padmé Amidala\n",
       "Name: name, Length: 87, dtype: object"
      ]
     },
     "execution_count": 5,
     "metadata": {},
     "output_type": "execute_result"
    }
   ],
   "source": [
    "df.iloc[:, 0]"
   ]
  },
  {
   "cell_type": "markdown",
   "metadata": {
    "id": "UbQ81_XljBDm"
   },
   "source": [
    "1.c) Con iloc, mostrar todo el registro 3"
   ]
  },
  {
   "cell_type": "code",
   "execution_count": 6,
   "metadata": {
    "id": "rWpgcf-3qj27"
   },
   "outputs": [
    {
     "data": {
      "text/html": [
       "<div>\n",
       "<style scoped>\n",
       "    .dataframe tbody tr th:only-of-type {\n",
       "        vertical-align: middle;\n",
       "    }\n",
       "\n",
       "    .dataframe tbody tr th {\n",
       "        vertical-align: top;\n",
       "    }\n",
       "\n",
       "    .dataframe thead th {\n",
       "        text-align: right;\n",
       "    }\n",
       "</style>\n",
       "<table border=\"1\" class=\"dataframe\">\n",
       "  <thead>\n",
       "    <tr style=\"text-align: right;\">\n",
       "      <th></th>\n",
       "      <th>name</th>\n",
       "      <th>height</th>\n",
       "      <th>mass</th>\n",
       "      <th>hair_color</th>\n",
       "      <th>skin_color</th>\n",
       "      <th>eye_color</th>\n",
       "      <th>birth_year</th>\n",
       "      <th>sex</th>\n",
       "      <th>gender</th>\n",
       "      <th>homeworld</th>\n",
       "      <th>species</th>\n",
       "    </tr>\n",
       "  </thead>\n",
       "  <tbody>\n",
       "    <tr>\n",
       "      <th>3</th>\n",
       "      <td>Darth Vader</td>\n",
       "      <td>202.0</td>\n",
       "      <td>136.0</td>\n",
       "      <td>none</td>\n",
       "      <td>white</td>\n",
       "      <td>yellow</td>\n",
       "      <td>41.9</td>\n",
       "      <td>male</td>\n",
       "      <td>masculine</td>\n",
       "      <td>Tatooine</td>\n",
       "      <td>Human</td>\n",
       "    </tr>\n",
       "  </tbody>\n",
       "</table>\n",
       "</div>"
      ],
      "text/plain": [
       "          name  height   mass hair_color skin_color eye_color  birth_year  \\\n",
       "3  Darth Vader   202.0  136.0       none      white    yellow        41.9   \n",
       "\n",
       "    sex     gender homeworld species  \n",
       "3  male  masculine  Tatooine   Human  "
      ]
     },
     "execution_count": 6,
     "metadata": {},
     "output_type": "execute_result"
    }
   ],
   "source": [
    "df.iloc[3:4]"
   ]
  },
  {
   "cell_type": "markdown",
   "metadata": {
    "id": "-iDGbyIqjdTe"
   },
   "source": [
    "1.d) Mostrar los nombres de columnas del dataframe"
   ]
  },
  {
   "cell_type": "code",
   "execution_count": 7,
   "metadata": {
    "id": "a9WcJkRDqkND"
   },
   "outputs": [
    {
     "data": {
      "text/plain": [
       "Index(['name', 'height', 'mass', 'hair_color', 'skin_color', 'eye_color',\n",
       "       'birth_year', 'sex', 'gender', 'homeworld', 'species'],\n",
       "      dtype='object')"
      ]
     },
     "execution_count": 7,
     "metadata": {},
     "output_type": "execute_result"
    }
   ],
   "source": [
    "columns = df.columns\n",
    "columns"
   ]
  },
  {
   "cell_type": "markdown",
   "metadata": {
    "id": "Aa8q2f3rkkcp"
   },
   "source": [
    "1.e) Mostrar el shape del dataframe"
   ]
  },
  {
   "cell_type": "code",
   "execution_count": 8,
   "metadata": {
    "id": "OC8QvlBLqko8"
   },
   "outputs": [
    {
     "data": {
      "text/plain": [
       "(87, 11)"
      ]
     },
     "execution_count": 8,
     "metadata": {},
     "output_type": "execute_result"
    }
   ],
   "source": [
    "df.shape"
   ]
  },
  {
   "cell_type": "markdown",
   "metadata": {
    "id": "wvj_J_1OkyzJ"
   },
   "source": [
    "1.f) Mostrar los primeros 10 registros"
   ]
  },
  {
   "cell_type": "code",
   "execution_count": 9,
   "metadata": {
    "id": "lRXxPbH3qk7s"
   },
   "outputs": [
    {
     "data": {
      "text/html": [
       "<div>\n",
       "<style scoped>\n",
       "    .dataframe tbody tr th:only-of-type {\n",
       "        vertical-align: middle;\n",
       "    }\n",
       "\n",
       "    .dataframe tbody tr th {\n",
       "        vertical-align: top;\n",
       "    }\n",
       "\n",
       "    .dataframe thead th {\n",
       "        text-align: right;\n",
       "    }\n",
       "</style>\n",
       "<table border=\"1\" class=\"dataframe\">\n",
       "  <thead>\n",
       "    <tr style=\"text-align: right;\">\n",
       "      <th></th>\n",
       "      <th>name</th>\n",
       "      <th>height</th>\n",
       "      <th>mass</th>\n",
       "      <th>hair_color</th>\n",
       "      <th>skin_color</th>\n",
       "      <th>eye_color</th>\n",
       "      <th>birth_year</th>\n",
       "      <th>sex</th>\n",
       "      <th>gender</th>\n",
       "      <th>homeworld</th>\n",
       "      <th>species</th>\n",
       "    </tr>\n",
       "  </thead>\n",
       "  <tbody>\n",
       "    <tr>\n",
       "      <th>0</th>\n",
       "      <td>Luke Skywalker</td>\n",
       "      <td>172.0</td>\n",
       "      <td>77.0</td>\n",
       "      <td>blond</td>\n",
       "      <td>fair</td>\n",
       "      <td>blue</td>\n",
       "      <td>19.0</td>\n",
       "      <td>male</td>\n",
       "      <td>masculine</td>\n",
       "      <td>Tatooine</td>\n",
       "      <td>Human</td>\n",
       "    </tr>\n",
       "    <tr>\n",
       "      <th>1</th>\n",
       "      <td>C-3PO</td>\n",
       "      <td>167.0</td>\n",
       "      <td>75.0</td>\n",
       "      <td>NaN</td>\n",
       "      <td>gold</td>\n",
       "      <td>yellow</td>\n",
       "      <td>112.0</td>\n",
       "      <td>none</td>\n",
       "      <td>masculine</td>\n",
       "      <td>Tatooine</td>\n",
       "      <td>Droid</td>\n",
       "    </tr>\n",
       "    <tr>\n",
       "      <th>2</th>\n",
       "      <td>R2-D2</td>\n",
       "      <td>96.0</td>\n",
       "      <td>32.0</td>\n",
       "      <td>NaN</td>\n",
       "      <td>white, blue</td>\n",
       "      <td>red</td>\n",
       "      <td>33.0</td>\n",
       "      <td>none</td>\n",
       "      <td>masculine</td>\n",
       "      <td>Naboo</td>\n",
       "      <td>Droid</td>\n",
       "    </tr>\n",
       "    <tr>\n",
       "      <th>3</th>\n",
       "      <td>Darth Vader</td>\n",
       "      <td>202.0</td>\n",
       "      <td>136.0</td>\n",
       "      <td>none</td>\n",
       "      <td>white</td>\n",
       "      <td>yellow</td>\n",
       "      <td>41.9</td>\n",
       "      <td>male</td>\n",
       "      <td>masculine</td>\n",
       "      <td>Tatooine</td>\n",
       "      <td>Human</td>\n",
       "    </tr>\n",
       "    <tr>\n",
       "      <th>4</th>\n",
       "      <td>Leia Organa</td>\n",
       "      <td>150.0</td>\n",
       "      <td>49.0</td>\n",
       "      <td>brown</td>\n",
       "      <td>light</td>\n",
       "      <td>brown</td>\n",
       "      <td>19.0</td>\n",
       "      <td>female</td>\n",
       "      <td>feminine</td>\n",
       "      <td>Alderaan</td>\n",
       "      <td>Human</td>\n",
       "    </tr>\n",
       "    <tr>\n",
       "      <th>5</th>\n",
       "      <td>Owen Lars</td>\n",
       "      <td>178.0</td>\n",
       "      <td>120.0</td>\n",
       "      <td>brown, grey</td>\n",
       "      <td>light</td>\n",
       "      <td>blue</td>\n",
       "      <td>52.0</td>\n",
       "      <td>male</td>\n",
       "      <td>masculine</td>\n",
       "      <td>Tatooine</td>\n",
       "      <td>Human</td>\n",
       "    </tr>\n",
       "    <tr>\n",
       "      <th>6</th>\n",
       "      <td>Beru Whitesun lars</td>\n",
       "      <td>165.0</td>\n",
       "      <td>75.0</td>\n",
       "      <td>brown</td>\n",
       "      <td>light</td>\n",
       "      <td>blue</td>\n",
       "      <td>47.0</td>\n",
       "      <td>female</td>\n",
       "      <td>feminine</td>\n",
       "      <td>Tatooine</td>\n",
       "      <td>Human</td>\n",
       "    </tr>\n",
       "    <tr>\n",
       "      <th>7</th>\n",
       "      <td>R5-D4</td>\n",
       "      <td>97.0</td>\n",
       "      <td>32.0</td>\n",
       "      <td>NaN</td>\n",
       "      <td>white, red</td>\n",
       "      <td>red</td>\n",
       "      <td>NaN</td>\n",
       "      <td>none</td>\n",
       "      <td>masculine</td>\n",
       "      <td>Tatooine</td>\n",
       "      <td>Droid</td>\n",
       "    </tr>\n",
       "    <tr>\n",
       "      <th>8</th>\n",
       "      <td>Biggs Darklighter</td>\n",
       "      <td>183.0</td>\n",
       "      <td>84.0</td>\n",
       "      <td>black</td>\n",
       "      <td>light</td>\n",
       "      <td>brown</td>\n",
       "      <td>24.0</td>\n",
       "      <td>male</td>\n",
       "      <td>masculine</td>\n",
       "      <td>Tatooine</td>\n",
       "      <td>Human</td>\n",
       "    </tr>\n",
       "    <tr>\n",
       "      <th>9</th>\n",
       "      <td>Obi-Wan Kenobi</td>\n",
       "      <td>182.0</td>\n",
       "      <td>77.0</td>\n",
       "      <td>auburn, white</td>\n",
       "      <td>fair</td>\n",
       "      <td>blue-gray</td>\n",
       "      <td>57.0</td>\n",
       "      <td>male</td>\n",
       "      <td>masculine</td>\n",
       "      <td>Stewjon</td>\n",
       "      <td>Human</td>\n",
       "    </tr>\n",
       "  </tbody>\n",
       "</table>\n",
       "</div>"
      ],
      "text/plain": [
       "                 name  height   mass     hair_color   skin_color  eye_color  \\\n",
       "0      Luke Skywalker   172.0   77.0          blond         fair       blue   \n",
       "1               C-3PO   167.0   75.0            NaN         gold     yellow   \n",
       "2               R2-D2    96.0   32.0            NaN  white, blue        red   \n",
       "3         Darth Vader   202.0  136.0           none        white     yellow   \n",
       "4         Leia Organa   150.0   49.0          brown        light      brown   \n",
       "5           Owen Lars   178.0  120.0    brown, grey        light       blue   \n",
       "6  Beru Whitesun lars   165.0   75.0          brown        light       blue   \n",
       "7               R5-D4    97.0   32.0            NaN   white, red        red   \n",
       "8   Biggs Darklighter   183.0   84.0          black        light      brown   \n",
       "9      Obi-Wan Kenobi   182.0   77.0  auburn, white         fair  blue-gray   \n",
       "\n",
       "   birth_year     sex     gender homeworld species  \n",
       "0        19.0    male  masculine  Tatooine   Human  \n",
       "1       112.0    none  masculine  Tatooine   Droid  \n",
       "2        33.0    none  masculine     Naboo   Droid  \n",
       "3        41.9    male  masculine  Tatooine   Human  \n",
       "4        19.0  female   feminine  Alderaan   Human  \n",
       "5        52.0    male  masculine  Tatooine   Human  \n",
       "6        47.0  female   feminine  Tatooine   Human  \n",
       "7         NaN    none  masculine  Tatooine   Droid  \n",
       "8        24.0    male  masculine  Tatooine   Human  \n",
       "9        57.0    male  masculine   Stewjon   Human  "
      ]
     },
     "execution_count": 9,
     "metadata": {},
     "output_type": "execute_result"
    }
   ],
   "source": [
    "df.head(10)"
   ]
  },
  {
   "cell_type": "markdown",
   "metadata": {
    "id": "rQRr2ac7k08J"
   },
   "source": [
    "1.g) Mostrar los ultimos 5 registros"
   ]
  },
  {
   "cell_type": "code",
   "execution_count": 10,
   "metadata": {
    "id": "w9raCMSNqlO-"
   },
   "outputs": [
    {
     "data": {
      "text/html": [
       "<div>\n",
       "<style scoped>\n",
       "    .dataframe tbody tr th:only-of-type {\n",
       "        vertical-align: middle;\n",
       "    }\n",
       "\n",
       "    .dataframe tbody tr th {\n",
       "        vertical-align: top;\n",
       "    }\n",
       "\n",
       "    .dataframe thead th {\n",
       "        text-align: right;\n",
       "    }\n",
       "</style>\n",
       "<table border=\"1\" class=\"dataframe\">\n",
       "  <thead>\n",
       "    <tr style=\"text-align: right;\">\n",
       "      <th></th>\n",
       "      <th>name</th>\n",
       "      <th>height</th>\n",
       "      <th>mass</th>\n",
       "      <th>hair_color</th>\n",
       "      <th>skin_color</th>\n",
       "      <th>eye_color</th>\n",
       "      <th>birth_year</th>\n",
       "      <th>sex</th>\n",
       "      <th>gender</th>\n",
       "      <th>homeworld</th>\n",
       "      <th>species</th>\n",
       "    </tr>\n",
       "  </thead>\n",
       "  <tbody>\n",
       "    <tr>\n",
       "      <th>82</th>\n",
       "      <td>Rey</td>\n",
       "      <td>NaN</td>\n",
       "      <td>NaN</td>\n",
       "      <td>brown</td>\n",
       "      <td>light</td>\n",
       "      <td>hazel</td>\n",
       "      <td>NaN</td>\n",
       "      <td>female</td>\n",
       "      <td>feminine</td>\n",
       "      <td>NaN</td>\n",
       "      <td>Human</td>\n",
       "    </tr>\n",
       "    <tr>\n",
       "      <th>83</th>\n",
       "      <td>Poe Dameron</td>\n",
       "      <td>NaN</td>\n",
       "      <td>NaN</td>\n",
       "      <td>brown</td>\n",
       "      <td>light</td>\n",
       "      <td>brown</td>\n",
       "      <td>NaN</td>\n",
       "      <td>male</td>\n",
       "      <td>masculine</td>\n",
       "      <td>NaN</td>\n",
       "      <td>Human</td>\n",
       "    </tr>\n",
       "    <tr>\n",
       "      <th>84</th>\n",
       "      <td>BB8</td>\n",
       "      <td>NaN</td>\n",
       "      <td>NaN</td>\n",
       "      <td>none</td>\n",
       "      <td>none</td>\n",
       "      <td>black</td>\n",
       "      <td>NaN</td>\n",
       "      <td>none</td>\n",
       "      <td>masculine</td>\n",
       "      <td>NaN</td>\n",
       "      <td>Droid</td>\n",
       "    </tr>\n",
       "    <tr>\n",
       "      <th>85</th>\n",
       "      <td>Captain Phasma</td>\n",
       "      <td>NaN</td>\n",
       "      <td>NaN</td>\n",
       "      <td>unknown</td>\n",
       "      <td>unknown</td>\n",
       "      <td>unknown</td>\n",
       "      <td>NaN</td>\n",
       "      <td>NaN</td>\n",
       "      <td>NaN</td>\n",
       "      <td>NaN</td>\n",
       "      <td>NaN</td>\n",
       "    </tr>\n",
       "    <tr>\n",
       "      <th>86</th>\n",
       "      <td>Padmé Amidala</td>\n",
       "      <td>165.0</td>\n",
       "      <td>45.0</td>\n",
       "      <td>brown</td>\n",
       "      <td>light</td>\n",
       "      <td>brown</td>\n",
       "      <td>46.0</td>\n",
       "      <td>female</td>\n",
       "      <td>feminine</td>\n",
       "      <td>Naboo</td>\n",
       "      <td>Human</td>\n",
       "    </tr>\n",
       "  </tbody>\n",
       "</table>\n",
       "</div>"
      ],
      "text/plain": [
       "              name  height  mass hair_color skin_color eye_color  birth_year  \\\n",
       "82             Rey     NaN   NaN      brown      light     hazel         NaN   \n",
       "83     Poe Dameron     NaN   NaN      brown      light     brown         NaN   \n",
       "84             BB8     NaN   NaN       none       none     black         NaN   \n",
       "85  Captain Phasma     NaN   NaN    unknown    unknown   unknown         NaN   \n",
       "86   Padmé Amidala   165.0  45.0      brown      light     brown        46.0   \n",
       "\n",
       "       sex     gender homeworld species  \n",
       "82  female   feminine       NaN   Human  \n",
       "83    male  masculine       NaN   Human  \n",
       "84    none  masculine       NaN   Droid  \n",
       "85     NaN        NaN       NaN     NaN  \n",
       "86  female   feminine     Naboo   Human  "
      ]
     },
     "execution_count": 10,
     "metadata": {},
     "output_type": "execute_result"
    }
   ],
   "source": [
    "df.tail(5)"
   ]
  },
  {
   "cell_type": "markdown",
   "metadata": {
    "id": "Im7YnKtKoL1n"
   },
   "source": [
    "## 2) Preparacion de datos"
   ]
  },
  {
   "cell_type": "markdown",
   "metadata": {
    "id": "GTvgnHXIlHz8"
   },
   "source": [
    "2.a) Obtener nulos de la columna species (tip: seleccionar primero los nulos de la columna, por ejemplo 'dataframe['columna'].isna()' y usarlos luego para filtrar los nulos)"
   ]
  },
  {
   "cell_type": "code",
   "execution_count": 11,
   "metadata": {
    "id": "dK5Db1ryqo7i"
   },
   "outputs": [
    {
     "data": {
      "text/html": [
       "<div>\n",
       "<style scoped>\n",
       "    .dataframe tbody tr th:only-of-type {\n",
       "        vertical-align: middle;\n",
       "    }\n",
       "\n",
       "    .dataframe tbody tr th {\n",
       "        vertical-align: top;\n",
       "    }\n",
       "\n",
       "    .dataframe thead th {\n",
       "        text-align: right;\n",
       "    }\n",
       "</style>\n",
       "<table border=\"1\" class=\"dataframe\">\n",
       "  <thead>\n",
       "    <tr style=\"text-align: right;\">\n",
       "      <th></th>\n",
       "      <th>name</th>\n",
       "      <th>height</th>\n",
       "      <th>mass</th>\n",
       "      <th>hair_color</th>\n",
       "      <th>skin_color</th>\n",
       "      <th>eye_color</th>\n",
       "      <th>birth_year</th>\n",
       "      <th>sex</th>\n",
       "      <th>gender</th>\n",
       "      <th>homeworld</th>\n",
       "      <th>species</th>\n",
       "    </tr>\n",
       "  </thead>\n",
       "  <tbody>\n",
       "    <tr>\n",
       "      <th>0</th>\n",
       "      <td>Luke Skywalker</td>\n",
       "      <td>172.0</td>\n",
       "      <td>77.0</td>\n",
       "      <td>blond</td>\n",
       "      <td>fair</td>\n",
       "      <td>blue</td>\n",
       "      <td>19.0</td>\n",
       "      <td>male</td>\n",
       "      <td>masculine</td>\n",
       "      <td>Tatooine</td>\n",
       "      <td>Human</td>\n",
       "    </tr>\n",
       "    <tr>\n",
       "      <th>1</th>\n",
       "      <td>C-3PO</td>\n",
       "      <td>167.0</td>\n",
       "      <td>75.0</td>\n",
       "      <td>NaN</td>\n",
       "      <td>gold</td>\n",
       "      <td>yellow</td>\n",
       "      <td>112.0</td>\n",
       "      <td>none</td>\n",
       "      <td>masculine</td>\n",
       "      <td>Tatooine</td>\n",
       "      <td>Droid</td>\n",
       "    </tr>\n",
       "    <tr>\n",
       "      <th>2</th>\n",
       "      <td>R2-D2</td>\n",
       "      <td>96.0</td>\n",
       "      <td>32.0</td>\n",
       "      <td>NaN</td>\n",
       "      <td>white, blue</td>\n",
       "      <td>red</td>\n",
       "      <td>33.0</td>\n",
       "      <td>none</td>\n",
       "      <td>masculine</td>\n",
       "      <td>Naboo</td>\n",
       "      <td>Droid</td>\n",
       "    </tr>\n",
       "    <tr>\n",
       "      <th>3</th>\n",
       "      <td>Darth Vader</td>\n",
       "      <td>202.0</td>\n",
       "      <td>136.0</td>\n",
       "      <td>none</td>\n",
       "      <td>white</td>\n",
       "      <td>yellow</td>\n",
       "      <td>41.9</td>\n",
       "      <td>male</td>\n",
       "      <td>masculine</td>\n",
       "      <td>Tatooine</td>\n",
       "      <td>Human</td>\n",
       "    </tr>\n",
       "    <tr>\n",
       "      <th>4</th>\n",
       "      <td>Leia Organa</td>\n",
       "      <td>150.0</td>\n",
       "      <td>49.0</td>\n",
       "      <td>brown</td>\n",
       "      <td>light</td>\n",
       "      <td>brown</td>\n",
       "      <td>19.0</td>\n",
       "      <td>female</td>\n",
       "      <td>feminine</td>\n",
       "      <td>Alderaan</td>\n",
       "      <td>Human</td>\n",
       "    </tr>\n",
       "    <tr>\n",
       "      <th>...</th>\n",
       "      <td>...</td>\n",
       "      <td>...</td>\n",
       "      <td>...</td>\n",
       "      <td>...</td>\n",
       "      <td>...</td>\n",
       "      <td>...</td>\n",
       "      <td>...</td>\n",
       "      <td>...</td>\n",
       "      <td>...</td>\n",
       "      <td>...</td>\n",
       "      <td>...</td>\n",
       "    </tr>\n",
       "    <tr>\n",
       "      <th>82</th>\n",
       "      <td>Rey</td>\n",
       "      <td>NaN</td>\n",
       "      <td>NaN</td>\n",
       "      <td>brown</td>\n",
       "      <td>light</td>\n",
       "      <td>hazel</td>\n",
       "      <td>NaN</td>\n",
       "      <td>female</td>\n",
       "      <td>feminine</td>\n",
       "      <td>NaN</td>\n",
       "      <td>Human</td>\n",
       "    </tr>\n",
       "    <tr>\n",
       "      <th>83</th>\n",
       "      <td>Poe Dameron</td>\n",
       "      <td>NaN</td>\n",
       "      <td>NaN</td>\n",
       "      <td>brown</td>\n",
       "      <td>light</td>\n",
       "      <td>brown</td>\n",
       "      <td>NaN</td>\n",
       "      <td>male</td>\n",
       "      <td>masculine</td>\n",
       "      <td>NaN</td>\n",
       "      <td>Human</td>\n",
       "    </tr>\n",
       "    <tr>\n",
       "      <th>84</th>\n",
       "      <td>BB8</td>\n",
       "      <td>NaN</td>\n",
       "      <td>NaN</td>\n",
       "      <td>none</td>\n",
       "      <td>none</td>\n",
       "      <td>black</td>\n",
       "      <td>NaN</td>\n",
       "      <td>none</td>\n",
       "      <td>masculine</td>\n",
       "      <td>NaN</td>\n",
       "      <td>Droid</td>\n",
       "    </tr>\n",
       "    <tr>\n",
       "      <th>85</th>\n",
       "      <td>Captain Phasma</td>\n",
       "      <td>NaN</td>\n",
       "      <td>NaN</td>\n",
       "      <td>unknown</td>\n",
       "      <td>unknown</td>\n",
       "      <td>unknown</td>\n",
       "      <td>NaN</td>\n",
       "      <td>NaN</td>\n",
       "      <td>NaN</td>\n",
       "      <td>NaN</td>\n",
       "      <td>NaN</td>\n",
       "    </tr>\n",
       "    <tr>\n",
       "      <th>86</th>\n",
       "      <td>Padmé Amidala</td>\n",
       "      <td>165.0</td>\n",
       "      <td>45.0</td>\n",
       "      <td>brown</td>\n",
       "      <td>light</td>\n",
       "      <td>brown</td>\n",
       "      <td>46.0</td>\n",
       "      <td>female</td>\n",
       "      <td>feminine</td>\n",
       "      <td>Naboo</td>\n",
       "      <td>Human</td>\n",
       "    </tr>\n",
       "  </tbody>\n",
       "</table>\n",
       "<p>87 rows × 11 columns</p>\n",
       "</div>"
      ],
      "text/plain": [
       "              name  height   mass hair_color   skin_color eye_color  \\\n",
       "0   Luke Skywalker   172.0   77.0      blond         fair      blue   \n",
       "1            C-3PO   167.0   75.0        NaN         gold    yellow   \n",
       "2            R2-D2    96.0   32.0        NaN  white, blue       red   \n",
       "3      Darth Vader   202.0  136.0       none        white    yellow   \n",
       "4      Leia Organa   150.0   49.0      brown        light     brown   \n",
       "..             ...     ...    ...        ...          ...       ...   \n",
       "82             Rey     NaN    NaN      brown        light     hazel   \n",
       "83     Poe Dameron     NaN    NaN      brown        light     brown   \n",
       "84             BB8     NaN    NaN       none         none     black   \n",
       "85  Captain Phasma     NaN    NaN    unknown      unknown   unknown   \n",
       "86   Padmé Amidala   165.0   45.0      brown        light     brown   \n",
       "\n",
       "    birth_year     sex     gender homeworld species  \n",
       "0         19.0    male  masculine  Tatooine   Human  \n",
       "1        112.0    none  masculine  Tatooine   Droid  \n",
       "2         33.0    none  masculine     Naboo   Droid  \n",
       "3         41.9    male  masculine  Tatooine   Human  \n",
       "4         19.0  female   feminine  Alderaan   Human  \n",
       "..         ...     ...        ...       ...     ...  \n",
       "82         NaN  female   feminine       NaN   Human  \n",
       "83         NaN    male  masculine       NaN   Human  \n",
       "84         NaN    none  masculine       NaN   Droid  \n",
       "85         NaN     NaN        NaN       NaN     NaN  \n",
       "86        46.0  female   feminine     Naboo   Human  \n",
       "\n",
       "[87 rows x 11 columns]"
      ]
     },
     "execution_count": 11,
     "metadata": {},
     "output_type": "execute_result"
    }
   ],
   "source": [
    "df[df.species.isna()]\n",
    "df"
   ]
  },
  {
   "cell_type": "markdown",
   "metadata": {
    "id": "1SMuSihymHA3"
   },
   "source": [
    "2.b) Reemplazar nulos en la columna 'species' por el string 'Unknown'"
   ]
  },
  {
   "cell_type": "code",
   "execution_count": null,
   "metadata": {
    "id": "sw9bJTesqpPG"
   },
   "outputs": [],
   "source": [
    "df['species'] = df['species'].fillna(\"Unknown\")"
   ]
  },
  {
   "cell_type": "code",
   "execution_count": null,
   "metadata": {},
   "outputs": [],
   "source": [
    "df[df.species == 'Unknown']"
   ]
  },
  {
   "cell_type": "markdown",
   "metadata": {
    "id": "kK3b6qU4m3zV"
   },
   "source": [
    "2.c) Reemplazar nulos de la columna 'mass' por la mediana de la columna"
   ]
  },
  {
   "cell_type": "code",
   "execution_count": null,
   "metadata": {
    "id": "Fhbv4IejqpnU"
   },
   "outputs": [],
   "source": [
    "df['mass'] = df['mass'].fillna(df['mass'].mean())"
   ]
  },
  {
   "cell_type": "code",
   "execution_count": null,
   "metadata": {},
   "outputs": [],
   "source": [
    "df.tail(5)"
   ]
  },
  {
   "cell_type": "markdown",
   "metadata": {
    "id": "Wcv5ULR9nyJN"
   },
   "source": [
    "2.d) Eliminar las columnas 'sex' y 'skin_color'"
   ]
  },
  {
   "cell_type": "code",
   "execution_count": null,
   "metadata": {
    "id": "mddOOM7mqp6l"
   },
   "outputs": [],
   "source": [
    "df = df.drop(['sex','skin_color'], axis=1)\n",
    "df.columns"
   ]
  },
  {
   "cell_type": "markdown",
   "metadata": {
    "id": "6WVEe1lAS3bk"
   },
   "source": [
    "2.f) Ordenar el dataframe ascendentemente por la columna mass"
   ]
  },
  {
   "cell_type": "code",
   "execution_count": null,
   "metadata": {
    "id": "KeE9e-s6qqOr"
   },
   "outputs": [],
   "source": [
    "df.sort_values('mass', ascending=True)"
   ]
  },
  {
   "cell_type": "markdown",
   "metadata": {
    "id": "_JmTQzdAT72N"
   },
   "source": [
    "2.g) Crear una nueva columna llamada mass_lb"
   ]
  },
  {
   "cell_type": "code",
   "execution_count": null,
   "metadata": {
    "id": "BDPEibZgqquK"
   },
   "outputs": [],
   "source": [
    "df['mass_lb'] = None\n",
    "df"
   ]
  },
  {
   "cell_type": "markdown",
   "metadata": {
    "id": "YqYc_hXkWIq2"
   },
   "source": [
    "2.h) Renombrar la columna 'mass' a 'mass_kg'"
   ]
  },
  {
   "cell_type": "code",
   "execution_count": null,
   "metadata": {
    "id": "bogWCieoqrJi"
   },
   "outputs": [],
   "source": [
    "df = df.rename(columns={'mass':'mass_kg'})\n",
    "df"
   ]
  },
  {
   "cell_type": "markdown",
   "metadata": {
    "id": "7MbrBKnBVY7p"
   },
   "source": [
    "2.i) Reordenar las columnas del dataframe, ubicando 'mass_lb' a la derecha de 'mass_kg'"
   ]
  },
  {
   "cell_type": "code",
   "execution_count": null,
   "metadata": {
    "id": "joIsfhGHqrkE"
   },
   "outputs": [],
   "source": [
    "columns = ['name','height','mass_kg','mass_lb','hair_color','eye_color','birth_year','gender','homeworld','species']\n",
    "df = df[columns]\n",
    "df"
   ]
  },
  {
   "cell_type": "markdown",
   "metadata": {
    "id": "_le8B5GvXQQo"
   },
   "source": [
    "2.j) Eliminar del dataset, los registros en donde mass_kg sea menor a 20"
   ]
  },
  {
   "cell_type": "code",
   "execution_count": 21,
   "metadata": {
    "id": "tH0sAIQfqr9G"
   },
   "outputs": [],
   "source": [
    "df = df[df.mass_kg >=20]"
   ]
  },
  {
   "cell_type": "code",
   "execution_count": 22,
   "metadata": {},
   "outputs": [
    {
     "data": {
      "text/html": [
       "<div>\n",
       "<style scoped>\n",
       "    .dataframe tbody tr th:only-of-type {\n",
       "        vertical-align: middle;\n",
       "    }\n",
       "\n",
       "    .dataframe tbody tr th {\n",
       "        vertical-align: top;\n",
       "    }\n",
       "\n",
       "    .dataframe thead th {\n",
       "        text-align: right;\n",
       "    }\n",
       "</style>\n",
       "<table border=\"1\" class=\"dataframe\">\n",
       "  <thead>\n",
       "    <tr style=\"text-align: right;\">\n",
       "      <th></th>\n",
       "      <th>name</th>\n",
       "      <th>height</th>\n",
       "      <th>mass_kg</th>\n",
       "      <th>mass_lb</th>\n",
       "      <th>hair_color</th>\n",
       "      <th>eye_color</th>\n",
       "      <th>birth_year</th>\n",
       "      <th>gender</th>\n",
       "      <th>homeworld</th>\n",
       "      <th>species</th>\n",
       "    </tr>\n",
       "  </thead>\n",
       "  <tbody>\n",
       "    <tr>\n",
       "      <th>0</th>\n",
       "      <td>Luke Skywalker</td>\n",
       "      <td>172.0</td>\n",
       "      <td>77.000000</td>\n",
       "      <td>None</td>\n",
       "      <td>blond</td>\n",
       "      <td>blue</td>\n",
       "      <td>19.0</td>\n",
       "      <td>masculine</td>\n",
       "      <td>Tatooine</td>\n",
       "      <td>Human</td>\n",
       "    </tr>\n",
       "    <tr>\n",
       "      <th>1</th>\n",
       "      <td>C-3PO</td>\n",
       "      <td>167.0</td>\n",
       "      <td>75.000000</td>\n",
       "      <td>None</td>\n",
       "      <td>NaN</td>\n",
       "      <td>yellow</td>\n",
       "      <td>112.0</td>\n",
       "      <td>masculine</td>\n",
       "      <td>Tatooine</td>\n",
       "      <td>Droid</td>\n",
       "    </tr>\n",
       "    <tr>\n",
       "      <th>2</th>\n",
       "      <td>R2-D2</td>\n",
       "      <td>96.0</td>\n",
       "      <td>32.000000</td>\n",
       "      <td>None</td>\n",
       "      <td>NaN</td>\n",
       "      <td>red</td>\n",
       "      <td>33.0</td>\n",
       "      <td>masculine</td>\n",
       "      <td>Naboo</td>\n",
       "      <td>Droid</td>\n",
       "    </tr>\n",
       "    <tr>\n",
       "      <th>3</th>\n",
       "      <td>Darth Vader</td>\n",
       "      <td>202.0</td>\n",
       "      <td>136.000000</td>\n",
       "      <td>None</td>\n",
       "      <td>none</td>\n",
       "      <td>yellow</td>\n",
       "      <td>41.9</td>\n",
       "      <td>masculine</td>\n",
       "      <td>Tatooine</td>\n",
       "      <td>Human</td>\n",
       "    </tr>\n",
       "    <tr>\n",
       "      <th>4</th>\n",
       "      <td>Leia Organa</td>\n",
       "      <td>150.0</td>\n",
       "      <td>49.000000</td>\n",
       "      <td>None</td>\n",
       "      <td>brown</td>\n",
       "      <td>brown</td>\n",
       "      <td>19.0</td>\n",
       "      <td>feminine</td>\n",
       "      <td>Alderaan</td>\n",
       "      <td>Human</td>\n",
       "    </tr>\n",
       "    <tr>\n",
       "      <th>...</th>\n",
       "      <td>...</td>\n",
       "      <td>...</td>\n",
       "      <td>...</td>\n",
       "      <td>...</td>\n",
       "      <td>...</td>\n",
       "      <td>...</td>\n",
       "      <td>...</td>\n",
       "      <td>...</td>\n",
       "      <td>...</td>\n",
       "      <td>...</td>\n",
       "    </tr>\n",
       "    <tr>\n",
       "      <th>82</th>\n",
       "      <td>Rey</td>\n",
       "      <td>NaN</td>\n",
       "      <td>97.311864</td>\n",
       "      <td>None</td>\n",
       "      <td>brown</td>\n",
       "      <td>hazel</td>\n",
       "      <td>NaN</td>\n",
       "      <td>feminine</td>\n",
       "      <td>NaN</td>\n",
       "      <td>Human</td>\n",
       "    </tr>\n",
       "    <tr>\n",
       "      <th>83</th>\n",
       "      <td>Poe Dameron</td>\n",
       "      <td>NaN</td>\n",
       "      <td>97.311864</td>\n",
       "      <td>None</td>\n",
       "      <td>brown</td>\n",
       "      <td>brown</td>\n",
       "      <td>NaN</td>\n",
       "      <td>masculine</td>\n",
       "      <td>NaN</td>\n",
       "      <td>Human</td>\n",
       "    </tr>\n",
       "    <tr>\n",
       "      <th>84</th>\n",
       "      <td>BB8</td>\n",
       "      <td>NaN</td>\n",
       "      <td>97.311864</td>\n",
       "      <td>None</td>\n",
       "      <td>none</td>\n",
       "      <td>black</td>\n",
       "      <td>NaN</td>\n",
       "      <td>masculine</td>\n",
       "      <td>NaN</td>\n",
       "      <td>Droid</td>\n",
       "    </tr>\n",
       "    <tr>\n",
       "      <th>85</th>\n",
       "      <td>Captain Phasma</td>\n",
       "      <td>NaN</td>\n",
       "      <td>97.311864</td>\n",
       "      <td>None</td>\n",
       "      <td>unknown</td>\n",
       "      <td>unknown</td>\n",
       "      <td>NaN</td>\n",
       "      <td>NaN</td>\n",
       "      <td>NaN</td>\n",
       "      <td>Unknown</td>\n",
       "    </tr>\n",
       "    <tr>\n",
       "      <th>86</th>\n",
       "      <td>Padmé Amidala</td>\n",
       "      <td>165.0</td>\n",
       "      <td>45.000000</td>\n",
       "      <td>None</td>\n",
       "      <td>brown</td>\n",
       "      <td>brown</td>\n",
       "      <td>46.0</td>\n",
       "      <td>feminine</td>\n",
       "      <td>Naboo</td>\n",
       "      <td>Human</td>\n",
       "    </tr>\n",
       "  </tbody>\n",
       "</table>\n",
       "<p>85 rows × 10 columns</p>\n",
       "</div>"
      ],
      "text/plain": [
       "              name  height     mass_kg mass_lb hair_color eye_color  \\\n",
       "0   Luke Skywalker   172.0   77.000000    None      blond      blue   \n",
       "1            C-3PO   167.0   75.000000    None        NaN    yellow   \n",
       "2            R2-D2    96.0   32.000000    None        NaN       red   \n",
       "3      Darth Vader   202.0  136.000000    None       none    yellow   \n",
       "4      Leia Organa   150.0   49.000000    None      brown     brown   \n",
       "..             ...     ...         ...     ...        ...       ...   \n",
       "82             Rey     NaN   97.311864    None      brown     hazel   \n",
       "83     Poe Dameron     NaN   97.311864    None      brown     brown   \n",
       "84             BB8     NaN   97.311864    None       none     black   \n",
       "85  Captain Phasma     NaN   97.311864    None    unknown   unknown   \n",
       "86   Padmé Amidala   165.0   45.000000    None      brown     brown   \n",
       "\n",
       "    birth_year     gender homeworld  species  \n",
       "0         19.0  masculine  Tatooine    Human  \n",
       "1        112.0  masculine  Tatooine    Droid  \n",
       "2         33.0  masculine     Naboo    Droid  \n",
       "3         41.9  masculine  Tatooine    Human  \n",
       "4         19.0   feminine  Alderaan    Human  \n",
       "..         ...        ...       ...      ...  \n",
       "82         NaN   feminine       NaN    Human  \n",
       "83         NaN  masculine       NaN    Human  \n",
       "84         NaN  masculine       NaN    Droid  \n",
       "85         NaN        NaN       NaN  Unknown  \n",
       "86        46.0   feminine     Naboo    Human  \n",
       "\n",
       "[85 rows x 10 columns]"
      ]
     },
     "execution_count": 22,
     "metadata": {},
     "output_type": "execute_result"
    }
   ],
   "source": [
    "df"
   ]
  },
  {
   "cell_type": "markdown",
   "metadata": {
    "id": "RhGJqjKkoUs7"
   },
   "source": [
    "## 3) Exportar dataframe"
   ]
  },
  {
   "cell_type": "markdown",
   "metadata": {
    "id": "lb_E3htZYfFo"
   },
   "source": [
    "Exportar a CSV, usando como separador el caracter |"
   ]
  },
  {
   "cell_type": "code",
   "execution_count": 23,
   "metadata": {
    "id": "Bb1gnD2qqsv3"
   },
   "outputs": [],
   "source": [
    "df.to_csv('sw_procesado.csv', index=False, sep='|', encoding='utf-8')"
   ]
  },
  {
   "cell_type": "markdown",
   "metadata": {
    "id": "wreUTUqaol-G"
   },
   "source": [
    "## 4) Ejercicio integrador"
   ]
  },
  {
   "cell_type": "markdown",
   "metadata": {
    "id": "aianfMSvMXEh"
   },
   "source": [
    "Para completar este ejercicio, debes usar el dataframe d_star_wars con todas las modificaciones realizadas en los puntos anteriores"
   ]
  },
  {
   "cell_type": "markdown",
   "metadata": {
    "id": "XI0WL1BxhXP9"
   },
   "source": [
    "4.a) Reemplazar los nulos de la columna 'birth_year' por el promedio"
   ]
  },
  {
   "cell_type": "code",
   "execution_count": 24,
   "metadata": {
    "id": "PUa7W-NBqtqg"
   },
   "outputs": [
    {
     "data": {
      "text/html": [
       "<div>\n",
       "<style scoped>\n",
       "    .dataframe tbody tr th:only-of-type {\n",
       "        vertical-align: middle;\n",
       "    }\n",
       "\n",
       "    .dataframe tbody tr th {\n",
       "        vertical-align: top;\n",
       "    }\n",
       "\n",
       "    .dataframe thead th {\n",
       "        text-align: right;\n",
       "    }\n",
       "</style>\n",
       "<table border=\"1\" class=\"dataframe\">\n",
       "  <thead>\n",
       "    <tr style=\"text-align: right;\">\n",
       "      <th></th>\n",
       "      <th>name</th>\n",
       "      <th>height</th>\n",
       "      <th>mass_kg</th>\n",
       "      <th>mass_lb</th>\n",
       "      <th>hair_color</th>\n",
       "      <th>eye_color</th>\n",
       "      <th>birth_year</th>\n",
       "      <th>gender</th>\n",
       "      <th>homeworld</th>\n",
       "      <th>species</th>\n",
       "    </tr>\n",
       "  </thead>\n",
       "  <tbody>\n",
       "    <tr>\n",
       "      <th>0</th>\n",
       "      <td>Luke Skywalker</td>\n",
       "      <td>172.0</td>\n",
       "      <td>77.000000</td>\n",
       "      <td>None</td>\n",
       "      <td>blond</td>\n",
       "      <td>blue</td>\n",
       "      <td>19.0</td>\n",
       "      <td>masculine</td>\n",
       "      <td>Tatooine</td>\n",
       "      <td>Human</td>\n",
       "    </tr>\n",
       "    <tr>\n",
       "      <th>1</th>\n",
       "      <td>C-3PO</td>\n",
       "      <td>167.0</td>\n",
       "      <td>75.000000</td>\n",
       "      <td>None</td>\n",
       "      <td>NaN</td>\n",
       "      <td>yellow</td>\n",
       "      <td>112.0</td>\n",
       "      <td>masculine</td>\n",
       "      <td>Tatooine</td>\n",
       "      <td>Droid</td>\n",
       "    </tr>\n",
       "    <tr>\n",
       "      <th>2</th>\n",
       "      <td>R2-D2</td>\n",
       "      <td>96.0</td>\n",
       "      <td>32.000000</td>\n",
       "      <td>None</td>\n",
       "      <td>NaN</td>\n",
       "      <td>red</td>\n",
       "      <td>33.0</td>\n",
       "      <td>masculine</td>\n",
       "      <td>Naboo</td>\n",
       "      <td>Droid</td>\n",
       "    </tr>\n",
       "    <tr>\n",
       "      <th>3</th>\n",
       "      <td>Darth Vader</td>\n",
       "      <td>202.0</td>\n",
       "      <td>136.000000</td>\n",
       "      <td>None</td>\n",
       "      <td>none</td>\n",
       "      <td>yellow</td>\n",
       "      <td>41.9</td>\n",
       "      <td>masculine</td>\n",
       "      <td>Tatooine</td>\n",
       "      <td>Human</td>\n",
       "    </tr>\n",
       "    <tr>\n",
       "      <th>4</th>\n",
       "      <td>Leia Organa</td>\n",
       "      <td>150.0</td>\n",
       "      <td>49.000000</td>\n",
       "      <td>None</td>\n",
       "      <td>brown</td>\n",
       "      <td>brown</td>\n",
       "      <td>19.0</td>\n",
       "      <td>feminine</td>\n",
       "      <td>Alderaan</td>\n",
       "      <td>Human</td>\n",
       "    </tr>\n",
       "    <tr>\n",
       "      <th>...</th>\n",
       "      <td>...</td>\n",
       "      <td>...</td>\n",
       "      <td>...</td>\n",
       "      <td>...</td>\n",
       "      <td>...</td>\n",
       "      <td>...</td>\n",
       "      <td>...</td>\n",
       "      <td>...</td>\n",
       "      <td>...</td>\n",
       "      <td>...</td>\n",
       "    </tr>\n",
       "    <tr>\n",
       "      <th>82</th>\n",
       "      <td>Rey</td>\n",
       "      <td>NaN</td>\n",
       "      <td>97.311864</td>\n",
       "      <td>None</td>\n",
       "      <td>brown</td>\n",
       "      <td>hazel</td>\n",
       "      <td>NaN</td>\n",
       "      <td>feminine</td>\n",
       "      <td>NaN</td>\n",
       "      <td>Human</td>\n",
       "    </tr>\n",
       "    <tr>\n",
       "      <th>83</th>\n",
       "      <td>Poe Dameron</td>\n",
       "      <td>NaN</td>\n",
       "      <td>97.311864</td>\n",
       "      <td>None</td>\n",
       "      <td>brown</td>\n",
       "      <td>brown</td>\n",
       "      <td>NaN</td>\n",
       "      <td>masculine</td>\n",
       "      <td>NaN</td>\n",
       "      <td>Human</td>\n",
       "    </tr>\n",
       "    <tr>\n",
       "      <th>84</th>\n",
       "      <td>BB8</td>\n",
       "      <td>NaN</td>\n",
       "      <td>97.311864</td>\n",
       "      <td>None</td>\n",
       "      <td>none</td>\n",
       "      <td>black</td>\n",
       "      <td>NaN</td>\n",
       "      <td>masculine</td>\n",
       "      <td>NaN</td>\n",
       "      <td>Droid</td>\n",
       "    </tr>\n",
       "    <tr>\n",
       "      <th>85</th>\n",
       "      <td>Captain Phasma</td>\n",
       "      <td>NaN</td>\n",
       "      <td>97.311864</td>\n",
       "      <td>None</td>\n",
       "      <td>unknown</td>\n",
       "      <td>unknown</td>\n",
       "      <td>NaN</td>\n",
       "      <td>NaN</td>\n",
       "      <td>NaN</td>\n",
       "      <td>Unknown</td>\n",
       "    </tr>\n",
       "    <tr>\n",
       "      <th>86</th>\n",
       "      <td>Padmé Amidala</td>\n",
       "      <td>165.0</td>\n",
       "      <td>45.000000</td>\n",
       "      <td>None</td>\n",
       "      <td>brown</td>\n",
       "      <td>brown</td>\n",
       "      <td>46.0</td>\n",
       "      <td>feminine</td>\n",
       "      <td>Naboo</td>\n",
       "      <td>Human</td>\n",
       "    </tr>\n",
       "  </tbody>\n",
       "</table>\n",
       "<p>85 rows × 10 columns</p>\n",
       "</div>"
      ],
      "text/plain": [
       "              name  height     mass_kg mass_lb hair_color eye_color  \\\n",
       "0   Luke Skywalker   172.0   77.000000    None      blond      blue   \n",
       "1            C-3PO   167.0   75.000000    None        NaN    yellow   \n",
       "2            R2-D2    96.0   32.000000    None        NaN       red   \n",
       "3      Darth Vader   202.0  136.000000    None       none    yellow   \n",
       "4      Leia Organa   150.0   49.000000    None      brown     brown   \n",
       "..             ...     ...         ...     ...        ...       ...   \n",
       "82             Rey     NaN   97.311864    None      brown     hazel   \n",
       "83     Poe Dameron     NaN   97.311864    None      brown     brown   \n",
       "84             BB8     NaN   97.311864    None       none     black   \n",
       "85  Captain Phasma     NaN   97.311864    None    unknown   unknown   \n",
       "86   Padmé Amidala   165.0   45.000000    None      brown     brown   \n",
       "\n",
       "    birth_year     gender homeworld  species  \n",
       "0         19.0  masculine  Tatooine    Human  \n",
       "1        112.0  masculine  Tatooine    Droid  \n",
       "2         33.0  masculine     Naboo    Droid  \n",
       "3         41.9  masculine  Tatooine    Human  \n",
       "4         19.0   feminine  Alderaan    Human  \n",
       "..         ...        ...       ...      ...  \n",
       "82         NaN   feminine       NaN    Human  \n",
       "83         NaN  masculine       NaN    Human  \n",
       "84         NaN  masculine       NaN    Droid  \n",
       "85         NaN        NaN       NaN  Unknown  \n",
       "86        46.0   feminine     Naboo    Human  \n",
       "\n",
       "[85 rows x 10 columns]"
      ]
     },
     "execution_count": 24,
     "metadata": {},
     "output_type": "execute_result"
    }
   ],
   "source": [
    "d_star_wars = df.copy()\n",
    "d_star_wars"
   ]
  },
  {
   "cell_type": "code",
   "execution_count": 25,
   "metadata": {},
   "outputs": [
    {
     "data": {
      "text/html": [
       "<div>\n",
       "<style scoped>\n",
       "    .dataframe tbody tr th:only-of-type {\n",
       "        vertical-align: middle;\n",
       "    }\n",
       "\n",
       "    .dataframe tbody tr th {\n",
       "        vertical-align: top;\n",
       "    }\n",
       "\n",
       "    .dataframe thead th {\n",
       "        text-align: right;\n",
       "    }\n",
       "</style>\n",
       "<table border=\"1\" class=\"dataframe\">\n",
       "  <thead>\n",
       "    <tr style=\"text-align: right;\">\n",
       "      <th></th>\n",
       "      <th>name</th>\n",
       "      <th>height</th>\n",
       "      <th>mass_kg</th>\n",
       "      <th>mass_lb</th>\n",
       "      <th>hair_color</th>\n",
       "      <th>eye_color</th>\n",
       "      <th>birth_year</th>\n",
       "      <th>gender</th>\n",
       "      <th>homeworld</th>\n",
       "      <th>species</th>\n",
       "    </tr>\n",
       "  </thead>\n",
       "  <tbody>\n",
       "    <tr>\n",
       "      <th>0</th>\n",
       "      <td>Luke Skywalker</td>\n",
       "      <td>172.0</td>\n",
       "      <td>77.000000</td>\n",
       "      <td>None</td>\n",
       "      <td>blond</td>\n",
       "      <td>blue</td>\n",
       "      <td>68.316667</td>\n",
       "      <td>masculine</td>\n",
       "      <td>Tatooine</td>\n",
       "      <td>Human</td>\n",
       "    </tr>\n",
       "    <tr>\n",
       "      <th>1</th>\n",
       "      <td>C-3PO</td>\n",
       "      <td>167.0</td>\n",
       "      <td>75.000000</td>\n",
       "      <td>None</td>\n",
       "      <td>NaN</td>\n",
       "      <td>yellow</td>\n",
       "      <td>68.316667</td>\n",
       "      <td>masculine</td>\n",
       "      <td>Tatooine</td>\n",
       "      <td>Droid</td>\n",
       "    </tr>\n",
       "    <tr>\n",
       "      <th>2</th>\n",
       "      <td>R2-D2</td>\n",
       "      <td>96.0</td>\n",
       "      <td>32.000000</td>\n",
       "      <td>None</td>\n",
       "      <td>NaN</td>\n",
       "      <td>red</td>\n",
       "      <td>68.316667</td>\n",
       "      <td>masculine</td>\n",
       "      <td>Naboo</td>\n",
       "      <td>Droid</td>\n",
       "    </tr>\n",
       "    <tr>\n",
       "      <th>3</th>\n",
       "      <td>Darth Vader</td>\n",
       "      <td>202.0</td>\n",
       "      <td>136.000000</td>\n",
       "      <td>None</td>\n",
       "      <td>none</td>\n",
       "      <td>yellow</td>\n",
       "      <td>68.316667</td>\n",
       "      <td>masculine</td>\n",
       "      <td>Tatooine</td>\n",
       "      <td>Human</td>\n",
       "    </tr>\n",
       "    <tr>\n",
       "      <th>4</th>\n",
       "      <td>Leia Organa</td>\n",
       "      <td>150.0</td>\n",
       "      <td>49.000000</td>\n",
       "      <td>None</td>\n",
       "      <td>brown</td>\n",
       "      <td>brown</td>\n",
       "      <td>68.316667</td>\n",
       "      <td>feminine</td>\n",
       "      <td>Alderaan</td>\n",
       "      <td>Human</td>\n",
       "    </tr>\n",
       "    <tr>\n",
       "      <th>...</th>\n",
       "      <td>...</td>\n",
       "      <td>...</td>\n",
       "      <td>...</td>\n",
       "      <td>...</td>\n",
       "      <td>...</td>\n",
       "      <td>...</td>\n",
       "      <td>...</td>\n",
       "      <td>...</td>\n",
       "      <td>...</td>\n",
       "      <td>...</td>\n",
       "    </tr>\n",
       "    <tr>\n",
       "      <th>82</th>\n",
       "      <td>Rey</td>\n",
       "      <td>NaN</td>\n",
       "      <td>97.311864</td>\n",
       "      <td>None</td>\n",
       "      <td>brown</td>\n",
       "      <td>hazel</td>\n",
       "      <td>68.316667</td>\n",
       "      <td>feminine</td>\n",
       "      <td>NaN</td>\n",
       "      <td>Human</td>\n",
       "    </tr>\n",
       "    <tr>\n",
       "      <th>83</th>\n",
       "      <td>Poe Dameron</td>\n",
       "      <td>NaN</td>\n",
       "      <td>97.311864</td>\n",
       "      <td>None</td>\n",
       "      <td>brown</td>\n",
       "      <td>brown</td>\n",
       "      <td>68.316667</td>\n",
       "      <td>masculine</td>\n",
       "      <td>NaN</td>\n",
       "      <td>Human</td>\n",
       "    </tr>\n",
       "    <tr>\n",
       "      <th>84</th>\n",
       "      <td>BB8</td>\n",
       "      <td>NaN</td>\n",
       "      <td>97.311864</td>\n",
       "      <td>None</td>\n",
       "      <td>none</td>\n",
       "      <td>black</td>\n",
       "      <td>68.316667</td>\n",
       "      <td>masculine</td>\n",
       "      <td>NaN</td>\n",
       "      <td>Droid</td>\n",
       "    </tr>\n",
       "    <tr>\n",
       "      <th>85</th>\n",
       "      <td>Captain Phasma</td>\n",
       "      <td>NaN</td>\n",
       "      <td>97.311864</td>\n",
       "      <td>None</td>\n",
       "      <td>unknown</td>\n",
       "      <td>unknown</td>\n",
       "      <td>68.316667</td>\n",
       "      <td>NaN</td>\n",
       "      <td>NaN</td>\n",
       "      <td>Unknown</td>\n",
       "    </tr>\n",
       "    <tr>\n",
       "      <th>86</th>\n",
       "      <td>Padmé Amidala</td>\n",
       "      <td>165.0</td>\n",
       "      <td>45.000000</td>\n",
       "      <td>None</td>\n",
       "      <td>brown</td>\n",
       "      <td>brown</td>\n",
       "      <td>68.316667</td>\n",
       "      <td>feminine</td>\n",
       "      <td>Naboo</td>\n",
       "      <td>Human</td>\n",
       "    </tr>\n",
       "  </tbody>\n",
       "</table>\n",
       "<p>85 rows × 10 columns</p>\n",
       "</div>"
      ],
      "text/plain": [
       "              name  height     mass_kg mass_lb hair_color eye_color  \\\n",
       "0   Luke Skywalker   172.0   77.000000    None      blond      blue   \n",
       "1            C-3PO   167.0   75.000000    None        NaN    yellow   \n",
       "2            R2-D2    96.0   32.000000    None        NaN       red   \n",
       "3      Darth Vader   202.0  136.000000    None       none    yellow   \n",
       "4      Leia Organa   150.0   49.000000    None      brown     brown   \n",
       "..             ...     ...         ...     ...        ...       ...   \n",
       "82             Rey     NaN   97.311864    None      brown     hazel   \n",
       "83     Poe Dameron     NaN   97.311864    None      brown     brown   \n",
       "84             BB8     NaN   97.311864    None       none     black   \n",
       "85  Captain Phasma     NaN   97.311864    None    unknown   unknown   \n",
       "86   Padmé Amidala   165.0   45.000000    None      brown     brown   \n",
       "\n",
       "    birth_year     gender homeworld  species  \n",
       "0    68.316667  masculine  Tatooine    Human  \n",
       "1    68.316667  masculine  Tatooine    Droid  \n",
       "2    68.316667  masculine     Naboo    Droid  \n",
       "3    68.316667  masculine  Tatooine    Human  \n",
       "4    68.316667   feminine  Alderaan    Human  \n",
       "..         ...        ...       ...      ...  \n",
       "82   68.316667   feminine       NaN    Human  \n",
       "83   68.316667  masculine       NaN    Human  \n",
       "84   68.316667  masculine       NaN    Droid  \n",
       "85   68.316667        NaN       NaN  Unknown  \n",
       "86   68.316667   feminine     Naboo    Human  \n",
       "\n",
       "[85 rows x 10 columns]"
      ]
     },
     "execution_count": 25,
     "metadata": {},
     "output_type": "execute_result"
    }
   ],
   "source": [
    "d_star_wars['birth_year'] = d_star_wars['birth_year'].mean()\n",
    "d_star_wars"
   ]
  },
  {
   "cell_type": "markdown",
   "metadata": {
    "id": "uNp_6CmKhjb4"
   },
   "source": [
    "4.b) Eliminar los decimales de la columna 'birth_year' (investigar round() )"
   ]
  },
  {
   "cell_type": "code",
   "execution_count": 26,
   "metadata": {
    "id": "xZbMZ7SUqt8d"
   },
   "outputs": [
    {
     "data": {
      "text/html": [
       "<div>\n",
       "<style scoped>\n",
       "    .dataframe tbody tr th:only-of-type {\n",
       "        vertical-align: middle;\n",
       "    }\n",
       "\n",
       "    .dataframe tbody tr th {\n",
       "        vertical-align: top;\n",
       "    }\n",
       "\n",
       "    .dataframe thead th {\n",
       "        text-align: right;\n",
       "    }\n",
       "</style>\n",
       "<table border=\"1\" class=\"dataframe\">\n",
       "  <thead>\n",
       "    <tr style=\"text-align: right;\">\n",
       "      <th></th>\n",
       "      <th>name</th>\n",
       "      <th>height</th>\n",
       "      <th>mass_kg</th>\n",
       "      <th>mass_lb</th>\n",
       "      <th>hair_color</th>\n",
       "      <th>eye_color</th>\n",
       "      <th>birth_year</th>\n",
       "      <th>gender</th>\n",
       "      <th>homeworld</th>\n",
       "      <th>species</th>\n",
       "    </tr>\n",
       "  </thead>\n",
       "  <tbody>\n",
       "    <tr>\n",
       "      <th>0</th>\n",
       "      <td>Luke Skywalker</td>\n",
       "      <td>172.0</td>\n",
       "      <td>77.000000</td>\n",
       "      <td>None</td>\n",
       "      <td>blond</td>\n",
       "      <td>blue</td>\n",
       "      <td>68</td>\n",
       "      <td>masculine</td>\n",
       "      <td>Tatooine</td>\n",
       "      <td>Human</td>\n",
       "    </tr>\n",
       "    <tr>\n",
       "      <th>1</th>\n",
       "      <td>C-3PO</td>\n",
       "      <td>167.0</td>\n",
       "      <td>75.000000</td>\n",
       "      <td>None</td>\n",
       "      <td>NaN</td>\n",
       "      <td>yellow</td>\n",
       "      <td>68</td>\n",
       "      <td>masculine</td>\n",
       "      <td>Tatooine</td>\n",
       "      <td>Droid</td>\n",
       "    </tr>\n",
       "    <tr>\n",
       "      <th>2</th>\n",
       "      <td>R2-D2</td>\n",
       "      <td>96.0</td>\n",
       "      <td>32.000000</td>\n",
       "      <td>None</td>\n",
       "      <td>NaN</td>\n",
       "      <td>red</td>\n",
       "      <td>68</td>\n",
       "      <td>masculine</td>\n",
       "      <td>Naboo</td>\n",
       "      <td>Droid</td>\n",
       "    </tr>\n",
       "    <tr>\n",
       "      <th>3</th>\n",
       "      <td>Darth Vader</td>\n",
       "      <td>202.0</td>\n",
       "      <td>136.000000</td>\n",
       "      <td>None</td>\n",
       "      <td>none</td>\n",
       "      <td>yellow</td>\n",
       "      <td>68</td>\n",
       "      <td>masculine</td>\n",
       "      <td>Tatooine</td>\n",
       "      <td>Human</td>\n",
       "    </tr>\n",
       "    <tr>\n",
       "      <th>4</th>\n",
       "      <td>Leia Organa</td>\n",
       "      <td>150.0</td>\n",
       "      <td>49.000000</td>\n",
       "      <td>None</td>\n",
       "      <td>brown</td>\n",
       "      <td>brown</td>\n",
       "      <td>68</td>\n",
       "      <td>feminine</td>\n",
       "      <td>Alderaan</td>\n",
       "      <td>Human</td>\n",
       "    </tr>\n",
       "    <tr>\n",
       "      <th>...</th>\n",
       "      <td>...</td>\n",
       "      <td>...</td>\n",
       "      <td>...</td>\n",
       "      <td>...</td>\n",
       "      <td>...</td>\n",
       "      <td>...</td>\n",
       "      <td>...</td>\n",
       "      <td>...</td>\n",
       "      <td>...</td>\n",
       "      <td>...</td>\n",
       "    </tr>\n",
       "    <tr>\n",
       "      <th>82</th>\n",
       "      <td>Rey</td>\n",
       "      <td>NaN</td>\n",
       "      <td>97.311864</td>\n",
       "      <td>None</td>\n",
       "      <td>brown</td>\n",
       "      <td>hazel</td>\n",
       "      <td>68</td>\n",
       "      <td>feminine</td>\n",
       "      <td>NaN</td>\n",
       "      <td>Human</td>\n",
       "    </tr>\n",
       "    <tr>\n",
       "      <th>83</th>\n",
       "      <td>Poe Dameron</td>\n",
       "      <td>NaN</td>\n",
       "      <td>97.311864</td>\n",
       "      <td>None</td>\n",
       "      <td>brown</td>\n",
       "      <td>brown</td>\n",
       "      <td>68</td>\n",
       "      <td>masculine</td>\n",
       "      <td>NaN</td>\n",
       "      <td>Human</td>\n",
       "    </tr>\n",
       "    <tr>\n",
       "      <th>84</th>\n",
       "      <td>BB8</td>\n",
       "      <td>NaN</td>\n",
       "      <td>97.311864</td>\n",
       "      <td>None</td>\n",
       "      <td>none</td>\n",
       "      <td>black</td>\n",
       "      <td>68</td>\n",
       "      <td>masculine</td>\n",
       "      <td>NaN</td>\n",
       "      <td>Droid</td>\n",
       "    </tr>\n",
       "    <tr>\n",
       "      <th>85</th>\n",
       "      <td>Captain Phasma</td>\n",
       "      <td>NaN</td>\n",
       "      <td>97.311864</td>\n",
       "      <td>None</td>\n",
       "      <td>unknown</td>\n",
       "      <td>unknown</td>\n",
       "      <td>68</td>\n",
       "      <td>NaN</td>\n",
       "      <td>NaN</td>\n",
       "      <td>Unknown</td>\n",
       "    </tr>\n",
       "    <tr>\n",
       "      <th>86</th>\n",
       "      <td>Padmé Amidala</td>\n",
       "      <td>165.0</td>\n",
       "      <td>45.000000</td>\n",
       "      <td>None</td>\n",
       "      <td>brown</td>\n",
       "      <td>brown</td>\n",
       "      <td>68</td>\n",
       "      <td>feminine</td>\n",
       "      <td>Naboo</td>\n",
       "      <td>Human</td>\n",
       "    </tr>\n",
       "  </tbody>\n",
       "</table>\n",
       "<p>85 rows × 10 columns</p>\n",
       "</div>"
      ],
      "text/plain": [
       "              name  height     mass_kg mass_lb hair_color eye_color  \\\n",
       "0   Luke Skywalker   172.0   77.000000    None      blond      blue   \n",
       "1            C-3PO   167.0   75.000000    None        NaN    yellow   \n",
       "2            R2-D2    96.0   32.000000    None        NaN       red   \n",
       "3      Darth Vader   202.0  136.000000    None       none    yellow   \n",
       "4      Leia Organa   150.0   49.000000    None      brown     brown   \n",
       "..             ...     ...         ...     ...        ...       ...   \n",
       "82             Rey     NaN   97.311864    None      brown     hazel   \n",
       "83     Poe Dameron     NaN   97.311864    None      brown     brown   \n",
       "84             BB8     NaN   97.311864    None       none     black   \n",
       "85  Captain Phasma     NaN   97.311864    None    unknown   unknown   \n",
       "86   Padmé Amidala   165.0   45.000000    None      brown     brown   \n",
       "\n",
       "    birth_year     gender homeworld  species  \n",
       "0           68  masculine  Tatooine    Human  \n",
       "1           68  masculine  Tatooine    Droid  \n",
       "2           68  masculine     Naboo    Droid  \n",
       "3           68  masculine  Tatooine    Human  \n",
       "4           68   feminine  Alderaan    Human  \n",
       "..         ...        ...       ...      ...  \n",
       "82          68   feminine       NaN    Human  \n",
       "83          68  masculine       NaN    Human  \n",
       "84          68  masculine       NaN    Droid  \n",
       "85          68        NaN       NaN  Unknown  \n",
       "86          68   feminine     Naboo    Human  \n",
       "\n",
       "[85 rows x 10 columns]"
      ]
     },
     "execution_count": 26,
     "metadata": {},
     "output_type": "execute_result"
    }
   ],
   "source": [
    "d_star_wars['birth_year'] = round(d_star_wars['birth_year'].mean())\n",
    "d_star_wars"
   ]
  },
  {
   "cell_type": "markdown",
   "metadata": {
    "id": "1WM9H2qVjZCS"
   },
   "source": [
    "4.c) Cambiar el tipo de datos de la columna 'birth_year' de float a integer"
   ]
  },
  {
   "cell_type": "code",
   "execution_count": 27,
   "metadata": {
    "id": "g7i4cw8rquRj"
   },
   "outputs": [],
   "source": [
    "d_star_wars['birth_year'] = d_star_wars['birth_year'].astype(int)"
   ]
  },
  {
   "cell_type": "code",
   "execution_count": 28,
   "metadata": {},
   "outputs": [
    {
     "name": "stdout",
     "output_type": "stream",
     "text": [
      "<class 'pandas.core.frame.DataFrame'>\n",
      "Int64Index: 85 entries, 0 to 86\n",
      "Data columns (total 10 columns):\n",
      " #   Column      Non-Null Count  Dtype  \n",
      "---  ------      --------------  -----  \n",
      " 0   name        85 non-null     object \n",
      " 1   height      79 non-null     float64\n",
      " 2   mass_kg     85 non-null     float64\n",
      " 3   mass_lb     0 non-null      object \n",
      " 4   hair_color  80 non-null     object \n",
      " 5   eye_color   85 non-null     object \n",
      " 6   birth_year  85 non-null     int32  \n",
      " 7   gender      81 non-null     object \n",
      " 8   homeworld   76 non-null     object \n",
      " 9   species     85 non-null     object \n",
      "dtypes: float64(2), int32(1), object(7)\n",
      "memory usage: 7.0+ KB\n"
     ]
    }
   ],
   "source": [
    "d_star_wars.info()\n"
   ]
  },
  {
   "cell_type": "markdown",
   "metadata": {
    "id": "hdO78H5Xhz81"
   },
   "source": [
    "4.d) Cambiar el tipo de datos de la columna 'birth_year' de integer a string"
   ]
  },
  {
   "cell_type": "code",
   "execution_count": 29,
   "metadata": {
    "id": "Sc4tE1sUquk1"
   },
   "outputs": [
    {
     "name": "stdout",
     "output_type": "stream",
     "text": [
      "<class 'pandas.core.frame.DataFrame'>\n",
      "Int64Index: 85 entries, 0 to 86\n",
      "Data columns (total 10 columns):\n",
      " #   Column      Non-Null Count  Dtype  \n",
      "---  ------      --------------  -----  \n",
      " 0   name        85 non-null     object \n",
      " 1   height      79 non-null     float64\n",
      " 2   mass_kg     85 non-null     float64\n",
      " 3   mass_lb     0 non-null      object \n",
      " 4   hair_color  80 non-null     object \n",
      " 5   eye_color   85 non-null     object \n",
      " 6   birth_year  85 non-null     object \n",
      " 7   gender      81 non-null     object \n",
      " 8   homeworld   76 non-null     object \n",
      " 9   species     85 non-null     object \n",
      "dtypes: float64(2), object(8)\n",
      "memory usage: 7.3+ KB\n"
     ]
    }
   ],
   "source": [
    "d_star_wars['birth_year'] = d_star_wars['birth_year'].astype(str)\n",
    "d_star_wars.info()"
   ]
  },
  {
   "cell_type": "markdown",
   "metadata": {
    "id": "HUrGVWWclrG6"
   },
   "source": [
    "4.e) Crear una funcion llamada for_sample.\n",
    "      La misma debe, mediante un for, hacer prints en pantalla con el siguiente formato:\n",
    "  `R2-D2 nacido/a en el año 33 en el planeta Naboo`\n",
    "R2-D2(name), 33(birth_year), Naboo(homeworld)\n",
    "\n",
    "      Parametros: \n",
    "      *   df: dataframe \n",
    "      *   iteraciones: cantidad de registros a mostrar en el print (elegir un numero aleatorio)\n",
    "\n"
   ]
  },
  {
   "cell_type": "code",
   "execution_count": 30,
   "metadata": {
    "id": "QiwFbm_dqvIi"
   },
   "outputs": [],
   "source": [
    "import random\n",
    "def for_sample(df, iteraciones=None):\n",
    "    '''\n",
    "    df: dataframe \n",
    "    iteraciones: cantidad de registros a mostrar\n",
    "    '''\n",
    "    \n",
    "    if iteraciones==None: iteraciones = random.randint(0, len(df))\n",
    "        \n",
    "    for idx, row in df.iterrows():\n",
    "        print(row['name'], ' nacido/a en el año ', row['birth_year'], ' en el planeta ', row['homeworld'])\n",
    "        if idx == iteraciones-1:\n",
    "            break\n",
    "    \n",
    "    return print(f\"{idx+1} registros listados\")"
   ]
  },
  {
   "cell_type": "code",
   "execution_count": 31,
   "metadata": {},
   "outputs": [
    {
     "name": "stdout",
     "output_type": "stream",
     "text": [
      "Luke Skywalker  nacido/a en el año  68  en el planeta  Tatooine\n",
      "C-3PO  nacido/a en el año  68  en el planeta  Tatooine\n",
      "R2-D2  nacido/a en el año  68  en el planeta  Naboo\n",
      "Darth Vader  nacido/a en el año  68  en el planeta  Tatooine\n",
      "Leia Organa  nacido/a en el año  68  en el planeta  Alderaan\n",
      "Owen Lars  nacido/a en el año  68  en el planeta  Tatooine\n",
      "Beru Whitesun lars  nacido/a en el año  68  en el planeta  Tatooine\n",
      "R5-D4  nacido/a en el año  68  en el planeta  Tatooine\n",
      "Biggs Darklighter  nacido/a en el año  68  en el planeta  Tatooine\n",
      "Obi-Wan Kenobi  nacido/a en el año  68  en el planeta  Stewjon\n",
      "Anakin Skywalker  nacido/a en el año  68  en el planeta  Tatooine\n",
      "11 registros listados\n"
     ]
    }
   ],
   "source": [
    "for_sample(d_star_wars, 11)"
   ]
  }
 ],
 "metadata": {
  "colab": {
   "collapsed_sections": [
    "MXV4S8C-nM5B"
   ],
   "provenance": []
  },
  "kernelspec": {
   "display_name": "Python 3 (ipykernel)",
   "language": "python",
   "name": "python3"
  },
  "language_info": {
   "codemirror_mode": {
    "name": "ipython",
    "version": 3
   },
   "file_extension": ".py",
   "mimetype": "text/x-python",
   "name": "python",
   "nbconvert_exporter": "python",
   "pygments_lexer": "ipython3",
   "version": "3.8.12"
  }
 },
 "nbformat": 4,
 "nbformat_minor": 4
}
